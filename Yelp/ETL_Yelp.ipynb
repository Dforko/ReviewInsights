{
  "nbformat": 4,
  "nbformat_minor": 0,
  "metadata": {
    "colab": {
      "provenance": []
    },
    "kernelspec": {
      "name": "python3",
      "display_name": "Python 3"
    },
    "language_info": {
      "name": "python"
    }
  },
  "cells": [
    {
      "cell_type": "code",
      "execution_count": null,
      "metadata": {
        "colab": {
          "base_uri": "https://localhost:8080/"
        },
        "id": "3ioNFnuYv047",
        "outputId": "cec2db0c-e843-44ac-f638-c63027ea330a"
      },
      "outputs": [
        {
          "output_type": "stream",
          "name": "stdout",
          "text": [
            "Mounted at /content/drive\n"
          ]
        }
      ],
      "source": [
        "from google.colab import drive\n",
        "\n",
        "drive.mount('/content/drive')"
      ]
    },
    {
      "cell_type": "code",
      "source": [
        "!pip install fastparquet\n",
        "\n",
        "import numpy as np\n",
        "import pandas as pd\n",
        "import ast\n",
        "\n",
        "pd.set_option('display.max_columns', None) # show alll columns"
      ],
      "metadata": {
        "colab": {
          "base_uri": "https://localhost:8080/"
        },
        "id": "I5cNZI0Uv-SZ",
        "outputId": "6c2d9a43-2fa3-4c70-9c1e-a970abb257ff"
      },
      "execution_count": null,
      "outputs": [
        {
          "output_type": "stream",
          "name": "stdout",
          "text": [
            "Collecting fastparquet\n",
            "  Downloading fastparquet-2023.7.0-cp310-cp310-manylinux_2_17_x86_64.manylinux2014_x86_64.whl (1.5 MB)\n",
            "\u001b[?25l     \u001b[90m━━━━━━━━━━━━━━━━━━━━━━━━━━━━━━━━━━━━━━━━\u001b[0m \u001b[32m0.0/1.5 MB\u001b[0m \u001b[31m?\u001b[0m eta \u001b[36m-:--:--\u001b[0m\r\u001b[2K     \u001b[91m━━━\u001b[0m\u001b[91m╸\u001b[0m\u001b[90m━━━━━━━━━━━━━━━━━━━━━━━━━━━━━━━━━━━━\u001b[0m \u001b[32m0.1/1.5 MB\u001b[0m \u001b[31m4.1 MB/s\u001b[0m eta \u001b[36m0:00:01\u001b[0m\r\u001b[2K     \u001b[91m━━━━━━━━━━━━━━━━━━━━━━━━━━━━━━━━━━━━━━━\u001b[0m\u001b[91m╸\u001b[0m \u001b[32m1.5/1.5 MB\u001b[0m \u001b[31m24.6 MB/s\u001b[0m eta \u001b[36m0:00:01\u001b[0m\r\u001b[2K     \u001b[90m━━━━━━━━━━━━━━━━━━━━━━━━━━━━━━━━━━━━━━━━\u001b[0m \u001b[32m1.5/1.5 MB\u001b[0m \u001b[31m20.8 MB/s\u001b[0m eta \u001b[36m0:00:00\u001b[0m\n",
            "\u001b[?25hRequirement already satisfied: pandas>=1.5.0 in /usr/local/lib/python3.10/dist-packages (from fastparquet) (1.5.3)\n",
            "Requirement already satisfied: numpy>=1.20.3 in /usr/local/lib/python3.10/dist-packages (from fastparquet) (1.23.5)\n",
            "Collecting cramjam>=2.3 (from fastparquet)\n",
            "  Downloading cramjam-2.7.0-cp310-cp310-manylinux_2_17_x86_64.manylinux2014_x86_64.whl (1.6 MB)\n",
            "\u001b[2K     \u001b[90m━━━━━━━━━━━━━━━━━━━━━━━━━━━━━━━━━━━━━━━━\u001b[0m \u001b[32m1.6/1.6 MB\u001b[0m \u001b[31m62.2 MB/s\u001b[0m eta \u001b[36m0:00:00\u001b[0m\n",
            "\u001b[?25hRequirement already satisfied: fsspec in /usr/local/lib/python3.10/dist-packages (from fastparquet) (2023.6.0)\n",
            "Requirement already satisfied: packaging in /usr/local/lib/python3.10/dist-packages (from fastparquet) (23.1)\n",
            "Requirement already satisfied: python-dateutil>=2.8.1 in /usr/local/lib/python3.10/dist-packages (from pandas>=1.5.0->fastparquet) (2.8.2)\n",
            "Requirement already satisfied: pytz>=2020.1 in /usr/local/lib/python3.10/dist-packages (from pandas>=1.5.0->fastparquet) (2023.3)\n",
            "Requirement already satisfied: six>=1.5 in /usr/local/lib/python3.10/dist-packages (from python-dateutil>=2.8.1->pandas>=1.5.0->fastparquet) (1.16.0)\n",
            "Installing collected packages: cramjam, fastparquet\n",
            "Successfully installed cramjam-2.7.0 fastparquet-2023.7.0\n"
          ]
        }
      ]
    },
    {
      "cell_type": "markdown",
      "source": [
        "-----------------"
      ],
      "metadata": {
        "id": "FUYaphFIbE2V"
      }
    },
    {
      "cell_type": "markdown",
      "source": [
        "# Corregir columna state"
      ],
      "metadata": {
        "id": "hYvuVfv4bGrU"
      }
    },
    {
      "cell_type": "markdown",
      "source": [
        "--------------"
      ],
      "metadata": {
        "id": "-t8myHlAbGDg"
      }
    },
    {
      "cell_type": "code",
      "source": [
        "dfBW = pd.read_parquet('/content/drive/MyDrive/DataYelpGoogle/Yelp/Business_Wine.parquet')"
      ],
      "metadata": {
        "id": "iQaiyFs6wUqI"
      },
      "execution_count": null,
      "outputs": []
    },
    {
      "cell_type": "code",
      "source": [
        "dfBW.info()"
      ],
      "metadata": {
        "colab": {
          "base_uri": "https://localhost:8080/"
        },
        "id": "CCA-joBJz3JX",
        "outputId": "4fca8880-b442-4edf-8852-71a72491c717"
      },
      "execution_count": null,
      "outputs": [
        {
          "output_type": "stream",
          "name": "stdout",
          "text": [
            "<class 'pandas.core.frame.DataFrame'>\n",
            "RangeIndex: 3655 entries, 0 to 3654\n",
            "Data columns (total 11 columns):\n",
            " #   Column        Non-Null Count  Dtype  \n",
            "---  ------        --------------  -----  \n",
            " 0   business_id   3655 non-null   object \n",
            " 1   name          3655 non-null   object \n",
            " 2   address       3655 non-null   object \n",
            " 3   city          3655 non-null   object \n",
            " 4   state         3655 non-null   object \n",
            " 5   postal_code   3655 non-null   object \n",
            " 6   latitude      3655 non-null   float64\n",
            " 7   longitude     3655 non-null   float64\n",
            " 8   rating        3655 non-null   float32\n",
            " 9   review_count  3655 non-null   int32  \n",
            " 10  categories    3655 non-null   object \n",
            "dtypes: float32(1), float64(2), int32(1), object(7)\n",
            "memory usage: 285.7+ KB\n"
          ]
        }
      ]
    },
    {
      "cell_type": "code",
      "source": [
        "dfBW.head(20)"
      ],
      "metadata": {
        "colab": {
          "base_uri": "https://localhost:8080/",
          "height": 1000
        },
        "id": "iqVTYeG-z6a_",
        "outputId": "2c846226-7c31-47bd-faae-82d9445fc4eb"
      },
      "execution_count": null,
      "outputs": [
        {
          "output_type": "execute_result",
          "data": {
            "text/plain": [
              "               business_id                             name  \\\n",
              "0   WKMJwqnfZKsAae75RMP6jA   Roast Coffeehouse and Wine Bar   \n",
              "1   lk9IwjZXqUMqqOhM774DtQ                 Caviar & Bananas   \n",
              "2   7clCBgNbd-x2Wj96lZ6Mjw        Bier Brewery and Tap Room   \n",
              "3   YNjyv0gfOr2g8lbmUpTnKg                      Copper Vine   \n",
              "4   VrGxoSNZfSiT-G4OqRRGIw                 Sunset 44 Bistro   \n",
              "5   sB45WFgysT617bKWP_WJwA     Budweiser Brewery Experience   \n",
              "6   SZU9c8V2GuREDN5KgyHFJw  Santa Barbara Shellfish Company   \n",
              "7   PYW8Buz8S8LpjIe6mZTAcw                  Payless Liquors   \n",
              "8   3S9GYtMOYhbZl4MMPOHT0Q              The Handlebar Boise   \n",
              "9   JF7iyI3wA_AKi_iXOKi0Qw           Parlor Suburban Square   \n",
              "10  rZw9O5lJ36m_mXeRKE4G9A                        La Sponda   \n",
              "11  IOZrqUQ2Jg6UeQ5CWpsmkg  Nesbit's Magazine Street Market   \n",
              "12  x9xBKymj6CJ2WuCCFInb7g         Fine Wine & Good Spirits   \n",
              "13  cDekcTE1qwpz8ROlYixhqg      Philly Homebrew Outlet East   \n",
              "14  bf34LpGej_MZbOlAKB1beQ          Sherbrooke Liquor Store   \n",
              "15  SBgr-5n-kV3EeZztYsstUQ        Locust Lane Craft Brewery   \n",
              "16  kfGz2E7Y5FLXJyiKbQYfZg                  The Irish Times   \n",
              "17  Q-a-DzqRufrPL6EcUDpyag                Dierbergs Markets   \n",
              "18  PdMXmOWDRHICAx6SLgu1dQ                               24   \n",
              "19  sWCCxY1-9B1FGlSVeQvnHg               CD Roma Restaurant   \n",
              "\n",
              "                         address           city state postal_code   latitude  \\\n",
              "0            10359 104 Street NW       Edmonton    LA     T5J 1B9  53.546045   \n",
              "1                  2031 Broadway      Nashville    PA       37203  36.148371   \n",
              "2                 5133 E 65th St   Indianapolis    AZ       46220  39.875532   \n",
              "3                1001 Poydras St    New Orleans    PA       70112  29.950647   \n",
              "4                118 W Adams Ave    Saint Louis    PA       63122  38.583223   \n",
              "5                  1200 Lynch St    Saint Louis    PA       63118  38.600197   \n",
              "6              230 Stearns Wharf  Santa Barbara    TN       93101  34.408715   \n",
              "7             954 N State Rd 135      Greenwood    CA       46143  39.632280   \n",
              "8                 1519 W Main St          Boise    MO       83702  43.620010   \n",
              "9                 30 Parking Plz        Ardmore    PA       19003  40.008645   \n",
              "10            20 E Lancaster Ave    Downingtown    IN       19335  40.006208   \n",
              "11               301 Magazine St    New Orleans    LA       70130  29.950477   \n",
              "12  12 E Hinckley Ave, Ridley Pk        Chester    PA       19078  39.879079   \n",
              "13            1447 N American St   Philadelphia    PA       19122  39.973681   \n",
              "14   11819 Saint Albert Trail NW       Edmonton    PA     T5L 5B5  53.571086   \n",
              "15        50 Three Tun Rd, Ste 4        Malvern    AZ       19355  40.035282   \n",
              "16                  629 S 2nd St   Philadelphia    AZ       19147  39.940374   \n",
              "17               2021 Zumbehl Rd  Saint Charles    MO       63303  38.782531   \n",
              "18                2401 Walnut St   Philadelphia    FL       19103  39.951521   \n",
              "19                1462 66th St N  St Petersburg    FL       33710  27.785489   \n",
              "\n",
              "     longitude  stars  review_count  \\\n",
              "0  -113.499169    4.0            40   \n",
              "1   -86.798895    3.5           159   \n",
              "2   -86.082857    4.5           139   \n",
              "3   -90.074427    4.5           350   \n",
              "4   -90.407187    4.0            73   \n",
              "5   -90.213538    4.5           605   \n",
              "6  -119.685019    4.0          2404   \n",
              "7   -86.158674    3.5            13   \n",
              "8  -116.212790    4.5            34   \n",
              "9   -75.288802    3.5            61   \n",
              "10  -75.704451    4.5            29   \n",
              "11  -90.067944    5.0             7   \n",
              "12  -75.322792    3.5             8   \n",
              "13  -75.139648    5.0            32   \n",
              "14 -113.548768    4.5            77   \n",
              "15  -75.555260    4.5            29   \n",
              "16  -75.145611    3.5            44   \n",
              "17  -90.534640    3.5            23   \n",
              "18  -75.179873    3.5           111   \n",
              "19  -82.730295    4.0           125   \n",
              "\n",
              "                                           categories  \n",
              "0   Coffee & Tea, Food, Cafes, Bars, Wine Bars, Re...  \n",
              "1   Coffee & Tea, Restaurants, Wine Bars, Bars, Ni...  \n",
              "2               Food, Beer, Wine & Spirits, Breweries  \n",
              "3   Nightlife, Pubs, Event Planning & Services, Wi...  \n",
              "4   Bars, Lounges, American (New), Restaurants, Ni...  \n",
              "5   Bars, Beer Gardens, Food, Breweries, Nightlife...  \n",
              "6   Live/Raw Food, Restaurants, Seafood, Beer Bar,...  \n",
              "7                          Food, Beer, Wine & Spirits  \n",
              "8                Bars, Wine Bars, Nightlife, Beer Bar  \n",
              "9   Italian, Pizza, Gluten-Free, Restaurants, Bars...  \n",
              "10  Italian, Restaurants, Salad, Bars, Venues & Ev...  \n",
              "11  Convenience Stores, Food, Grocery, Coffee & Te...  \n",
              "12                         Food, Beer, Wine & Spirits  \n",
              "13  Shopping, Food, Arts & Entertainment, Wholesal...  \n",
              "14                         Beer, Wine & Spirits, Food  \n",
              "15  Bars, Breweries, Beer Tours, Tours, Food, Hote...  \n",
              "16  Nightlife, Bars, Beer, Wine & Spirits, Pubs, I...  \n",
              "17  Beer, Wine & Spirits, Shopping, Flowers & Gift...  \n",
              "18  Italian, Bars, Restaurants, Nightlife, Wine Ba...  \n",
              "19  Restaurants, Wine Bars, Italian, Food, Sandwic...  "
            ],
            "text/html": [
              "\n",
              "  <div id=\"df-fb5c83cf-bdb0-4851-a89d-44c036b07de7\" class=\"colab-df-container\">\n",
              "    <div>\n",
              "<style scoped>\n",
              "    .dataframe tbody tr th:only-of-type {\n",
              "        vertical-align: middle;\n",
              "    }\n",
              "\n",
              "    .dataframe tbody tr th {\n",
              "        vertical-align: top;\n",
              "    }\n",
              "\n",
              "    .dataframe thead th {\n",
              "        text-align: right;\n",
              "    }\n",
              "</style>\n",
              "<table border=\"1\" class=\"dataframe\">\n",
              "  <thead>\n",
              "    <tr style=\"text-align: right;\">\n",
              "      <th></th>\n",
              "      <th>business_id</th>\n",
              "      <th>name</th>\n",
              "      <th>address</th>\n",
              "      <th>city</th>\n",
              "      <th>state</th>\n",
              "      <th>postal_code</th>\n",
              "      <th>latitude</th>\n",
              "      <th>longitude</th>\n",
              "      <th>stars</th>\n",
              "      <th>review_count</th>\n",
              "      <th>categories</th>\n",
              "    </tr>\n",
              "  </thead>\n",
              "  <tbody>\n",
              "    <tr>\n",
              "      <th>0</th>\n",
              "      <td>WKMJwqnfZKsAae75RMP6jA</td>\n",
              "      <td>Roast Coffeehouse and Wine Bar</td>\n",
              "      <td>10359 104 Street NW</td>\n",
              "      <td>Edmonton</td>\n",
              "      <td>LA</td>\n",
              "      <td>T5J 1B9</td>\n",
              "      <td>53.546045</td>\n",
              "      <td>-113.499169</td>\n",
              "      <td>4.0</td>\n",
              "      <td>40</td>\n",
              "      <td>Coffee &amp; Tea, Food, Cafes, Bars, Wine Bars, Re...</td>\n",
              "    </tr>\n",
              "    <tr>\n",
              "      <th>1</th>\n",
              "      <td>lk9IwjZXqUMqqOhM774DtQ</td>\n",
              "      <td>Caviar &amp; Bananas</td>\n",
              "      <td>2031 Broadway</td>\n",
              "      <td>Nashville</td>\n",
              "      <td>PA</td>\n",
              "      <td>37203</td>\n",
              "      <td>36.148371</td>\n",
              "      <td>-86.798895</td>\n",
              "      <td>3.5</td>\n",
              "      <td>159</td>\n",
              "      <td>Coffee &amp; Tea, Restaurants, Wine Bars, Bars, Ni...</td>\n",
              "    </tr>\n",
              "    <tr>\n",
              "      <th>2</th>\n",
              "      <td>7clCBgNbd-x2Wj96lZ6Mjw</td>\n",
              "      <td>Bier Brewery and Tap Room</td>\n",
              "      <td>5133 E 65th St</td>\n",
              "      <td>Indianapolis</td>\n",
              "      <td>AZ</td>\n",
              "      <td>46220</td>\n",
              "      <td>39.875532</td>\n",
              "      <td>-86.082857</td>\n",
              "      <td>4.5</td>\n",
              "      <td>139</td>\n",
              "      <td>Food, Beer, Wine &amp; Spirits, Breweries</td>\n",
              "    </tr>\n",
              "    <tr>\n",
              "      <th>3</th>\n",
              "      <td>YNjyv0gfOr2g8lbmUpTnKg</td>\n",
              "      <td>Copper Vine</td>\n",
              "      <td>1001 Poydras St</td>\n",
              "      <td>New Orleans</td>\n",
              "      <td>PA</td>\n",
              "      <td>70112</td>\n",
              "      <td>29.950647</td>\n",
              "      <td>-90.074427</td>\n",
              "      <td>4.5</td>\n",
              "      <td>350</td>\n",
              "      <td>Nightlife, Pubs, Event Planning &amp; Services, Wi...</td>\n",
              "    </tr>\n",
              "    <tr>\n",
              "      <th>4</th>\n",
              "      <td>VrGxoSNZfSiT-G4OqRRGIw</td>\n",
              "      <td>Sunset 44 Bistro</td>\n",
              "      <td>118 W Adams Ave</td>\n",
              "      <td>Saint Louis</td>\n",
              "      <td>PA</td>\n",
              "      <td>63122</td>\n",
              "      <td>38.583223</td>\n",
              "      <td>-90.407187</td>\n",
              "      <td>4.0</td>\n",
              "      <td>73</td>\n",
              "      <td>Bars, Lounges, American (New), Restaurants, Ni...</td>\n",
              "    </tr>\n",
              "    <tr>\n",
              "      <th>5</th>\n",
              "      <td>sB45WFgysT617bKWP_WJwA</td>\n",
              "      <td>Budweiser Brewery Experience</td>\n",
              "      <td>1200 Lynch St</td>\n",
              "      <td>Saint Louis</td>\n",
              "      <td>PA</td>\n",
              "      <td>63118</td>\n",
              "      <td>38.600197</td>\n",
              "      <td>-90.213538</td>\n",
              "      <td>4.5</td>\n",
              "      <td>605</td>\n",
              "      <td>Bars, Beer Gardens, Food, Breweries, Nightlife...</td>\n",
              "    </tr>\n",
              "    <tr>\n",
              "      <th>6</th>\n",
              "      <td>SZU9c8V2GuREDN5KgyHFJw</td>\n",
              "      <td>Santa Barbara Shellfish Company</td>\n",
              "      <td>230 Stearns Wharf</td>\n",
              "      <td>Santa Barbara</td>\n",
              "      <td>TN</td>\n",
              "      <td>93101</td>\n",
              "      <td>34.408715</td>\n",
              "      <td>-119.685019</td>\n",
              "      <td>4.0</td>\n",
              "      <td>2404</td>\n",
              "      <td>Live/Raw Food, Restaurants, Seafood, Beer Bar,...</td>\n",
              "    </tr>\n",
              "    <tr>\n",
              "      <th>7</th>\n",
              "      <td>PYW8Buz8S8LpjIe6mZTAcw</td>\n",
              "      <td>Payless Liquors</td>\n",
              "      <td>954 N State Rd 135</td>\n",
              "      <td>Greenwood</td>\n",
              "      <td>CA</td>\n",
              "      <td>46143</td>\n",
              "      <td>39.632280</td>\n",
              "      <td>-86.158674</td>\n",
              "      <td>3.5</td>\n",
              "      <td>13</td>\n",
              "      <td>Food, Beer, Wine &amp; Spirits</td>\n",
              "    </tr>\n",
              "    <tr>\n",
              "      <th>8</th>\n",
              "      <td>3S9GYtMOYhbZl4MMPOHT0Q</td>\n",
              "      <td>The Handlebar Boise</td>\n",
              "      <td>1519 W Main St</td>\n",
              "      <td>Boise</td>\n",
              "      <td>MO</td>\n",
              "      <td>83702</td>\n",
              "      <td>43.620010</td>\n",
              "      <td>-116.212790</td>\n",
              "      <td>4.5</td>\n",
              "      <td>34</td>\n",
              "      <td>Bars, Wine Bars, Nightlife, Beer Bar</td>\n",
              "    </tr>\n",
              "    <tr>\n",
              "      <th>9</th>\n",
              "      <td>JF7iyI3wA_AKi_iXOKi0Qw</td>\n",
              "      <td>Parlor Suburban Square</td>\n",
              "      <td>30 Parking Plz</td>\n",
              "      <td>Ardmore</td>\n",
              "      <td>PA</td>\n",
              "      <td>19003</td>\n",
              "      <td>40.008645</td>\n",
              "      <td>-75.288802</td>\n",
              "      <td>3.5</td>\n",
              "      <td>61</td>\n",
              "      <td>Italian, Pizza, Gluten-Free, Restaurants, Bars...</td>\n",
              "    </tr>\n",
              "    <tr>\n",
              "      <th>10</th>\n",
              "      <td>rZw9O5lJ36m_mXeRKE4G9A</td>\n",
              "      <td>La Sponda</td>\n",
              "      <td>20 E Lancaster Ave</td>\n",
              "      <td>Downingtown</td>\n",
              "      <td>IN</td>\n",
              "      <td>19335</td>\n",
              "      <td>40.006208</td>\n",
              "      <td>-75.704451</td>\n",
              "      <td>4.5</td>\n",
              "      <td>29</td>\n",
              "      <td>Italian, Restaurants, Salad, Bars, Venues &amp; Ev...</td>\n",
              "    </tr>\n",
              "    <tr>\n",
              "      <th>11</th>\n",
              "      <td>IOZrqUQ2Jg6UeQ5CWpsmkg</td>\n",
              "      <td>Nesbit's Magazine Street Market</td>\n",
              "      <td>301 Magazine St</td>\n",
              "      <td>New Orleans</td>\n",
              "      <td>LA</td>\n",
              "      <td>70130</td>\n",
              "      <td>29.950477</td>\n",
              "      <td>-90.067944</td>\n",
              "      <td>5.0</td>\n",
              "      <td>7</td>\n",
              "      <td>Convenience Stores, Food, Grocery, Coffee &amp; Te...</td>\n",
              "    </tr>\n",
              "    <tr>\n",
              "      <th>12</th>\n",
              "      <td>x9xBKymj6CJ2WuCCFInb7g</td>\n",
              "      <td>Fine Wine &amp; Good Spirits</td>\n",
              "      <td>12 E Hinckley Ave, Ridley Pk</td>\n",
              "      <td>Chester</td>\n",
              "      <td>PA</td>\n",
              "      <td>19078</td>\n",
              "      <td>39.879079</td>\n",
              "      <td>-75.322792</td>\n",
              "      <td>3.5</td>\n",
              "      <td>8</td>\n",
              "      <td>Food, Beer, Wine &amp; Spirits</td>\n",
              "    </tr>\n",
              "    <tr>\n",
              "      <th>13</th>\n",
              "      <td>cDekcTE1qwpz8ROlYixhqg</td>\n",
              "      <td>Philly Homebrew Outlet East</td>\n",
              "      <td>1447 N American St</td>\n",
              "      <td>Philadelphia</td>\n",
              "      <td>PA</td>\n",
              "      <td>19122</td>\n",
              "      <td>39.973681</td>\n",
              "      <td>-75.139648</td>\n",
              "      <td>5.0</td>\n",
              "      <td>32</td>\n",
              "      <td>Shopping, Food, Arts &amp; Entertainment, Wholesal...</td>\n",
              "    </tr>\n",
              "    <tr>\n",
              "      <th>14</th>\n",
              "      <td>bf34LpGej_MZbOlAKB1beQ</td>\n",
              "      <td>Sherbrooke Liquor Store</td>\n",
              "      <td>11819 Saint Albert Trail NW</td>\n",
              "      <td>Edmonton</td>\n",
              "      <td>PA</td>\n",
              "      <td>T5L 5B5</td>\n",
              "      <td>53.571086</td>\n",
              "      <td>-113.548768</td>\n",
              "      <td>4.5</td>\n",
              "      <td>77</td>\n",
              "      <td>Beer, Wine &amp; Spirits, Food</td>\n",
              "    </tr>\n",
              "    <tr>\n",
              "      <th>15</th>\n",
              "      <td>SBgr-5n-kV3EeZztYsstUQ</td>\n",
              "      <td>Locust Lane Craft Brewery</td>\n",
              "      <td>50 Three Tun Rd, Ste 4</td>\n",
              "      <td>Malvern</td>\n",
              "      <td>AZ</td>\n",
              "      <td>19355</td>\n",
              "      <td>40.035282</td>\n",
              "      <td>-75.555260</td>\n",
              "      <td>4.5</td>\n",
              "      <td>29</td>\n",
              "      <td>Bars, Breweries, Beer Tours, Tours, Food, Hote...</td>\n",
              "    </tr>\n",
              "    <tr>\n",
              "      <th>16</th>\n",
              "      <td>kfGz2E7Y5FLXJyiKbQYfZg</td>\n",
              "      <td>The Irish Times</td>\n",
              "      <td>629 S 2nd St</td>\n",
              "      <td>Philadelphia</td>\n",
              "      <td>AZ</td>\n",
              "      <td>19147</td>\n",
              "      <td>39.940374</td>\n",
              "      <td>-75.145611</td>\n",
              "      <td>3.5</td>\n",
              "      <td>44</td>\n",
              "      <td>Nightlife, Bars, Beer, Wine &amp; Spirits, Pubs, I...</td>\n",
              "    </tr>\n",
              "    <tr>\n",
              "      <th>17</th>\n",
              "      <td>Q-a-DzqRufrPL6EcUDpyag</td>\n",
              "      <td>Dierbergs Markets</td>\n",
              "      <td>2021 Zumbehl Rd</td>\n",
              "      <td>Saint Charles</td>\n",
              "      <td>MO</td>\n",
              "      <td>63303</td>\n",
              "      <td>38.782531</td>\n",
              "      <td>-90.534640</td>\n",
              "      <td>3.5</td>\n",
              "      <td>23</td>\n",
              "      <td>Beer, Wine &amp; Spirits, Shopping, Flowers &amp; Gift...</td>\n",
              "    </tr>\n",
              "    <tr>\n",
              "      <th>18</th>\n",
              "      <td>PdMXmOWDRHICAx6SLgu1dQ</td>\n",
              "      <td>24</td>\n",
              "      <td>2401 Walnut St</td>\n",
              "      <td>Philadelphia</td>\n",
              "      <td>FL</td>\n",
              "      <td>19103</td>\n",
              "      <td>39.951521</td>\n",
              "      <td>-75.179873</td>\n",
              "      <td>3.5</td>\n",
              "      <td>111</td>\n",
              "      <td>Italian, Bars, Restaurants, Nightlife, Wine Ba...</td>\n",
              "    </tr>\n",
              "    <tr>\n",
              "      <th>19</th>\n",
              "      <td>sWCCxY1-9B1FGlSVeQvnHg</td>\n",
              "      <td>CD Roma Restaurant</td>\n",
              "      <td>1462 66th St N</td>\n",
              "      <td>St Petersburg</td>\n",
              "      <td>FL</td>\n",
              "      <td>33710</td>\n",
              "      <td>27.785489</td>\n",
              "      <td>-82.730295</td>\n",
              "      <td>4.0</td>\n",
              "      <td>125</td>\n",
              "      <td>Restaurants, Wine Bars, Italian, Food, Sandwic...</td>\n",
              "    </tr>\n",
              "  </tbody>\n",
              "</table>\n",
              "</div>\n",
              "    <div class=\"colab-df-buttons\">\n",
              "\n",
              "  <div class=\"colab-df-container\">\n",
              "    <button class=\"colab-df-convert\" onclick=\"convertToInteractive('df-fb5c83cf-bdb0-4851-a89d-44c036b07de7')\"\n",
              "            title=\"Convert this dataframe to an interactive table.\"\n",
              "            style=\"display:none;\">\n",
              "\n",
              "  <svg xmlns=\"http://www.w3.org/2000/svg\" height=\"24px\" viewBox=\"0 -960 960 960\">\n",
              "    <path d=\"M120-120v-720h720v720H120Zm60-500h600v-160H180v160Zm220 220h160v-160H400v160Zm0 220h160v-160H400v160ZM180-400h160v-160H180v160Zm440 0h160v-160H620v160ZM180-180h160v-160H180v160Zm440 0h160v-160H620v160Z\"/>\n",
              "  </svg>\n",
              "    </button>\n",
              "\n",
              "  <style>\n",
              "    .colab-df-container {\n",
              "      display:flex;\n",
              "      gap: 12px;\n",
              "    }\n",
              "\n",
              "    .colab-df-convert {\n",
              "      background-color: #E8F0FE;\n",
              "      border: none;\n",
              "      border-radius: 50%;\n",
              "      cursor: pointer;\n",
              "      display: none;\n",
              "      fill: #1967D2;\n",
              "      height: 32px;\n",
              "      padding: 0 0 0 0;\n",
              "      width: 32px;\n",
              "    }\n",
              "\n",
              "    .colab-df-convert:hover {\n",
              "      background-color: #E2EBFA;\n",
              "      box-shadow: 0px 1px 2px rgba(60, 64, 67, 0.3), 0px 1px 3px 1px rgba(60, 64, 67, 0.15);\n",
              "      fill: #174EA6;\n",
              "    }\n",
              "\n",
              "    .colab-df-buttons div {\n",
              "      margin-bottom: 4px;\n",
              "    }\n",
              "\n",
              "    [theme=dark] .colab-df-convert {\n",
              "      background-color: #3B4455;\n",
              "      fill: #D2E3FC;\n",
              "    }\n",
              "\n",
              "    [theme=dark] .colab-df-convert:hover {\n",
              "      background-color: #434B5C;\n",
              "      box-shadow: 0px 1px 3px 1px rgba(0, 0, 0, 0.15);\n",
              "      filter: drop-shadow(0px 1px 2px rgba(0, 0, 0, 0.3));\n",
              "      fill: #FFFFFF;\n",
              "    }\n",
              "  </style>\n",
              "\n",
              "    <script>\n",
              "      const buttonEl =\n",
              "        document.querySelector('#df-fb5c83cf-bdb0-4851-a89d-44c036b07de7 button.colab-df-convert');\n",
              "      buttonEl.style.display =\n",
              "        google.colab.kernel.accessAllowed ? 'block' : 'none';\n",
              "\n",
              "      async function convertToInteractive(key) {\n",
              "        const element = document.querySelector('#df-fb5c83cf-bdb0-4851-a89d-44c036b07de7');\n",
              "        const dataTable =\n",
              "          await google.colab.kernel.invokeFunction('convertToInteractive',\n",
              "                                                    [key], {});\n",
              "        if (!dataTable) return;\n",
              "\n",
              "        const docLinkHtml = 'Like what you see? Visit the ' +\n",
              "          '<a target=\"_blank\" href=https://colab.research.google.com/notebooks/data_table.ipynb>data table notebook</a>'\n",
              "          + ' to learn more about interactive tables.';\n",
              "        element.innerHTML = '';\n",
              "        dataTable['output_type'] = 'display_data';\n",
              "        await google.colab.output.renderOutput(dataTable, element);\n",
              "        const docLink = document.createElement('div');\n",
              "        docLink.innerHTML = docLinkHtml;\n",
              "        element.appendChild(docLink);\n",
              "      }\n",
              "    </script>\n",
              "  </div>\n",
              "\n",
              "\n",
              "<div id=\"df-e9cc1e68-5500-415d-9c3d-0ac69792f349\">\n",
              "  <button class=\"colab-df-quickchart\" onclick=\"quickchart('df-e9cc1e68-5500-415d-9c3d-0ac69792f349')\"\n",
              "            title=\"Suggest charts.\"\n",
              "            style=\"display:none;\">\n",
              "\n",
              "<svg xmlns=\"http://www.w3.org/2000/svg\" height=\"24px\"viewBox=\"0 0 24 24\"\n",
              "     width=\"24px\">\n",
              "    <g>\n",
              "        <path d=\"M19 3H5c-1.1 0-2 .9-2 2v14c0 1.1.9 2 2 2h14c1.1 0 2-.9 2-2V5c0-1.1-.9-2-2-2zM9 17H7v-7h2v7zm4 0h-2V7h2v10zm4 0h-2v-4h2v4z\"/>\n",
              "    </g>\n",
              "</svg>\n",
              "  </button>\n",
              "\n",
              "<style>\n",
              "  .colab-df-quickchart {\n",
              "    background-color: #E8F0FE;\n",
              "    border: none;\n",
              "    border-radius: 50%;\n",
              "    cursor: pointer;\n",
              "    display: none;\n",
              "    fill: #1967D2;\n",
              "    height: 32px;\n",
              "    padding: 0 0 0 0;\n",
              "    width: 32px;\n",
              "  }\n",
              "\n",
              "  .colab-df-quickchart:hover {\n",
              "    background-color: #E2EBFA;\n",
              "    box-shadow: 0px 1px 2px rgba(60, 64, 67, 0.3), 0px 1px 3px 1px rgba(60, 64, 67, 0.15);\n",
              "    fill: #174EA6;\n",
              "  }\n",
              "\n",
              "  [theme=dark] .colab-df-quickchart {\n",
              "    background-color: #3B4455;\n",
              "    fill: #D2E3FC;\n",
              "  }\n",
              "\n",
              "  [theme=dark] .colab-df-quickchart:hover {\n",
              "    background-color: #434B5C;\n",
              "    box-shadow: 0px 1px 3px 1px rgba(0, 0, 0, 0.15);\n",
              "    filter: drop-shadow(0px 1px 2px rgba(0, 0, 0, 0.3));\n",
              "    fill: #FFFFFF;\n",
              "  }\n",
              "</style>\n",
              "\n",
              "  <script>\n",
              "    async function quickchart(key) {\n",
              "      const charts = await google.colab.kernel.invokeFunction(\n",
              "          'suggestCharts', [key], {});\n",
              "    }\n",
              "    (() => {\n",
              "      let quickchartButtonEl =\n",
              "        document.querySelector('#df-e9cc1e68-5500-415d-9c3d-0ac69792f349 button');\n",
              "      quickchartButtonEl.style.display =\n",
              "        google.colab.kernel.accessAllowed ? 'block' : 'none';\n",
              "    })();\n",
              "  </script>\n",
              "</div>\n",
              "    </div>\n",
              "  </div>\n"
            ]
          },
          "metadata": {},
          "execution_count": 17
        }
      ]
    },
    {
      "cell_type": "code",
      "source": [
        "# obtener lista coordenadas\n",
        "dfCordinates = dfBW[['latitude', 'longitude']]"
      ],
      "metadata": {
        "id": "qDvwD7srM5lj"
      },
      "execution_count": null,
      "outputs": []
    },
    {
      "cell_type": "code",
      "source": [
        "#\n",
        "dfCordinates = dfCordinates.apply(lambda x: ','.join((x.astype(str)).unique()), axis=1)"
      ],
      "metadata": {
        "id": "MfSslhTLM4H3"
      },
      "execution_count": null,
      "outputs": []
    },
    {
      "cell_type": "code",
      "source": [
        "# lista coordenadas latitud longitud separadas por coma\n",
        "listA = dfCordinates.to_list()"
      ],
      "metadata": {
        "id": "7_QmFfefNvsR"
      },
      "execution_count": null,
      "outputs": []
    },
    {
      "cell_type": "code",
      "source": [
        "len(listA)"
      ],
      "metadata": {
        "colab": {
          "base_uri": "https://localhost:8080/"
        },
        "id": "ecFWmLvoOH_w",
        "outputId": "1550ff4c-bdcf-497b-ac3b-2f6d7d239086"
      },
      "execution_count": null,
      "outputs": [
        {
          "output_type": "execute_result",
          "data": {
            "text/plain": [
              "3655"
            ]
          },
          "metadata": {},
          "execution_count": 7
        }
      ]
    },
    {
      "cell_type": "code",
      "source": [
        "# Get State\n",
        "# import module\n",
        "from geopy.geocoders import Nominatim\n",
        "\n",
        "# initialize Nominatim API\n",
        "geolocator = Nominatim(user_agent=\"geoapiExercises\")\n",
        "\n",
        "# Input\n",
        "#Latitude = \"36.189110\"\n",
        "#Longitude = \"-86.408449\"\n",
        "\n",
        "result=[] # result - guarda el resultado\n",
        "\n",
        "for i in listA: # recorrer lista de coordenadas\n",
        "  #location = geolocator.reverse(Latitude+\",\"+Longitude)\n",
        "  location = geolocator.reverse(i)\n",
        "\n",
        "  address = location.raw['address']\n",
        "\n",
        "  # Get Data\n",
        "  #city = address.get('town', '')\n",
        "  #state = address.get('state', '')\n",
        "  #country = address.get('country', '')\n",
        "  #code = address.get('country_code')\n",
        "  #zipcode = address.get('postcode')\n",
        "  state = address.get('state', '') # state - consigue el estado\n",
        "\n",
        "  result.append(state) # lista de resultados\n",
        "\n",
        "  print('registro: ', listA.index(i), 'coordenadas: ', i, 'estado : ', state,) # verificar respuestas"
      ],
      "metadata": {
        "id": "pV17t5r4OY0U"
      },
      "execution_count": null,
      "outputs": []
    },
    {
      "cell_type": "code",
      "source": [
        "len(result)"
      ],
      "metadata": {
        "colab": {
          "base_uri": "https://localhost:8080/"
        },
        "id": "klt1BH8_NoY2",
        "outputId": "5f3fb92a-35ec-4044-d24e-7f17b36198e2"
      },
      "execution_count": null,
      "outputs": [
        {
          "output_type": "execute_result",
          "data": {
            "text/plain": [
              "3655"
            ]
          },
          "metadata": {},
          "execution_count": 26
        }
      ]
    },
    {
      "cell_type": "code",
      "source": [
        "# estados obtenidos\n",
        "dfState = pd.DataFrame(result)"
      ],
      "metadata": {
        "id": "EdQ6Mh_DV3Af"
      },
      "execution_count": null,
      "outputs": []
    },
    {
      "cell_type": "code",
      "source": [
        "dfState.info()"
      ],
      "metadata": {
        "colab": {
          "base_uri": "https://localhost:8080/"
        },
        "id": "V1TNgUenWKrF",
        "outputId": "11b06efd-9f03-44f6-859d-05d0230b6a77"
      },
      "execution_count": null,
      "outputs": [
        {
          "output_type": "stream",
          "name": "stdout",
          "text": [
            "<class 'pandas.core.frame.DataFrame'>\n",
            "RangeIndex: 3655 entries, 0 to 3654\n",
            "Data columns (total 1 columns):\n",
            " #   Column  Non-Null Count  Dtype \n",
            "---  ------  --------------  ----- \n",
            " 0   0       3655 non-null   object\n",
            "dtypes: object(1)\n",
            "memory usage: 28.7+ KB\n"
          ]
        }
      ]
    },
    {
      "cell_type": "code",
      "source": [
        "dfState.head()"
      ],
      "metadata": {
        "colab": {
          "base_uri": "https://localhost:8080/",
          "height": 206
        },
        "id": "q3-cNsdoWN7O",
        "outputId": "abec4fe4-e9a5-489d-fead-fffcdb913201"
      },
      "execution_count": null,
      "outputs": [
        {
          "output_type": "execute_result",
          "data": {
            "text/plain": [
              "           0\n",
              "0    Alberta\n",
              "1  Tennessee\n",
              "2    Indiana\n",
              "3  Louisiana\n",
              "4   Missouri"
            ],
            "text/html": [
              "\n",
              "  <div id=\"df-5c12d1a3-b785-4a32-80b9-04082f862422\" class=\"colab-df-container\">\n",
              "    <div>\n",
              "<style scoped>\n",
              "    .dataframe tbody tr th:only-of-type {\n",
              "        vertical-align: middle;\n",
              "    }\n",
              "\n",
              "    .dataframe tbody tr th {\n",
              "        vertical-align: top;\n",
              "    }\n",
              "\n",
              "    .dataframe thead th {\n",
              "        text-align: right;\n",
              "    }\n",
              "</style>\n",
              "<table border=\"1\" class=\"dataframe\">\n",
              "  <thead>\n",
              "    <tr style=\"text-align: right;\">\n",
              "      <th></th>\n",
              "      <th>0</th>\n",
              "    </tr>\n",
              "  </thead>\n",
              "  <tbody>\n",
              "    <tr>\n",
              "      <th>0</th>\n",
              "      <td>Alberta</td>\n",
              "    </tr>\n",
              "    <tr>\n",
              "      <th>1</th>\n",
              "      <td>Tennessee</td>\n",
              "    </tr>\n",
              "    <tr>\n",
              "      <th>2</th>\n",
              "      <td>Indiana</td>\n",
              "    </tr>\n",
              "    <tr>\n",
              "      <th>3</th>\n",
              "      <td>Louisiana</td>\n",
              "    </tr>\n",
              "    <tr>\n",
              "      <th>4</th>\n",
              "      <td>Missouri</td>\n",
              "    </tr>\n",
              "  </tbody>\n",
              "</table>\n",
              "</div>\n",
              "    <div class=\"colab-df-buttons\">\n",
              "\n",
              "  <div class=\"colab-df-container\">\n",
              "    <button class=\"colab-df-convert\" onclick=\"convertToInteractive('df-5c12d1a3-b785-4a32-80b9-04082f862422')\"\n",
              "            title=\"Convert this dataframe to an interactive table.\"\n",
              "            style=\"display:none;\">\n",
              "\n",
              "  <svg xmlns=\"http://www.w3.org/2000/svg\" height=\"24px\" viewBox=\"0 -960 960 960\">\n",
              "    <path d=\"M120-120v-720h720v720H120Zm60-500h600v-160H180v160Zm220 220h160v-160H400v160Zm0 220h160v-160H400v160ZM180-400h160v-160H180v160Zm440 0h160v-160H620v160ZM180-180h160v-160H180v160Zm440 0h160v-160H620v160Z\"/>\n",
              "  </svg>\n",
              "    </button>\n",
              "\n",
              "  <style>\n",
              "    .colab-df-container {\n",
              "      display:flex;\n",
              "      gap: 12px;\n",
              "    }\n",
              "\n",
              "    .colab-df-convert {\n",
              "      background-color: #E8F0FE;\n",
              "      border: none;\n",
              "      border-radius: 50%;\n",
              "      cursor: pointer;\n",
              "      display: none;\n",
              "      fill: #1967D2;\n",
              "      height: 32px;\n",
              "      padding: 0 0 0 0;\n",
              "      width: 32px;\n",
              "    }\n",
              "\n",
              "    .colab-df-convert:hover {\n",
              "      background-color: #E2EBFA;\n",
              "      box-shadow: 0px 1px 2px rgba(60, 64, 67, 0.3), 0px 1px 3px 1px rgba(60, 64, 67, 0.15);\n",
              "      fill: #174EA6;\n",
              "    }\n",
              "\n",
              "    .colab-df-buttons div {\n",
              "      margin-bottom: 4px;\n",
              "    }\n",
              "\n",
              "    [theme=dark] .colab-df-convert {\n",
              "      background-color: #3B4455;\n",
              "      fill: #D2E3FC;\n",
              "    }\n",
              "\n",
              "    [theme=dark] .colab-df-convert:hover {\n",
              "      background-color: #434B5C;\n",
              "      box-shadow: 0px 1px 3px 1px rgba(0, 0, 0, 0.15);\n",
              "      filter: drop-shadow(0px 1px 2px rgba(0, 0, 0, 0.3));\n",
              "      fill: #FFFFFF;\n",
              "    }\n",
              "  </style>\n",
              "\n",
              "    <script>\n",
              "      const buttonEl =\n",
              "        document.querySelector('#df-5c12d1a3-b785-4a32-80b9-04082f862422 button.colab-df-convert');\n",
              "      buttonEl.style.display =\n",
              "        google.colab.kernel.accessAllowed ? 'block' : 'none';\n",
              "\n",
              "      async function convertToInteractive(key) {\n",
              "        const element = document.querySelector('#df-5c12d1a3-b785-4a32-80b9-04082f862422');\n",
              "        const dataTable =\n",
              "          await google.colab.kernel.invokeFunction('convertToInteractive',\n",
              "                                                    [key], {});\n",
              "        if (!dataTable) return;\n",
              "\n",
              "        const docLinkHtml = 'Like what you see? Visit the ' +\n",
              "          '<a target=\"_blank\" href=https://colab.research.google.com/notebooks/data_table.ipynb>data table notebook</a>'\n",
              "          + ' to learn more about interactive tables.';\n",
              "        element.innerHTML = '';\n",
              "        dataTable['output_type'] = 'display_data';\n",
              "        await google.colab.output.renderOutput(dataTable, element);\n",
              "        const docLink = document.createElement('div');\n",
              "        docLink.innerHTML = docLinkHtml;\n",
              "        element.appendChild(docLink);\n",
              "      }\n",
              "    </script>\n",
              "  </div>\n",
              "\n",
              "\n",
              "<div id=\"df-d77ba03f-ce6b-48d9-a007-6bd56aa55f06\">\n",
              "  <button class=\"colab-df-quickchart\" onclick=\"quickchart('df-d77ba03f-ce6b-48d9-a007-6bd56aa55f06')\"\n",
              "            title=\"Suggest charts.\"\n",
              "            style=\"display:none;\">\n",
              "\n",
              "<svg xmlns=\"http://www.w3.org/2000/svg\" height=\"24px\"viewBox=\"0 0 24 24\"\n",
              "     width=\"24px\">\n",
              "    <g>\n",
              "        <path d=\"M19 3H5c-1.1 0-2 .9-2 2v14c0 1.1.9 2 2 2h14c1.1 0 2-.9 2-2V5c0-1.1-.9-2-2-2zM9 17H7v-7h2v7zm4 0h-2V7h2v10zm4 0h-2v-4h2v4z\"/>\n",
              "    </g>\n",
              "</svg>\n",
              "  </button>\n",
              "\n",
              "<style>\n",
              "  .colab-df-quickchart {\n",
              "    background-color: #E8F0FE;\n",
              "    border: none;\n",
              "    border-radius: 50%;\n",
              "    cursor: pointer;\n",
              "    display: none;\n",
              "    fill: #1967D2;\n",
              "    height: 32px;\n",
              "    padding: 0 0 0 0;\n",
              "    width: 32px;\n",
              "  }\n",
              "\n",
              "  .colab-df-quickchart:hover {\n",
              "    background-color: #E2EBFA;\n",
              "    box-shadow: 0px 1px 2px rgba(60, 64, 67, 0.3), 0px 1px 3px 1px rgba(60, 64, 67, 0.15);\n",
              "    fill: #174EA6;\n",
              "  }\n",
              "\n",
              "  [theme=dark] .colab-df-quickchart {\n",
              "    background-color: #3B4455;\n",
              "    fill: #D2E3FC;\n",
              "  }\n",
              "\n",
              "  [theme=dark] .colab-df-quickchart:hover {\n",
              "    background-color: #434B5C;\n",
              "    box-shadow: 0px 1px 3px 1px rgba(0, 0, 0, 0.15);\n",
              "    filter: drop-shadow(0px 1px 2px rgba(0, 0, 0, 0.3));\n",
              "    fill: #FFFFFF;\n",
              "  }\n",
              "</style>\n",
              "\n",
              "  <script>\n",
              "    async function quickchart(key) {\n",
              "      const charts = await google.colab.kernel.invokeFunction(\n",
              "          'suggestCharts', [key], {});\n",
              "    }\n",
              "    (() => {\n",
              "      let quickchartButtonEl =\n",
              "        document.querySelector('#df-d77ba03f-ce6b-48d9-a007-6bd56aa55f06 button');\n",
              "      quickchartButtonEl.style.display =\n",
              "        google.colab.kernel.accessAllowed ? 'block' : 'none';\n",
              "    })();\n",
              "  </script>\n",
              "</div>\n",
              "    </div>\n",
              "  </div>\n"
            ]
          },
          "metadata": {},
          "execution_count": 32
        }
      ]
    },
    {
      "cell_type": "code",
      "source": [
        "# crear dataframe estados obtenidos\n",
        "dfState.to_csv('State_Business_Wine.csv', index=False)"
      ],
      "metadata": {
        "id": "Dcubg3lAWc51"
      },
      "execution_count": null,
      "outputs": []
    },
    {
      "cell_type": "markdown",
      "source": [
        "### reemplazar campo"
      ],
      "metadata": {
        "id": "1CjhFv7TaAlN"
      }
    },
    {
      "cell_type": "code",
      "source": [
        "dfState = pd.read_csv('/content/drive/MyDrive/DataYelpGoogle/Yelp/State_Business_Wine.csv')"
      ],
      "metadata": {
        "id": "wGer-GLdW2sa"
      },
      "execution_count": null,
      "outputs": []
    },
    {
      "cell_type": "code",
      "source": [
        "dfState.info()"
      ],
      "metadata": {
        "colab": {
          "base_uri": "https://localhost:8080/"
        },
        "id": "oB0FP8puXBK4",
        "outputId": "996179fc-f155-4e79-bfef-b0e19db12ad5"
      },
      "execution_count": null,
      "outputs": [
        {
          "output_type": "stream",
          "name": "stdout",
          "text": [
            "<class 'pandas.core.frame.DataFrame'>\n",
            "RangeIndex: 3655 entries, 0 to 3654\n",
            "Data columns (total 1 columns):\n",
            " #   Column  Non-Null Count  Dtype \n",
            "---  ------  --------------  ----- \n",
            " 0   0       3655 non-null   object\n",
            "dtypes: object(1)\n",
            "memory usage: 28.7+ KB\n"
          ]
        }
      ]
    },
    {
      "cell_type": "code",
      "source": [
        "dfState.head()"
      ],
      "metadata": {
        "colab": {
          "base_uri": "https://localhost:8080/",
          "height": 206
        },
        "id": "b9wEzO_gXExF",
        "outputId": "297876b8-4062-41da-a73a-77e6ec78420b"
      },
      "execution_count": null,
      "outputs": [
        {
          "output_type": "execute_result",
          "data": {
            "text/plain": [
              "           0\n",
              "0    Alberta\n",
              "1  Tennessee\n",
              "2    Indiana\n",
              "3  Louisiana\n",
              "4   Missouri"
            ],
            "text/html": [
              "\n",
              "  <div id=\"df-0586bf54-0fd2-4ec2-b471-bb65b6185b21\" class=\"colab-df-container\">\n",
              "    <div>\n",
              "<style scoped>\n",
              "    .dataframe tbody tr th:only-of-type {\n",
              "        vertical-align: middle;\n",
              "    }\n",
              "\n",
              "    .dataframe tbody tr th {\n",
              "        vertical-align: top;\n",
              "    }\n",
              "\n",
              "    .dataframe thead th {\n",
              "        text-align: right;\n",
              "    }\n",
              "</style>\n",
              "<table border=\"1\" class=\"dataframe\">\n",
              "  <thead>\n",
              "    <tr style=\"text-align: right;\">\n",
              "      <th></th>\n",
              "      <th>0</th>\n",
              "    </tr>\n",
              "  </thead>\n",
              "  <tbody>\n",
              "    <tr>\n",
              "      <th>0</th>\n",
              "      <td>Alberta</td>\n",
              "    </tr>\n",
              "    <tr>\n",
              "      <th>1</th>\n",
              "      <td>Tennessee</td>\n",
              "    </tr>\n",
              "    <tr>\n",
              "      <th>2</th>\n",
              "      <td>Indiana</td>\n",
              "    </tr>\n",
              "    <tr>\n",
              "      <th>3</th>\n",
              "      <td>Louisiana</td>\n",
              "    </tr>\n",
              "    <tr>\n",
              "      <th>4</th>\n",
              "      <td>Missouri</td>\n",
              "    </tr>\n",
              "  </tbody>\n",
              "</table>\n",
              "</div>\n",
              "    <div class=\"colab-df-buttons\">\n",
              "\n",
              "  <div class=\"colab-df-container\">\n",
              "    <button class=\"colab-df-convert\" onclick=\"convertToInteractive('df-0586bf54-0fd2-4ec2-b471-bb65b6185b21')\"\n",
              "            title=\"Convert this dataframe to an interactive table.\"\n",
              "            style=\"display:none;\">\n",
              "\n",
              "  <svg xmlns=\"http://www.w3.org/2000/svg\" height=\"24px\" viewBox=\"0 -960 960 960\">\n",
              "    <path d=\"M120-120v-720h720v720H120Zm60-500h600v-160H180v160Zm220 220h160v-160H400v160Zm0 220h160v-160H400v160ZM180-400h160v-160H180v160Zm440 0h160v-160H620v160ZM180-180h160v-160H180v160Zm440 0h160v-160H620v160Z\"/>\n",
              "  </svg>\n",
              "    </button>\n",
              "\n",
              "  <style>\n",
              "    .colab-df-container {\n",
              "      display:flex;\n",
              "      gap: 12px;\n",
              "    }\n",
              "\n",
              "    .colab-df-convert {\n",
              "      background-color: #E8F0FE;\n",
              "      border: none;\n",
              "      border-radius: 50%;\n",
              "      cursor: pointer;\n",
              "      display: none;\n",
              "      fill: #1967D2;\n",
              "      height: 32px;\n",
              "      padding: 0 0 0 0;\n",
              "      width: 32px;\n",
              "    }\n",
              "\n",
              "    .colab-df-convert:hover {\n",
              "      background-color: #E2EBFA;\n",
              "      box-shadow: 0px 1px 2px rgba(60, 64, 67, 0.3), 0px 1px 3px 1px rgba(60, 64, 67, 0.15);\n",
              "      fill: #174EA6;\n",
              "    }\n",
              "\n",
              "    .colab-df-buttons div {\n",
              "      margin-bottom: 4px;\n",
              "    }\n",
              "\n",
              "    [theme=dark] .colab-df-convert {\n",
              "      background-color: #3B4455;\n",
              "      fill: #D2E3FC;\n",
              "    }\n",
              "\n",
              "    [theme=dark] .colab-df-convert:hover {\n",
              "      background-color: #434B5C;\n",
              "      box-shadow: 0px 1px 3px 1px rgba(0, 0, 0, 0.15);\n",
              "      filter: drop-shadow(0px 1px 2px rgba(0, 0, 0, 0.3));\n",
              "      fill: #FFFFFF;\n",
              "    }\n",
              "  </style>\n",
              "\n",
              "    <script>\n",
              "      const buttonEl =\n",
              "        document.querySelector('#df-0586bf54-0fd2-4ec2-b471-bb65b6185b21 button.colab-df-convert');\n",
              "      buttonEl.style.display =\n",
              "        google.colab.kernel.accessAllowed ? 'block' : 'none';\n",
              "\n",
              "      async function convertToInteractive(key) {\n",
              "        const element = document.querySelector('#df-0586bf54-0fd2-4ec2-b471-bb65b6185b21');\n",
              "        const dataTable =\n",
              "          await google.colab.kernel.invokeFunction('convertToInteractive',\n",
              "                                                    [key], {});\n",
              "        if (!dataTable) return;\n",
              "\n",
              "        const docLinkHtml = 'Like what you see? Visit the ' +\n",
              "          '<a target=\"_blank\" href=https://colab.research.google.com/notebooks/data_table.ipynb>data table notebook</a>'\n",
              "          + ' to learn more about interactive tables.';\n",
              "        element.innerHTML = '';\n",
              "        dataTable['output_type'] = 'display_data';\n",
              "        await google.colab.output.renderOutput(dataTable, element);\n",
              "        const docLink = document.createElement('div');\n",
              "        docLink.innerHTML = docLinkHtml;\n",
              "        element.appendChild(docLink);\n",
              "      }\n",
              "    </script>\n",
              "  </div>\n",
              "\n",
              "\n",
              "<div id=\"df-8ec85880-3f16-455b-bba6-ba97ab9485c4\">\n",
              "  <button class=\"colab-df-quickchart\" onclick=\"quickchart('df-8ec85880-3f16-455b-bba6-ba97ab9485c4')\"\n",
              "            title=\"Suggest charts.\"\n",
              "            style=\"display:none;\">\n",
              "\n",
              "<svg xmlns=\"http://www.w3.org/2000/svg\" height=\"24px\"viewBox=\"0 0 24 24\"\n",
              "     width=\"24px\">\n",
              "    <g>\n",
              "        <path d=\"M19 3H5c-1.1 0-2 .9-2 2v14c0 1.1.9 2 2 2h14c1.1 0 2-.9 2-2V5c0-1.1-.9-2-2-2zM9 17H7v-7h2v7zm4 0h-2V7h2v10zm4 0h-2v-4h2v4z\"/>\n",
              "    </g>\n",
              "</svg>\n",
              "  </button>\n",
              "\n",
              "<style>\n",
              "  .colab-df-quickchart {\n",
              "    background-color: #E8F0FE;\n",
              "    border: none;\n",
              "    border-radius: 50%;\n",
              "    cursor: pointer;\n",
              "    display: none;\n",
              "    fill: #1967D2;\n",
              "    height: 32px;\n",
              "    padding: 0 0 0 0;\n",
              "    width: 32px;\n",
              "  }\n",
              "\n",
              "  .colab-df-quickchart:hover {\n",
              "    background-color: #E2EBFA;\n",
              "    box-shadow: 0px 1px 2px rgba(60, 64, 67, 0.3), 0px 1px 3px 1px rgba(60, 64, 67, 0.15);\n",
              "    fill: #174EA6;\n",
              "  }\n",
              "\n",
              "  [theme=dark] .colab-df-quickchart {\n",
              "    background-color: #3B4455;\n",
              "    fill: #D2E3FC;\n",
              "  }\n",
              "\n",
              "  [theme=dark] .colab-df-quickchart:hover {\n",
              "    background-color: #434B5C;\n",
              "    box-shadow: 0px 1px 3px 1px rgba(0, 0, 0, 0.15);\n",
              "    filter: drop-shadow(0px 1px 2px rgba(0, 0, 0, 0.3));\n",
              "    fill: #FFFFFF;\n",
              "  }\n",
              "</style>\n",
              "\n",
              "  <script>\n",
              "    async function quickchart(key) {\n",
              "      const charts = await google.colab.kernel.invokeFunction(\n",
              "          'suggestCharts', [key], {});\n",
              "    }\n",
              "    (() => {\n",
              "      let quickchartButtonEl =\n",
              "        document.querySelector('#df-8ec85880-3f16-455b-bba6-ba97ab9485c4 button');\n",
              "      quickchartButtonEl.style.display =\n",
              "        google.colab.kernel.accessAllowed ? 'block' : 'none';\n",
              "    })();\n",
              "  </script>\n",
              "</div>\n",
              "    </div>\n",
              "  </div>\n"
            ]
          },
          "metadata": {},
          "execution_count": 18
        }
      ]
    },
    {
      "cell_type": "code",
      "source": [
        "# reemplazar columna state\n",
        "dfBW['state'] = dfState['0']"
      ],
      "metadata": {
        "id": "dDWfSNWGchzK"
      },
      "execution_count": null,
      "outputs": []
    },
    {
      "cell_type": "code",
      "source": [
        "dfBW.head()"
      ],
      "metadata": {
        "colab": {
          "base_uri": "https://localhost:8080/",
          "height": 292
        },
        "id": "GKg5agTTeOkd",
        "outputId": "503e3c40-ca6e-4271-cf25-9ec54eb67820"
      },
      "execution_count": null,
      "outputs": [
        {
          "output_type": "execute_result",
          "data": {
            "text/plain": [
              "              business_id                            name  \\\n",
              "0  WKMJwqnfZKsAae75RMP6jA  Roast Coffeehouse and Wine Bar   \n",
              "1  lk9IwjZXqUMqqOhM774DtQ                Caviar & Bananas   \n",
              "2  7clCBgNbd-x2Wj96lZ6Mjw       Bier Brewery and Tap Room   \n",
              "3  YNjyv0gfOr2g8lbmUpTnKg                     Copper Vine   \n",
              "4  VrGxoSNZfSiT-G4OqRRGIw                Sunset 44 Bistro   \n",
              "\n",
              "               address          city      state postal_code   latitude  \\\n",
              "0  10359 104 Street NW      Edmonton    Alberta     T5J 1B9  53.546045   \n",
              "1        2031 Broadway     Nashville  Tennessee       37203  36.148371   \n",
              "2       5133 E 65th St  Indianapolis    Indiana       46220  39.875532   \n",
              "3      1001 Poydras St   New Orleans  Louisiana       70112  29.950647   \n",
              "4      118 W Adams Ave   Saint Louis   Missouri       63122  38.583223   \n",
              "\n",
              "    longitude  rating  review_count  \\\n",
              "0 -113.499169     4.0            40   \n",
              "1  -86.798895     3.5           159   \n",
              "2  -86.082857     4.5           139   \n",
              "3  -90.074427     4.5           350   \n",
              "4  -90.407187     4.0            73   \n",
              "\n",
              "                                          categories  \n",
              "0  Coffee & Tea, Food, Cafes, Bars, Wine Bars, Re...  \n",
              "1  Coffee & Tea, Restaurants, Wine Bars, Bars, Ni...  \n",
              "2              Food, Beer, Wine & Spirits, Breweries  \n",
              "3  Nightlife, Pubs, Event Planning & Services, Wi...  \n",
              "4  Bars, Lounges, American (New), Restaurants, Ni...  "
            ],
            "text/html": [
              "\n",
              "  <div id=\"df-55a38020-0691-4f4f-8b64-8b44e52d32dc\" class=\"colab-df-container\">\n",
              "    <div>\n",
              "<style scoped>\n",
              "    .dataframe tbody tr th:only-of-type {\n",
              "        vertical-align: middle;\n",
              "    }\n",
              "\n",
              "    .dataframe tbody tr th {\n",
              "        vertical-align: top;\n",
              "    }\n",
              "\n",
              "    .dataframe thead th {\n",
              "        text-align: right;\n",
              "    }\n",
              "</style>\n",
              "<table border=\"1\" class=\"dataframe\">\n",
              "  <thead>\n",
              "    <tr style=\"text-align: right;\">\n",
              "      <th></th>\n",
              "      <th>business_id</th>\n",
              "      <th>name</th>\n",
              "      <th>address</th>\n",
              "      <th>city</th>\n",
              "      <th>state</th>\n",
              "      <th>postal_code</th>\n",
              "      <th>latitude</th>\n",
              "      <th>longitude</th>\n",
              "      <th>rating</th>\n",
              "      <th>review_count</th>\n",
              "      <th>categories</th>\n",
              "    </tr>\n",
              "  </thead>\n",
              "  <tbody>\n",
              "    <tr>\n",
              "      <th>0</th>\n",
              "      <td>WKMJwqnfZKsAae75RMP6jA</td>\n",
              "      <td>Roast Coffeehouse and Wine Bar</td>\n",
              "      <td>10359 104 Street NW</td>\n",
              "      <td>Edmonton</td>\n",
              "      <td>Alberta</td>\n",
              "      <td>T5J 1B9</td>\n",
              "      <td>53.546045</td>\n",
              "      <td>-113.499169</td>\n",
              "      <td>4.0</td>\n",
              "      <td>40</td>\n",
              "      <td>Coffee &amp; Tea, Food, Cafes, Bars, Wine Bars, Re...</td>\n",
              "    </tr>\n",
              "    <tr>\n",
              "      <th>1</th>\n",
              "      <td>lk9IwjZXqUMqqOhM774DtQ</td>\n",
              "      <td>Caviar &amp; Bananas</td>\n",
              "      <td>2031 Broadway</td>\n",
              "      <td>Nashville</td>\n",
              "      <td>Tennessee</td>\n",
              "      <td>37203</td>\n",
              "      <td>36.148371</td>\n",
              "      <td>-86.798895</td>\n",
              "      <td>3.5</td>\n",
              "      <td>159</td>\n",
              "      <td>Coffee &amp; Tea, Restaurants, Wine Bars, Bars, Ni...</td>\n",
              "    </tr>\n",
              "    <tr>\n",
              "      <th>2</th>\n",
              "      <td>7clCBgNbd-x2Wj96lZ6Mjw</td>\n",
              "      <td>Bier Brewery and Tap Room</td>\n",
              "      <td>5133 E 65th St</td>\n",
              "      <td>Indianapolis</td>\n",
              "      <td>Indiana</td>\n",
              "      <td>46220</td>\n",
              "      <td>39.875532</td>\n",
              "      <td>-86.082857</td>\n",
              "      <td>4.5</td>\n",
              "      <td>139</td>\n",
              "      <td>Food, Beer, Wine &amp; Spirits, Breweries</td>\n",
              "    </tr>\n",
              "    <tr>\n",
              "      <th>3</th>\n",
              "      <td>YNjyv0gfOr2g8lbmUpTnKg</td>\n",
              "      <td>Copper Vine</td>\n",
              "      <td>1001 Poydras St</td>\n",
              "      <td>New Orleans</td>\n",
              "      <td>Louisiana</td>\n",
              "      <td>70112</td>\n",
              "      <td>29.950647</td>\n",
              "      <td>-90.074427</td>\n",
              "      <td>4.5</td>\n",
              "      <td>350</td>\n",
              "      <td>Nightlife, Pubs, Event Planning &amp; Services, Wi...</td>\n",
              "    </tr>\n",
              "    <tr>\n",
              "      <th>4</th>\n",
              "      <td>VrGxoSNZfSiT-G4OqRRGIw</td>\n",
              "      <td>Sunset 44 Bistro</td>\n",
              "      <td>118 W Adams Ave</td>\n",
              "      <td>Saint Louis</td>\n",
              "      <td>Missouri</td>\n",
              "      <td>63122</td>\n",
              "      <td>38.583223</td>\n",
              "      <td>-90.407187</td>\n",
              "      <td>4.0</td>\n",
              "      <td>73</td>\n",
              "      <td>Bars, Lounges, American (New), Restaurants, Ni...</td>\n",
              "    </tr>\n",
              "  </tbody>\n",
              "</table>\n",
              "</div>\n",
              "    <div class=\"colab-df-buttons\">\n",
              "\n",
              "  <div class=\"colab-df-container\">\n",
              "    <button class=\"colab-df-convert\" onclick=\"convertToInteractive('df-55a38020-0691-4f4f-8b64-8b44e52d32dc')\"\n",
              "            title=\"Convert this dataframe to an interactive table.\"\n",
              "            style=\"display:none;\">\n",
              "\n",
              "  <svg xmlns=\"http://www.w3.org/2000/svg\" height=\"24px\" viewBox=\"0 -960 960 960\">\n",
              "    <path d=\"M120-120v-720h720v720H120Zm60-500h600v-160H180v160Zm220 220h160v-160H400v160Zm0 220h160v-160H400v160ZM180-400h160v-160H180v160Zm440 0h160v-160H620v160ZM180-180h160v-160H180v160Zm440 0h160v-160H620v160Z\"/>\n",
              "  </svg>\n",
              "    </button>\n",
              "\n",
              "  <style>\n",
              "    .colab-df-container {\n",
              "      display:flex;\n",
              "      gap: 12px;\n",
              "    }\n",
              "\n",
              "    .colab-df-convert {\n",
              "      background-color: #E8F0FE;\n",
              "      border: none;\n",
              "      border-radius: 50%;\n",
              "      cursor: pointer;\n",
              "      display: none;\n",
              "      fill: #1967D2;\n",
              "      height: 32px;\n",
              "      padding: 0 0 0 0;\n",
              "      width: 32px;\n",
              "    }\n",
              "\n",
              "    .colab-df-convert:hover {\n",
              "      background-color: #E2EBFA;\n",
              "      box-shadow: 0px 1px 2px rgba(60, 64, 67, 0.3), 0px 1px 3px 1px rgba(60, 64, 67, 0.15);\n",
              "      fill: #174EA6;\n",
              "    }\n",
              "\n",
              "    .colab-df-buttons div {\n",
              "      margin-bottom: 4px;\n",
              "    }\n",
              "\n",
              "    [theme=dark] .colab-df-convert {\n",
              "      background-color: #3B4455;\n",
              "      fill: #D2E3FC;\n",
              "    }\n",
              "\n",
              "    [theme=dark] .colab-df-convert:hover {\n",
              "      background-color: #434B5C;\n",
              "      box-shadow: 0px 1px 3px 1px rgba(0, 0, 0, 0.15);\n",
              "      filter: drop-shadow(0px 1px 2px rgba(0, 0, 0, 0.3));\n",
              "      fill: #FFFFFF;\n",
              "    }\n",
              "  </style>\n",
              "\n",
              "    <script>\n",
              "      const buttonEl =\n",
              "        document.querySelector('#df-55a38020-0691-4f4f-8b64-8b44e52d32dc button.colab-df-convert');\n",
              "      buttonEl.style.display =\n",
              "        google.colab.kernel.accessAllowed ? 'block' : 'none';\n",
              "\n",
              "      async function convertToInteractive(key) {\n",
              "        const element = document.querySelector('#df-55a38020-0691-4f4f-8b64-8b44e52d32dc');\n",
              "        const dataTable =\n",
              "          await google.colab.kernel.invokeFunction('convertToInteractive',\n",
              "                                                    [key], {});\n",
              "        if (!dataTable) return;\n",
              "\n",
              "        const docLinkHtml = 'Like what you see? Visit the ' +\n",
              "          '<a target=\"_blank\" href=https://colab.research.google.com/notebooks/data_table.ipynb>data table notebook</a>'\n",
              "          + ' to learn more about interactive tables.';\n",
              "        element.innerHTML = '';\n",
              "        dataTable['output_type'] = 'display_data';\n",
              "        await google.colab.output.renderOutput(dataTable, element);\n",
              "        const docLink = document.createElement('div');\n",
              "        docLink.innerHTML = docLinkHtml;\n",
              "        element.appendChild(docLink);\n",
              "      }\n",
              "    </script>\n",
              "  </div>\n",
              "\n",
              "\n",
              "<div id=\"df-eee68ce8-5ac0-4d8e-874d-e682b8c989a2\">\n",
              "  <button class=\"colab-df-quickchart\" onclick=\"quickchart('df-eee68ce8-5ac0-4d8e-874d-e682b8c989a2')\"\n",
              "            title=\"Suggest charts.\"\n",
              "            style=\"display:none;\">\n",
              "\n",
              "<svg xmlns=\"http://www.w3.org/2000/svg\" height=\"24px\"viewBox=\"0 0 24 24\"\n",
              "     width=\"24px\">\n",
              "    <g>\n",
              "        <path d=\"M19 3H5c-1.1 0-2 .9-2 2v14c0 1.1.9 2 2 2h14c1.1 0 2-.9 2-2V5c0-1.1-.9-2-2-2zM9 17H7v-7h2v7zm4 0h-2V7h2v10zm4 0h-2v-4h2v4z\"/>\n",
              "    </g>\n",
              "</svg>\n",
              "  </button>\n",
              "\n",
              "<style>\n",
              "  .colab-df-quickchart {\n",
              "    background-color: #E8F0FE;\n",
              "    border: none;\n",
              "    border-radius: 50%;\n",
              "    cursor: pointer;\n",
              "    display: none;\n",
              "    fill: #1967D2;\n",
              "    height: 32px;\n",
              "    padding: 0 0 0 0;\n",
              "    width: 32px;\n",
              "  }\n",
              "\n",
              "  .colab-df-quickchart:hover {\n",
              "    background-color: #E2EBFA;\n",
              "    box-shadow: 0px 1px 2px rgba(60, 64, 67, 0.3), 0px 1px 3px 1px rgba(60, 64, 67, 0.15);\n",
              "    fill: #174EA6;\n",
              "  }\n",
              "\n",
              "  [theme=dark] .colab-df-quickchart {\n",
              "    background-color: #3B4455;\n",
              "    fill: #D2E3FC;\n",
              "  }\n",
              "\n",
              "  [theme=dark] .colab-df-quickchart:hover {\n",
              "    background-color: #434B5C;\n",
              "    box-shadow: 0px 1px 3px 1px rgba(0, 0, 0, 0.15);\n",
              "    filter: drop-shadow(0px 1px 2px rgba(0, 0, 0, 0.3));\n",
              "    fill: #FFFFFF;\n",
              "  }\n",
              "</style>\n",
              "\n",
              "  <script>\n",
              "    async function quickchart(key) {\n",
              "      const charts = await google.colab.kernel.invokeFunction(\n",
              "          'suggestCharts', [key], {});\n",
              "    }\n",
              "    (() => {\n",
              "      let quickchartButtonEl =\n",
              "        document.querySelector('#df-eee68ce8-5ac0-4d8e-874d-e682b8c989a2 button');\n",
              "      quickchartButtonEl.style.display =\n",
              "        google.colab.kernel.accessAllowed ? 'block' : 'none';\n",
              "    })();\n",
              "  </script>\n",
              "</div>\n",
              "    </div>\n",
              "  </div>\n"
            ]
          },
          "metadata": {},
          "execution_count": 170
        }
      ]
    },
    {
      "cell_type": "code",
      "source": [
        "dfBW['state'].unique()"
      ],
      "metadata": {
        "colab": {
          "base_uri": "https://localhost:8080/"
        },
        "id": "-DCftLLCfQsB",
        "outputId": "0f32a85d-5bd0-4acb-9aea-099015aed5c9"
      },
      "execution_count": null,
      "outputs": [
        {
          "output_type": "execute_result",
          "data": {
            "text/plain": [
              "array(['Alberta', 'Tennessee', 'Indiana', 'Louisiana', 'Missouri',\n",
              "       'California', 'Idaho', 'Pennsylvania', 'Florida', 'Delaware',\n",
              "       'Arizona', 'New Jersey', 'Illinois', 'Nevada'], dtype=object)"
            ]
          },
          "metadata": {},
          "execution_count": 21
        }
      ]
    },
    {
      "cell_type": "code",
      "source": [
        "dfBW['city'].nunique()"
      ],
      "metadata": {
        "colab": {
          "base_uri": "https://localhost:8080/"
        },
        "id": "su2O0yQ4fj78",
        "outputId": "0dbfca73-39c6-4707-f7e7-8d0f8648144e"
      },
      "execution_count": null,
      "outputs": [
        {
          "output_type": "execute_result",
          "data": {
            "text/plain": [
              "388"
            ]
          },
          "metadata": {},
          "execution_count": 22
        }
      ]
    },
    {
      "cell_type": "code",
      "source": [
        "dfBW[dfBW['state']=='Pennsylvania']['city'].unique()"
      ],
      "metadata": {
        "colab": {
          "base_uri": "https://localhost:8080/"
        },
        "id": "ZM_NIo_7fxJK",
        "outputId": "8043959a-e42d-49a1-c18e-24a6e5f29baa"
      },
      "execution_count": null,
      "outputs": [
        {
          "output_type": "execute_result",
          "data": {
            "text/plain": [
              "array(['Ardmore', 'Downingtown', 'Chester', 'Philadelphia', 'Malvern',\n",
              "       'North Wales', 'Collingdale', 'Montgomeryville', 'Harleysville',\n",
              "       'Darby', 'New Hope', 'King of Prussia', 'Wayne', 'Bensalem',\n",
              "       'East Norriton', 'Drexel Hill', 'West Chester', 'Glen Mills',\n",
              "       'Spring City', 'Lahaska', 'Exton', 'Bala Cynwyd', 'Bristol',\n",
              "       'Langhorne', 'Quakertown', 'Fairless Hills', 'Frazer',\n",
              "       'Norristown', 'Glenolden', 'Phoenixville', 'Glenside',\n",
              "       'Doylestown', 'Upper Darby', 'Thorndale', 'Kennett Square',\n",
              "       'Jenkintown', 'Pottstown', 'Boyertown', 'Newtown', 'Springfield',\n",
              "       'Berwyn', 'Feasterville Trevose', 'Bridgeport', 'Chalfont',\n",
              "       'Feasterville', 'Toughkenamon', 'Collegeville', 'Chester Springs',\n",
              "       'Chadds Ford', 'Spring House', 'Skippack', 'Newtown Square',\n",
              "       'Conshohocken', 'Kulpsville', 'Parkside', 'Plumsteadville',\n",
              "       'Warrington', 'Abington', 'Philadephia', 'Eddystone', 'Hatboro',\n",
              "       'Narberth', 'Media', 'King Of Prussia', 'Radnor', 'Southampton',\n",
              "       'Glenoldan', 'Warminster', 'Clifton Heights', 'Colmar',\n",
              "       'Havertown', 'Prospect Park', 'Blue Bell', 'Ambler', 'Wyncote',\n",
              "       'Limerick', 'Lafayette Hill', 'Jamison', 'Richboro', 'Morton',\n",
              "       'Royersford', 'Schwenksville', 'Willow Grove', 'Bryn Mawr',\n",
              "       'Lansdale', 'Fox Street', 'Yardley', 'Conshohoeken',\n",
              "       'Fort Washington', 'Gilbertsville', 'Swarthmore', 'Aston',\n",
              "       'Brookhaven', 'Red Hill', 'Levittown', 'Thornton', 'Manayunk',\n",
              "       'Horsham', 'Dresher', 'Buckingham', 'Paoli', 'Penndel', 'Hatfield',\n",
              "       'Woodlyn', 'Newportville', 'Furlong', 'Perkiomenville', 'Broomall',\n",
              "       'Avondale', 'Coatesville', 'Souderton', 'West Point',\n",
              "       'Pipersville', 'Perkasie', 'Feasterville-Trevose', 'Wyndmoor',\n",
              "       'Telford', 'Fallsington', 'Huntingdon Valley', 'Lansdowne'],\n",
              "      dtype=object)"
            ]
          },
          "metadata": {},
          "execution_count": 23
        }
      ]
    },
    {
      "cell_type": "code",
      "source": [
        "dfBW[dfBW['state']=='California']['city'].unique()"
      ],
      "metadata": {
        "colab": {
          "base_uri": "https://localhost:8080/"
        },
        "id": "OG5f1euwgUxh",
        "outputId": "5b4d6ba5-e193-48cb-abd3-9b79a62d1e30"
      },
      "execution_count": null,
      "outputs": [
        {
          "output_type": "execute_result",
          "data": {
            "text/plain": [
              "array(['Santa Barbara', 'Goleta', 'Montecito', 'Carpinteria',\n",
              "       'Port Hueneme', 'Isla Vista', 'Summerland', 'Santa Maria'],\n",
              "      dtype=object)"
            ]
          },
          "metadata": {},
          "execution_count": 24
        }
      ]
    },
    {
      "cell_type": "code",
      "source": [
        "# alternativa replace values column\n",
        "#pandas.DataFrame.loc[condition, column_label] = new_value"
      ],
      "metadata": {
        "id": "TxDkAtssclgK"
      },
      "execution_count": null,
      "outputs": []
    },
    {
      "cell_type": "code",
      "source": [
        "# reemplazar nombre por abreviatura\n",
        "dfBW['state'] = dfBW['state'].map({'Alberta':'AB',\n",
        "                             'Tennessee':'TN',\n",
        "                             'Indiana':'IN',\n",
        "                             'Louisiana':'LA',\n",
        "                             'Missouri':'MO',\n",
        "                             'California':'CA',\n",
        "                             'Idaho':'ID',\n",
        "                             'Pennsylvania':'PA',\n",
        "                             'Florida':'FL',\n",
        "                             'Delaware':'DE',\n",
        "                             'Arizona':'AZ',\n",
        "                             'New Jersey':'NJ',\n",
        "                             'Illinois':'IL',\n",
        "                             'Nevada':'NV'})"
      ],
      "metadata": {
        "id": "IePp7MOhcnX3"
      },
      "execution_count": null,
      "outputs": []
    },
    {
      "cell_type": "code",
      "source": [
        "# renombrar rating\n",
        "dfBW.rename({'stars': 'rating'}, axis=1, inplace=True)"
      ],
      "metadata": {
        "id": "DtiIpfBKfjYg"
      },
      "execution_count": null,
      "outputs": []
    },
    {
      "cell_type": "code",
      "source": [
        "dfBW.head()"
      ],
      "metadata": {
        "colab": {
          "base_uri": "https://localhost:8080/",
          "height": 292
        },
        "id": "szUDsHJmeTaV",
        "outputId": "fdaedd3f-364c-4776-b86c-cfb817af1b1e"
      },
      "execution_count": null,
      "outputs": [
        {
          "output_type": "execute_result",
          "data": {
            "text/plain": [
              "              business_id                            name  \\\n",
              "0  WKMJwqnfZKsAae75RMP6jA  Roast Coffeehouse and Wine Bar   \n",
              "1  lk9IwjZXqUMqqOhM774DtQ                Caviar & Bananas   \n",
              "2  7clCBgNbd-x2Wj96lZ6Mjw       Bier Brewery and Tap Room   \n",
              "3  YNjyv0gfOr2g8lbmUpTnKg                     Copper Vine   \n",
              "4  VrGxoSNZfSiT-G4OqRRGIw                Sunset 44 Bistro   \n",
              "\n",
              "               address          city state postal_code   latitude   longitude  \\\n",
              "0  10359 104 Street NW      Edmonton    AB     T5J 1B9  53.546045 -113.499169   \n",
              "1        2031 Broadway     Nashville    TN       37203  36.148371  -86.798895   \n",
              "2       5133 E 65th St  Indianapolis    IN       46220  39.875532  -86.082857   \n",
              "3      1001 Poydras St   New Orleans    LA       70112  29.950647  -90.074427   \n",
              "4      118 W Adams Ave   Saint Louis    MO       63122  38.583223  -90.407187   \n",
              "\n",
              "   rating  review_count                                         categories  \n",
              "0     4.0            40  Coffee & Tea, Food, Cafes, Bars, Wine Bars, Re...  \n",
              "1     3.5           159  Coffee & Tea, Restaurants, Wine Bars, Bars, Ni...  \n",
              "2     4.5           139              Food, Beer, Wine & Spirits, Breweries  \n",
              "3     4.5           350  Nightlife, Pubs, Event Planning & Services, Wi...  \n",
              "4     4.0            73  Bars, Lounges, American (New), Restaurants, Ni...  "
            ],
            "text/html": [
              "\n",
              "  <div id=\"df-abb8d708-5f46-4b6c-a684-1b26a973598c\" class=\"colab-df-container\">\n",
              "    <div>\n",
              "<style scoped>\n",
              "    .dataframe tbody tr th:only-of-type {\n",
              "        vertical-align: middle;\n",
              "    }\n",
              "\n",
              "    .dataframe tbody tr th {\n",
              "        vertical-align: top;\n",
              "    }\n",
              "\n",
              "    .dataframe thead th {\n",
              "        text-align: right;\n",
              "    }\n",
              "</style>\n",
              "<table border=\"1\" class=\"dataframe\">\n",
              "  <thead>\n",
              "    <tr style=\"text-align: right;\">\n",
              "      <th></th>\n",
              "      <th>business_id</th>\n",
              "      <th>name</th>\n",
              "      <th>address</th>\n",
              "      <th>city</th>\n",
              "      <th>state</th>\n",
              "      <th>postal_code</th>\n",
              "      <th>latitude</th>\n",
              "      <th>longitude</th>\n",
              "      <th>rating</th>\n",
              "      <th>review_count</th>\n",
              "      <th>categories</th>\n",
              "    </tr>\n",
              "  </thead>\n",
              "  <tbody>\n",
              "    <tr>\n",
              "      <th>0</th>\n",
              "      <td>WKMJwqnfZKsAae75RMP6jA</td>\n",
              "      <td>Roast Coffeehouse and Wine Bar</td>\n",
              "      <td>10359 104 Street NW</td>\n",
              "      <td>Edmonton</td>\n",
              "      <td>AB</td>\n",
              "      <td>T5J 1B9</td>\n",
              "      <td>53.546045</td>\n",
              "      <td>-113.499169</td>\n",
              "      <td>4.0</td>\n",
              "      <td>40</td>\n",
              "      <td>Coffee &amp; Tea, Food, Cafes, Bars, Wine Bars, Re...</td>\n",
              "    </tr>\n",
              "    <tr>\n",
              "      <th>1</th>\n",
              "      <td>lk9IwjZXqUMqqOhM774DtQ</td>\n",
              "      <td>Caviar &amp; Bananas</td>\n",
              "      <td>2031 Broadway</td>\n",
              "      <td>Nashville</td>\n",
              "      <td>TN</td>\n",
              "      <td>37203</td>\n",
              "      <td>36.148371</td>\n",
              "      <td>-86.798895</td>\n",
              "      <td>3.5</td>\n",
              "      <td>159</td>\n",
              "      <td>Coffee &amp; Tea, Restaurants, Wine Bars, Bars, Ni...</td>\n",
              "    </tr>\n",
              "    <tr>\n",
              "      <th>2</th>\n",
              "      <td>7clCBgNbd-x2Wj96lZ6Mjw</td>\n",
              "      <td>Bier Brewery and Tap Room</td>\n",
              "      <td>5133 E 65th St</td>\n",
              "      <td>Indianapolis</td>\n",
              "      <td>IN</td>\n",
              "      <td>46220</td>\n",
              "      <td>39.875532</td>\n",
              "      <td>-86.082857</td>\n",
              "      <td>4.5</td>\n",
              "      <td>139</td>\n",
              "      <td>Food, Beer, Wine &amp; Spirits, Breweries</td>\n",
              "    </tr>\n",
              "    <tr>\n",
              "      <th>3</th>\n",
              "      <td>YNjyv0gfOr2g8lbmUpTnKg</td>\n",
              "      <td>Copper Vine</td>\n",
              "      <td>1001 Poydras St</td>\n",
              "      <td>New Orleans</td>\n",
              "      <td>LA</td>\n",
              "      <td>70112</td>\n",
              "      <td>29.950647</td>\n",
              "      <td>-90.074427</td>\n",
              "      <td>4.5</td>\n",
              "      <td>350</td>\n",
              "      <td>Nightlife, Pubs, Event Planning &amp; Services, Wi...</td>\n",
              "    </tr>\n",
              "    <tr>\n",
              "      <th>4</th>\n",
              "      <td>VrGxoSNZfSiT-G4OqRRGIw</td>\n",
              "      <td>Sunset 44 Bistro</td>\n",
              "      <td>118 W Adams Ave</td>\n",
              "      <td>Saint Louis</td>\n",
              "      <td>MO</td>\n",
              "      <td>63122</td>\n",
              "      <td>38.583223</td>\n",
              "      <td>-90.407187</td>\n",
              "      <td>4.0</td>\n",
              "      <td>73</td>\n",
              "      <td>Bars, Lounges, American (New), Restaurants, Ni...</td>\n",
              "    </tr>\n",
              "  </tbody>\n",
              "</table>\n",
              "</div>\n",
              "    <div class=\"colab-df-buttons\">\n",
              "\n",
              "  <div class=\"colab-df-container\">\n",
              "    <button class=\"colab-df-convert\" onclick=\"convertToInteractive('df-abb8d708-5f46-4b6c-a684-1b26a973598c')\"\n",
              "            title=\"Convert this dataframe to an interactive table.\"\n",
              "            style=\"display:none;\">\n",
              "\n",
              "  <svg xmlns=\"http://www.w3.org/2000/svg\" height=\"24px\" viewBox=\"0 -960 960 960\">\n",
              "    <path d=\"M120-120v-720h720v720H120Zm60-500h600v-160H180v160Zm220 220h160v-160H400v160Zm0 220h160v-160H400v160ZM180-400h160v-160H180v160Zm440 0h160v-160H620v160ZM180-180h160v-160H180v160Zm440 0h160v-160H620v160Z\"/>\n",
              "  </svg>\n",
              "    </button>\n",
              "\n",
              "  <style>\n",
              "    .colab-df-container {\n",
              "      display:flex;\n",
              "      gap: 12px;\n",
              "    }\n",
              "\n",
              "    .colab-df-convert {\n",
              "      background-color: #E8F0FE;\n",
              "      border: none;\n",
              "      border-radius: 50%;\n",
              "      cursor: pointer;\n",
              "      display: none;\n",
              "      fill: #1967D2;\n",
              "      height: 32px;\n",
              "      padding: 0 0 0 0;\n",
              "      width: 32px;\n",
              "    }\n",
              "\n",
              "    .colab-df-convert:hover {\n",
              "      background-color: #E2EBFA;\n",
              "      box-shadow: 0px 1px 2px rgba(60, 64, 67, 0.3), 0px 1px 3px 1px rgba(60, 64, 67, 0.15);\n",
              "      fill: #174EA6;\n",
              "    }\n",
              "\n",
              "    .colab-df-buttons div {\n",
              "      margin-bottom: 4px;\n",
              "    }\n",
              "\n",
              "    [theme=dark] .colab-df-convert {\n",
              "      background-color: #3B4455;\n",
              "      fill: #D2E3FC;\n",
              "    }\n",
              "\n",
              "    [theme=dark] .colab-df-convert:hover {\n",
              "      background-color: #434B5C;\n",
              "      box-shadow: 0px 1px 3px 1px rgba(0, 0, 0, 0.15);\n",
              "      filter: drop-shadow(0px 1px 2px rgba(0, 0, 0, 0.3));\n",
              "      fill: #FFFFFF;\n",
              "    }\n",
              "  </style>\n",
              "\n",
              "    <script>\n",
              "      const buttonEl =\n",
              "        document.querySelector('#df-abb8d708-5f46-4b6c-a684-1b26a973598c button.colab-df-convert');\n",
              "      buttonEl.style.display =\n",
              "        google.colab.kernel.accessAllowed ? 'block' : 'none';\n",
              "\n",
              "      async function convertToInteractive(key) {\n",
              "        const element = document.querySelector('#df-abb8d708-5f46-4b6c-a684-1b26a973598c');\n",
              "        const dataTable =\n",
              "          await google.colab.kernel.invokeFunction('convertToInteractive',\n",
              "                                                    [key], {});\n",
              "        if (!dataTable) return;\n",
              "\n",
              "        const docLinkHtml = 'Like what you see? Visit the ' +\n",
              "          '<a target=\"_blank\" href=https://colab.research.google.com/notebooks/data_table.ipynb>data table notebook</a>'\n",
              "          + ' to learn more about interactive tables.';\n",
              "        element.innerHTML = '';\n",
              "        dataTable['output_type'] = 'display_data';\n",
              "        await google.colab.output.renderOutput(dataTable, element);\n",
              "        const docLink = document.createElement('div');\n",
              "        docLink.innerHTML = docLinkHtml;\n",
              "        element.appendChild(docLink);\n",
              "      }\n",
              "    </script>\n",
              "  </div>\n",
              "\n",
              "\n",
              "<div id=\"df-cf6bc3a6-0273-4435-a3e8-a218cd189874\">\n",
              "  <button class=\"colab-df-quickchart\" onclick=\"quickchart('df-cf6bc3a6-0273-4435-a3e8-a218cd189874')\"\n",
              "            title=\"Suggest charts.\"\n",
              "            style=\"display:none;\">\n",
              "\n",
              "<svg xmlns=\"http://www.w3.org/2000/svg\" height=\"24px\"viewBox=\"0 0 24 24\"\n",
              "     width=\"24px\">\n",
              "    <g>\n",
              "        <path d=\"M19 3H5c-1.1 0-2 .9-2 2v14c0 1.1.9 2 2 2h14c1.1 0 2-.9 2-2V5c0-1.1-.9-2-2-2zM9 17H7v-7h2v7zm4 0h-2V7h2v10zm4 0h-2v-4h2v4z\"/>\n",
              "    </g>\n",
              "</svg>\n",
              "  </button>\n",
              "\n",
              "<style>\n",
              "  .colab-df-quickchart {\n",
              "    background-color: #E8F0FE;\n",
              "    border: none;\n",
              "    border-radius: 50%;\n",
              "    cursor: pointer;\n",
              "    display: none;\n",
              "    fill: #1967D2;\n",
              "    height: 32px;\n",
              "    padding: 0 0 0 0;\n",
              "    width: 32px;\n",
              "  }\n",
              "\n",
              "  .colab-df-quickchart:hover {\n",
              "    background-color: #E2EBFA;\n",
              "    box-shadow: 0px 1px 2px rgba(60, 64, 67, 0.3), 0px 1px 3px 1px rgba(60, 64, 67, 0.15);\n",
              "    fill: #174EA6;\n",
              "  }\n",
              "\n",
              "  [theme=dark] .colab-df-quickchart {\n",
              "    background-color: #3B4455;\n",
              "    fill: #D2E3FC;\n",
              "  }\n",
              "\n",
              "  [theme=dark] .colab-df-quickchart:hover {\n",
              "    background-color: #434B5C;\n",
              "    box-shadow: 0px 1px 3px 1px rgba(0, 0, 0, 0.15);\n",
              "    filter: drop-shadow(0px 1px 2px rgba(0, 0, 0, 0.3));\n",
              "    fill: #FFFFFF;\n",
              "  }\n",
              "</style>\n",
              "\n",
              "  <script>\n",
              "    async function quickchart(key) {\n",
              "      const charts = await google.colab.kernel.invokeFunction(\n",
              "          'suggestCharts', [key], {});\n",
              "    }\n",
              "    (() => {\n",
              "      let quickchartButtonEl =\n",
              "        document.querySelector('#df-cf6bc3a6-0273-4435-a3e8-a218cd189874 button');\n",
              "      quickchartButtonEl.style.display =\n",
              "        google.colab.kernel.accessAllowed ? 'block' : 'none';\n",
              "    })();\n",
              "  </script>\n",
              "</div>\n",
              "    </div>\n",
              "  </div>\n"
            ]
          },
          "metadata": {},
          "execution_count": 173
        }
      ]
    },
    {
      "cell_type": "code",
      "source": [
        "# crear nuevo dataframe\n",
        "dfBW.to_parquet('Business_ETL.parquet', index=False)\n"
      ],
      "metadata": {
        "id": "Y65Kn5MreICc"
      },
      "execution_count": null,
      "outputs": []
    },
    {
      "cell_type": "markdown",
      "source": [
        "---------------"
      ],
      "metadata": {
        "id": "uZ8UvA79RxJu"
      }
    },
    {
      "cell_type": "markdown",
      "source": [
        "# API Business"
      ],
      "metadata": {
        "id": "204mU2yjkPLB"
      }
    },
    {
      "cell_type": "markdown",
      "source": [
        "-----------------------"
      ],
      "metadata": {
        "id": "TqTzL303RyaC"
      }
    },
    {
      "cell_type": "code",
      "source": [
        "dfAB = pd.read_parquet('/content/drive/MyDrive/DataYelpGoogle/Yelp/API_Business.parquet', columns=['business_id',\t'name',\t'location', 'coordinates', 'rating',\t'review_count', 'categories'])"
      ],
      "metadata": {
        "id": "MAsMAZazf6ks"
      },
      "execution_count": null,
      "outputs": []
    },
    {
      "cell_type": "code",
      "source": [
        "dfAB.info()"
      ],
      "metadata": {
        "colab": {
          "base_uri": "https://localhost:8080/"
        },
        "id": "b65wnxx4gMHV",
        "outputId": "5176d5c0-4e0f-43af-9ac7-2c02ae6df290"
      },
      "execution_count": null,
      "outputs": [
        {
          "output_type": "stream",
          "name": "stdout",
          "text": [
            "<class 'pandas.core.frame.DataFrame'>\n",
            "RangeIndex: 1594 entries, 0 to 1593\n",
            "Data columns (total 7 columns):\n",
            " #   Column        Non-Null Count  Dtype  \n",
            "---  ------        --------------  -----  \n",
            " 0   business_id   1594 non-null   object \n",
            " 1   name          1594 non-null   object \n",
            " 2   location      1594 non-null   object \n",
            " 3   coordinates   1593 non-null   object \n",
            " 4   rating        1594 non-null   float64\n",
            " 5   review_count  1594 non-null   int64  \n",
            " 6   categories    1594 non-null   object \n",
            "dtypes: float64(1), int64(1), object(5)\n",
            "memory usage: 87.3+ KB\n"
          ]
        }
      ]
    },
    {
      "cell_type": "code",
      "source": [
        "dfAB.isna().sum()"
      ],
      "metadata": {
        "colab": {
          "base_uri": "https://localhost:8080/"
        },
        "id": "GVWmUVhBpP1D",
        "outputId": "b5886289-e394-4609-9e52-c2e26bb9ae51"
      },
      "execution_count": null,
      "outputs": [
        {
          "output_type": "execute_result",
          "data": {
            "text/plain": [
              "business_id     0\n",
              "name            0\n",
              "location        0\n",
              "coordinates     1\n",
              "rating          0\n",
              "review_count    0\n",
              "categories      0\n",
              "dtype: int64"
            ]
          },
          "metadata": {},
          "execution_count": 84
        }
      ]
    },
    {
      "cell_type": "code",
      "source": [
        "# imputar valor nulo\n",
        "dfAB['coordinates'].fillna(\"{'latitude': 0, 'longitude': 0}\", inplace=True)"
      ],
      "metadata": {
        "id": "jsdRi6eNpXGL"
      },
      "execution_count": null,
      "outputs": []
    },
    {
      "cell_type": "code",
      "source": [
        "dfAB.head()"
      ],
      "metadata": {
        "colab": {
          "base_uri": "https://localhost:8080/",
          "height": 292
        },
        "id": "a3Mjs0iigOlb",
        "outputId": "a38fd203-3124-48ac-c1c4-d4d457d6afb5"
      },
      "execution_count": null,
      "outputs": [
        {
          "output_type": "execute_result",
          "data": {
            "text/plain": [
              "              business_id                                       name  \\\n",
              "0  qJ1kfVLwdTEQ_oRHmfaZaQ                             Nine Pin Cider   \n",
              "1  nl8KrEl4H9f1Wm1ry-46zA                      Colvin Wine Merchants   \n",
              "2  QsBctI8bZlsCFzsSBQoyyg  The Bull and Bee - Meadery & Tasting Room   \n",
              "3  sPSQqvYmQI4elOdiLbqxmA                             SABBA Vineyard   \n",
              "4  YFhxiIoI-N5T_S8CeMUIvQ            Galway Rock Vineyard and Winery   \n",
              "\n",
              "                                            location  \\\n",
              "0  {'address1': '929 Broadway', 'city': 'Albany',...   \n",
              "1  {'address1': '900D Central Ave', 'city': 'Alba...   \n",
              "2  {'address1': '140 Hamilton St', 'city': 'Alban...   \n",
              "3  {'address1': '383 Pitts Rd', 'city': 'Old Chat...   \n",
              "4  {'address1': '998 Saratoga Rd', 'city': 'Balls...   \n",
              "\n",
              "                                        coordinates  rating  review_count  \\\n",
              "0  {'latitude': 42.661892, 'longitude': -73.743767}     4.5           128   \n",
              "1   {'latitude': 42.67993, 'longitude': -73.792262}     4.0             4   \n",
              "2  {'latitude': 42.647415, 'longitude': -73.757309}     5.0             9   \n",
              "3    {'latitude': 42.46964, 'longitude': -73.57555}     5.0            12   \n",
              "4     {'latitude': 42.9369, 'longitude': -73.87441}     4.5            20   \n",
              "\n",
              "                                          categories  \n",
              "0  [{'title': 'Breweries', 'alias': 'breweries'},...  \n",
              "1       [{'title': 'Wineries', 'alias': 'wineries'}]  \n",
              "2  [{'title': 'Wine Tasting Room', 'alias': 'wine...  \n",
              "3  [{'title': 'Wine Tasting Room', 'alias': 'wine...  \n",
              "4  [{'title': 'Wine Tasting Room', 'alias': 'wine...  "
            ],
            "text/html": [
              "\n",
              "  <div id=\"df-fc52d28f-a1db-40e7-85ab-194064ef7bd2\" class=\"colab-df-container\">\n",
              "    <div>\n",
              "<style scoped>\n",
              "    .dataframe tbody tr th:only-of-type {\n",
              "        vertical-align: middle;\n",
              "    }\n",
              "\n",
              "    .dataframe tbody tr th {\n",
              "        vertical-align: top;\n",
              "    }\n",
              "\n",
              "    .dataframe thead th {\n",
              "        text-align: right;\n",
              "    }\n",
              "</style>\n",
              "<table border=\"1\" class=\"dataframe\">\n",
              "  <thead>\n",
              "    <tr style=\"text-align: right;\">\n",
              "      <th></th>\n",
              "      <th>business_id</th>\n",
              "      <th>name</th>\n",
              "      <th>location</th>\n",
              "      <th>coordinates</th>\n",
              "      <th>rating</th>\n",
              "      <th>review_count</th>\n",
              "      <th>categories</th>\n",
              "    </tr>\n",
              "  </thead>\n",
              "  <tbody>\n",
              "    <tr>\n",
              "      <th>0</th>\n",
              "      <td>qJ1kfVLwdTEQ_oRHmfaZaQ</td>\n",
              "      <td>Nine Pin Cider</td>\n",
              "      <td>{'address1': '929 Broadway', 'city': 'Albany',...</td>\n",
              "      <td>{'latitude': 42.661892, 'longitude': -73.743767}</td>\n",
              "      <td>4.5</td>\n",
              "      <td>128</td>\n",
              "      <td>[{'title': 'Breweries', 'alias': 'breweries'},...</td>\n",
              "    </tr>\n",
              "    <tr>\n",
              "      <th>1</th>\n",
              "      <td>nl8KrEl4H9f1Wm1ry-46zA</td>\n",
              "      <td>Colvin Wine Merchants</td>\n",
              "      <td>{'address1': '900D Central Ave', 'city': 'Alba...</td>\n",
              "      <td>{'latitude': 42.67993, 'longitude': -73.792262}</td>\n",
              "      <td>4.0</td>\n",
              "      <td>4</td>\n",
              "      <td>[{'title': 'Wineries', 'alias': 'wineries'}]</td>\n",
              "    </tr>\n",
              "    <tr>\n",
              "      <th>2</th>\n",
              "      <td>QsBctI8bZlsCFzsSBQoyyg</td>\n",
              "      <td>The Bull and Bee - Meadery &amp; Tasting Room</td>\n",
              "      <td>{'address1': '140 Hamilton St', 'city': 'Alban...</td>\n",
              "      <td>{'latitude': 42.647415, 'longitude': -73.757309}</td>\n",
              "      <td>5.0</td>\n",
              "      <td>9</td>\n",
              "      <td>[{'title': 'Wine Tasting Room', 'alias': 'wine...</td>\n",
              "    </tr>\n",
              "    <tr>\n",
              "      <th>3</th>\n",
              "      <td>sPSQqvYmQI4elOdiLbqxmA</td>\n",
              "      <td>SABBA Vineyard</td>\n",
              "      <td>{'address1': '383 Pitts Rd', 'city': 'Old Chat...</td>\n",
              "      <td>{'latitude': 42.46964, 'longitude': -73.57555}</td>\n",
              "      <td>5.0</td>\n",
              "      <td>12</td>\n",
              "      <td>[{'title': 'Wine Tasting Room', 'alias': 'wine...</td>\n",
              "    </tr>\n",
              "    <tr>\n",
              "      <th>4</th>\n",
              "      <td>YFhxiIoI-N5T_S8CeMUIvQ</td>\n",
              "      <td>Galway Rock Vineyard and Winery</td>\n",
              "      <td>{'address1': '998 Saratoga Rd', 'city': 'Balls...</td>\n",
              "      <td>{'latitude': 42.9369, 'longitude': -73.87441}</td>\n",
              "      <td>4.5</td>\n",
              "      <td>20</td>\n",
              "      <td>[{'title': 'Wine Tasting Room', 'alias': 'wine...</td>\n",
              "    </tr>\n",
              "  </tbody>\n",
              "</table>\n",
              "</div>\n",
              "    <div class=\"colab-df-buttons\">\n",
              "\n",
              "  <div class=\"colab-df-container\">\n",
              "    <button class=\"colab-df-convert\" onclick=\"convertToInteractive('df-fc52d28f-a1db-40e7-85ab-194064ef7bd2')\"\n",
              "            title=\"Convert this dataframe to an interactive table.\"\n",
              "            style=\"display:none;\">\n",
              "\n",
              "  <svg xmlns=\"http://www.w3.org/2000/svg\" height=\"24px\" viewBox=\"0 -960 960 960\">\n",
              "    <path d=\"M120-120v-720h720v720H120Zm60-500h600v-160H180v160Zm220 220h160v-160H400v160Zm0 220h160v-160H400v160ZM180-400h160v-160H180v160Zm440 0h160v-160H620v160ZM180-180h160v-160H180v160Zm440 0h160v-160H620v160Z\"/>\n",
              "  </svg>\n",
              "    </button>\n",
              "\n",
              "  <style>\n",
              "    .colab-df-container {\n",
              "      display:flex;\n",
              "      gap: 12px;\n",
              "    }\n",
              "\n",
              "    .colab-df-convert {\n",
              "      background-color: #E8F0FE;\n",
              "      border: none;\n",
              "      border-radius: 50%;\n",
              "      cursor: pointer;\n",
              "      display: none;\n",
              "      fill: #1967D2;\n",
              "      height: 32px;\n",
              "      padding: 0 0 0 0;\n",
              "      width: 32px;\n",
              "    }\n",
              "\n",
              "    .colab-df-convert:hover {\n",
              "      background-color: #E2EBFA;\n",
              "      box-shadow: 0px 1px 2px rgba(60, 64, 67, 0.3), 0px 1px 3px 1px rgba(60, 64, 67, 0.15);\n",
              "      fill: #174EA6;\n",
              "    }\n",
              "\n",
              "    .colab-df-buttons div {\n",
              "      margin-bottom: 4px;\n",
              "    }\n",
              "\n",
              "    [theme=dark] .colab-df-convert {\n",
              "      background-color: #3B4455;\n",
              "      fill: #D2E3FC;\n",
              "    }\n",
              "\n",
              "    [theme=dark] .colab-df-convert:hover {\n",
              "      background-color: #434B5C;\n",
              "      box-shadow: 0px 1px 3px 1px rgba(0, 0, 0, 0.15);\n",
              "      filter: drop-shadow(0px 1px 2px rgba(0, 0, 0, 0.3));\n",
              "      fill: #FFFFFF;\n",
              "    }\n",
              "  </style>\n",
              "\n",
              "    <script>\n",
              "      const buttonEl =\n",
              "        document.querySelector('#df-fc52d28f-a1db-40e7-85ab-194064ef7bd2 button.colab-df-convert');\n",
              "      buttonEl.style.display =\n",
              "        google.colab.kernel.accessAllowed ? 'block' : 'none';\n",
              "\n",
              "      async function convertToInteractive(key) {\n",
              "        const element = document.querySelector('#df-fc52d28f-a1db-40e7-85ab-194064ef7bd2');\n",
              "        const dataTable =\n",
              "          await google.colab.kernel.invokeFunction('convertToInteractive',\n",
              "                                                    [key], {});\n",
              "        if (!dataTable) return;\n",
              "\n",
              "        const docLinkHtml = 'Like what you see? Visit the ' +\n",
              "          '<a target=\"_blank\" href=https://colab.research.google.com/notebooks/data_table.ipynb>data table notebook</a>'\n",
              "          + ' to learn more about interactive tables.';\n",
              "        element.innerHTML = '';\n",
              "        dataTable['output_type'] = 'display_data';\n",
              "        await google.colab.output.renderOutput(dataTable, element);\n",
              "        const docLink = document.createElement('div');\n",
              "        docLink.innerHTML = docLinkHtml;\n",
              "        element.appendChild(docLink);\n",
              "      }\n",
              "    </script>\n",
              "  </div>\n",
              "\n",
              "\n",
              "<div id=\"df-160818b5-02bd-498e-b264-9937c8d97379\">\n",
              "  <button class=\"colab-df-quickchart\" onclick=\"quickchart('df-160818b5-02bd-498e-b264-9937c8d97379')\"\n",
              "            title=\"Suggest charts.\"\n",
              "            style=\"display:none;\">\n",
              "\n",
              "<svg xmlns=\"http://www.w3.org/2000/svg\" height=\"24px\"viewBox=\"0 0 24 24\"\n",
              "     width=\"24px\">\n",
              "    <g>\n",
              "        <path d=\"M19 3H5c-1.1 0-2 .9-2 2v14c0 1.1.9 2 2 2h14c1.1 0 2-.9 2-2V5c0-1.1-.9-2-2-2zM9 17H7v-7h2v7zm4 0h-2V7h2v10zm4 0h-2v-4h2v4z\"/>\n",
              "    </g>\n",
              "</svg>\n",
              "  </button>\n",
              "\n",
              "<style>\n",
              "  .colab-df-quickchart {\n",
              "    background-color: #E8F0FE;\n",
              "    border: none;\n",
              "    border-radius: 50%;\n",
              "    cursor: pointer;\n",
              "    display: none;\n",
              "    fill: #1967D2;\n",
              "    height: 32px;\n",
              "    padding: 0 0 0 0;\n",
              "    width: 32px;\n",
              "  }\n",
              "\n",
              "  .colab-df-quickchart:hover {\n",
              "    background-color: #E2EBFA;\n",
              "    box-shadow: 0px 1px 2px rgba(60, 64, 67, 0.3), 0px 1px 3px 1px rgba(60, 64, 67, 0.15);\n",
              "    fill: #174EA6;\n",
              "  }\n",
              "\n",
              "  [theme=dark] .colab-df-quickchart {\n",
              "    background-color: #3B4455;\n",
              "    fill: #D2E3FC;\n",
              "  }\n",
              "\n",
              "  [theme=dark] .colab-df-quickchart:hover {\n",
              "    background-color: #434B5C;\n",
              "    box-shadow: 0px 1px 3px 1px rgba(0, 0, 0, 0.15);\n",
              "    filter: drop-shadow(0px 1px 2px rgba(0, 0, 0, 0.3));\n",
              "    fill: #FFFFFF;\n",
              "  }\n",
              "</style>\n",
              "\n",
              "  <script>\n",
              "    async function quickchart(key) {\n",
              "      const charts = await google.colab.kernel.invokeFunction(\n",
              "          'suggestCharts', [key], {});\n",
              "    }\n",
              "    (() => {\n",
              "      let quickchartButtonEl =\n",
              "        document.querySelector('#df-160818b5-02bd-498e-b264-9937c8d97379 button');\n",
              "      quickchartButtonEl.style.display =\n",
              "        google.colab.kernel.accessAllowed ? 'block' : 'none';\n",
              "    })();\n",
              "  </script>\n",
              "</div>\n",
              "    </div>\n",
              "  </div>\n"
            ]
          },
          "metadata": {},
          "execution_count": 92
        }
      ]
    },
    {
      "cell_type": "code",
      "source": [
        "dfAB['location'][0]"
      ],
      "metadata": {
        "colab": {
          "base_uri": "https://localhost:8080/",
          "height": 35
        },
        "id": "23Sd04VXgaag",
        "outputId": "2f41d47e-91fd-4aac-eb4d-994efc8a3158"
      },
      "execution_count": null,
      "outputs": [
        {
          "output_type": "execute_result",
          "data": {
            "text/plain": [
              "\"{'address1': '929 Broadway', 'city': 'Albany', 'state': 'NY', 'country': 'US'}\""
            ],
            "application/vnd.google.colaboratory.intrinsic+json": {
              "type": "string"
            }
          },
          "metadata": {},
          "execution_count": 35
        }
      ]
    },
    {
      "cell_type": "code",
      "source": [
        "dfAB['coordinates'][0]"
      ],
      "metadata": {
        "colab": {
          "base_uri": "https://localhost:8080/",
          "height": 35
        },
        "id": "tQrrxpKVgqpk",
        "outputId": "551821d7-7f84-41ea-9045-f912bbba8bb1"
      },
      "execution_count": null,
      "outputs": [
        {
          "output_type": "execute_result",
          "data": {
            "text/plain": [
              "\"{'latitude': 42.661892, 'longitude': -73.743767}\""
            ],
            "application/vnd.google.colaboratory.intrinsic+json": {
              "type": "string"
            }
          },
          "metadata": {},
          "execution_count": 36
        }
      ]
    },
    {
      "cell_type": "code",
      "source": [
        "dfAB['categories'][0]"
      ],
      "metadata": {
        "colab": {
          "base_uri": "https://localhost:8080/",
          "height": 35
        },
        "id": "OlcPz9XEg0JE",
        "outputId": "890d512e-314d-4c46-adea-a3958d461144"
      },
      "execution_count": null,
      "outputs": [
        {
          "output_type": "execute_result",
          "data": {
            "text/plain": [
              "\"[{'title': 'Breweries', 'alias': 'breweries'}, {'title': 'Wine Tasting Room', 'alias': 'winetastingroom'}, {'title': 'Cideries', 'alias': 'cideries'}]\""
            ],
            "application/vnd.google.colaboratory.intrinsic+json": {
              "type": "string"
            }
          },
          "metadata": {},
          "execution_count": 12
        }
      ]
    },
    {
      "cell_type": "markdown",
      "source": [
        "# extraer datos anidados"
      ],
      "metadata": {
        "id": "efI1qtqikTTH"
      }
    },
    {
      "cell_type": "code",
      "source": [
        "# funcion extraer datos anidados diccionarios\n",
        "def GetDataDict(x):\n",
        "  if pd.isnull(x):\n",
        "    return np.nan\n",
        "  else:\n",
        "    val=ast.literal_eval(x)\n",
        "    if isinstance(val, dict):\n",
        "      return val\n",
        "    else:\n",
        "      return x"
      ],
      "metadata": {
        "id": "0fYI12EulzQO"
      },
      "execution_count": null,
      "outputs": []
    },
    {
      "cell_type": "code",
      "source": [
        "# invocar funcion GetDataDictCity\n",
        "dfAB['location'] = dfAB['location'].apply(GetDataDict)"
      ],
      "metadata": {
        "id": "Vluja7_ZmBFN"
      },
      "execution_count": null,
      "outputs": []
    },
    {
      "cell_type": "code",
      "source": [
        "# extraer city\n",
        "dfAB['address'] = dfAB['location'].apply(lambda x: x['address1'])"
      ],
      "metadata": {
        "id": "DQt9rqDJb4fb"
      },
      "execution_count": null,
      "outputs": []
    },
    {
      "cell_type": "code",
      "source": [
        "# extraer city\n",
        "dfAB['city'] = dfAB['location'].apply(lambda x: x['city'])"
      ],
      "metadata": {
        "id": "VNfUdrSlmUmM"
      },
      "execution_count": null,
      "outputs": []
    },
    {
      "cell_type": "code",
      "source": [
        "# extraer state\n",
        "dfAB['state'] = dfAB['location'].apply(lambda x: x['state'])"
      ],
      "metadata": {
        "id": "DTl0SfDwm5xp"
      },
      "execution_count": null,
      "outputs": []
    },
    {
      "cell_type": "code",
      "source": [
        "# invocar funcion GetDataDictCity\n",
        "dfAB['coordinates'] = dfAB['coordinates'].apply(GetDataDict)"
      ],
      "metadata": {
        "id": "0eXnsS6Cnmvt"
      },
      "execution_count": null,
      "outputs": []
    },
    {
      "cell_type": "code",
      "source": [
        "# extraer latitude\n",
        "dfAB['latitude'] = dfAB['coordinates'].apply(lambda x: x['latitude'])"
      ],
      "metadata": {
        "id": "auqJ08JsnsZg"
      },
      "execution_count": null,
      "outputs": []
    },
    {
      "cell_type": "code",
      "source": [
        "# extraer longitude\n",
        "dfAB['longitude'] = dfAB['coordinates'].apply(lambda x: x['longitude'])"
      ],
      "metadata": {
        "id": "BeieUZjWoAW4"
      },
      "execution_count": null,
      "outputs": []
    },
    {
      "cell_type": "code",
      "source": [
        "dfAB.sample(5)"
      ],
      "metadata": {
        "colab": {
          "base_uri": "https://localhost:8080/",
          "height": 379
        },
        "id": "K1YW7DQMloAm",
        "outputId": "e1ff8b55-8fbd-4b50-93f7-e1f9b53d89d0"
      },
      "execution_count": null,
      "outputs": [
        {
          "output_type": "execute_result",
          "data": {
            "text/plain": [
              "                 business_id                        name  \\\n",
              "1116  UaKjpYB51pA4oP9HmpeHpw                    Kaleidos   \n",
              "1081  xI6XZYrRFrIA0yYT6i_uZA             Pianetta Winery   \n",
              "1319  Kl_w3gfumgHp9TtzNsK5DQ  Carruth Cellar Wine Garden   \n",
              "458   U_gjhQ9phwKEqLurPlehuQ           Chaddsford Winery   \n",
              "85    yexp-J8-nqjnht0xM2kAyQ           The Wine Emporium   \n",
              "\n",
              "                                               location  \\\n",
              "1116  {'address1': '3075 Blue Rock Rd', 'city': 'Pas...   \n",
              "1081  {'address1': '829 13th St', 'city': 'Paso Robl...   \n",
              "1319  {'address1': '2215 Kettner Blvd', 'city': 'San...   \n",
              "458   {'address1': '632 Baltimore Pike', 'city': 'Ch...   \n",
              "85    {'address1': '474 Columbus Ave', 'city': 'Bost...   \n",
              "\n",
              "                                            coordinates  rating  review_count  \\\n",
              "1116  {'latitude': 35.5754063681116, 'longitude': -1...     4.5            21   \n",
              "1081  {'latitude': 35.6279667, 'longitude': -120.689...     4.5            67   \n",
              "1319  {'latitude': 32.727476, 'longitude': -117.1707...     5.0             1   \n",
              "458       {'latitude': 39.87285, 'longitude': -75.6263}     3.5           202   \n",
              "85    {'latitude': 42.34301840914558, 'longitude': -...     3.5            31   \n",
              "\n",
              "                                             categories             address  \\\n",
              "1116       [{'title': 'Wineries', 'alias': 'wineries'}]   3075 Blue Rock Rd   \n",
              "1081       [{'title': 'Wineries', 'alias': 'wineries'}]         829 13th St   \n",
              "1319  [{'title': 'Wine Tasting Room', 'alias': 'wine...   2215 Kettner Blvd   \n",
              "458        [{'title': 'Wineries', 'alias': 'wineries'}]  632 Baltimore Pike   \n",
              "85    [{'title': 'Beer, Wine & Spirits', 'alias': 'b...    474 Columbus Ave   \n",
              "\n",
              "             city state   latitude   longitude  \n",
              "1116  Paso Robles    CA  35.575406 -120.689614  \n",
              "1081  Paso Robles    CA  35.627967 -120.689361  \n",
              "1319    San Diego    CA  32.727476 -117.170708  \n",
              "458   Chadds Ford    PA  39.872850  -75.626300  \n",
              "85         Boston    MA  42.343018  -71.078455  "
            ],
            "text/html": [
              "\n",
              "  <div id=\"df-cacb233c-f00f-48eb-bba4-4cabc33c991b\" class=\"colab-df-container\">\n",
              "    <div>\n",
              "<style scoped>\n",
              "    .dataframe tbody tr th:only-of-type {\n",
              "        vertical-align: middle;\n",
              "    }\n",
              "\n",
              "    .dataframe tbody tr th {\n",
              "        vertical-align: top;\n",
              "    }\n",
              "\n",
              "    .dataframe thead th {\n",
              "        text-align: right;\n",
              "    }\n",
              "</style>\n",
              "<table border=\"1\" class=\"dataframe\">\n",
              "  <thead>\n",
              "    <tr style=\"text-align: right;\">\n",
              "      <th></th>\n",
              "      <th>business_id</th>\n",
              "      <th>name</th>\n",
              "      <th>location</th>\n",
              "      <th>coordinates</th>\n",
              "      <th>rating</th>\n",
              "      <th>review_count</th>\n",
              "      <th>categories</th>\n",
              "      <th>address</th>\n",
              "      <th>city</th>\n",
              "      <th>state</th>\n",
              "      <th>latitude</th>\n",
              "      <th>longitude</th>\n",
              "    </tr>\n",
              "  </thead>\n",
              "  <tbody>\n",
              "    <tr>\n",
              "      <th>1116</th>\n",
              "      <td>UaKjpYB51pA4oP9HmpeHpw</td>\n",
              "      <td>Kaleidos</td>\n",
              "      <td>{'address1': '3075 Blue Rock Rd', 'city': 'Pas...</td>\n",
              "      <td>{'latitude': 35.5754063681116, 'longitude': -1...</td>\n",
              "      <td>4.5</td>\n",
              "      <td>21</td>\n",
              "      <td>[{'title': 'Wineries', 'alias': 'wineries'}]</td>\n",
              "      <td>3075 Blue Rock Rd</td>\n",
              "      <td>Paso Robles</td>\n",
              "      <td>CA</td>\n",
              "      <td>35.575406</td>\n",
              "      <td>-120.689614</td>\n",
              "    </tr>\n",
              "    <tr>\n",
              "      <th>1081</th>\n",
              "      <td>xI6XZYrRFrIA0yYT6i_uZA</td>\n",
              "      <td>Pianetta Winery</td>\n",
              "      <td>{'address1': '829 13th St', 'city': 'Paso Robl...</td>\n",
              "      <td>{'latitude': 35.6279667, 'longitude': -120.689...</td>\n",
              "      <td>4.5</td>\n",
              "      <td>67</td>\n",
              "      <td>[{'title': 'Wineries', 'alias': 'wineries'}]</td>\n",
              "      <td>829 13th St</td>\n",
              "      <td>Paso Robles</td>\n",
              "      <td>CA</td>\n",
              "      <td>35.627967</td>\n",
              "      <td>-120.689361</td>\n",
              "    </tr>\n",
              "    <tr>\n",
              "      <th>1319</th>\n",
              "      <td>Kl_w3gfumgHp9TtzNsK5DQ</td>\n",
              "      <td>Carruth Cellar Wine Garden</td>\n",
              "      <td>{'address1': '2215 Kettner Blvd', 'city': 'San...</td>\n",
              "      <td>{'latitude': 32.727476, 'longitude': -117.1707...</td>\n",
              "      <td>5.0</td>\n",
              "      <td>1</td>\n",
              "      <td>[{'title': 'Wine Tasting Room', 'alias': 'wine...</td>\n",
              "      <td>2215 Kettner Blvd</td>\n",
              "      <td>San Diego</td>\n",
              "      <td>CA</td>\n",
              "      <td>32.727476</td>\n",
              "      <td>-117.170708</td>\n",
              "    </tr>\n",
              "    <tr>\n",
              "      <th>458</th>\n",
              "      <td>U_gjhQ9phwKEqLurPlehuQ</td>\n",
              "      <td>Chaddsford Winery</td>\n",
              "      <td>{'address1': '632 Baltimore Pike', 'city': 'Ch...</td>\n",
              "      <td>{'latitude': 39.87285, 'longitude': -75.6263}</td>\n",
              "      <td>3.5</td>\n",
              "      <td>202</td>\n",
              "      <td>[{'title': 'Wineries', 'alias': 'wineries'}]</td>\n",
              "      <td>632 Baltimore Pike</td>\n",
              "      <td>Chadds Ford</td>\n",
              "      <td>PA</td>\n",
              "      <td>39.872850</td>\n",
              "      <td>-75.626300</td>\n",
              "    </tr>\n",
              "    <tr>\n",
              "      <th>85</th>\n",
              "      <td>yexp-J8-nqjnht0xM2kAyQ</td>\n",
              "      <td>The Wine Emporium</td>\n",
              "      <td>{'address1': '474 Columbus Ave', 'city': 'Bost...</td>\n",
              "      <td>{'latitude': 42.34301840914558, 'longitude': -...</td>\n",
              "      <td>3.5</td>\n",
              "      <td>31</td>\n",
              "      <td>[{'title': 'Beer, Wine &amp; Spirits', 'alias': 'b...</td>\n",
              "      <td>474 Columbus Ave</td>\n",
              "      <td>Boston</td>\n",
              "      <td>MA</td>\n",
              "      <td>42.343018</td>\n",
              "      <td>-71.078455</td>\n",
              "    </tr>\n",
              "  </tbody>\n",
              "</table>\n",
              "</div>\n",
              "    <div class=\"colab-df-buttons\">\n",
              "\n",
              "  <div class=\"colab-df-container\">\n",
              "    <button class=\"colab-df-convert\" onclick=\"convertToInteractive('df-cacb233c-f00f-48eb-bba4-4cabc33c991b')\"\n",
              "            title=\"Convert this dataframe to an interactive table.\"\n",
              "            style=\"display:none;\">\n",
              "\n",
              "  <svg xmlns=\"http://www.w3.org/2000/svg\" height=\"24px\" viewBox=\"0 -960 960 960\">\n",
              "    <path d=\"M120-120v-720h720v720H120Zm60-500h600v-160H180v160Zm220 220h160v-160H400v160Zm0 220h160v-160H400v160ZM180-400h160v-160H180v160Zm440 0h160v-160H620v160ZM180-180h160v-160H180v160Zm440 0h160v-160H620v160Z\"/>\n",
              "  </svg>\n",
              "    </button>\n",
              "\n",
              "  <style>\n",
              "    .colab-df-container {\n",
              "      display:flex;\n",
              "      gap: 12px;\n",
              "    }\n",
              "\n",
              "    .colab-df-convert {\n",
              "      background-color: #E8F0FE;\n",
              "      border: none;\n",
              "      border-radius: 50%;\n",
              "      cursor: pointer;\n",
              "      display: none;\n",
              "      fill: #1967D2;\n",
              "      height: 32px;\n",
              "      padding: 0 0 0 0;\n",
              "      width: 32px;\n",
              "    }\n",
              "\n",
              "    .colab-df-convert:hover {\n",
              "      background-color: #E2EBFA;\n",
              "      box-shadow: 0px 1px 2px rgba(60, 64, 67, 0.3), 0px 1px 3px 1px rgba(60, 64, 67, 0.15);\n",
              "      fill: #174EA6;\n",
              "    }\n",
              "\n",
              "    .colab-df-buttons div {\n",
              "      margin-bottom: 4px;\n",
              "    }\n",
              "\n",
              "    [theme=dark] .colab-df-convert {\n",
              "      background-color: #3B4455;\n",
              "      fill: #D2E3FC;\n",
              "    }\n",
              "\n",
              "    [theme=dark] .colab-df-convert:hover {\n",
              "      background-color: #434B5C;\n",
              "      box-shadow: 0px 1px 3px 1px rgba(0, 0, 0, 0.15);\n",
              "      filter: drop-shadow(0px 1px 2px rgba(0, 0, 0, 0.3));\n",
              "      fill: #FFFFFF;\n",
              "    }\n",
              "  </style>\n",
              "\n",
              "    <script>\n",
              "      const buttonEl =\n",
              "        document.querySelector('#df-cacb233c-f00f-48eb-bba4-4cabc33c991b button.colab-df-convert');\n",
              "      buttonEl.style.display =\n",
              "        google.colab.kernel.accessAllowed ? 'block' : 'none';\n",
              "\n",
              "      async function convertToInteractive(key) {\n",
              "        const element = document.querySelector('#df-cacb233c-f00f-48eb-bba4-4cabc33c991b');\n",
              "        const dataTable =\n",
              "          await google.colab.kernel.invokeFunction('convertToInteractive',\n",
              "                                                    [key], {});\n",
              "        if (!dataTable) return;\n",
              "\n",
              "        const docLinkHtml = 'Like what you see? Visit the ' +\n",
              "          '<a target=\"_blank\" href=https://colab.research.google.com/notebooks/data_table.ipynb>data table notebook</a>'\n",
              "          + ' to learn more about interactive tables.';\n",
              "        element.innerHTML = '';\n",
              "        dataTable['output_type'] = 'display_data';\n",
              "        await google.colab.output.renderOutput(dataTable, element);\n",
              "        const docLink = document.createElement('div');\n",
              "        docLink.innerHTML = docLinkHtml;\n",
              "        element.appendChild(docLink);\n",
              "      }\n",
              "    </script>\n",
              "  </div>\n",
              "\n",
              "\n",
              "<div id=\"df-4e696eea-1ce9-4072-8bb8-d76ccbb55555\">\n",
              "  <button class=\"colab-df-quickchart\" onclick=\"quickchart('df-4e696eea-1ce9-4072-8bb8-d76ccbb55555')\"\n",
              "            title=\"Suggest charts.\"\n",
              "            style=\"display:none;\">\n",
              "\n",
              "<svg xmlns=\"http://www.w3.org/2000/svg\" height=\"24px\"viewBox=\"0 0 24 24\"\n",
              "     width=\"24px\">\n",
              "    <g>\n",
              "        <path d=\"M19 3H5c-1.1 0-2 .9-2 2v14c0 1.1.9 2 2 2h14c1.1 0 2-.9 2-2V5c0-1.1-.9-2-2-2zM9 17H7v-7h2v7zm4 0h-2V7h2v10zm4 0h-2v-4h2v4z\"/>\n",
              "    </g>\n",
              "</svg>\n",
              "  </button>\n",
              "\n",
              "<style>\n",
              "  .colab-df-quickchart {\n",
              "    background-color: #E8F0FE;\n",
              "    border: none;\n",
              "    border-radius: 50%;\n",
              "    cursor: pointer;\n",
              "    display: none;\n",
              "    fill: #1967D2;\n",
              "    height: 32px;\n",
              "    padding: 0 0 0 0;\n",
              "    width: 32px;\n",
              "  }\n",
              "\n",
              "  .colab-df-quickchart:hover {\n",
              "    background-color: #E2EBFA;\n",
              "    box-shadow: 0px 1px 2px rgba(60, 64, 67, 0.3), 0px 1px 3px 1px rgba(60, 64, 67, 0.15);\n",
              "    fill: #174EA6;\n",
              "  }\n",
              "\n",
              "  [theme=dark] .colab-df-quickchart {\n",
              "    background-color: #3B4455;\n",
              "    fill: #D2E3FC;\n",
              "  }\n",
              "\n",
              "  [theme=dark] .colab-df-quickchart:hover {\n",
              "    background-color: #434B5C;\n",
              "    box-shadow: 0px 1px 3px 1px rgba(0, 0, 0, 0.15);\n",
              "    filter: drop-shadow(0px 1px 2px rgba(0, 0, 0, 0.3));\n",
              "    fill: #FFFFFF;\n",
              "  }\n",
              "</style>\n",
              "\n",
              "  <script>\n",
              "    async function quickchart(key) {\n",
              "      const charts = await google.colab.kernel.invokeFunction(\n",
              "          'suggestCharts', [key], {});\n",
              "    }\n",
              "    (() => {\n",
              "      let quickchartButtonEl =\n",
              "        document.querySelector('#df-4e696eea-1ce9-4072-8bb8-d76ccbb55555 button');\n",
              "      quickchartButtonEl.style.display =\n",
              "        google.colab.kernel.accessAllowed ? 'block' : 'none';\n",
              "    })();\n",
              "  </script>\n",
              "</div>\n",
              "    </div>\n",
              "  </div>\n"
            ]
          },
          "metadata": {},
          "execution_count": 158
        }
      ]
    },
    {
      "cell_type": "code",
      "source": [
        "# funcion extraer datos anidados lista de diccionarios\n",
        "def GetDataListDict(x):\n",
        "  if pd.isnull(x):\n",
        "    return np.nan\n",
        "  else:\n",
        "    val=ast.literal_eval(x)\n",
        "    if isinstance(val, list):\n",
        "      return val\n",
        "    else:\n",
        "      return x"
      ],
      "metadata": {
        "id": "geEca172QqIT"
      },
      "execution_count": null,
      "outputs": []
    },
    {
      "cell_type": "code",
      "source": [
        "# invocar funcion GetDataListDict\n",
        "dfAB['categories'] = dfAB['categories'].apply(GetDataListDict)"
      ],
      "metadata": {
        "id": "iyYySTluRQVq"
      },
      "execution_count": null,
      "outputs": []
    },
    {
      "cell_type": "code",
      "source": [
        "#[dfAB['categories'][2][i]['title'] for i in range(0,len(dfAB['categories'][2]))]"
      ],
      "metadata": {
        "id": "UeqvD2XAUjhm"
      },
      "execution_count": null,
      "outputs": []
    },
    {
      "cell_type": "code",
      "source": [
        "# extraer tilte categorias\n",
        "dfAB['categories'] = dfAB['categories'].apply(lambda x: [x[i]['title'] for i in range(0,len(x))])"
      ],
      "metadata": {
        "id": "2-vQuzsvRs0E"
      },
      "execution_count": null,
      "outputs": []
    },
    {
      "cell_type": "code",
      "source": [
        "# convertir lista a string\n",
        "dfAB['categories_string'] = dfAB['categories'].apply(lambda x: ', '.join(map(str, x)))"
      ],
      "metadata": {
        "id": "Hi3sbWDeY16M"
      },
      "execution_count": null,
      "outputs": []
    },
    {
      "cell_type": "code",
      "source": [
        "dfAB.head()"
      ],
      "metadata": {
        "colab": {
          "base_uri": "https://localhost:8080/",
          "height": 483
        },
        "id": "-XwkjbPgYHgu",
        "outputId": "1e32da32-a9e6-48db-cf5d-df184abba4e6"
      },
      "execution_count": null,
      "outputs": [
        {
          "output_type": "execute_result",
          "data": {
            "text/plain": [
              "              business_id                                       name  \\\n",
              "0  qJ1kfVLwdTEQ_oRHmfaZaQ                             Nine Pin Cider   \n",
              "1  nl8KrEl4H9f1Wm1ry-46zA                      Colvin Wine Merchants   \n",
              "2  QsBctI8bZlsCFzsSBQoyyg  The Bull and Bee - Meadery & Tasting Room   \n",
              "3  sPSQqvYmQI4elOdiLbqxmA                             SABBA Vineyard   \n",
              "4  YFhxiIoI-N5T_S8CeMUIvQ            Galway Rock Vineyard and Winery   \n",
              "\n",
              "                                            location  \\\n",
              "0  {'address1': '929 Broadway', 'city': 'Albany',...   \n",
              "1  {'address1': '900D Central Ave', 'city': 'Alba...   \n",
              "2  {'address1': '140 Hamilton St', 'city': 'Alban...   \n",
              "3  {'address1': '383 Pitts Rd', 'city': 'Old Chat...   \n",
              "4  {'address1': '998 Saratoga Rd', 'city': 'Balls...   \n",
              "\n",
              "                                        coordinates  rating  review_count  \\\n",
              "0  {'latitude': 42.661892, 'longitude': -73.743767}     4.5           128   \n",
              "1   {'latitude': 42.67993, 'longitude': -73.792262}     4.0             4   \n",
              "2  {'latitude': 42.647415, 'longitude': -73.757309}     5.0             9   \n",
              "3    {'latitude': 42.46964, 'longitude': -73.57555}     5.0            12   \n",
              "4     {'latitude': 42.9369, 'longitude': -73.87441}     4.5            20   \n",
              "\n",
              "                                   categories           address  \\\n",
              "0    [Breweries, Wine Tasting Room, Cideries]      929 Broadway   \n",
              "1                                  [Wineries]  900D Central Ave   \n",
              "2              [Wine Tasting Room, Meaderies]   140 Hamilton St   \n",
              "3  [Wine Tasting Room, Venues & Event Spaces]      383 Pitts Rd   \n",
              "4  [Wine Tasting Room, Venues & Event Spaces]   998 Saratoga Rd   \n",
              "\n",
              "            city state   latitude  longitude  \\\n",
              "0         Albany    NY  42.661892 -73.743767   \n",
              "1         Albany    NY  42.679930 -73.792262   \n",
              "2         Albany    NY  42.647415 -73.757309   \n",
              "3    Old Chatham    NY  42.469640 -73.575550   \n",
              "4  Ballston Lake    NY  42.936900 -73.874410   \n",
              "\n",
              "                          categories_string  \n",
              "0    Breweries, Wine Tasting Room, Cideries  \n",
              "1                                  Wineries  \n",
              "2              Wine Tasting Room, Meaderies  \n",
              "3  Wine Tasting Room, Venues & Event Spaces  \n",
              "4  Wine Tasting Room, Venues & Event Spaces  "
            ],
            "text/html": [
              "\n",
              "  <div id=\"df-53212d52-b07f-47f2-9e6b-ef2be33b7f9b\" class=\"colab-df-container\">\n",
              "    <div>\n",
              "<style scoped>\n",
              "    .dataframe tbody tr th:only-of-type {\n",
              "        vertical-align: middle;\n",
              "    }\n",
              "\n",
              "    .dataframe tbody tr th {\n",
              "        vertical-align: top;\n",
              "    }\n",
              "\n",
              "    .dataframe thead th {\n",
              "        text-align: right;\n",
              "    }\n",
              "</style>\n",
              "<table border=\"1\" class=\"dataframe\">\n",
              "  <thead>\n",
              "    <tr style=\"text-align: right;\">\n",
              "      <th></th>\n",
              "      <th>business_id</th>\n",
              "      <th>name</th>\n",
              "      <th>location</th>\n",
              "      <th>coordinates</th>\n",
              "      <th>rating</th>\n",
              "      <th>review_count</th>\n",
              "      <th>categories</th>\n",
              "      <th>address</th>\n",
              "      <th>city</th>\n",
              "      <th>state</th>\n",
              "      <th>latitude</th>\n",
              "      <th>longitude</th>\n",
              "      <th>categories_string</th>\n",
              "    </tr>\n",
              "  </thead>\n",
              "  <tbody>\n",
              "    <tr>\n",
              "      <th>0</th>\n",
              "      <td>qJ1kfVLwdTEQ_oRHmfaZaQ</td>\n",
              "      <td>Nine Pin Cider</td>\n",
              "      <td>{'address1': '929 Broadway', 'city': 'Albany',...</td>\n",
              "      <td>{'latitude': 42.661892, 'longitude': -73.743767}</td>\n",
              "      <td>4.5</td>\n",
              "      <td>128</td>\n",
              "      <td>[Breweries, Wine Tasting Room, Cideries]</td>\n",
              "      <td>929 Broadway</td>\n",
              "      <td>Albany</td>\n",
              "      <td>NY</td>\n",
              "      <td>42.661892</td>\n",
              "      <td>-73.743767</td>\n",
              "      <td>Breweries, Wine Tasting Room, Cideries</td>\n",
              "    </tr>\n",
              "    <tr>\n",
              "      <th>1</th>\n",
              "      <td>nl8KrEl4H9f1Wm1ry-46zA</td>\n",
              "      <td>Colvin Wine Merchants</td>\n",
              "      <td>{'address1': '900D Central Ave', 'city': 'Alba...</td>\n",
              "      <td>{'latitude': 42.67993, 'longitude': -73.792262}</td>\n",
              "      <td>4.0</td>\n",
              "      <td>4</td>\n",
              "      <td>[Wineries]</td>\n",
              "      <td>900D Central Ave</td>\n",
              "      <td>Albany</td>\n",
              "      <td>NY</td>\n",
              "      <td>42.679930</td>\n",
              "      <td>-73.792262</td>\n",
              "      <td>Wineries</td>\n",
              "    </tr>\n",
              "    <tr>\n",
              "      <th>2</th>\n",
              "      <td>QsBctI8bZlsCFzsSBQoyyg</td>\n",
              "      <td>The Bull and Bee - Meadery &amp; Tasting Room</td>\n",
              "      <td>{'address1': '140 Hamilton St', 'city': 'Alban...</td>\n",
              "      <td>{'latitude': 42.647415, 'longitude': -73.757309}</td>\n",
              "      <td>5.0</td>\n",
              "      <td>9</td>\n",
              "      <td>[Wine Tasting Room, Meaderies]</td>\n",
              "      <td>140 Hamilton St</td>\n",
              "      <td>Albany</td>\n",
              "      <td>NY</td>\n",
              "      <td>42.647415</td>\n",
              "      <td>-73.757309</td>\n",
              "      <td>Wine Tasting Room, Meaderies</td>\n",
              "    </tr>\n",
              "    <tr>\n",
              "      <th>3</th>\n",
              "      <td>sPSQqvYmQI4elOdiLbqxmA</td>\n",
              "      <td>SABBA Vineyard</td>\n",
              "      <td>{'address1': '383 Pitts Rd', 'city': 'Old Chat...</td>\n",
              "      <td>{'latitude': 42.46964, 'longitude': -73.57555}</td>\n",
              "      <td>5.0</td>\n",
              "      <td>12</td>\n",
              "      <td>[Wine Tasting Room, Venues &amp; Event Spaces]</td>\n",
              "      <td>383 Pitts Rd</td>\n",
              "      <td>Old Chatham</td>\n",
              "      <td>NY</td>\n",
              "      <td>42.469640</td>\n",
              "      <td>-73.575550</td>\n",
              "      <td>Wine Tasting Room, Venues &amp; Event Spaces</td>\n",
              "    </tr>\n",
              "    <tr>\n",
              "      <th>4</th>\n",
              "      <td>YFhxiIoI-N5T_S8CeMUIvQ</td>\n",
              "      <td>Galway Rock Vineyard and Winery</td>\n",
              "      <td>{'address1': '998 Saratoga Rd', 'city': 'Balls...</td>\n",
              "      <td>{'latitude': 42.9369, 'longitude': -73.87441}</td>\n",
              "      <td>4.5</td>\n",
              "      <td>20</td>\n",
              "      <td>[Wine Tasting Room, Venues &amp; Event Spaces]</td>\n",
              "      <td>998 Saratoga Rd</td>\n",
              "      <td>Ballston Lake</td>\n",
              "      <td>NY</td>\n",
              "      <td>42.936900</td>\n",
              "      <td>-73.874410</td>\n",
              "      <td>Wine Tasting Room, Venues &amp; Event Spaces</td>\n",
              "    </tr>\n",
              "  </tbody>\n",
              "</table>\n",
              "</div>\n",
              "    <div class=\"colab-df-buttons\">\n",
              "\n",
              "  <div class=\"colab-df-container\">\n",
              "    <button class=\"colab-df-convert\" onclick=\"convertToInteractive('df-53212d52-b07f-47f2-9e6b-ef2be33b7f9b')\"\n",
              "            title=\"Convert this dataframe to an interactive table.\"\n",
              "            style=\"display:none;\">\n",
              "\n",
              "  <svg xmlns=\"http://www.w3.org/2000/svg\" height=\"24px\" viewBox=\"0 -960 960 960\">\n",
              "    <path d=\"M120-120v-720h720v720H120Zm60-500h600v-160H180v160Zm220 220h160v-160H400v160Zm0 220h160v-160H400v160ZM180-400h160v-160H180v160Zm440 0h160v-160H620v160ZM180-180h160v-160H180v160Zm440 0h160v-160H620v160Z\"/>\n",
              "  </svg>\n",
              "    </button>\n",
              "\n",
              "  <style>\n",
              "    .colab-df-container {\n",
              "      display:flex;\n",
              "      gap: 12px;\n",
              "    }\n",
              "\n",
              "    .colab-df-convert {\n",
              "      background-color: #E8F0FE;\n",
              "      border: none;\n",
              "      border-radius: 50%;\n",
              "      cursor: pointer;\n",
              "      display: none;\n",
              "      fill: #1967D2;\n",
              "      height: 32px;\n",
              "      padding: 0 0 0 0;\n",
              "      width: 32px;\n",
              "    }\n",
              "\n",
              "    .colab-df-convert:hover {\n",
              "      background-color: #E2EBFA;\n",
              "      box-shadow: 0px 1px 2px rgba(60, 64, 67, 0.3), 0px 1px 3px 1px rgba(60, 64, 67, 0.15);\n",
              "      fill: #174EA6;\n",
              "    }\n",
              "\n",
              "    .colab-df-buttons div {\n",
              "      margin-bottom: 4px;\n",
              "    }\n",
              "\n",
              "    [theme=dark] .colab-df-convert {\n",
              "      background-color: #3B4455;\n",
              "      fill: #D2E3FC;\n",
              "    }\n",
              "\n",
              "    [theme=dark] .colab-df-convert:hover {\n",
              "      background-color: #434B5C;\n",
              "      box-shadow: 0px 1px 3px 1px rgba(0, 0, 0, 0.15);\n",
              "      filter: drop-shadow(0px 1px 2px rgba(0, 0, 0, 0.3));\n",
              "      fill: #FFFFFF;\n",
              "    }\n",
              "  </style>\n",
              "\n",
              "    <script>\n",
              "      const buttonEl =\n",
              "        document.querySelector('#df-53212d52-b07f-47f2-9e6b-ef2be33b7f9b button.colab-df-convert');\n",
              "      buttonEl.style.display =\n",
              "        google.colab.kernel.accessAllowed ? 'block' : 'none';\n",
              "\n",
              "      async function convertToInteractive(key) {\n",
              "        const element = document.querySelector('#df-53212d52-b07f-47f2-9e6b-ef2be33b7f9b');\n",
              "        const dataTable =\n",
              "          await google.colab.kernel.invokeFunction('convertToInteractive',\n",
              "                                                    [key], {});\n",
              "        if (!dataTable) return;\n",
              "\n",
              "        const docLinkHtml = 'Like what you see? Visit the ' +\n",
              "          '<a target=\"_blank\" href=https://colab.research.google.com/notebooks/data_table.ipynb>data table notebook</a>'\n",
              "          + ' to learn more about interactive tables.';\n",
              "        element.innerHTML = '';\n",
              "        dataTable['output_type'] = 'display_data';\n",
              "        await google.colab.output.renderOutput(dataTable, element);\n",
              "        const docLink = document.createElement('div');\n",
              "        docLink.innerHTML = docLinkHtml;\n",
              "        element.appendChild(docLink);\n",
              "      }\n",
              "    </script>\n",
              "  </div>\n",
              "\n",
              "\n",
              "<div id=\"df-4013cf9f-426c-478b-94b5-e07c57e3cba4\">\n",
              "  <button class=\"colab-df-quickchart\" onclick=\"quickchart('df-4013cf9f-426c-478b-94b5-e07c57e3cba4')\"\n",
              "            title=\"Suggest charts.\"\n",
              "            style=\"display:none;\">\n",
              "\n",
              "<svg xmlns=\"http://www.w3.org/2000/svg\" height=\"24px\"viewBox=\"0 0 24 24\"\n",
              "     width=\"24px\">\n",
              "    <g>\n",
              "        <path d=\"M19 3H5c-1.1 0-2 .9-2 2v14c0 1.1.9 2 2 2h14c1.1 0 2-.9 2-2V5c0-1.1-.9-2-2-2zM9 17H7v-7h2v7zm4 0h-2V7h2v10zm4 0h-2v-4h2v4z\"/>\n",
              "    </g>\n",
              "</svg>\n",
              "  </button>\n",
              "\n",
              "<style>\n",
              "  .colab-df-quickchart {\n",
              "    background-color: #E8F0FE;\n",
              "    border: none;\n",
              "    border-radius: 50%;\n",
              "    cursor: pointer;\n",
              "    display: none;\n",
              "    fill: #1967D2;\n",
              "    height: 32px;\n",
              "    padding: 0 0 0 0;\n",
              "    width: 32px;\n",
              "  }\n",
              "\n",
              "  .colab-df-quickchart:hover {\n",
              "    background-color: #E2EBFA;\n",
              "    box-shadow: 0px 1px 2px rgba(60, 64, 67, 0.3), 0px 1px 3px 1px rgba(60, 64, 67, 0.15);\n",
              "    fill: #174EA6;\n",
              "  }\n",
              "\n",
              "  [theme=dark] .colab-df-quickchart {\n",
              "    background-color: #3B4455;\n",
              "    fill: #D2E3FC;\n",
              "  }\n",
              "\n",
              "  [theme=dark] .colab-df-quickchart:hover {\n",
              "    background-color: #434B5C;\n",
              "    box-shadow: 0px 1px 3px 1px rgba(0, 0, 0, 0.15);\n",
              "    filter: drop-shadow(0px 1px 2px rgba(0, 0, 0, 0.3));\n",
              "    fill: #FFFFFF;\n",
              "  }\n",
              "</style>\n",
              "\n",
              "  <script>\n",
              "    async function quickchart(key) {\n",
              "      const charts = await google.colab.kernel.invokeFunction(\n",
              "          'suggestCharts', [key], {});\n",
              "    }\n",
              "    (() => {\n",
              "      let quickchartButtonEl =\n",
              "        document.querySelector('#df-4013cf9f-426c-478b-94b5-e07c57e3cba4 button');\n",
              "      quickchartButtonEl.style.display =\n",
              "        google.colab.kernel.accessAllowed ? 'block' : 'none';\n",
              "    })();\n",
              "  </script>\n",
              "</div>\n",
              "    </div>\n",
              "  </div>\n"
            ]
          },
          "metadata": {},
          "execution_count": 164
        }
      ]
    },
    {
      "cell_type": "code",
      "source": [
        "# crear columna postal code - sin dato\n",
        "dfAB['postal_code'] = ''"
      ],
      "metadata": {
        "id": "vzTFbMyKbcVI"
      },
      "execution_count": null,
      "outputs": []
    },
    {
      "cell_type": "code",
      "source": [
        "dfAB = dfAB[['business_id',\t'name',\t'address',\t'city',\t'state',\t'postal_code',\t'latitude',\t'longitude',\t'rating',\t'review_count',\t'categories_string']]"
      ],
      "metadata": {
        "id": "dFWYAI0sYz3N"
      },
      "execution_count": null,
      "outputs": []
    },
    {
      "cell_type": "code",
      "source": [
        "dfAB.head()"
      ],
      "metadata": {
        "colab": {
          "base_uri": "https://localhost:8080/",
          "height": 292
        },
        "id": "90-EIxlpcndN",
        "outputId": "186a99e8-4c00-4185-fe50-e4282218a6ee"
      },
      "execution_count": null,
      "outputs": [
        {
          "output_type": "execute_result",
          "data": {
            "text/plain": [
              "              business_id                                       name  \\\n",
              "0  qJ1kfVLwdTEQ_oRHmfaZaQ                             Nine Pin Cider   \n",
              "1  nl8KrEl4H9f1Wm1ry-46zA                      Colvin Wine Merchants   \n",
              "2  QsBctI8bZlsCFzsSBQoyyg  The Bull and Bee - Meadery & Tasting Room   \n",
              "3  sPSQqvYmQI4elOdiLbqxmA                             SABBA Vineyard   \n",
              "4  YFhxiIoI-N5T_S8CeMUIvQ            Galway Rock Vineyard and Winery   \n",
              "\n",
              "            address           city state postal_code   latitude  longitude  \\\n",
              "0      929 Broadway         Albany    NY              42.661892 -73.743767   \n",
              "1  900D Central Ave         Albany    NY              42.679930 -73.792262   \n",
              "2   140 Hamilton St         Albany    NY              42.647415 -73.757309   \n",
              "3      383 Pitts Rd    Old Chatham    NY              42.469640 -73.575550   \n",
              "4   998 Saratoga Rd  Ballston Lake    NY              42.936900 -73.874410   \n",
              "\n",
              "   rating  review_count                         categories_string  \n",
              "0     4.5           128    Breweries, Wine Tasting Room, Cideries  \n",
              "1     4.0             4                                  Wineries  \n",
              "2     5.0             9              Wine Tasting Room, Meaderies  \n",
              "3     5.0            12  Wine Tasting Room, Venues & Event Spaces  \n",
              "4     4.5            20  Wine Tasting Room, Venues & Event Spaces  "
            ],
            "text/html": [
              "\n",
              "  <div id=\"df-1bc36ea3-4a42-4e72-b6cf-235da2b4e7ad\" class=\"colab-df-container\">\n",
              "    <div>\n",
              "<style scoped>\n",
              "    .dataframe tbody tr th:only-of-type {\n",
              "        vertical-align: middle;\n",
              "    }\n",
              "\n",
              "    .dataframe tbody tr th {\n",
              "        vertical-align: top;\n",
              "    }\n",
              "\n",
              "    .dataframe thead th {\n",
              "        text-align: right;\n",
              "    }\n",
              "</style>\n",
              "<table border=\"1\" class=\"dataframe\">\n",
              "  <thead>\n",
              "    <tr style=\"text-align: right;\">\n",
              "      <th></th>\n",
              "      <th>business_id</th>\n",
              "      <th>name</th>\n",
              "      <th>address</th>\n",
              "      <th>city</th>\n",
              "      <th>state</th>\n",
              "      <th>postal_code</th>\n",
              "      <th>latitude</th>\n",
              "      <th>longitude</th>\n",
              "      <th>rating</th>\n",
              "      <th>review_count</th>\n",
              "      <th>categories_string</th>\n",
              "    </tr>\n",
              "  </thead>\n",
              "  <tbody>\n",
              "    <tr>\n",
              "      <th>0</th>\n",
              "      <td>qJ1kfVLwdTEQ_oRHmfaZaQ</td>\n",
              "      <td>Nine Pin Cider</td>\n",
              "      <td>929 Broadway</td>\n",
              "      <td>Albany</td>\n",
              "      <td>NY</td>\n",
              "      <td></td>\n",
              "      <td>42.661892</td>\n",
              "      <td>-73.743767</td>\n",
              "      <td>4.5</td>\n",
              "      <td>128</td>\n",
              "      <td>Breweries, Wine Tasting Room, Cideries</td>\n",
              "    </tr>\n",
              "    <tr>\n",
              "      <th>1</th>\n",
              "      <td>nl8KrEl4H9f1Wm1ry-46zA</td>\n",
              "      <td>Colvin Wine Merchants</td>\n",
              "      <td>900D Central Ave</td>\n",
              "      <td>Albany</td>\n",
              "      <td>NY</td>\n",
              "      <td></td>\n",
              "      <td>42.679930</td>\n",
              "      <td>-73.792262</td>\n",
              "      <td>4.0</td>\n",
              "      <td>4</td>\n",
              "      <td>Wineries</td>\n",
              "    </tr>\n",
              "    <tr>\n",
              "      <th>2</th>\n",
              "      <td>QsBctI8bZlsCFzsSBQoyyg</td>\n",
              "      <td>The Bull and Bee - Meadery &amp; Tasting Room</td>\n",
              "      <td>140 Hamilton St</td>\n",
              "      <td>Albany</td>\n",
              "      <td>NY</td>\n",
              "      <td></td>\n",
              "      <td>42.647415</td>\n",
              "      <td>-73.757309</td>\n",
              "      <td>5.0</td>\n",
              "      <td>9</td>\n",
              "      <td>Wine Tasting Room, Meaderies</td>\n",
              "    </tr>\n",
              "    <tr>\n",
              "      <th>3</th>\n",
              "      <td>sPSQqvYmQI4elOdiLbqxmA</td>\n",
              "      <td>SABBA Vineyard</td>\n",
              "      <td>383 Pitts Rd</td>\n",
              "      <td>Old Chatham</td>\n",
              "      <td>NY</td>\n",
              "      <td></td>\n",
              "      <td>42.469640</td>\n",
              "      <td>-73.575550</td>\n",
              "      <td>5.0</td>\n",
              "      <td>12</td>\n",
              "      <td>Wine Tasting Room, Venues &amp; Event Spaces</td>\n",
              "    </tr>\n",
              "    <tr>\n",
              "      <th>4</th>\n",
              "      <td>YFhxiIoI-N5T_S8CeMUIvQ</td>\n",
              "      <td>Galway Rock Vineyard and Winery</td>\n",
              "      <td>998 Saratoga Rd</td>\n",
              "      <td>Ballston Lake</td>\n",
              "      <td>NY</td>\n",
              "      <td></td>\n",
              "      <td>42.936900</td>\n",
              "      <td>-73.874410</td>\n",
              "      <td>4.5</td>\n",
              "      <td>20</td>\n",
              "      <td>Wine Tasting Room, Venues &amp; Event Spaces</td>\n",
              "    </tr>\n",
              "  </tbody>\n",
              "</table>\n",
              "</div>\n",
              "    <div class=\"colab-df-buttons\">\n",
              "\n",
              "  <div class=\"colab-df-container\">\n",
              "    <button class=\"colab-df-convert\" onclick=\"convertToInteractive('df-1bc36ea3-4a42-4e72-b6cf-235da2b4e7ad')\"\n",
              "            title=\"Convert this dataframe to an interactive table.\"\n",
              "            style=\"display:none;\">\n",
              "\n",
              "  <svg xmlns=\"http://www.w3.org/2000/svg\" height=\"24px\" viewBox=\"0 -960 960 960\">\n",
              "    <path d=\"M120-120v-720h720v720H120Zm60-500h600v-160H180v160Zm220 220h160v-160H400v160Zm0 220h160v-160H400v160ZM180-400h160v-160H180v160Zm440 0h160v-160H620v160ZM180-180h160v-160H180v160Zm440 0h160v-160H620v160Z\"/>\n",
              "  </svg>\n",
              "    </button>\n",
              "\n",
              "  <style>\n",
              "    .colab-df-container {\n",
              "      display:flex;\n",
              "      gap: 12px;\n",
              "    }\n",
              "\n",
              "    .colab-df-convert {\n",
              "      background-color: #E8F0FE;\n",
              "      border: none;\n",
              "      border-radius: 50%;\n",
              "      cursor: pointer;\n",
              "      display: none;\n",
              "      fill: #1967D2;\n",
              "      height: 32px;\n",
              "      padding: 0 0 0 0;\n",
              "      width: 32px;\n",
              "    }\n",
              "\n",
              "    .colab-df-convert:hover {\n",
              "      background-color: #E2EBFA;\n",
              "      box-shadow: 0px 1px 2px rgba(60, 64, 67, 0.3), 0px 1px 3px 1px rgba(60, 64, 67, 0.15);\n",
              "      fill: #174EA6;\n",
              "    }\n",
              "\n",
              "    .colab-df-buttons div {\n",
              "      margin-bottom: 4px;\n",
              "    }\n",
              "\n",
              "    [theme=dark] .colab-df-convert {\n",
              "      background-color: #3B4455;\n",
              "      fill: #D2E3FC;\n",
              "    }\n",
              "\n",
              "    [theme=dark] .colab-df-convert:hover {\n",
              "      background-color: #434B5C;\n",
              "      box-shadow: 0px 1px 3px 1px rgba(0, 0, 0, 0.15);\n",
              "      filter: drop-shadow(0px 1px 2px rgba(0, 0, 0, 0.3));\n",
              "      fill: #FFFFFF;\n",
              "    }\n",
              "  </style>\n",
              "\n",
              "    <script>\n",
              "      const buttonEl =\n",
              "        document.querySelector('#df-1bc36ea3-4a42-4e72-b6cf-235da2b4e7ad button.colab-df-convert');\n",
              "      buttonEl.style.display =\n",
              "        google.colab.kernel.accessAllowed ? 'block' : 'none';\n",
              "\n",
              "      async function convertToInteractive(key) {\n",
              "        const element = document.querySelector('#df-1bc36ea3-4a42-4e72-b6cf-235da2b4e7ad');\n",
              "        const dataTable =\n",
              "          await google.colab.kernel.invokeFunction('convertToInteractive',\n",
              "                                                    [key], {});\n",
              "        if (!dataTable) return;\n",
              "\n",
              "        const docLinkHtml = 'Like what you see? Visit the ' +\n",
              "          '<a target=\"_blank\" href=https://colab.research.google.com/notebooks/data_table.ipynb>data table notebook</a>'\n",
              "          + ' to learn more about interactive tables.';\n",
              "        element.innerHTML = '';\n",
              "        dataTable['output_type'] = 'display_data';\n",
              "        await google.colab.output.renderOutput(dataTable, element);\n",
              "        const docLink = document.createElement('div');\n",
              "        docLink.innerHTML = docLinkHtml;\n",
              "        element.appendChild(docLink);\n",
              "      }\n",
              "    </script>\n",
              "  </div>\n",
              "\n",
              "\n",
              "<div id=\"df-02cd259a-67c3-424d-b410-9c763a6fac62\">\n",
              "  <button class=\"colab-df-quickchart\" onclick=\"quickchart('df-02cd259a-67c3-424d-b410-9c763a6fac62')\"\n",
              "            title=\"Suggest charts.\"\n",
              "            style=\"display:none;\">\n",
              "\n",
              "<svg xmlns=\"http://www.w3.org/2000/svg\" height=\"24px\"viewBox=\"0 0 24 24\"\n",
              "     width=\"24px\">\n",
              "    <g>\n",
              "        <path d=\"M19 3H5c-1.1 0-2 .9-2 2v14c0 1.1.9 2 2 2h14c1.1 0 2-.9 2-2V5c0-1.1-.9-2-2-2zM9 17H7v-7h2v7zm4 0h-2V7h2v10zm4 0h-2v-4h2v4z\"/>\n",
              "    </g>\n",
              "</svg>\n",
              "  </button>\n",
              "\n",
              "<style>\n",
              "  .colab-df-quickchart {\n",
              "    background-color: #E8F0FE;\n",
              "    border: none;\n",
              "    border-radius: 50%;\n",
              "    cursor: pointer;\n",
              "    display: none;\n",
              "    fill: #1967D2;\n",
              "    height: 32px;\n",
              "    padding: 0 0 0 0;\n",
              "    width: 32px;\n",
              "  }\n",
              "\n",
              "  .colab-df-quickchart:hover {\n",
              "    background-color: #E2EBFA;\n",
              "    box-shadow: 0px 1px 2px rgba(60, 64, 67, 0.3), 0px 1px 3px 1px rgba(60, 64, 67, 0.15);\n",
              "    fill: #174EA6;\n",
              "  }\n",
              "\n",
              "  [theme=dark] .colab-df-quickchart {\n",
              "    background-color: #3B4455;\n",
              "    fill: #D2E3FC;\n",
              "  }\n",
              "\n",
              "  [theme=dark] .colab-df-quickchart:hover {\n",
              "    background-color: #434B5C;\n",
              "    box-shadow: 0px 1px 3px 1px rgba(0, 0, 0, 0.15);\n",
              "    filter: drop-shadow(0px 1px 2px rgba(0, 0, 0, 0.3));\n",
              "    fill: #FFFFFF;\n",
              "  }\n",
              "</style>\n",
              "\n",
              "  <script>\n",
              "    async function quickchart(key) {\n",
              "      const charts = await google.colab.kernel.invokeFunction(\n",
              "          'suggestCharts', [key], {});\n",
              "    }\n",
              "    (() => {\n",
              "      let quickchartButtonEl =\n",
              "        document.querySelector('#df-02cd259a-67c3-424d-b410-9c763a6fac62 button');\n",
              "      quickchartButtonEl.style.display =\n",
              "        google.colab.kernel.accessAllowed ? 'block' : 'none';\n",
              "    })();\n",
              "  </script>\n",
              "</div>\n",
              "    </div>\n",
              "  </div>\n"
            ]
          },
          "metadata": {},
          "execution_count": 167
        }
      ]
    },
    {
      "cell_type": "code",
      "source": [
        "dfAB.to_parquet('API_Business_ETL.parquet', index=False)"
      ],
      "metadata": {
        "id": "jnBkhTjUdKPN"
      },
      "execution_count": null,
      "outputs": []
    },
    {
      "cell_type": "markdown",
      "source": [
        "-----------"
      ],
      "metadata": {
        "id": "8LbpcWuWf7D5"
      }
    },
    {
      "cell_type": "markdown",
      "source": [
        "# Concatenar Business - API Business"
      ],
      "metadata": {
        "id": "rKW8dWp3eMlL"
      }
    },
    {
      "cell_type": "markdown",
      "source": [
        "---------------"
      ],
      "metadata": {
        "id": "va-2DMU8f7yG"
      }
    },
    {
      "cell_type": "code",
      "source": [
        "dfBETL = pd.read_parquet('/content/drive/MyDrive/DataYelpGoogle/Yelp/Business_ETL.parquet')"
      ],
      "metadata": {
        "id": "IB67NFu1eNGf"
      },
      "execution_count": null,
      "outputs": []
    },
    {
      "cell_type": "code",
      "source": [
        "dfBETL.info()"
      ],
      "metadata": {
        "colab": {
          "base_uri": "https://localhost:8080/"
        },
        "id": "yODn5rQ9JTVg",
        "outputId": "be9104c2-6ed5-4eba-d358-14c62a83a108"
      },
      "execution_count": null,
      "outputs": [
        {
          "output_type": "stream",
          "name": "stdout",
          "text": [
            "<class 'pandas.core.frame.DataFrame'>\n",
            "RangeIndex: 3655 entries, 0 to 3654\n",
            "Data columns (total 11 columns):\n",
            " #   Column        Non-Null Count  Dtype  \n",
            "---  ------        --------------  -----  \n",
            " 0   business_id   3655 non-null   object \n",
            " 1   name          3655 non-null   object \n",
            " 2   address       3655 non-null   object \n",
            " 3   city          3655 non-null   object \n",
            " 4   state         3655 non-null   object \n",
            " 5   postal_code   3655 non-null   object \n",
            " 6   latitude      3655 non-null   float64\n",
            " 7   longitude     3655 non-null   float64\n",
            " 8   rating        3655 non-null   float32\n",
            " 9   review_count  3655 non-null   int32  \n",
            " 10  categories    3655 non-null   object \n",
            "dtypes: float32(1), float64(2), int32(1), object(7)\n",
            "memory usage: 285.7+ KB\n"
          ]
        }
      ]
    },
    {
      "cell_type": "code",
      "source": [
        "dfBETL.head(3)"
      ],
      "metadata": {
        "colab": {
          "base_uri": "https://localhost:8080/",
          "height": 195
        },
        "id": "vdgI3dt9JXvL",
        "outputId": "cc01c2fb-7611-4fea-ce44-cd3594791b31"
      },
      "execution_count": null,
      "outputs": [
        {
          "output_type": "execute_result",
          "data": {
            "text/plain": [
              "              business_id                            name  \\\n",
              "0  WKMJwqnfZKsAae75RMP6jA  Roast Coffeehouse and Wine Bar   \n",
              "1  lk9IwjZXqUMqqOhM774DtQ                Caviar & Bananas   \n",
              "2  7clCBgNbd-x2Wj96lZ6Mjw       Bier Brewery and Tap Room   \n",
              "\n",
              "               address          city state postal_code   latitude   longitude  \\\n",
              "0  10359 104 Street NW      Edmonton    AB     T5J 1B9  53.546045 -113.499169   \n",
              "1        2031 Broadway     Nashville    TN       37203  36.148371  -86.798895   \n",
              "2       5133 E 65th St  Indianapolis    IN       46220  39.875532  -86.082857   \n",
              "\n",
              "   rating  review_count                                         categories  \n",
              "0     4.0            40  Coffee & Tea, Food, Cafes, Bars, Wine Bars, Re...  \n",
              "1     3.5           159  Coffee & Tea, Restaurants, Wine Bars, Bars, Ni...  \n",
              "2     4.5           139              Food, Beer, Wine & Spirits, Breweries  "
            ],
            "text/html": [
              "\n",
              "  <div id=\"df-b08ce917-71c6-437f-851f-c3039dc7d271\" class=\"colab-df-container\">\n",
              "    <div>\n",
              "<style scoped>\n",
              "    .dataframe tbody tr th:only-of-type {\n",
              "        vertical-align: middle;\n",
              "    }\n",
              "\n",
              "    .dataframe tbody tr th {\n",
              "        vertical-align: top;\n",
              "    }\n",
              "\n",
              "    .dataframe thead th {\n",
              "        text-align: right;\n",
              "    }\n",
              "</style>\n",
              "<table border=\"1\" class=\"dataframe\">\n",
              "  <thead>\n",
              "    <tr style=\"text-align: right;\">\n",
              "      <th></th>\n",
              "      <th>business_id</th>\n",
              "      <th>name</th>\n",
              "      <th>address</th>\n",
              "      <th>city</th>\n",
              "      <th>state</th>\n",
              "      <th>postal_code</th>\n",
              "      <th>latitude</th>\n",
              "      <th>longitude</th>\n",
              "      <th>rating</th>\n",
              "      <th>review_count</th>\n",
              "      <th>categories</th>\n",
              "    </tr>\n",
              "  </thead>\n",
              "  <tbody>\n",
              "    <tr>\n",
              "      <th>0</th>\n",
              "      <td>WKMJwqnfZKsAae75RMP6jA</td>\n",
              "      <td>Roast Coffeehouse and Wine Bar</td>\n",
              "      <td>10359 104 Street NW</td>\n",
              "      <td>Edmonton</td>\n",
              "      <td>AB</td>\n",
              "      <td>T5J 1B9</td>\n",
              "      <td>53.546045</td>\n",
              "      <td>-113.499169</td>\n",
              "      <td>4.0</td>\n",
              "      <td>40</td>\n",
              "      <td>Coffee &amp; Tea, Food, Cafes, Bars, Wine Bars, Re...</td>\n",
              "    </tr>\n",
              "    <tr>\n",
              "      <th>1</th>\n",
              "      <td>lk9IwjZXqUMqqOhM774DtQ</td>\n",
              "      <td>Caviar &amp; Bananas</td>\n",
              "      <td>2031 Broadway</td>\n",
              "      <td>Nashville</td>\n",
              "      <td>TN</td>\n",
              "      <td>37203</td>\n",
              "      <td>36.148371</td>\n",
              "      <td>-86.798895</td>\n",
              "      <td>3.5</td>\n",
              "      <td>159</td>\n",
              "      <td>Coffee &amp; Tea, Restaurants, Wine Bars, Bars, Ni...</td>\n",
              "    </tr>\n",
              "    <tr>\n",
              "      <th>2</th>\n",
              "      <td>7clCBgNbd-x2Wj96lZ6Mjw</td>\n",
              "      <td>Bier Brewery and Tap Room</td>\n",
              "      <td>5133 E 65th St</td>\n",
              "      <td>Indianapolis</td>\n",
              "      <td>IN</td>\n",
              "      <td>46220</td>\n",
              "      <td>39.875532</td>\n",
              "      <td>-86.082857</td>\n",
              "      <td>4.5</td>\n",
              "      <td>139</td>\n",
              "      <td>Food, Beer, Wine &amp; Spirits, Breweries</td>\n",
              "    </tr>\n",
              "  </tbody>\n",
              "</table>\n",
              "</div>\n",
              "    <div class=\"colab-df-buttons\">\n",
              "\n",
              "  <div class=\"colab-df-container\">\n",
              "    <button class=\"colab-df-convert\" onclick=\"convertToInteractive('df-b08ce917-71c6-437f-851f-c3039dc7d271')\"\n",
              "            title=\"Convert this dataframe to an interactive table.\"\n",
              "            style=\"display:none;\">\n",
              "\n",
              "  <svg xmlns=\"http://www.w3.org/2000/svg\" height=\"24px\" viewBox=\"0 -960 960 960\">\n",
              "    <path d=\"M120-120v-720h720v720H120Zm60-500h600v-160H180v160Zm220 220h160v-160H400v160Zm0 220h160v-160H400v160ZM180-400h160v-160H180v160Zm440 0h160v-160H620v160ZM180-180h160v-160H180v160Zm440 0h160v-160H620v160Z\"/>\n",
              "  </svg>\n",
              "    </button>\n",
              "\n",
              "  <style>\n",
              "    .colab-df-container {\n",
              "      display:flex;\n",
              "      gap: 12px;\n",
              "    }\n",
              "\n",
              "    .colab-df-convert {\n",
              "      background-color: #E8F0FE;\n",
              "      border: none;\n",
              "      border-radius: 50%;\n",
              "      cursor: pointer;\n",
              "      display: none;\n",
              "      fill: #1967D2;\n",
              "      height: 32px;\n",
              "      padding: 0 0 0 0;\n",
              "      width: 32px;\n",
              "    }\n",
              "\n",
              "    .colab-df-convert:hover {\n",
              "      background-color: #E2EBFA;\n",
              "      box-shadow: 0px 1px 2px rgba(60, 64, 67, 0.3), 0px 1px 3px 1px rgba(60, 64, 67, 0.15);\n",
              "      fill: #174EA6;\n",
              "    }\n",
              "\n",
              "    .colab-df-buttons div {\n",
              "      margin-bottom: 4px;\n",
              "    }\n",
              "\n",
              "    [theme=dark] .colab-df-convert {\n",
              "      background-color: #3B4455;\n",
              "      fill: #D2E3FC;\n",
              "    }\n",
              "\n",
              "    [theme=dark] .colab-df-convert:hover {\n",
              "      background-color: #434B5C;\n",
              "      box-shadow: 0px 1px 3px 1px rgba(0, 0, 0, 0.15);\n",
              "      filter: drop-shadow(0px 1px 2px rgba(0, 0, 0, 0.3));\n",
              "      fill: #FFFFFF;\n",
              "    }\n",
              "  </style>\n",
              "\n",
              "    <script>\n",
              "      const buttonEl =\n",
              "        document.querySelector('#df-b08ce917-71c6-437f-851f-c3039dc7d271 button.colab-df-convert');\n",
              "      buttonEl.style.display =\n",
              "        google.colab.kernel.accessAllowed ? 'block' : 'none';\n",
              "\n",
              "      async function convertToInteractive(key) {\n",
              "        const element = document.querySelector('#df-b08ce917-71c6-437f-851f-c3039dc7d271');\n",
              "        const dataTable =\n",
              "          await google.colab.kernel.invokeFunction('convertToInteractive',\n",
              "                                                    [key], {});\n",
              "        if (!dataTable) return;\n",
              "\n",
              "        const docLinkHtml = 'Like what you see? Visit the ' +\n",
              "          '<a target=\"_blank\" href=https://colab.research.google.com/notebooks/data_table.ipynb>data table notebook</a>'\n",
              "          + ' to learn more about interactive tables.';\n",
              "        element.innerHTML = '';\n",
              "        dataTable['output_type'] = 'display_data';\n",
              "        await google.colab.output.renderOutput(dataTable, element);\n",
              "        const docLink = document.createElement('div');\n",
              "        docLink.innerHTML = docLinkHtml;\n",
              "        element.appendChild(docLink);\n",
              "      }\n",
              "    </script>\n",
              "  </div>\n",
              "\n",
              "\n",
              "<div id=\"df-067efa7c-2e37-42cf-90d5-e6f94971cffc\">\n",
              "  <button class=\"colab-df-quickchart\" onclick=\"quickchart('df-067efa7c-2e37-42cf-90d5-e6f94971cffc')\"\n",
              "            title=\"Suggest charts.\"\n",
              "            style=\"display:none;\">\n",
              "\n",
              "<svg xmlns=\"http://www.w3.org/2000/svg\" height=\"24px\"viewBox=\"0 0 24 24\"\n",
              "     width=\"24px\">\n",
              "    <g>\n",
              "        <path d=\"M19 3H5c-1.1 0-2 .9-2 2v14c0 1.1.9 2 2 2h14c1.1 0 2-.9 2-2V5c0-1.1-.9-2-2-2zM9 17H7v-7h2v7zm4 0h-2V7h2v10zm4 0h-2v-4h2v4z\"/>\n",
              "    </g>\n",
              "</svg>\n",
              "  </button>\n",
              "\n",
              "<style>\n",
              "  .colab-df-quickchart {\n",
              "    background-color: #E8F0FE;\n",
              "    border: none;\n",
              "    border-radius: 50%;\n",
              "    cursor: pointer;\n",
              "    display: none;\n",
              "    fill: #1967D2;\n",
              "    height: 32px;\n",
              "    padding: 0 0 0 0;\n",
              "    width: 32px;\n",
              "  }\n",
              "\n",
              "  .colab-df-quickchart:hover {\n",
              "    background-color: #E2EBFA;\n",
              "    box-shadow: 0px 1px 2px rgba(60, 64, 67, 0.3), 0px 1px 3px 1px rgba(60, 64, 67, 0.15);\n",
              "    fill: #174EA6;\n",
              "  }\n",
              "\n",
              "  [theme=dark] .colab-df-quickchart {\n",
              "    background-color: #3B4455;\n",
              "    fill: #D2E3FC;\n",
              "  }\n",
              "\n",
              "  [theme=dark] .colab-df-quickchart:hover {\n",
              "    background-color: #434B5C;\n",
              "    box-shadow: 0px 1px 3px 1px rgba(0, 0, 0, 0.15);\n",
              "    filter: drop-shadow(0px 1px 2px rgba(0, 0, 0, 0.3));\n",
              "    fill: #FFFFFF;\n",
              "  }\n",
              "</style>\n",
              "\n",
              "  <script>\n",
              "    async function quickchart(key) {\n",
              "      const charts = await google.colab.kernel.invokeFunction(\n",
              "          'suggestCharts', [key], {});\n",
              "    }\n",
              "    (() => {\n",
              "      let quickchartButtonEl =\n",
              "        document.querySelector('#df-067efa7c-2e37-42cf-90d5-e6f94971cffc button');\n",
              "      quickchartButtonEl.style.display =\n",
              "        google.colab.kernel.accessAllowed ? 'block' : 'none';\n",
              "    })();\n",
              "  </script>\n",
              "</div>\n",
              "    </div>\n",
              "  </div>\n"
            ]
          },
          "metadata": {},
          "execution_count": 5
        }
      ]
    },
    {
      "cell_type": "code",
      "source": [
        "# filtrar business solo en USA\n",
        "dfBETL = dfBETL[dfBETL['state']!='AB']"
      ],
      "metadata": {
        "id": "bfoh0lBENgxA"
      },
      "execution_count": null,
      "outputs": []
    },
    {
      "cell_type": "code",
      "source": [
        "dfBETL = dfBETL[dfBETL['categories'].str.contains('Wine Tasting Room|Wineries')]\n",
        "dfBETL.reset_index(drop=True, inplace=True)"
      ],
      "metadata": {
        "id": "lMM1YA9LJne1"
      },
      "execution_count": null,
      "outputs": []
    },
    {
      "cell_type": "code",
      "source": [
        "dfBETL = dfBETL[['business_id',\t'name',\t'categories', 'address',\t'city',\t'state',\t'latitude',\t'longitude',\t'review_count', 'rating']]"
      ],
      "metadata": {
        "id": "czo9EoISKLjp"
      },
      "execution_count": null,
      "outputs": []
    },
    {
      "cell_type": "code",
      "source": [
        "dfBETL.info()"
      ],
      "metadata": {
        "colab": {
          "base_uri": "https://localhost:8080/"
        },
        "id": "O6yZWvGdK8_h",
        "outputId": "b7af9de6-7fe7-4400-edbd-97b8257b6e2b"
      },
      "execution_count": null,
      "outputs": [
        {
          "output_type": "stream",
          "name": "stdout",
          "text": [
            "<class 'pandas.core.frame.DataFrame'>\n",
            "RangeIndex: 342 entries, 0 to 341\n",
            "Data columns (total 10 columns):\n",
            " #   Column        Non-Null Count  Dtype  \n",
            "---  ------        --------------  -----  \n",
            " 0   business_id   342 non-null    object \n",
            " 1   name          342 non-null    object \n",
            " 2   categories    342 non-null    object \n",
            " 3   address       342 non-null    object \n",
            " 4   city          342 non-null    object \n",
            " 5   state         342 non-null    object \n",
            " 6   latitude      342 non-null    float64\n",
            " 7   longitude     342 non-null    float64\n",
            " 8   review_count  342 non-null    int32  \n",
            " 9   rating        342 non-null    float32\n",
            "dtypes: float32(1), float64(2), int32(1), object(6)\n",
            "memory usage: 24.2+ KB\n"
          ]
        }
      ]
    },
    {
      "cell_type": "code",
      "source": [
        "dfBETL.head(3)"
      ],
      "metadata": {
        "colab": {
          "base_uri": "https://localhost:8080/",
          "height": 178
        },
        "id": "0hXhx7L0KlWY",
        "outputId": "42bb6a7f-0fea-46be-9e6c-a441913c7154"
      },
      "execution_count": null,
      "outputs": [
        {
          "output_type": "execute_result",
          "data": {
            "text/plain": [
              "              business_id                         name  \\\n",
              "0  cDekcTE1qwpz8ROlYixhqg  Philly Homebrew Outlet East   \n",
              "1  4FaYG9qKDpDyr68bKmaIEw              Capitol Cellars   \n",
              "2  -ujBP1Dw0j1-Ffaz97-LXQ            Lama Dog Tap Room   \n",
              "\n",
              "                                          categories               address  \\\n",
              "0  Shopping, Food, Arts & Entertainment, Wholesal...    1447 N American St   \n",
              "1  Restaurants, Bars, Wine Bars, American (Tradit...          110 S 5th St   \n",
              "2  Beer, Wine & Spirits, Pubs, Arts & Entertainme...  116 Santa Barbara St   \n",
              "\n",
              "            city state   latitude   longitude  review_count  rating  \n",
              "0   Philadelphia    PA  39.973681  -75.139648            32     5.0  \n",
              "1          Boise    ID  43.613573 -116.199904           176     4.0  \n",
              "2  Santa Barbara    CA  34.415747 -119.688480           238     4.0  "
            ],
            "text/html": [
              "\n",
              "  <div id=\"df-805da1c9-0232-4e82-b920-f4223a017a4e\" class=\"colab-df-container\">\n",
              "    <div>\n",
              "<style scoped>\n",
              "    .dataframe tbody tr th:only-of-type {\n",
              "        vertical-align: middle;\n",
              "    }\n",
              "\n",
              "    .dataframe tbody tr th {\n",
              "        vertical-align: top;\n",
              "    }\n",
              "\n",
              "    .dataframe thead th {\n",
              "        text-align: right;\n",
              "    }\n",
              "</style>\n",
              "<table border=\"1\" class=\"dataframe\">\n",
              "  <thead>\n",
              "    <tr style=\"text-align: right;\">\n",
              "      <th></th>\n",
              "      <th>business_id</th>\n",
              "      <th>name</th>\n",
              "      <th>categories</th>\n",
              "      <th>address</th>\n",
              "      <th>city</th>\n",
              "      <th>state</th>\n",
              "      <th>latitude</th>\n",
              "      <th>longitude</th>\n",
              "      <th>review_count</th>\n",
              "      <th>rating</th>\n",
              "    </tr>\n",
              "  </thead>\n",
              "  <tbody>\n",
              "    <tr>\n",
              "      <th>0</th>\n",
              "      <td>cDekcTE1qwpz8ROlYixhqg</td>\n",
              "      <td>Philly Homebrew Outlet East</td>\n",
              "      <td>Shopping, Food, Arts &amp; Entertainment, Wholesal...</td>\n",
              "      <td>1447 N American St</td>\n",
              "      <td>Philadelphia</td>\n",
              "      <td>PA</td>\n",
              "      <td>39.973681</td>\n",
              "      <td>-75.139648</td>\n",
              "      <td>32</td>\n",
              "      <td>5.0</td>\n",
              "    </tr>\n",
              "    <tr>\n",
              "      <th>1</th>\n",
              "      <td>4FaYG9qKDpDyr68bKmaIEw</td>\n",
              "      <td>Capitol Cellars</td>\n",
              "      <td>Restaurants, Bars, Wine Bars, American (Tradit...</td>\n",
              "      <td>110 S 5th St</td>\n",
              "      <td>Boise</td>\n",
              "      <td>ID</td>\n",
              "      <td>43.613573</td>\n",
              "      <td>-116.199904</td>\n",
              "      <td>176</td>\n",
              "      <td>4.0</td>\n",
              "    </tr>\n",
              "    <tr>\n",
              "      <th>2</th>\n",
              "      <td>-ujBP1Dw0j1-Ffaz97-LXQ</td>\n",
              "      <td>Lama Dog Tap Room</td>\n",
              "      <td>Beer, Wine &amp; Spirits, Pubs, Arts &amp; Entertainme...</td>\n",
              "      <td>116 Santa Barbara St</td>\n",
              "      <td>Santa Barbara</td>\n",
              "      <td>CA</td>\n",
              "      <td>34.415747</td>\n",
              "      <td>-119.688480</td>\n",
              "      <td>238</td>\n",
              "      <td>4.0</td>\n",
              "    </tr>\n",
              "  </tbody>\n",
              "</table>\n",
              "</div>\n",
              "    <div class=\"colab-df-buttons\">\n",
              "\n",
              "  <div class=\"colab-df-container\">\n",
              "    <button class=\"colab-df-convert\" onclick=\"convertToInteractive('df-805da1c9-0232-4e82-b920-f4223a017a4e')\"\n",
              "            title=\"Convert this dataframe to an interactive table.\"\n",
              "            style=\"display:none;\">\n",
              "\n",
              "  <svg xmlns=\"http://www.w3.org/2000/svg\" height=\"24px\" viewBox=\"0 -960 960 960\">\n",
              "    <path d=\"M120-120v-720h720v720H120Zm60-500h600v-160H180v160Zm220 220h160v-160H400v160Zm0 220h160v-160H400v160ZM180-400h160v-160H180v160Zm440 0h160v-160H620v160ZM180-180h160v-160H180v160Zm440 0h160v-160H620v160Z\"/>\n",
              "  </svg>\n",
              "    </button>\n",
              "\n",
              "  <style>\n",
              "    .colab-df-container {\n",
              "      display:flex;\n",
              "      gap: 12px;\n",
              "    }\n",
              "\n",
              "    .colab-df-convert {\n",
              "      background-color: #E8F0FE;\n",
              "      border: none;\n",
              "      border-radius: 50%;\n",
              "      cursor: pointer;\n",
              "      display: none;\n",
              "      fill: #1967D2;\n",
              "      height: 32px;\n",
              "      padding: 0 0 0 0;\n",
              "      width: 32px;\n",
              "    }\n",
              "\n",
              "    .colab-df-convert:hover {\n",
              "      background-color: #E2EBFA;\n",
              "      box-shadow: 0px 1px 2px rgba(60, 64, 67, 0.3), 0px 1px 3px 1px rgba(60, 64, 67, 0.15);\n",
              "      fill: #174EA6;\n",
              "    }\n",
              "\n",
              "    .colab-df-buttons div {\n",
              "      margin-bottom: 4px;\n",
              "    }\n",
              "\n",
              "    [theme=dark] .colab-df-convert {\n",
              "      background-color: #3B4455;\n",
              "      fill: #D2E3FC;\n",
              "    }\n",
              "\n",
              "    [theme=dark] .colab-df-convert:hover {\n",
              "      background-color: #434B5C;\n",
              "      box-shadow: 0px 1px 3px 1px rgba(0, 0, 0, 0.15);\n",
              "      filter: drop-shadow(0px 1px 2px rgba(0, 0, 0, 0.3));\n",
              "      fill: #FFFFFF;\n",
              "    }\n",
              "  </style>\n",
              "\n",
              "    <script>\n",
              "      const buttonEl =\n",
              "        document.querySelector('#df-805da1c9-0232-4e82-b920-f4223a017a4e button.colab-df-convert');\n",
              "      buttonEl.style.display =\n",
              "        google.colab.kernel.accessAllowed ? 'block' : 'none';\n",
              "\n",
              "      async function convertToInteractive(key) {\n",
              "        const element = document.querySelector('#df-805da1c9-0232-4e82-b920-f4223a017a4e');\n",
              "        const dataTable =\n",
              "          await google.colab.kernel.invokeFunction('convertToInteractive',\n",
              "                                                    [key], {});\n",
              "        if (!dataTable) return;\n",
              "\n",
              "        const docLinkHtml = 'Like what you see? Visit the ' +\n",
              "          '<a target=\"_blank\" href=https://colab.research.google.com/notebooks/data_table.ipynb>data table notebook</a>'\n",
              "          + ' to learn more about interactive tables.';\n",
              "        element.innerHTML = '';\n",
              "        dataTable['output_type'] = 'display_data';\n",
              "        await google.colab.output.renderOutput(dataTable, element);\n",
              "        const docLink = document.createElement('div');\n",
              "        docLink.innerHTML = docLinkHtml;\n",
              "        element.appendChild(docLink);\n",
              "      }\n",
              "    </script>\n",
              "  </div>\n",
              "\n",
              "\n",
              "<div id=\"df-2b54e29b-292b-4cf4-a1a6-f77a88b314d3\">\n",
              "  <button class=\"colab-df-quickchart\" onclick=\"quickchart('df-2b54e29b-292b-4cf4-a1a6-f77a88b314d3')\"\n",
              "            title=\"Suggest charts.\"\n",
              "            style=\"display:none;\">\n",
              "\n",
              "<svg xmlns=\"http://www.w3.org/2000/svg\" height=\"24px\"viewBox=\"0 0 24 24\"\n",
              "     width=\"24px\">\n",
              "    <g>\n",
              "        <path d=\"M19 3H5c-1.1 0-2 .9-2 2v14c0 1.1.9 2 2 2h14c1.1 0 2-.9 2-2V5c0-1.1-.9-2-2-2zM9 17H7v-7h2v7zm4 0h-2V7h2v10zm4 0h-2v-4h2v4z\"/>\n",
              "    </g>\n",
              "</svg>\n",
              "  </button>\n",
              "\n",
              "<style>\n",
              "  .colab-df-quickchart {\n",
              "    background-color: #E8F0FE;\n",
              "    border: none;\n",
              "    border-radius: 50%;\n",
              "    cursor: pointer;\n",
              "    display: none;\n",
              "    fill: #1967D2;\n",
              "    height: 32px;\n",
              "    padding: 0 0 0 0;\n",
              "    width: 32px;\n",
              "  }\n",
              "\n",
              "  .colab-df-quickchart:hover {\n",
              "    background-color: #E2EBFA;\n",
              "    box-shadow: 0px 1px 2px rgba(60, 64, 67, 0.3), 0px 1px 3px 1px rgba(60, 64, 67, 0.15);\n",
              "    fill: #174EA6;\n",
              "  }\n",
              "\n",
              "  [theme=dark] .colab-df-quickchart {\n",
              "    background-color: #3B4455;\n",
              "    fill: #D2E3FC;\n",
              "  }\n",
              "\n",
              "  [theme=dark] .colab-df-quickchart:hover {\n",
              "    background-color: #434B5C;\n",
              "    box-shadow: 0px 1px 3px 1px rgba(0, 0, 0, 0.15);\n",
              "    filter: drop-shadow(0px 1px 2px rgba(0, 0, 0, 0.3));\n",
              "    fill: #FFFFFF;\n",
              "  }\n",
              "</style>\n",
              "\n",
              "  <script>\n",
              "    async function quickchart(key) {\n",
              "      const charts = await google.colab.kernel.invokeFunction(\n",
              "          'suggestCharts', [key], {});\n",
              "    }\n",
              "    (() => {\n",
              "      let quickchartButtonEl =\n",
              "        document.querySelector('#df-2b54e29b-292b-4cf4-a1a6-f77a88b314d3 button');\n",
              "      quickchartButtonEl.style.display =\n",
              "        google.colab.kernel.accessAllowed ? 'block' : 'none';\n",
              "    })();\n",
              "  </script>\n",
              "</div>\n",
              "    </div>\n",
              "  </div>\n"
            ]
          },
          "metadata": {},
          "execution_count": 10
        }
      ]
    },
    {
      "cell_type": "markdown",
      "source": [
        "-----------"
      ],
      "metadata": {
        "id": "LQOJqFEJMvXf"
      }
    },
    {
      "cell_type": "code",
      "source": [
        "dfABETL = pd.read_parquet('/content/drive/MyDrive/DataYelpGoogle/Yelp/API_Business_ETL.parquet')"
      ],
      "metadata": {
        "id": "I5UxV8OgJKj2"
      },
      "execution_count": null,
      "outputs": []
    },
    {
      "cell_type": "code",
      "source": [
        "dfABETL.info()"
      ],
      "metadata": {
        "colab": {
          "base_uri": "https://localhost:8080/"
        },
        "id": "fm-rWWTqJWnr",
        "outputId": "d7ce502a-db14-4806-e930-9fdb95a7c484"
      },
      "execution_count": null,
      "outputs": [
        {
          "output_type": "stream",
          "name": "stdout",
          "text": [
            "<class 'pandas.core.frame.DataFrame'>\n",
            "RangeIndex: 1594 entries, 0 to 1593\n",
            "Data columns (total 11 columns):\n",
            " #   Column             Non-Null Count  Dtype  \n",
            "---  ------             --------------  -----  \n",
            " 0   business_id        1594 non-null   object \n",
            " 1   name               1594 non-null   object \n",
            " 2   address            1576 non-null   object \n",
            " 3   city               1594 non-null   object \n",
            " 4   state              1594 non-null   object \n",
            " 5   postal_code        1594 non-null   object \n",
            " 6   latitude           1594 non-null   float64\n",
            " 7   longitude          1594 non-null   float64\n",
            " 8   rating             1594 non-null   float64\n",
            " 9   review_count       1594 non-null   int64  \n",
            " 10  categories_string  1594 non-null   object \n",
            "dtypes: float64(3), int64(1), object(7)\n",
            "memory usage: 137.1+ KB\n"
          ]
        }
      ]
    },
    {
      "cell_type": "code",
      "source": [
        "dfABETL.head(3)"
      ],
      "metadata": {
        "colab": {
          "base_uri": "https://localhost:8080/",
          "height": 195
        },
        "id": "u1MSHXavJgaY",
        "outputId": "d8dca9a2-b63a-4f42-afed-3c718a0c3de9"
      },
      "execution_count": null,
      "outputs": [
        {
          "output_type": "execute_result",
          "data": {
            "text/plain": [
              "              business_id                                       name  \\\n",
              "0  qJ1kfVLwdTEQ_oRHmfaZaQ                             Nine Pin Cider   \n",
              "1  nl8KrEl4H9f1Wm1ry-46zA                      Colvin Wine Merchants   \n",
              "2  QsBctI8bZlsCFzsSBQoyyg  The Bull and Bee - Meadery & Tasting Room   \n",
              "\n",
              "            address    city state postal_code   latitude  longitude  rating  \\\n",
              "0      929 Broadway  Albany    NY              42.661892 -73.743767     4.5   \n",
              "1  900D Central Ave  Albany    NY              42.679930 -73.792262     4.0   \n",
              "2   140 Hamilton St  Albany    NY              42.647415 -73.757309     5.0   \n",
              "\n",
              "   review_count                       categories_string  \n",
              "0           128  Breweries, Wine Tasting Room, Cideries  \n",
              "1             4                                Wineries  \n",
              "2             9            Wine Tasting Room, Meaderies  "
            ],
            "text/html": [
              "\n",
              "  <div id=\"df-6c8ce534-724b-42a6-bd81-a55c016a0900\" class=\"colab-df-container\">\n",
              "    <div>\n",
              "<style scoped>\n",
              "    .dataframe tbody tr th:only-of-type {\n",
              "        vertical-align: middle;\n",
              "    }\n",
              "\n",
              "    .dataframe tbody tr th {\n",
              "        vertical-align: top;\n",
              "    }\n",
              "\n",
              "    .dataframe thead th {\n",
              "        text-align: right;\n",
              "    }\n",
              "</style>\n",
              "<table border=\"1\" class=\"dataframe\">\n",
              "  <thead>\n",
              "    <tr style=\"text-align: right;\">\n",
              "      <th></th>\n",
              "      <th>business_id</th>\n",
              "      <th>name</th>\n",
              "      <th>address</th>\n",
              "      <th>city</th>\n",
              "      <th>state</th>\n",
              "      <th>postal_code</th>\n",
              "      <th>latitude</th>\n",
              "      <th>longitude</th>\n",
              "      <th>rating</th>\n",
              "      <th>review_count</th>\n",
              "      <th>categories_string</th>\n",
              "    </tr>\n",
              "  </thead>\n",
              "  <tbody>\n",
              "    <tr>\n",
              "      <th>0</th>\n",
              "      <td>qJ1kfVLwdTEQ_oRHmfaZaQ</td>\n",
              "      <td>Nine Pin Cider</td>\n",
              "      <td>929 Broadway</td>\n",
              "      <td>Albany</td>\n",
              "      <td>NY</td>\n",
              "      <td></td>\n",
              "      <td>42.661892</td>\n",
              "      <td>-73.743767</td>\n",
              "      <td>4.5</td>\n",
              "      <td>128</td>\n",
              "      <td>Breweries, Wine Tasting Room, Cideries</td>\n",
              "    </tr>\n",
              "    <tr>\n",
              "      <th>1</th>\n",
              "      <td>nl8KrEl4H9f1Wm1ry-46zA</td>\n",
              "      <td>Colvin Wine Merchants</td>\n",
              "      <td>900D Central Ave</td>\n",
              "      <td>Albany</td>\n",
              "      <td>NY</td>\n",
              "      <td></td>\n",
              "      <td>42.679930</td>\n",
              "      <td>-73.792262</td>\n",
              "      <td>4.0</td>\n",
              "      <td>4</td>\n",
              "      <td>Wineries</td>\n",
              "    </tr>\n",
              "    <tr>\n",
              "      <th>2</th>\n",
              "      <td>QsBctI8bZlsCFzsSBQoyyg</td>\n",
              "      <td>The Bull and Bee - Meadery &amp; Tasting Room</td>\n",
              "      <td>140 Hamilton St</td>\n",
              "      <td>Albany</td>\n",
              "      <td>NY</td>\n",
              "      <td></td>\n",
              "      <td>42.647415</td>\n",
              "      <td>-73.757309</td>\n",
              "      <td>5.0</td>\n",
              "      <td>9</td>\n",
              "      <td>Wine Tasting Room, Meaderies</td>\n",
              "    </tr>\n",
              "  </tbody>\n",
              "</table>\n",
              "</div>\n",
              "    <div class=\"colab-df-buttons\">\n",
              "\n",
              "  <div class=\"colab-df-container\">\n",
              "    <button class=\"colab-df-convert\" onclick=\"convertToInteractive('df-6c8ce534-724b-42a6-bd81-a55c016a0900')\"\n",
              "            title=\"Convert this dataframe to an interactive table.\"\n",
              "            style=\"display:none;\">\n",
              "\n",
              "  <svg xmlns=\"http://www.w3.org/2000/svg\" height=\"24px\" viewBox=\"0 -960 960 960\">\n",
              "    <path d=\"M120-120v-720h720v720H120Zm60-500h600v-160H180v160Zm220 220h160v-160H400v160Zm0 220h160v-160H400v160ZM180-400h160v-160H180v160Zm440 0h160v-160H620v160ZM180-180h160v-160H180v160Zm440 0h160v-160H620v160Z\"/>\n",
              "  </svg>\n",
              "    </button>\n",
              "\n",
              "  <style>\n",
              "    .colab-df-container {\n",
              "      display:flex;\n",
              "      gap: 12px;\n",
              "    }\n",
              "\n",
              "    .colab-df-convert {\n",
              "      background-color: #E8F0FE;\n",
              "      border: none;\n",
              "      border-radius: 50%;\n",
              "      cursor: pointer;\n",
              "      display: none;\n",
              "      fill: #1967D2;\n",
              "      height: 32px;\n",
              "      padding: 0 0 0 0;\n",
              "      width: 32px;\n",
              "    }\n",
              "\n",
              "    .colab-df-convert:hover {\n",
              "      background-color: #E2EBFA;\n",
              "      box-shadow: 0px 1px 2px rgba(60, 64, 67, 0.3), 0px 1px 3px 1px rgba(60, 64, 67, 0.15);\n",
              "      fill: #174EA6;\n",
              "    }\n",
              "\n",
              "    .colab-df-buttons div {\n",
              "      margin-bottom: 4px;\n",
              "    }\n",
              "\n",
              "    [theme=dark] .colab-df-convert {\n",
              "      background-color: #3B4455;\n",
              "      fill: #D2E3FC;\n",
              "    }\n",
              "\n",
              "    [theme=dark] .colab-df-convert:hover {\n",
              "      background-color: #434B5C;\n",
              "      box-shadow: 0px 1px 3px 1px rgba(0, 0, 0, 0.15);\n",
              "      filter: drop-shadow(0px 1px 2px rgba(0, 0, 0, 0.3));\n",
              "      fill: #FFFFFF;\n",
              "    }\n",
              "  </style>\n",
              "\n",
              "    <script>\n",
              "      const buttonEl =\n",
              "        document.querySelector('#df-6c8ce534-724b-42a6-bd81-a55c016a0900 button.colab-df-convert');\n",
              "      buttonEl.style.display =\n",
              "        google.colab.kernel.accessAllowed ? 'block' : 'none';\n",
              "\n",
              "      async function convertToInteractive(key) {\n",
              "        const element = document.querySelector('#df-6c8ce534-724b-42a6-bd81-a55c016a0900');\n",
              "        const dataTable =\n",
              "          await google.colab.kernel.invokeFunction('convertToInteractive',\n",
              "                                                    [key], {});\n",
              "        if (!dataTable) return;\n",
              "\n",
              "        const docLinkHtml = 'Like what you see? Visit the ' +\n",
              "          '<a target=\"_blank\" href=https://colab.research.google.com/notebooks/data_table.ipynb>data table notebook</a>'\n",
              "          + ' to learn more about interactive tables.';\n",
              "        element.innerHTML = '';\n",
              "        dataTable['output_type'] = 'display_data';\n",
              "        await google.colab.output.renderOutput(dataTable, element);\n",
              "        const docLink = document.createElement('div');\n",
              "        docLink.innerHTML = docLinkHtml;\n",
              "        element.appendChild(docLink);\n",
              "      }\n",
              "    </script>\n",
              "  </div>\n",
              "\n",
              "\n",
              "<div id=\"df-beff7210-3a3f-452d-8c9e-42175232f9b1\">\n",
              "  <button class=\"colab-df-quickchart\" onclick=\"quickchart('df-beff7210-3a3f-452d-8c9e-42175232f9b1')\"\n",
              "            title=\"Suggest charts.\"\n",
              "            style=\"display:none;\">\n",
              "\n",
              "<svg xmlns=\"http://www.w3.org/2000/svg\" height=\"24px\"viewBox=\"0 0 24 24\"\n",
              "     width=\"24px\">\n",
              "    <g>\n",
              "        <path d=\"M19 3H5c-1.1 0-2 .9-2 2v14c0 1.1.9 2 2 2h14c1.1 0 2-.9 2-2V5c0-1.1-.9-2-2-2zM9 17H7v-7h2v7zm4 0h-2V7h2v10zm4 0h-2v-4h2v4z\"/>\n",
              "    </g>\n",
              "</svg>\n",
              "  </button>\n",
              "\n",
              "<style>\n",
              "  .colab-df-quickchart {\n",
              "    background-color: #E8F0FE;\n",
              "    border: none;\n",
              "    border-radius: 50%;\n",
              "    cursor: pointer;\n",
              "    display: none;\n",
              "    fill: #1967D2;\n",
              "    height: 32px;\n",
              "    padding: 0 0 0 0;\n",
              "    width: 32px;\n",
              "  }\n",
              "\n",
              "  .colab-df-quickchart:hover {\n",
              "    background-color: #E2EBFA;\n",
              "    box-shadow: 0px 1px 2px rgba(60, 64, 67, 0.3), 0px 1px 3px 1px rgba(60, 64, 67, 0.15);\n",
              "    fill: #174EA6;\n",
              "  }\n",
              "\n",
              "  [theme=dark] .colab-df-quickchart {\n",
              "    background-color: #3B4455;\n",
              "    fill: #D2E3FC;\n",
              "  }\n",
              "\n",
              "  [theme=dark] .colab-df-quickchart:hover {\n",
              "    background-color: #434B5C;\n",
              "    box-shadow: 0px 1px 3px 1px rgba(0, 0, 0, 0.15);\n",
              "    filter: drop-shadow(0px 1px 2px rgba(0, 0, 0, 0.3));\n",
              "    fill: #FFFFFF;\n",
              "  }\n",
              "</style>\n",
              "\n",
              "  <script>\n",
              "    async function quickchart(key) {\n",
              "      const charts = await google.colab.kernel.invokeFunction(\n",
              "          'suggestCharts', [key], {});\n",
              "    }\n",
              "    (() => {\n",
              "      let quickchartButtonEl =\n",
              "        document.querySelector('#df-beff7210-3a3f-452d-8c9e-42175232f9b1 button');\n",
              "      quickchartButtonEl.style.display =\n",
              "        google.colab.kernel.accessAllowed ? 'block' : 'none';\n",
              "    })();\n",
              "  </script>\n",
              "</div>\n",
              "    </div>\n",
              "  </div>\n"
            ]
          },
          "metadata": {},
          "execution_count": 13
        }
      ]
    },
    {
      "cell_type": "code",
      "source": [
        "# renombrar categories\n",
        "dfABETL.rename({'categories_string': 'categories'}, axis=1, inplace=True)"
      ],
      "metadata": {
        "id": "DCSjfx61Lan-"
      },
      "execution_count": null,
      "outputs": []
    },
    {
      "cell_type": "code",
      "source": [
        "dfABETL = dfABETL[['business_id',\t'name',\t'categories', 'address',\t'city',\t'state',\t'latitude',\t'longitude',\t'review_count', 'rating']]"
      ],
      "metadata": {
        "id": "3wDcQ7saLJ7y"
      },
      "execution_count": null,
      "outputs": []
    },
    {
      "cell_type": "code",
      "source": [
        "dfABETL.head(3)"
      ],
      "metadata": {
        "colab": {
          "base_uri": "https://localhost:8080/",
          "height": 143
        },
        "id": "KDSu69zALksS",
        "outputId": "ab01bffd-1255-4c69-b724-6f73e3e5e850"
      },
      "execution_count": null,
      "outputs": [
        {
          "output_type": "execute_result",
          "data": {
            "text/plain": [
              "              business_id                                       name  \\\n",
              "0  qJ1kfVLwdTEQ_oRHmfaZaQ                             Nine Pin Cider   \n",
              "1  nl8KrEl4H9f1Wm1ry-46zA                      Colvin Wine Merchants   \n",
              "2  QsBctI8bZlsCFzsSBQoyyg  The Bull and Bee - Meadery & Tasting Room   \n",
              "\n",
              "                               categories           address    city state  \\\n",
              "0  Breweries, Wine Tasting Room, Cideries      929 Broadway  Albany    NY   \n",
              "1                                Wineries  900D Central Ave  Albany    NY   \n",
              "2            Wine Tasting Room, Meaderies   140 Hamilton St  Albany    NY   \n",
              "\n",
              "    latitude  longitude  review_count  rating  \n",
              "0  42.661892 -73.743767           128     4.5  \n",
              "1  42.679930 -73.792262             4     4.0  \n",
              "2  42.647415 -73.757309             9     5.0  "
            ],
            "text/html": [
              "\n",
              "  <div id=\"df-a3b3897d-e94e-4476-9612-8c63a23c5d73\" class=\"colab-df-container\">\n",
              "    <div>\n",
              "<style scoped>\n",
              "    .dataframe tbody tr th:only-of-type {\n",
              "        vertical-align: middle;\n",
              "    }\n",
              "\n",
              "    .dataframe tbody tr th {\n",
              "        vertical-align: top;\n",
              "    }\n",
              "\n",
              "    .dataframe thead th {\n",
              "        text-align: right;\n",
              "    }\n",
              "</style>\n",
              "<table border=\"1\" class=\"dataframe\">\n",
              "  <thead>\n",
              "    <tr style=\"text-align: right;\">\n",
              "      <th></th>\n",
              "      <th>business_id</th>\n",
              "      <th>name</th>\n",
              "      <th>categories</th>\n",
              "      <th>address</th>\n",
              "      <th>city</th>\n",
              "      <th>state</th>\n",
              "      <th>latitude</th>\n",
              "      <th>longitude</th>\n",
              "      <th>review_count</th>\n",
              "      <th>rating</th>\n",
              "    </tr>\n",
              "  </thead>\n",
              "  <tbody>\n",
              "    <tr>\n",
              "      <th>0</th>\n",
              "      <td>qJ1kfVLwdTEQ_oRHmfaZaQ</td>\n",
              "      <td>Nine Pin Cider</td>\n",
              "      <td>Breweries, Wine Tasting Room, Cideries</td>\n",
              "      <td>929 Broadway</td>\n",
              "      <td>Albany</td>\n",
              "      <td>NY</td>\n",
              "      <td>42.661892</td>\n",
              "      <td>-73.743767</td>\n",
              "      <td>128</td>\n",
              "      <td>4.5</td>\n",
              "    </tr>\n",
              "    <tr>\n",
              "      <th>1</th>\n",
              "      <td>nl8KrEl4H9f1Wm1ry-46zA</td>\n",
              "      <td>Colvin Wine Merchants</td>\n",
              "      <td>Wineries</td>\n",
              "      <td>900D Central Ave</td>\n",
              "      <td>Albany</td>\n",
              "      <td>NY</td>\n",
              "      <td>42.679930</td>\n",
              "      <td>-73.792262</td>\n",
              "      <td>4</td>\n",
              "      <td>4.0</td>\n",
              "    </tr>\n",
              "    <tr>\n",
              "      <th>2</th>\n",
              "      <td>QsBctI8bZlsCFzsSBQoyyg</td>\n",
              "      <td>The Bull and Bee - Meadery &amp; Tasting Room</td>\n",
              "      <td>Wine Tasting Room, Meaderies</td>\n",
              "      <td>140 Hamilton St</td>\n",
              "      <td>Albany</td>\n",
              "      <td>NY</td>\n",
              "      <td>42.647415</td>\n",
              "      <td>-73.757309</td>\n",
              "      <td>9</td>\n",
              "      <td>5.0</td>\n",
              "    </tr>\n",
              "  </tbody>\n",
              "</table>\n",
              "</div>\n",
              "    <div class=\"colab-df-buttons\">\n",
              "\n",
              "  <div class=\"colab-df-container\">\n",
              "    <button class=\"colab-df-convert\" onclick=\"convertToInteractive('df-a3b3897d-e94e-4476-9612-8c63a23c5d73')\"\n",
              "            title=\"Convert this dataframe to an interactive table.\"\n",
              "            style=\"display:none;\">\n",
              "\n",
              "  <svg xmlns=\"http://www.w3.org/2000/svg\" height=\"24px\" viewBox=\"0 -960 960 960\">\n",
              "    <path d=\"M120-120v-720h720v720H120Zm60-500h600v-160H180v160Zm220 220h160v-160H400v160Zm0 220h160v-160H400v160ZM180-400h160v-160H180v160Zm440 0h160v-160H620v160ZM180-180h160v-160H180v160Zm440 0h160v-160H620v160Z\"/>\n",
              "  </svg>\n",
              "    </button>\n",
              "\n",
              "  <style>\n",
              "    .colab-df-container {\n",
              "      display:flex;\n",
              "      gap: 12px;\n",
              "    }\n",
              "\n",
              "    .colab-df-convert {\n",
              "      background-color: #E8F0FE;\n",
              "      border: none;\n",
              "      border-radius: 50%;\n",
              "      cursor: pointer;\n",
              "      display: none;\n",
              "      fill: #1967D2;\n",
              "      height: 32px;\n",
              "      padding: 0 0 0 0;\n",
              "      width: 32px;\n",
              "    }\n",
              "\n",
              "    .colab-df-convert:hover {\n",
              "      background-color: #E2EBFA;\n",
              "      box-shadow: 0px 1px 2px rgba(60, 64, 67, 0.3), 0px 1px 3px 1px rgba(60, 64, 67, 0.15);\n",
              "      fill: #174EA6;\n",
              "    }\n",
              "\n",
              "    .colab-df-buttons div {\n",
              "      margin-bottom: 4px;\n",
              "    }\n",
              "\n",
              "    [theme=dark] .colab-df-convert {\n",
              "      background-color: #3B4455;\n",
              "      fill: #D2E3FC;\n",
              "    }\n",
              "\n",
              "    [theme=dark] .colab-df-convert:hover {\n",
              "      background-color: #434B5C;\n",
              "      box-shadow: 0px 1px 3px 1px rgba(0, 0, 0, 0.15);\n",
              "      filter: drop-shadow(0px 1px 2px rgba(0, 0, 0, 0.3));\n",
              "      fill: #FFFFFF;\n",
              "    }\n",
              "  </style>\n",
              "\n",
              "    <script>\n",
              "      const buttonEl =\n",
              "        document.querySelector('#df-a3b3897d-e94e-4476-9612-8c63a23c5d73 button.colab-df-convert');\n",
              "      buttonEl.style.display =\n",
              "        google.colab.kernel.accessAllowed ? 'block' : 'none';\n",
              "\n",
              "      async function convertToInteractive(key) {\n",
              "        const element = document.querySelector('#df-a3b3897d-e94e-4476-9612-8c63a23c5d73');\n",
              "        const dataTable =\n",
              "          await google.colab.kernel.invokeFunction('convertToInteractive',\n",
              "                                                    [key], {});\n",
              "        if (!dataTable) return;\n",
              "\n",
              "        const docLinkHtml = 'Like what you see? Visit the ' +\n",
              "          '<a target=\"_blank\" href=https://colab.research.google.com/notebooks/data_table.ipynb>data table notebook</a>'\n",
              "          + ' to learn more about interactive tables.';\n",
              "        element.innerHTML = '';\n",
              "        dataTable['output_type'] = 'display_data';\n",
              "        await google.colab.output.renderOutput(dataTable, element);\n",
              "        const docLink = document.createElement('div');\n",
              "        docLink.innerHTML = docLinkHtml;\n",
              "        element.appendChild(docLink);\n",
              "      }\n",
              "    </script>\n",
              "  </div>\n",
              "\n",
              "\n",
              "<div id=\"df-70482efb-3b8f-4e9e-9d2e-55f6bda2be03\">\n",
              "  <button class=\"colab-df-quickchart\" onclick=\"quickchart('df-70482efb-3b8f-4e9e-9d2e-55f6bda2be03')\"\n",
              "            title=\"Suggest charts.\"\n",
              "            style=\"display:none;\">\n",
              "\n",
              "<svg xmlns=\"http://www.w3.org/2000/svg\" height=\"24px\"viewBox=\"0 0 24 24\"\n",
              "     width=\"24px\">\n",
              "    <g>\n",
              "        <path d=\"M19 3H5c-1.1 0-2 .9-2 2v14c0 1.1.9 2 2 2h14c1.1 0 2-.9 2-2V5c0-1.1-.9-2-2-2zM9 17H7v-7h2v7zm4 0h-2V7h2v10zm4 0h-2v-4h2v4z\"/>\n",
              "    </g>\n",
              "</svg>\n",
              "  </button>\n",
              "\n",
              "<style>\n",
              "  .colab-df-quickchart {\n",
              "    background-color: #E8F0FE;\n",
              "    border: none;\n",
              "    border-radius: 50%;\n",
              "    cursor: pointer;\n",
              "    display: none;\n",
              "    fill: #1967D2;\n",
              "    height: 32px;\n",
              "    padding: 0 0 0 0;\n",
              "    width: 32px;\n",
              "  }\n",
              "\n",
              "  .colab-df-quickchart:hover {\n",
              "    background-color: #E2EBFA;\n",
              "    box-shadow: 0px 1px 2px rgba(60, 64, 67, 0.3), 0px 1px 3px 1px rgba(60, 64, 67, 0.15);\n",
              "    fill: #174EA6;\n",
              "  }\n",
              "\n",
              "  [theme=dark] .colab-df-quickchart {\n",
              "    background-color: #3B4455;\n",
              "    fill: #D2E3FC;\n",
              "  }\n",
              "\n",
              "  [theme=dark] .colab-df-quickchart:hover {\n",
              "    background-color: #434B5C;\n",
              "    box-shadow: 0px 1px 3px 1px rgba(0, 0, 0, 0.15);\n",
              "    filter: drop-shadow(0px 1px 2px rgba(0, 0, 0, 0.3));\n",
              "    fill: #FFFFFF;\n",
              "  }\n",
              "</style>\n",
              "\n",
              "  <script>\n",
              "    async function quickchart(key) {\n",
              "      const charts = await google.colab.kernel.invokeFunction(\n",
              "          'suggestCharts', [key], {});\n",
              "    }\n",
              "    (() => {\n",
              "      let quickchartButtonEl =\n",
              "        document.querySelector('#df-70482efb-3b8f-4e9e-9d2e-55f6bda2be03 button');\n",
              "      quickchartButtonEl.style.display =\n",
              "        google.colab.kernel.accessAllowed ? 'block' : 'none';\n",
              "    })();\n",
              "  </script>\n",
              "</div>\n",
              "    </div>\n",
              "  </div>\n"
            ]
          },
          "metadata": {},
          "execution_count": 16
        }
      ]
    },
    {
      "cell_type": "markdown",
      "source": [
        "---------"
      ],
      "metadata": {
        "id": "-EYYNM6di1hK"
      }
    },
    {
      "cell_type": "markdown",
      "source": [
        "# Get Business Yelp"
      ],
      "metadata": {
        "id": "9WbjenLcijGi"
      }
    },
    {
      "cell_type": "markdown",
      "source": [
        "---------------"
      ],
      "metadata": {
        "id": "IiWrwO7Zi2Ug"
      }
    },
    {
      "cell_type": "code",
      "source": [
        "# armar un nuevo dataframe df\n",
        "df = pd.concat([dfBETL, dfABETL], axis=0, ignore_index=True)"
      ],
      "metadata": {
        "id": "nl2cpH2hhmfk"
      },
      "execution_count": null,
      "outputs": []
    },
    {
      "cell_type": "code",
      "source": [
        "df.info()"
      ],
      "metadata": {
        "colab": {
          "base_uri": "https://localhost:8080/"
        },
        "id": "rScr8SdNhwXL",
        "outputId": "7e307eba-cca9-4620-a0a3-d2d0a5e5bab9"
      },
      "execution_count": null,
      "outputs": [
        {
          "output_type": "stream",
          "name": "stdout",
          "text": [
            "<class 'pandas.core.frame.DataFrame'>\n",
            "RangeIndex: 1936 entries, 0 to 1935\n",
            "Data columns (total 10 columns):\n",
            " #   Column        Non-Null Count  Dtype  \n",
            "---  ------        --------------  -----  \n",
            " 0   business_id   1936 non-null   object \n",
            " 1   name          1936 non-null   object \n",
            " 2   categories    1936 non-null   object \n",
            " 3   address       1918 non-null   object \n",
            " 4   city          1936 non-null   object \n",
            " 5   state         1936 non-null   object \n",
            " 6   latitude      1936 non-null   float64\n",
            " 7   longitude     1936 non-null   float64\n",
            " 8   review_count  1936 non-null   int64  \n",
            " 9   rating        1936 non-null   float64\n",
            "dtypes: float64(3), int64(1), object(6)\n",
            "memory usage: 151.4+ KB\n"
          ]
        }
      ]
    },
    {
      "cell_type": "code",
      "source": [
        "# eliminar duplicados\n",
        "df.drop_duplicates(subset=['business_id'], inplace=True)\n",
        "df.reset_index(drop=True, inplace=True)"
      ],
      "metadata": {
        "id": "TXTkc7WThyVx"
      },
      "execution_count": null,
      "outputs": []
    },
    {
      "cell_type": "code",
      "source": [
        "df.info()"
      ],
      "metadata": {
        "colab": {
          "base_uri": "https://localhost:8080/"
        },
        "id": "KFg0k3uFiUYp",
        "outputId": "efa40793-5f58-44b8-d692-c6b27204409c"
      },
      "execution_count": null,
      "outputs": [
        {
          "output_type": "stream",
          "name": "stdout",
          "text": [
            "<class 'pandas.core.frame.DataFrame'>\n",
            "RangeIndex: 1790 entries, 0 to 1789\n",
            "Data columns (total 10 columns):\n",
            " #   Column        Non-Null Count  Dtype  \n",
            "---  ------        --------------  -----  \n",
            " 0   business_id   1790 non-null   object \n",
            " 1   name          1790 non-null   object \n",
            " 2   categories    1790 non-null   object \n",
            " 3   address       1773 non-null   object \n",
            " 4   city          1790 non-null   object \n",
            " 5   state         1790 non-null   object \n",
            " 6   latitude      1790 non-null   float64\n",
            " 7   longitude     1790 non-null   float64\n",
            " 8   review_count  1790 non-null   int64  \n",
            " 9   rating        1790 non-null   float64\n",
            "dtypes: float64(3), int64(1), object(6)\n",
            "memory usage: 140.0+ KB\n"
          ]
        }
      ]
    },
    {
      "cell_type": "code",
      "source": [
        "df.sample(5)"
      ],
      "metadata": {
        "colab": {
          "base_uri": "https://localhost:8080/",
          "height": 258
        },
        "id": "TZyrG3N5iXDW",
        "outputId": "299b7278-e806-4a38-9bd8-fca59d00f8b7"
      },
      "execution_count": null,
      "outputs": [
        {
          "output_type": "execute_result",
          "data": {
            "text/plain": [
              "                 business_id                                name  \\\n",
              "1413  9Zy3xIjY7kyt2mfUKoAz-A  Alpha Omega Collective Paso Robles   \n",
              "1762  bl-TT1u0cP2yfTh7uaL3zw                     Wilridge Winery   \n",
              "1415  3yVX5fbpTFij3h4oNKy7mw                    Cinquain Cellars   \n",
              "1606  MHRe13uZcVrvbjQaFrb18w           Howell Mountain Vineyards   \n",
              "1227  EvoxeKMPe1EIGKnwWs5ulw                Smith Devereux Wines   \n",
              "\n",
              "                        categories                     address           city  \\\n",
              "1413  Wine Tasting Room, Wine Bars                 739 12th St    Paso Robles   \n",
              "1762                      Wineries               1416 34th Ave        Seattle   \n",
              "1415                      Wineries  6404 Independence Ranch Pl     San Miguel   \n",
              "1606             Wine Tasting Room          400 California Ave  San Francisco   \n",
              "1227                      Wineries               1460 First St           Napa   \n",
              "\n",
              "     state   latitude   longitude  review_count  rating  \n",
              "1413    CA  35.626870 -120.690310             4     5.0  \n",
              "1762    WA  47.613468 -122.288986             8     4.5  \n",
              "1415    CA  35.718491 -120.580460            18     5.0  \n",
              "1606    CA  37.818942 -122.368213             1     5.0  \n",
              "1227    CA  38.297448 -122.289345             1     5.0  "
            ],
            "text/html": [
              "\n",
              "  <div id=\"df-24687cc7-2079-470e-aa0e-e5310b8899f2\" class=\"colab-df-container\">\n",
              "    <div>\n",
              "<style scoped>\n",
              "    .dataframe tbody tr th:only-of-type {\n",
              "        vertical-align: middle;\n",
              "    }\n",
              "\n",
              "    .dataframe tbody tr th {\n",
              "        vertical-align: top;\n",
              "    }\n",
              "\n",
              "    .dataframe thead th {\n",
              "        text-align: right;\n",
              "    }\n",
              "</style>\n",
              "<table border=\"1\" class=\"dataframe\">\n",
              "  <thead>\n",
              "    <tr style=\"text-align: right;\">\n",
              "      <th></th>\n",
              "      <th>business_id</th>\n",
              "      <th>name</th>\n",
              "      <th>categories</th>\n",
              "      <th>address</th>\n",
              "      <th>city</th>\n",
              "      <th>state</th>\n",
              "      <th>latitude</th>\n",
              "      <th>longitude</th>\n",
              "      <th>review_count</th>\n",
              "      <th>rating</th>\n",
              "    </tr>\n",
              "  </thead>\n",
              "  <tbody>\n",
              "    <tr>\n",
              "      <th>1413</th>\n",
              "      <td>9Zy3xIjY7kyt2mfUKoAz-A</td>\n",
              "      <td>Alpha Omega Collective Paso Robles</td>\n",
              "      <td>Wine Tasting Room, Wine Bars</td>\n",
              "      <td>739 12th St</td>\n",
              "      <td>Paso Robles</td>\n",
              "      <td>CA</td>\n",
              "      <td>35.626870</td>\n",
              "      <td>-120.690310</td>\n",
              "      <td>4</td>\n",
              "      <td>5.0</td>\n",
              "    </tr>\n",
              "    <tr>\n",
              "      <th>1762</th>\n",
              "      <td>bl-TT1u0cP2yfTh7uaL3zw</td>\n",
              "      <td>Wilridge Winery</td>\n",
              "      <td>Wineries</td>\n",
              "      <td>1416 34th Ave</td>\n",
              "      <td>Seattle</td>\n",
              "      <td>WA</td>\n",
              "      <td>47.613468</td>\n",
              "      <td>-122.288986</td>\n",
              "      <td>8</td>\n",
              "      <td>4.5</td>\n",
              "    </tr>\n",
              "    <tr>\n",
              "      <th>1415</th>\n",
              "      <td>3yVX5fbpTFij3h4oNKy7mw</td>\n",
              "      <td>Cinquain Cellars</td>\n",
              "      <td>Wineries</td>\n",
              "      <td>6404 Independence Ranch Pl</td>\n",
              "      <td>San Miguel</td>\n",
              "      <td>CA</td>\n",
              "      <td>35.718491</td>\n",
              "      <td>-120.580460</td>\n",
              "      <td>18</td>\n",
              "      <td>5.0</td>\n",
              "    </tr>\n",
              "    <tr>\n",
              "      <th>1606</th>\n",
              "      <td>MHRe13uZcVrvbjQaFrb18w</td>\n",
              "      <td>Howell Mountain Vineyards</td>\n",
              "      <td>Wine Tasting Room</td>\n",
              "      <td>400 California Ave</td>\n",
              "      <td>San Francisco</td>\n",
              "      <td>CA</td>\n",
              "      <td>37.818942</td>\n",
              "      <td>-122.368213</td>\n",
              "      <td>1</td>\n",
              "      <td>5.0</td>\n",
              "    </tr>\n",
              "    <tr>\n",
              "      <th>1227</th>\n",
              "      <td>EvoxeKMPe1EIGKnwWs5ulw</td>\n",
              "      <td>Smith Devereux Wines</td>\n",
              "      <td>Wineries</td>\n",
              "      <td>1460 First St</td>\n",
              "      <td>Napa</td>\n",
              "      <td>CA</td>\n",
              "      <td>38.297448</td>\n",
              "      <td>-122.289345</td>\n",
              "      <td>1</td>\n",
              "      <td>5.0</td>\n",
              "    </tr>\n",
              "  </tbody>\n",
              "</table>\n",
              "</div>\n",
              "    <div class=\"colab-df-buttons\">\n",
              "\n",
              "  <div class=\"colab-df-container\">\n",
              "    <button class=\"colab-df-convert\" onclick=\"convertToInteractive('df-24687cc7-2079-470e-aa0e-e5310b8899f2')\"\n",
              "            title=\"Convert this dataframe to an interactive table.\"\n",
              "            style=\"display:none;\">\n",
              "\n",
              "  <svg xmlns=\"http://www.w3.org/2000/svg\" height=\"24px\" viewBox=\"0 -960 960 960\">\n",
              "    <path d=\"M120-120v-720h720v720H120Zm60-500h600v-160H180v160Zm220 220h160v-160H400v160Zm0 220h160v-160H400v160ZM180-400h160v-160H180v160Zm440 0h160v-160H620v160ZM180-180h160v-160H180v160Zm440 0h160v-160H620v160Z\"/>\n",
              "  </svg>\n",
              "    </button>\n",
              "\n",
              "  <style>\n",
              "    .colab-df-container {\n",
              "      display:flex;\n",
              "      gap: 12px;\n",
              "    }\n",
              "\n",
              "    .colab-df-convert {\n",
              "      background-color: #E8F0FE;\n",
              "      border: none;\n",
              "      border-radius: 50%;\n",
              "      cursor: pointer;\n",
              "      display: none;\n",
              "      fill: #1967D2;\n",
              "      height: 32px;\n",
              "      padding: 0 0 0 0;\n",
              "      width: 32px;\n",
              "    }\n",
              "\n",
              "    .colab-df-convert:hover {\n",
              "      background-color: #E2EBFA;\n",
              "      box-shadow: 0px 1px 2px rgba(60, 64, 67, 0.3), 0px 1px 3px 1px rgba(60, 64, 67, 0.15);\n",
              "      fill: #174EA6;\n",
              "    }\n",
              "\n",
              "    .colab-df-buttons div {\n",
              "      margin-bottom: 4px;\n",
              "    }\n",
              "\n",
              "    [theme=dark] .colab-df-convert {\n",
              "      background-color: #3B4455;\n",
              "      fill: #D2E3FC;\n",
              "    }\n",
              "\n",
              "    [theme=dark] .colab-df-convert:hover {\n",
              "      background-color: #434B5C;\n",
              "      box-shadow: 0px 1px 3px 1px rgba(0, 0, 0, 0.15);\n",
              "      filter: drop-shadow(0px 1px 2px rgba(0, 0, 0, 0.3));\n",
              "      fill: #FFFFFF;\n",
              "    }\n",
              "  </style>\n",
              "\n",
              "    <script>\n",
              "      const buttonEl =\n",
              "        document.querySelector('#df-24687cc7-2079-470e-aa0e-e5310b8899f2 button.colab-df-convert');\n",
              "      buttonEl.style.display =\n",
              "        google.colab.kernel.accessAllowed ? 'block' : 'none';\n",
              "\n",
              "      async function convertToInteractive(key) {\n",
              "        const element = document.querySelector('#df-24687cc7-2079-470e-aa0e-e5310b8899f2');\n",
              "        const dataTable =\n",
              "          await google.colab.kernel.invokeFunction('convertToInteractive',\n",
              "                                                    [key], {});\n",
              "        if (!dataTable) return;\n",
              "\n",
              "        const docLinkHtml = 'Like what you see? Visit the ' +\n",
              "          '<a target=\"_blank\" href=https://colab.research.google.com/notebooks/data_table.ipynb>data table notebook</a>'\n",
              "          + ' to learn more about interactive tables.';\n",
              "        element.innerHTML = '';\n",
              "        dataTable['output_type'] = 'display_data';\n",
              "        await google.colab.output.renderOutput(dataTable, element);\n",
              "        const docLink = document.createElement('div');\n",
              "        docLink.innerHTML = docLinkHtml;\n",
              "        element.appendChild(docLink);\n",
              "      }\n",
              "    </script>\n",
              "  </div>\n",
              "\n",
              "\n",
              "<div id=\"df-586d663c-b518-418c-9e77-8a51761aae58\">\n",
              "  <button class=\"colab-df-quickchart\" onclick=\"quickchart('df-586d663c-b518-418c-9e77-8a51761aae58')\"\n",
              "            title=\"Suggest charts.\"\n",
              "            style=\"display:none;\">\n",
              "\n",
              "<svg xmlns=\"http://www.w3.org/2000/svg\" height=\"24px\"viewBox=\"0 0 24 24\"\n",
              "     width=\"24px\">\n",
              "    <g>\n",
              "        <path d=\"M19 3H5c-1.1 0-2 .9-2 2v14c0 1.1.9 2 2 2h14c1.1 0 2-.9 2-2V5c0-1.1-.9-2-2-2zM9 17H7v-7h2v7zm4 0h-2V7h2v10zm4 0h-2v-4h2v4z\"/>\n",
              "    </g>\n",
              "</svg>\n",
              "  </button>\n",
              "\n",
              "<style>\n",
              "  .colab-df-quickchart {\n",
              "    background-color: #E8F0FE;\n",
              "    border: none;\n",
              "    border-radius: 50%;\n",
              "    cursor: pointer;\n",
              "    display: none;\n",
              "    fill: #1967D2;\n",
              "    height: 32px;\n",
              "    padding: 0 0 0 0;\n",
              "    width: 32px;\n",
              "  }\n",
              "\n",
              "  .colab-df-quickchart:hover {\n",
              "    background-color: #E2EBFA;\n",
              "    box-shadow: 0px 1px 2px rgba(60, 64, 67, 0.3), 0px 1px 3px 1px rgba(60, 64, 67, 0.15);\n",
              "    fill: #174EA6;\n",
              "  }\n",
              "\n",
              "  [theme=dark] .colab-df-quickchart {\n",
              "    background-color: #3B4455;\n",
              "    fill: #D2E3FC;\n",
              "  }\n",
              "\n",
              "  [theme=dark] .colab-df-quickchart:hover {\n",
              "    background-color: #434B5C;\n",
              "    box-shadow: 0px 1px 3px 1px rgba(0, 0, 0, 0.15);\n",
              "    filter: drop-shadow(0px 1px 2px rgba(0, 0, 0, 0.3));\n",
              "    fill: #FFFFFF;\n",
              "  }\n",
              "</style>\n",
              "\n",
              "  <script>\n",
              "    async function quickchart(key) {\n",
              "      const charts = await google.colab.kernel.invokeFunction(\n",
              "          'suggestCharts', [key], {});\n",
              "    }\n",
              "    (() => {\n",
              "      let quickchartButtonEl =\n",
              "        document.querySelector('#df-586d663c-b518-418c-9e77-8a51761aae58 button');\n",
              "      quickchartButtonEl.style.display =\n",
              "        google.colab.kernel.accessAllowed ? 'block' : 'none';\n",
              "    })();\n",
              "  </script>\n",
              "</div>\n",
              "    </div>\n",
              "  </div>\n"
            ]
          },
          "metadata": {},
          "execution_count": 22
        }
      ]
    },
    {
      "cell_type": "code",
      "source": [
        "# crear nuevo dataframe Yelp Business - Dataset Final\n",
        "df.to_parquet('Yelp_Business.parquet', index=False)"
      ],
      "metadata": {
        "id": "mcWRHEZDjOCl"
      },
      "execution_count": null,
      "outputs": []
    },
    {
      "cell_type": "markdown",
      "source": [
        "-----------------"
      ],
      "metadata": {
        "id": "E6bm6Mhei9SK"
      }
    },
    {
      "cell_type": "markdown",
      "source": [
        "# API Reviews"
      ],
      "metadata": {
        "id": "T7trbKdvi-cm"
      }
    },
    {
      "cell_type": "markdown",
      "source": [
        "-----------------"
      ],
      "metadata": {
        "id": "CZuYxHcojB-r"
      }
    },
    {
      "cell_type": "code",
      "source": [
        "dfAR = pd.read_parquet('/content/drive/MyDrive/DataYelpGoogle/Yelp/API_Business.parquet', columns=['business_id', 'reviews'])"
      ],
      "metadata": {
        "id": "fy5N1A1IjC6H"
      },
      "execution_count": null,
      "outputs": []
    },
    {
      "cell_type": "code",
      "source": [
        "dfAR.info()"
      ],
      "metadata": {
        "colab": {
          "base_uri": "https://localhost:8080/"
        },
        "id": "9NZDkht_oxRj",
        "outputId": "e4a74d32-677b-4ce8-af29-1b37cb397bc7"
      },
      "execution_count": null,
      "outputs": [
        {
          "output_type": "stream",
          "name": "stdout",
          "text": [
            "<class 'pandas.core.frame.DataFrame'>\n",
            "RangeIndex: 1594 entries, 0 to 1593\n",
            "Data columns (total 2 columns):\n",
            " #   Column       Non-Null Count  Dtype \n",
            "---  ------       --------------  ----- \n",
            " 0   business_id  1594 non-null   object\n",
            " 1   reviews      1594 non-null   object\n",
            "dtypes: object(2)\n",
            "memory usage: 25.0+ KB\n"
          ]
        }
      ]
    },
    {
      "cell_type": "code",
      "source": [
        "dfAR.head(3)"
      ],
      "metadata": {
        "colab": {
          "base_uri": "https://localhost:8080/",
          "height": 143
        },
        "id": "oWlP-0QZkiXi",
        "outputId": "f8cfb743-cb64-472d-f525-e34a609b0334"
      },
      "execution_count": null,
      "outputs": [
        {
          "output_type": "execute_result",
          "data": {
            "text/plain": [
              "              business_id                                            reviews\n",
              "0  qJ1kfVLwdTEQ_oRHmfaZaQ  [{'id': '8XceajjIrZxLY4iInVwYZA', 'text': 'Oka...\n",
              "1  nl8KrEl4H9f1Wm1ry-46zA  [{'id': 'Ulrb-Hp8e5_KqoFehd_xGQ', 'text': 'The...\n",
              "2  QsBctI8bZlsCFzsSBQoyyg  [{'id': '1dMR8uxvSeFtktWR6ri6PA', 'text': 'Coo..."
            ],
            "text/html": [
              "\n",
              "  <div id=\"df-dc9496c0-3ca1-4008-af38-135776a98d7c\" class=\"colab-df-container\">\n",
              "    <div>\n",
              "<style scoped>\n",
              "    .dataframe tbody tr th:only-of-type {\n",
              "        vertical-align: middle;\n",
              "    }\n",
              "\n",
              "    .dataframe tbody tr th {\n",
              "        vertical-align: top;\n",
              "    }\n",
              "\n",
              "    .dataframe thead th {\n",
              "        text-align: right;\n",
              "    }\n",
              "</style>\n",
              "<table border=\"1\" class=\"dataframe\">\n",
              "  <thead>\n",
              "    <tr style=\"text-align: right;\">\n",
              "      <th></th>\n",
              "      <th>business_id</th>\n",
              "      <th>reviews</th>\n",
              "    </tr>\n",
              "  </thead>\n",
              "  <tbody>\n",
              "    <tr>\n",
              "      <th>0</th>\n",
              "      <td>qJ1kfVLwdTEQ_oRHmfaZaQ</td>\n",
              "      <td>[{'id': '8XceajjIrZxLY4iInVwYZA', 'text': 'Oka...</td>\n",
              "    </tr>\n",
              "    <tr>\n",
              "      <th>1</th>\n",
              "      <td>nl8KrEl4H9f1Wm1ry-46zA</td>\n",
              "      <td>[{'id': 'Ulrb-Hp8e5_KqoFehd_xGQ', 'text': 'The...</td>\n",
              "    </tr>\n",
              "    <tr>\n",
              "      <th>2</th>\n",
              "      <td>QsBctI8bZlsCFzsSBQoyyg</td>\n",
              "      <td>[{'id': '1dMR8uxvSeFtktWR6ri6PA', 'text': 'Coo...</td>\n",
              "    </tr>\n",
              "  </tbody>\n",
              "</table>\n",
              "</div>\n",
              "    <div class=\"colab-df-buttons\">\n",
              "\n",
              "  <div class=\"colab-df-container\">\n",
              "    <button class=\"colab-df-convert\" onclick=\"convertToInteractive('df-dc9496c0-3ca1-4008-af38-135776a98d7c')\"\n",
              "            title=\"Convert this dataframe to an interactive table.\"\n",
              "            style=\"display:none;\">\n",
              "\n",
              "  <svg xmlns=\"http://www.w3.org/2000/svg\" height=\"24px\" viewBox=\"0 -960 960 960\">\n",
              "    <path d=\"M120-120v-720h720v720H120Zm60-500h600v-160H180v160Zm220 220h160v-160H400v160Zm0 220h160v-160H400v160ZM180-400h160v-160H180v160Zm440 0h160v-160H620v160ZM180-180h160v-160H180v160Zm440 0h160v-160H620v160Z\"/>\n",
              "  </svg>\n",
              "    </button>\n",
              "\n",
              "  <style>\n",
              "    .colab-df-container {\n",
              "      display:flex;\n",
              "      gap: 12px;\n",
              "    }\n",
              "\n",
              "    .colab-df-convert {\n",
              "      background-color: #E8F0FE;\n",
              "      border: none;\n",
              "      border-radius: 50%;\n",
              "      cursor: pointer;\n",
              "      display: none;\n",
              "      fill: #1967D2;\n",
              "      height: 32px;\n",
              "      padding: 0 0 0 0;\n",
              "      width: 32px;\n",
              "    }\n",
              "\n",
              "    .colab-df-convert:hover {\n",
              "      background-color: #E2EBFA;\n",
              "      box-shadow: 0px 1px 2px rgba(60, 64, 67, 0.3), 0px 1px 3px 1px rgba(60, 64, 67, 0.15);\n",
              "      fill: #174EA6;\n",
              "    }\n",
              "\n",
              "    .colab-df-buttons div {\n",
              "      margin-bottom: 4px;\n",
              "    }\n",
              "\n",
              "    [theme=dark] .colab-df-convert {\n",
              "      background-color: #3B4455;\n",
              "      fill: #D2E3FC;\n",
              "    }\n",
              "\n",
              "    [theme=dark] .colab-df-convert:hover {\n",
              "      background-color: #434B5C;\n",
              "      box-shadow: 0px 1px 3px 1px rgba(0, 0, 0, 0.15);\n",
              "      filter: drop-shadow(0px 1px 2px rgba(0, 0, 0, 0.3));\n",
              "      fill: #FFFFFF;\n",
              "    }\n",
              "  </style>\n",
              "\n",
              "    <script>\n",
              "      const buttonEl =\n",
              "        document.querySelector('#df-dc9496c0-3ca1-4008-af38-135776a98d7c button.colab-df-convert');\n",
              "      buttonEl.style.display =\n",
              "        google.colab.kernel.accessAllowed ? 'block' : 'none';\n",
              "\n",
              "      async function convertToInteractive(key) {\n",
              "        const element = document.querySelector('#df-dc9496c0-3ca1-4008-af38-135776a98d7c');\n",
              "        const dataTable =\n",
              "          await google.colab.kernel.invokeFunction('convertToInteractive',\n",
              "                                                    [key], {});\n",
              "        if (!dataTable) return;\n",
              "\n",
              "        const docLinkHtml = 'Like what you see? Visit the ' +\n",
              "          '<a target=\"_blank\" href=https://colab.research.google.com/notebooks/data_table.ipynb>data table notebook</a>'\n",
              "          + ' to learn more about interactive tables.';\n",
              "        element.innerHTML = '';\n",
              "        dataTable['output_type'] = 'display_data';\n",
              "        await google.colab.output.renderOutput(dataTable, element);\n",
              "        const docLink = document.createElement('div');\n",
              "        docLink.innerHTML = docLinkHtml;\n",
              "        element.appendChild(docLink);\n",
              "      }\n",
              "    </script>\n",
              "  </div>\n",
              "\n",
              "\n",
              "<div id=\"df-6b7d5659-b69a-467e-9921-9b7cb4a0d34c\">\n",
              "  <button class=\"colab-df-quickchart\" onclick=\"quickchart('df-6b7d5659-b69a-467e-9921-9b7cb4a0d34c')\"\n",
              "            title=\"Suggest charts.\"\n",
              "            style=\"display:none;\">\n",
              "\n",
              "<svg xmlns=\"http://www.w3.org/2000/svg\" height=\"24px\"viewBox=\"0 0 24 24\"\n",
              "     width=\"24px\">\n",
              "    <g>\n",
              "        <path d=\"M19 3H5c-1.1 0-2 .9-2 2v14c0 1.1.9 2 2 2h14c1.1 0 2-.9 2-2V5c0-1.1-.9-2-2-2zM9 17H7v-7h2v7zm4 0h-2V7h2v10zm4 0h-2v-4h2v4z\"/>\n",
              "    </g>\n",
              "</svg>\n",
              "  </button>\n",
              "\n",
              "<style>\n",
              "  .colab-df-quickchart {\n",
              "    background-color: #E8F0FE;\n",
              "    border: none;\n",
              "    border-radius: 50%;\n",
              "    cursor: pointer;\n",
              "    display: none;\n",
              "    fill: #1967D2;\n",
              "    height: 32px;\n",
              "    padding: 0 0 0 0;\n",
              "    width: 32px;\n",
              "  }\n",
              "\n",
              "  .colab-df-quickchart:hover {\n",
              "    background-color: #E2EBFA;\n",
              "    box-shadow: 0px 1px 2px rgba(60, 64, 67, 0.3), 0px 1px 3px 1px rgba(60, 64, 67, 0.15);\n",
              "    fill: #174EA6;\n",
              "  }\n",
              "\n",
              "  [theme=dark] .colab-df-quickchart {\n",
              "    background-color: #3B4455;\n",
              "    fill: #D2E3FC;\n",
              "  }\n",
              "\n",
              "  [theme=dark] .colab-df-quickchart:hover {\n",
              "    background-color: #434B5C;\n",
              "    box-shadow: 0px 1px 3px 1px rgba(0, 0, 0, 0.15);\n",
              "    filter: drop-shadow(0px 1px 2px rgba(0, 0, 0, 0.3));\n",
              "    fill: #FFFFFF;\n",
              "  }\n",
              "</style>\n",
              "\n",
              "  <script>\n",
              "    async function quickchart(key) {\n",
              "      const charts = await google.colab.kernel.invokeFunction(\n",
              "          'suggestCharts', [key], {});\n",
              "    }\n",
              "    (() => {\n",
              "      let quickchartButtonEl =\n",
              "        document.querySelector('#df-6b7d5659-b69a-467e-9921-9b7cb4a0d34c button');\n",
              "      quickchartButtonEl.style.display =\n",
              "        google.colab.kernel.accessAllowed ? 'block' : 'none';\n",
              "    })();\n",
              "  </script>\n",
              "</div>\n",
              "    </div>\n",
              "  </div>\n"
            ]
          },
          "metadata": {},
          "execution_count": 14
        }
      ]
    },
    {
      "cell_type": "markdown",
      "source": [
        "### extraer datos anidados"
      ],
      "metadata": {
        "id": "gGYuYlYklIBP"
      }
    },
    {
      "cell_type": "code",
      "source": [
        "# funcion extraer datos anidados lista de diccionarios\n",
        "def GetDataListDict(x):\n",
        "  if pd.isnull(x):\n",
        "    return np.nan\n",
        "  else:\n",
        "    val=ast.literal_eval(x)\n",
        "    if isinstance(val, list):\n",
        "      return val\n",
        "    else:\n",
        "      return x"
      ],
      "metadata": {
        "id": "l2_z75h_lHaz"
      },
      "execution_count": null,
      "outputs": []
    },
    {
      "cell_type": "code",
      "source": [
        "# invocar funcion GetDataListDict\n",
        "dfAR['reviews'] = dfAR['reviews'].apply(GetDataListDict)"
      ],
      "metadata": {
        "id": "gfyuTiaXlOoX"
      },
      "execution_count": null,
      "outputs": []
    },
    {
      "cell_type": "code",
      "source": [
        "dfAR['reviews'][100]"
      ],
      "metadata": {
        "colab": {
          "base_uri": "https://localhost:8080/"
        },
        "id": "FzvT_I4hl0FZ",
        "outputId": "3f94879d-9cc4-433d-f687-e2ca4debe141"
      },
      "execution_count": null,
      "outputs": [
        {
          "output_type": "execute_result",
          "data": {
            "text/plain": [
              "[{'id': 'c_gmIqDM4-M0S6FS7Xn4RQ',\n",
              "  'text': 'Had another great evening here with some live music and a really fun atmosphere!  No food truck on the night we went but they were serving pizzas that...',\n",
              "  'rating': 5,\n",
              "  'user': {'id': 'ZVkC8tx3mRezNBuqOgyQRg', 'name': 'Drew B.'}},\n",
              " {'id': 'MllflMzmJDOYz1I0QhWB3w',\n",
              "  'text': \"Stopped in here one day with my daughter and enjoyed a bottle of wine on the patio . We haven't been there for quite some time and always enjoyed the patio...\",\n",
              "  'rating': 4,\n",
              "  'user': {'id': 'BpKWUZHqnyij774f7Q4PEQ', 'name': 'Norma O.'}},\n",
              " {'id': '2Y5dgUCFsznjI-na66Smig',\n",
              "  'text': \"Wyandotte winery is a very unique place. I explained it like a hole in a wall to my friend and she couldn't get over it being someone's house. So let me...\",\n",
              "  'rating': 4,\n",
              "  'user': {'id': '3X32Fogoc9UbCZxpubfXDw', 'name': 'Danielle M.'}}]"
            ]
          },
          "metadata": {},
          "execution_count": 6
        }
      ]
    },
    {
      "cell_type": "code",
      "source": [
        "# id review\n",
        "[dfAR['reviews'][0][i]['id'] for i in range(0,len(dfAR['reviews'][0]))]"
      ],
      "metadata": {
        "colab": {
          "base_uri": "https://localhost:8080/"
        },
        "id": "fZlvHRM2lOjE",
        "outputId": "cb3a56ca-caf9-414e-afc3-2d21c0919bf0"
      },
      "execution_count": null,
      "outputs": [
        {
          "output_type": "execute_result",
          "data": {
            "text/plain": [
              "['8XceajjIrZxLY4iInVwYZA', 'QVqBdabfJu3rtu-bSKrokQ', 'GAs683P_hsfm-H_c-k3vZQ']"
            ]
          },
          "metadata": {},
          "execution_count": 7
        }
      ]
    },
    {
      "cell_type": "code",
      "source": [
        "# text review\n",
        "[dfAR['reviews'][0][i]['text'] for i in range(0,len(dfAR['reviews'][0]))]"
      ],
      "metadata": {
        "colab": {
          "base_uri": "https://localhost:8080/"
        },
        "id": "4XKGyz2NmFEU",
        "outputId": "530681c1-7149-4480-fe58-292c122f82c2"
      },
      "execution_count": null,
      "outputs": [
        {
          "output_type": "execute_result",
          "data": {
            "text/plain": [
              "['Okay OBSESSED that they have the option for a cider flight. My absolute favorite part but in strong competition with how delicious their food was! We had...',\n",
              " \"Great spot. Went over this weekend for the first time since I was in the area. There was a private event outside so didn't get to experience the outdoor...\",\n",
              " 'Ordered a goat cheese and pesto pizza and a Buffalo mac and cheese empanada. Had a standard and a blueberry hard cider. Everything was very good. Nice...']"
            ]
          },
          "metadata": {},
          "execution_count": 8
        }
      ]
    },
    {
      "cell_type": "code",
      "source": [
        "# rating review\n",
        "[dfAR['reviews'][0][i]['rating'] for i in range(0,len(dfAR['reviews'][0]))]"
      ],
      "metadata": {
        "colab": {
          "base_uri": "https://localhost:8080/"
        },
        "id": "juTRzup1qWin",
        "outputId": "43071b79-dd33-45fe-c562-8292802a2303"
      },
      "execution_count": null,
      "outputs": [
        {
          "output_type": "execute_result",
          "data": {
            "text/plain": [
              "[5, 5, 5]"
            ]
          },
          "metadata": {},
          "execution_count": 9
        }
      ]
    },
    {
      "cell_type": "code",
      "source": [
        "# user id review\n",
        "[dfAR['reviews'][0][i]['user']['id'] for i in range(0,len(dfAR['reviews'][0]))]"
      ],
      "metadata": {
        "colab": {
          "base_uri": "https://localhost:8080/"
        },
        "id": "rXCUFCRnn0V2",
        "outputId": "4265442c-afe6-4b21-ecd7-6226dea06504"
      },
      "execution_count": null,
      "outputs": [
        {
          "output_type": "execute_result",
          "data": {
            "text/plain": [
              "['ZVfGfOXYINJCPPy_2sa84A', 'TkF0AEun4ccvALZqX_R-7A', 'SsSsaM8URKx0VAhXDBfXhA']"
            ]
          },
          "metadata": {},
          "execution_count": 10
        }
      ]
    },
    {
      "cell_type": "code",
      "source": [
        "# extraer id review\n",
        "dfAR['review_id'] = dfAR['reviews'].apply(lambda x: [x[i]['id'] for i in range(0,len(x))])"
      ],
      "metadata": {
        "id": "Ges0Id9ioKof"
      },
      "execution_count": null,
      "outputs": []
    },
    {
      "cell_type": "code",
      "source": [
        "# extraer text review\n",
        "dfAR['text'] = dfAR['reviews'].apply(lambda x: [x[i]['text'] for i in range(0,len(x))])"
      ],
      "metadata": {
        "id": "3Rdkw7uOpIdq"
      },
      "execution_count": null,
      "outputs": []
    },
    {
      "cell_type": "code",
      "source": [
        "# extraer rating review\n",
        "dfAR['rating'] = dfAR['reviews'].apply(lambda x: [x[i]['rating'] for i in range(0,len(x))])"
      ],
      "metadata": {
        "id": "q0k2cOfFqnxe"
      },
      "execution_count": null,
      "outputs": []
    },
    {
      "cell_type": "code",
      "source": [
        "# extraer user id review\n",
        "dfAR['user_id'] = dfAR['reviews'].apply(lambda x: [x[i]['user']['id'] for i in range(0,len(x))])"
      ],
      "metadata": {
        "id": "D2stIyMLpoUJ"
      },
      "execution_count": null,
      "outputs": []
    },
    {
      "cell_type": "code",
      "source": [
        "dfAR.head(3)"
      ],
      "metadata": {
        "colab": {
          "base_uri": "https://localhost:8080/",
          "height": 195
        },
        "id": "xP7zJxMyqBFc",
        "outputId": "2d148ffe-7aae-4a01-b5d2-9c961b23319b"
      },
      "execution_count": null,
      "outputs": [
        {
          "output_type": "execute_result",
          "data": {
            "text/plain": [
              "              business_id                                            reviews  \\\n",
              "0  qJ1kfVLwdTEQ_oRHmfaZaQ  [{'id': '8XceajjIrZxLY4iInVwYZA', 'text': 'Oka...   \n",
              "1  nl8KrEl4H9f1Wm1ry-46zA  [{'id': 'Ulrb-Hp8e5_KqoFehd_xGQ', 'text': 'The...   \n",
              "2  QsBctI8bZlsCFzsSBQoyyg  [{'id': '1dMR8uxvSeFtktWR6ri6PA', 'text': 'Coo...   \n",
              "\n",
              "                                           review_id  \\\n",
              "0  [8XceajjIrZxLY4iInVwYZA, QVqBdabfJu3rtu-bSKrok...   \n",
              "1  [Ulrb-Hp8e5_KqoFehd_xGQ, eChVfOxWDmxlt9ZMZHt52...   \n",
              "2  [1dMR8uxvSeFtktWR6ri6PA, U8NoIuGpH2L6Yrss5IgHK...   \n",
              "\n",
              "                                                text     rating  \\\n",
              "0  [Okay OBSESSED that they have the option for a...  [5, 5, 5]   \n",
              "1  [There are plenty of places around town to get...  [5, 5, 5]   \n",
              "2  [Cool spot! We sampled a variety of meads. The...  [4, 5, 5]   \n",
              "\n",
              "                                             user_id  \n",
              "0  [ZVfGfOXYINJCPPy_2sa84A, TkF0AEun4ccvALZqX_R-7...  \n",
              "1  [YU8frNuMEW6ErBRSBjQAHw, k7RZ8Qi0BU5syr-_Gvgn9...  \n",
              "2  [8h1r7mXd-H225yDgc4EMPg, ycuqnCfUAbqIbUXZ6JSVa...  "
            ],
            "text/html": [
              "\n",
              "  <div id=\"df-79f71525-a53a-40c0-bf5b-fbb54265649e\" class=\"colab-df-container\">\n",
              "    <div>\n",
              "<style scoped>\n",
              "    .dataframe tbody tr th:only-of-type {\n",
              "        vertical-align: middle;\n",
              "    }\n",
              "\n",
              "    .dataframe tbody tr th {\n",
              "        vertical-align: top;\n",
              "    }\n",
              "\n",
              "    .dataframe thead th {\n",
              "        text-align: right;\n",
              "    }\n",
              "</style>\n",
              "<table border=\"1\" class=\"dataframe\">\n",
              "  <thead>\n",
              "    <tr style=\"text-align: right;\">\n",
              "      <th></th>\n",
              "      <th>business_id</th>\n",
              "      <th>reviews</th>\n",
              "      <th>review_id</th>\n",
              "      <th>text</th>\n",
              "      <th>rating</th>\n",
              "      <th>user_id</th>\n",
              "    </tr>\n",
              "  </thead>\n",
              "  <tbody>\n",
              "    <tr>\n",
              "      <th>0</th>\n",
              "      <td>qJ1kfVLwdTEQ_oRHmfaZaQ</td>\n",
              "      <td>[{'id': '8XceajjIrZxLY4iInVwYZA', 'text': 'Oka...</td>\n",
              "      <td>[8XceajjIrZxLY4iInVwYZA, QVqBdabfJu3rtu-bSKrok...</td>\n",
              "      <td>[Okay OBSESSED that they have the option for a...</td>\n",
              "      <td>[5, 5, 5]</td>\n",
              "      <td>[ZVfGfOXYINJCPPy_2sa84A, TkF0AEun4ccvALZqX_R-7...</td>\n",
              "    </tr>\n",
              "    <tr>\n",
              "      <th>1</th>\n",
              "      <td>nl8KrEl4H9f1Wm1ry-46zA</td>\n",
              "      <td>[{'id': 'Ulrb-Hp8e5_KqoFehd_xGQ', 'text': 'The...</td>\n",
              "      <td>[Ulrb-Hp8e5_KqoFehd_xGQ, eChVfOxWDmxlt9ZMZHt52...</td>\n",
              "      <td>[There are plenty of places around town to get...</td>\n",
              "      <td>[5, 5, 5]</td>\n",
              "      <td>[YU8frNuMEW6ErBRSBjQAHw, k7RZ8Qi0BU5syr-_Gvgn9...</td>\n",
              "    </tr>\n",
              "    <tr>\n",
              "      <th>2</th>\n",
              "      <td>QsBctI8bZlsCFzsSBQoyyg</td>\n",
              "      <td>[{'id': '1dMR8uxvSeFtktWR6ri6PA', 'text': 'Coo...</td>\n",
              "      <td>[1dMR8uxvSeFtktWR6ri6PA, U8NoIuGpH2L6Yrss5IgHK...</td>\n",
              "      <td>[Cool spot! We sampled a variety of meads. The...</td>\n",
              "      <td>[4, 5, 5]</td>\n",
              "      <td>[8h1r7mXd-H225yDgc4EMPg, ycuqnCfUAbqIbUXZ6JSVa...</td>\n",
              "    </tr>\n",
              "  </tbody>\n",
              "</table>\n",
              "</div>\n",
              "    <div class=\"colab-df-buttons\">\n",
              "\n",
              "  <div class=\"colab-df-container\">\n",
              "    <button class=\"colab-df-convert\" onclick=\"convertToInteractive('df-79f71525-a53a-40c0-bf5b-fbb54265649e')\"\n",
              "            title=\"Convert this dataframe to an interactive table.\"\n",
              "            style=\"display:none;\">\n",
              "\n",
              "  <svg xmlns=\"http://www.w3.org/2000/svg\" height=\"24px\" viewBox=\"0 -960 960 960\">\n",
              "    <path d=\"M120-120v-720h720v720H120Zm60-500h600v-160H180v160Zm220 220h160v-160H400v160Zm0 220h160v-160H400v160ZM180-400h160v-160H180v160Zm440 0h160v-160H620v160ZM180-180h160v-160H180v160Zm440 0h160v-160H620v160Z\"/>\n",
              "  </svg>\n",
              "    </button>\n",
              "\n",
              "  <style>\n",
              "    .colab-df-container {\n",
              "      display:flex;\n",
              "      gap: 12px;\n",
              "    }\n",
              "\n",
              "    .colab-df-convert {\n",
              "      background-color: #E8F0FE;\n",
              "      border: none;\n",
              "      border-radius: 50%;\n",
              "      cursor: pointer;\n",
              "      display: none;\n",
              "      fill: #1967D2;\n",
              "      height: 32px;\n",
              "      padding: 0 0 0 0;\n",
              "      width: 32px;\n",
              "    }\n",
              "\n",
              "    .colab-df-convert:hover {\n",
              "      background-color: #E2EBFA;\n",
              "      box-shadow: 0px 1px 2px rgba(60, 64, 67, 0.3), 0px 1px 3px 1px rgba(60, 64, 67, 0.15);\n",
              "      fill: #174EA6;\n",
              "    }\n",
              "\n",
              "    .colab-df-buttons div {\n",
              "      margin-bottom: 4px;\n",
              "    }\n",
              "\n",
              "    [theme=dark] .colab-df-convert {\n",
              "      background-color: #3B4455;\n",
              "      fill: #D2E3FC;\n",
              "    }\n",
              "\n",
              "    [theme=dark] .colab-df-convert:hover {\n",
              "      background-color: #434B5C;\n",
              "      box-shadow: 0px 1px 3px 1px rgba(0, 0, 0, 0.15);\n",
              "      filter: drop-shadow(0px 1px 2px rgba(0, 0, 0, 0.3));\n",
              "      fill: #FFFFFF;\n",
              "    }\n",
              "  </style>\n",
              "\n",
              "    <script>\n",
              "      const buttonEl =\n",
              "        document.querySelector('#df-79f71525-a53a-40c0-bf5b-fbb54265649e button.colab-df-convert');\n",
              "      buttonEl.style.display =\n",
              "        google.colab.kernel.accessAllowed ? 'block' : 'none';\n",
              "\n",
              "      async function convertToInteractive(key) {\n",
              "        const element = document.querySelector('#df-79f71525-a53a-40c0-bf5b-fbb54265649e');\n",
              "        const dataTable =\n",
              "          await google.colab.kernel.invokeFunction('convertToInteractive',\n",
              "                                                    [key], {});\n",
              "        if (!dataTable) return;\n",
              "\n",
              "        const docLinkHtml = 'Like what you see? Visit the ' +\n",
              "          '<a target=\"_blank\" href=https://colab.research.google.com/notebooks/data_table.ipynb>data table notebook</a>'\n",
              "          + ' to learn more about interactive tables.';\n",
              "        element.innerHTML = '';\n",
              "        dataTable['output_type'] = 'display_data';\n",
              "        await google.colab.output.renderOutput(dataTable, element);\n",
              "        const docLink = document.createElement('div');\n",
              "        docLink.innerHTML = docLinkHtml;\n",
              "        element.appendChild(docLink);\n",
              "      }\n",
              "    </script>\n",
              "  </div>\n",
              "\n",
              "\n",
              "<div id=\"df-92821b92-4b68-440c-9b50-c6f7ded6f2ff\">\n",
              "  <button class=\"colab-df-quickchart\" onclick=\"quickchart('df-92821b92-4b68-440c-9b50-c6f7ded6f2ff')\"\n",
              "            title=\"Suggest charts.\"\n",
              "            style=\"display:none;\">\n",
              "\n",
              "<svg xmlns=\"http://www.w3.org/2000/svg\" height=\"24px\"viewBox=\"0 0 24 24\"\n",
              "     width=\"24px\">\n",
              "    <g>\n",
              "        <path d=\"M19 3H5c-1.1 0-2 .9-2 2v14c0 1.1.9 2 2 2h14c1.1 0 2-.9 2-2V5c0-1.1-.9-2-2-2zM9 17H7v-7h2v7zm4 0h-2V7h2v10zm4 0h-2v-4h2v4z\"/>\n",
              "    </g>\n",
              "</svg>\n",
              "  </button>\n",
              "\n",
              "<style>\n",
              "  .colab-df-quickchart {\n",
              "    background-color: #E8F0FE;\n",
              "    border: none;\n",
              "    border-radius: 50%;\n",
              "    cursor: pointer;\n",
              "    display: none;\n",
              "    fill: #1967D2;\n",
              "    height: 32px;\n",
              "    padding: 0 0 0 0;\n",
              "    width: 32px;\n",
              "  }\n",
              "\n",
              "  .colab-df-quickchart:hover {\n",
              "    background-color: #E2EBFA;\n",
              "    box-shadow: 0px 1px 2px rgba(60, 64, 67, 0.3), 0px 1px 3px 1px rgba(60, 64, 67, 0.15);\n",
              "    fill: #174EA6;\n",
              "  }\n",
              "\n",
              "  [theme=dark] .colab-df-quickchart {\n",
              "    background-color: #3B4455;\n",
              "    fill: #D2E3FC;\n",
              "  }\n",
              "\n",
              "  [theme=dark] .colab-df-quickchart:hover {\n",
              "    background-color: #434B5C;\n",
              "    box-shadow: 0px 1px 3px 1px rgba(0, 0, 0, 0.15);\n",
              "    filter: drop-shadow(0px 1px 2px rgba(0, 0, 0, 0.3));\n",
              "    fill: #FFFFFF;\n",
              "  }\n",
              "</style>\n",
              "\n",
              "  <script>\n",
              "    async function quickchart(key) {\n",
              "      const charts = await google.colab.kernel.invokeFunction(\n",
              "          'suggestCharts', [key], {});\n",
              "    }\n",
              "    (() => {\n",
              "      let quickchartButtonEl =\n",
              "        document.querySelector('#df-92821b92-4b68-440c-9b50-c6f7ded6f2ff button');\n",
              "      quickchartButtonEl.style.display =\n",
              "        google.colab.kernel.accessAllowed ? 'block' : 'none';\n",
              "    })();\n",
              "  </script>\n",
              "</div>\n",
              "    </div>\n",
              "  </div>\n"
            ]
          },
          "metadata": {},
          "execution_count": 15
        }
      ]
    },
    {
      "cell_type": "code",
      "source": [
        "# algunos negocios tienen menos de 3 reviews\n",
        "for i in dfAR['review_id']:\n",
        "  print(i)"
      ],
      "metadata": {
        "id": "vCxp4UM0xsk_"
      },
      "execution_count": null,
      "outputs": []
    },
    {
      "cell_type": "code",
      "source": [
        "dfAR['reviews'][10]"
      ],
      "metadata": {
        "colab": {
          "base_uri": "https://localhost:8080/"
        },
        "id": "ioVBRI8uwbvO",
        "outputId": "54807fc4-1b35-4c4a-bf5d-fba975648ae1"
      },
      "execution_count": null,
      "outputs": [
        {
          "output_type": "execute_result",
          "data": {
            "text/plain": [
              "[{'id': 'BGHIOfk8Qj4xm_X0hG17MA',\n",
              "  'text': 'We took a road trip to NY to checkout Hudson Berkshire Wine & Food Festival on a whim when we was perusing for things to do around New England on Memorial...',\n",
              "  'rating': 4,\n",
              "  'user': {'id': 'N61hkQVfKF0GXP3UIVnbWw', 'name': 'Rosie Q.'}}]"
            ]
          },
          "metadata": {},
          "execution_count": 17
        }
      ]
    },
    {
      "cell_type": "code",
      "source": [
        "#df.set_index(['order_id', 'order_date']).apply(lambda x: x.str.split(',').explode()).reset_index()"
      ],
      "metadata": {
        "id": "S2uuNZNI4guD"
      },
      "execution_count": null,
      "outputs": []
    },
    {
      "cell_type": "code",
      "source": [
        "df = dfAR.set_index(['business_id']).apply(lambda x: x.explode()).reset_index()"
      ],
      "metadata": {
        "id": "quiSThBL3elQ"
      },
      "execution_count": null,
      "outputs": []
    },
    {
      "cell_type": "code",
      "source": [
        "df = df[['review_id', 'user_id', 'business_id', 'rating', 'text']]"
      ],
      "metadata": {
        "id": "P_N-cUPW40Wb"
      },
      "execution_count": null,
      "outputs": []
    },
    {
      "cell_type": "code",
      "source": [
        "df.info()"
      ],
      "metadata": {
        "colab": {
          "base_uri": "https://localhost:8080/"
        },
        "id": "jOwk7h7B5Igr",
        "outputId": "1338219b-ad0a-4394-b810-74b8944f826c"
      },
      "execution_count": null,
      "outputs": [
        {
          "output_type": "stream",
          "name": "stdout",
          "text": [
            "<class 'pandas.core.frame.DataFrame'>\n",
            "RangeIndex: 4359 entries, 0 to 4358\n",
            "Data columns (total 5 columns):\n",
            " #   Column       Non-Null Count  Dtype \n",
            "---  ------       --------------  ----- \n",
            " 0   review_id    4359 non-null   object\n",
            " 1   user_id      4359 non-null   object\n",
            " 2   business_id  4359 non-null   object\n",
            " 3   rating       4359 non-null   object\n",
            " 4   text         4359 non-null   object\n",
            "dtypes: object(5)\n",
            "memory usage: 170.4+ KB\n"
          ]
        }
      ]
    },
    {
      "cell_type": "code",
      "source": [
        "df.head(5)"
      ],
      "metadata": {
        "colab": {
          "base_uri": "https://localhost:8080/",
          "height": 206
        },
        "id": "ToTOwm5zuRM3",
        "outputId": "b7d8f71d-5fb7-4960-dcce-d4e0a4bce26a"
      },
      "execution_count": null,
      "outputs": [
        {
          "output_type": "execute_result",
          "data": {
            "text/plain": [
              "                review_id                 user_id             business_id  \\\n",
              "0  8XceajjIrZxLY4iInVwYZA  ZVfGfOXYINJCPPy_2sa84A  qJ1kfVLwdTEQ_oRHmfaZaQ   \n",
              "1  QVqBdabfJu3rtu-bSKrokQ  TkF0AEun4ccvALZqX_R-7A  qJ1kfVLwdTEQ_oRHmfaZaQ   \n",
              "2  GAs683P_hsfm-H_c-k3vZQ  SsSsaM8URKx0VAhXDBfXhA  qJ1kfVLwdTEQ_oRHmfaZaQ   \n",
              "3  Ulrb-Hp8e5_KqoFehd_xGQ  YU8frNuMEW6ErBRSBjQAHw  nl8KrEl4H9f1Wm1ry-46zA   \n",
              "4  eChVfOxWDmxlt9ZMZHt52w  k7RZ8Qi0BU5syr-_Gvgn9g  nl8KrEl4H9f1Wm1ry-46zA   \n",
              "\n",
              "  rating                                               text  \n",
              "0      5  Okay OBSESSED that they have the option for a ...  \n",
              "1      5  Great spot. Went over this weekend for the fir...  \n",
              "2      5  Ordered a goat cheese and pesto pizza and a Bu...  \n",
              "3      5  There are plenty of places around town to get ...  \n",
              "4      5  Friendly, helpful, convenient. And anything th...  "
            ],
            "text/html": [
              "\n",
              "  <div id=\"df-316f1f48-9205-4052-ba35-a797f6f6cdb7\" class=\"colab-df-container\">\n",
              "    <div>\n",
              "<style scoped>\n",
              "    .dataframe tbody tr th:only-of-type {\n",
              "        vertical-align: middle;\n",
              "    }\n",
              "\n",
              "    .dataframe tbody tr th {\n",
              "        vertical-align: top;\n",
              "    }\n",
              "\n",
              "    .dataframe thead th {\n",
              "        text-align: right;\n",
              "    }\n",
              "</style>\n",
              "<table border=\"1\" class=\"dataframe\">\n",
              "  <thead>\n",
              "    <tr style=\"text-align: right;\">\n",
              "      <th></th>\n",
              "      <th>review_id</th>\n",
              "      <th>user_id</th>\n",
              "      <th>business_id</th>\n",
              "      <th>rating</th>\n",
              "      <th>text</th>\n",
              "    </tr>\n",
              "  </thead>\n",
              "  <tbody>\n",
              "    <tr>\n",
              "      <th>0</th>\n",
              "      <td>8XceajjIrZxLY4iInVwYZA</td>\n",
              "      <td>ZVfGfOXYINJCPPy_2sa84A</td>\n",
              "      <td>qJ1kfVLwdTEQ_oRHmfaZaQ</td>\n",
              "      <td>5</td>\n",
              "      <td>Okay OBSESSED that they have the option for a ...</td>\n",
              "    </tr>\n",
              "    <tr>\n",
              "      <th>1</th>\n",
              "      <td>QVqBdabfJu3rtu-bSKrokQ</td>\n",
              "      <td>TkF0AEun4ccvALZqX_R-7A</td>\n",
              "      <td>qJ1kfVLwdTEQ_oRHmfaZaQ</td>\n",
              "      <td>5</td>\n",
              "      <td>Great spot. Went over this weekend for the fir...</td>\n",
              "    </tr>\n",
              "    <tr>\n",
              "      <th>2</th>\n",
              "      <td>GAs683P_hsfm-H_c-k3vZQ</td>\n",
              "      <td>SsSsaM8URKx0VAhXDBfXhA</td>\n",
              "      <td>qJ1kfVLwdTEQ_oRHmfaZaQ</td>\n",
              "      <td>5</td>\n",
              "      <td>Ordered a goat cheese and pesto pizza and a Bu...</td>\n",
              "    </tr>\n",
              "    <tr>\n",
              "      <th>3</th>\n",
              "      <td>Ulrb-Hp8e5_KqoFehd_xGQ</td>\n",
              "      <td>YU8frNuMEW6ErBRSBjQAHw</td>\n",
              "      <td>nl8KrEl4H9f1Wm1ry-46zA</td>\n",
              "      <td>5</td>\n",
              "      <td>There are plenty of places around town to get ...</td>\n",
              "    </tr>\n",
              "    <tr>\n",
              "      <th>4</th>\n",
              "      <td>eChVfOxWDmxlt9ZMZHt52w</td>\n",
              "      <td>k7RZ8Qi0BU5syr-_Gvgn9g</td>\n",
              "      <td>nl8KrEl4H9f1Wm1ry-46zA</td>\n",
              "      <td>5</td>\n",
              "      <td>Friendly, helpful, convenient. And anything th...</td>\n",
              "    </tr>\n",
              "  </tbody>\n",
              "</table>\n",
              "</div>\n",
              "    <div class=\"colab-df-buttons\">\n",
              "\n",
              "  <div class=\"colab-df-container\">\n",
              "    <button class=\"colab-df-convert\" onclick=\"convertToInteractive('df-316f1f48-9205-4052-ba35-a797f6f6cdb7')\"\n",
              "            title=\"Convert this dataframe to an interactive table.\"\n",
              "            style=\"display:none;\">\n",
              "\n",
              "  <svg xmlns=\"http://www.w3.org/2000/svg\" height=\"24px\" viewBox=\"0 -960 960 960\">\n",
              "    <path d=\"M120-120v-720h720v720H120Zm60-500h600v-160H180v160Zm220 220h160v-160H400v160Zm0 220h160v-160H400v160ZM180-400h160v-160H180v160Zm440 0h160v-160H620v160ZM180-180h160v-160H180v160Zm440 0h160v-160H620v160Z\"/>\n",
              "  </svg>\n",
              "    </button>\n",
              "\n",
              "  <style>\n",
              "    .colab-df-container {\n",
              "      display:flex;\n",
              "      gap: 12px;\n",
              "    }\n",
              "\n",
              "    .colab-df-convert {\n",
              "      background-color: #E8F0FE;\n",
              "      border: none;\n",
              "      border-radius: 50%;\n",
              "      cursor: pointer;\n",
              "      display: none;\n",
              "      fill: #1967D2;\n",
              "      height: 32px;\n",
              "      padding: 0 0 0 0;\n",
              "      width: 32px;\n",
              "    }\n",
              "\n",
              "    .colab-df-convert:hover {\n",
              "      background-color: #E2EBFA;\n",
              "      box-shadow: 0px 1px 2px rgba(60, 64, 67, 0.3), 0px 1px 3px 1px rgba(60, 64, 67, 0.15);\n",
              "      fill: #174EA6;\n",
              "    }\n",
              "\n",
              "    .colab-df-buttons div {\n",
              "      margin-bottom: 4px;\n",
              "    }\n",
              "\n",
              "    [theme=dark] .colab-df-convert {\n",
              "      background-color: #3B4455;\n",
              "      fill: #D2E3FC;\n",
              "    }\n",
              "\n",
              "    [theme=dark] .colab-df-convert:hover {\n",
              "      background-color: #434B5C;\n",
              "      box-shadow: 0px 1px 3px 1px rgba(0, 0, 0, 0.15);\n",
              "      filter: drop-shadow(0px 1px 2px rgba(0, 0, 0, 0.3));\n",
              "      fill: #FFFFFF;\n",
              "    }\n",
              "  </style>\n",
              "\n",
              "    <script>\n",
              "      const buttonEl =\n",
              "        document.querySelector('#df-316f1f48-9205-4052-ba35-a797f6f6cdb7 button.colab-df-convert');\n",
              "      buttonEl.style.display =\n",
              "        google.colab.kernel.accessAllowed ? 'block' : 'none';\n",
              "\n",
              "      async function convertToInteractive(key) {\n",
              "        const element = document.querySelector('#df-316f1f48-9205-4052-ba35-a797f6f6cdb7');\n",
              "        const dataTable =\n",
              "          await google.colab.kernel.invokeFunction('convertToInteractive',\n",
              "                                                    [key], {});\n",
              "        if (!dataTable) return;\n",
              "\n",
              "        const docLinkHtml = 'Like what you see? Visit the ' +\n",
              "          '<a target=\"_blank\" href=https://colab.research.google.com/notebooks/data_table.ipynb>data table notebook</a>'\n",
              "          + ' to learn more about interactive tables.';\n",
              "        element.innerHTML = '';\n",
              "        dataTable['output_type'] = 'display_data';\n",
              "        await google.colab.output.renderOutput(dataTable, element);\n",
              "        const docLink = document.createElement('div');\n",
              "        docLink.innerHTML = docLinkHtml;\n",
              "        element.appendChild(docLink);\n",
              "      }\n",
              "    </script>\n",
              "  </div>\n",
              "\n",
              "\n",
              "<div id=\"df-06fcea06-cc53-49eb-8d4c-d0487b15548c\">\n",
              "  <button class=\"colab-df-quickchart\" onclick=\"quickchart('df-06fcea06-cc53-49eb-8d4c-d0487b15548c')\"\n",
              "            title=\"Suggest charts.\"\n",
              "            style=\"display:none;\">\n",
              "\n",
              "<svg xmlns=\"http://www.w3.org/2000/svg\" height=\"24px\"viewBox=\"0 0 24 24\"\n",
              "     width=\"24px\">\n",
              "    <g>\n",
              "        <path d=\"M19 3H5c-1.1 0-2 .9-2 2v14c0 1.1.9 2 2 2h14c1.1 0 2-.9 2-2V5c0-1.1-.9-2-2-2zM9 17H7v-7h2v7zm4 0h-2V7h2v10zm4 0h-2v-4h2v4z\"/>\n",
              "    </g>\n",
              "</svg>\n",
              "  </button>\n",
              "\n",
              "<style>\n",
              "  .colab-df-quickchart {\n",
              "    background-color: #E8F0FE;\n",
              "    border: none;\n",
              "    border-radius: 50%;\n",
              "    cursor: pointer;\n",
              "    display: none;\n",
              "    fill: #1967D2;\n",
              "    height: 32px;\n",
              "    padding: 0 0 0 0;\n",
              "    width: 32px;\n",
              "  }\n",
              "\n",
              "  .colab-df-quickchart:hover {\n",
              "    background-color: #E2EBFA;\n",
              "    box-shadow: 0px 1px 2px rgba(60, 64, 67, 0.3), 0px 1px 3px 1px rgba(60, 64, 67, 0.15);\n",
              "    fill: #174EA6;\n",
              "  }\n",
              "\n",
              "  [theme=dark] .colab-df-quickchart {\n",
              "    background-color: #3B4455;\n",
              "    fill: #D2E3FC;\n",
              "  }\n",
              "\n",
              "  [theme=dark] .colab-df-quickchart:hover {\n",
              "    background-color: #434B5C;\n",
              "    box-shadow: 0px 1px 3px 1px rgba(0, 0, 0, 0.15);\n",
              "    filter: drop-shadow(0px 1px 2px rgba(0, 0, 0, 0.3));\n",
              "    fill: #FFFFFF;\n",
              "  }\n",
              "</style>\n",
              "\n",
              "  <script>\n",
              "    async function quickchart(key) {\n",
              "      const charts = await google.colab.kernel.invokeFunction(\n",
              "          'suggestCharts', [key], {});\n",
              "    }\n",
              "    (() => {\n",
              "      let quickchartButtonEl =\n",
              "        document.querySelector('#df-06fcea06-cc53-49eb-8d4c-d0487b15548c button');\n",
              "      quickchartButtonEl.style.display =\n",
              "        google.colab.kernel.accessAllowed ? 'block' : 'none';\n",
              "    })();\n",
              "  </script>\n",
              "</div>\n",
              "    </div>\n",
              "  </div>\n"
            ]
          },
          "metadata": {},
          "execution_count": 35
        }
      ]
    },
    {
      "cell_type": "code",
      "source": [
        "# crear nuevo dataframe Yelp Business - Dataset Final\n",
        "df.to_parquet('Yelp_Reviews.parquet', index=False)"
      ],
      "metadata": {
        "id": "DcfjZNaH5N-g"
      },
      "execution_count": null,
      "outputs": []
    },
    {
      "cell_type": "markdown",
      "source": [
        "-------------------"
      ],
      "metadata": {
        "id": "eH-C07JStGjz"
      }
    },
    {
      "cell_type": "markdown",
      "source": [
        "------------"
      ],
      "metadata": {
        "id": "tbGnJDtRtGNL"
      }
    },
    {
      "cell_type": "markdown",
      "source": [
        "-------------"
      ],
      "metadata": {
        "id": "UhuF4yk6tFyg"
      }
    },
    {
      "cell_type": "markdown",
      "source": [
        "# check dataset alternativo"
      ],
      "metadata": {
        "id": "Vt3sdoygnQT9"
      }
    },
    {
      "cell_type": "code",
      "source": [
        "df1 = pd.read_csv('/content/drive/MyDrive/winemag-data-130k-v2.csv')"
      ],
      "metadata": {
        "id": "DSohEgvXQs8Y"
      },
      "execution_count": null,
      "outputs": []
    },
    {
      "cell_type": "code",
      "source": [
        "df1 = df1[df1['country']=='US']\n",
        "df1.reset_index(drop=True, inplace=True)"
      ],
      "metadata": {
        "id": "4EWlu6nIQ6ej"
      },
      "execution_count": null,
      "outputs": []
    },
    {
      "cell_type": "code",
      "source": [
        "df1.info()"
      ],
      "metadata": {
        "colab": {
          "base_uri": "https://localhost:8080/"
        },
        "id": "Iv8Jp7BGQ94h",
        "outputId": "c31621e5-5f3a-4f5d-b6af-f9a4ad482509"
      },
      "execution_count": null,
      "outputs": [
        {
          "output_type": "stream",
          "name": "stdout",
          "text": [
            "<class 'pandas.core.frame.DataFrame'>\n",
            "RangeIndex: 54504 entries, 0 to 54503\n",
            "Data columns (total 14 columns):\n",
            " #   Column                 Non-Null Count  Dtype  \n",
            "---  ------                 --------------  -----  \n",
            " 0   Unnamed: 0             54504 non-null  int64  \n",
            " 1   country                54504 non-null  object \n",
            " 2   description            54504 non-null  object \n",
            " 3   designation            36908 non-null  object \n",
            " 4   points                 54504 non-null  int64  \n",
            " 5   price                  54265 non-null  float64\n",
            " 6   province               54504 non-null  object \n",
            " 7   region_1               54226 non-null  object \n",
            " 8   region_2               50511 non-null  object \n",
            " 9   taster_name            37730 non-null  object \n",
            " 10  taster_twitter_handle  34741 non-null  object \n",
            " 11  title                  54504 non-null  object \n",
            " 12  variety                54504 non-null  object \n",
            " 13  winery                 54504 non-null  object \n",
            "dtypes: float64(1), int64(2), object(11)\n",
            "memory usage: 5.8+ MB\n"
          ]
        }
      ]
    },
    {
      "cell_type": "code",
      "source": [
        "df1 = df1[['winery', 'province', 'region_1',\t'region_2', 'price', 'designation', 'variety', 'taster_name', 'points', 'title', 'description']]"
      ],
      "metadata": {
        "id": "raMtZGEmRxio"
      },
      "execution_count": null,
      "outputs": []
    },
    {
      "cell_type": "code",
      "source": [
        "df1.sample(5)"
      ],
      "metadata": {
        "colab": {
          "base_uri": "https://localhost:8080/",
          "height": 292
        },
        "id": "NbhXRzJUROpd",
        "outputId": "124ef1ff-d6c7-46f8-9ff4-b651f5b0333e"
      },
      "execution_count": null,
      "outputs": [
        {
          "output_type": "execute_result",
          "data": {
            "text/plain": [
              "                      winery    province                 region_1  \\\n",
              "29940        Acre Twenty-one  Washington     Columbia Valley (WA)   \n",
              "16343            Andrew Will  Washington            Yakima Valley   \n",
              "26040  Joseph Swan Vineyards  California     Russian River Valley   \n",
              "9481                 Tranche  Washington  Walla Walla Valley (WA)   \n",
              "27400               Gramercy  Washington     Columbia Valley (WA)   \n",
              "\n",
              "              region_2  price           designation                   variety  \\\n",
              "29940  Columbia Valley   15.0                   NaN        Cabernet Sauvignon   \n",
              "16343  Columbia Valley   55.0  Two Blondes Vineyard  Bordeaux-style Red Blend   \n",
              "26040           Sonoma   45.0      Ritchie Vineyard                Chardonnay   \n",
              "9481   Columbia Valley   40.0                Estate        Cabernet Sauvignon   \n",
              "27400  Columbia Valley   40.0                   NaN                     Syrah   \n",
              "\n",
              "            taster_name  points  \\\n",
              "29940  Sean P. Sullivan      83   \n",
              "16343      Paul Gregutt      92   \n",
              "26040    Virginie Boone      93   \n",
              "9481       Paul Gregutt      92   \n",
              "27400  Sean P. Sullivan      94   \n",
              "\n",
              "                                                   title  \\\n",
              "29940  Acre Twenty-one 2012 Cabernet Sauvignon (Colum...   \n",
              "16343  Andrew Will 2010 Two Blondes Vineyard Red (Yak...   \n",
              "26040  Joseph Swan Vineyards 2012 Ritchie Vineyard Ch...   \n",
              "9481   Tranche 2007 Estate Cabernet Sauvignon (Walla ...   \n",
              "27400         Gramercy 2012 Syrah (Columbia Valley (WA))   \n",
              "\n",
              "                                             description  \n",
              "29940  This Cabernet doesn't seem to have fully ripen...  \n",
              "16343  Sophisticated and complex, this terroir-specif...  \n",
              "26040  Oaky on the nose, with a whiff of caramelized ...  \n",
              "9481   The first release for Tranche from Blue Mounta...  \n",
              "27400  This wine is a blend of four distinctive sites...  "
            ],
            "text/html": [
              "\n",
              "  <div id=\"df-bccd0f91-0a66-4bd3-bbb6-e0143cb191c6\" class=\"colab-df-container\">\n",
              "    <div>\n",
              "<style scoped>\n",
              "    .dataframe tbody tr th:only-of-type {\n",
              "        vertical-align: middle;\n",
              "    }\n",
              "\n",
              "    .dataframe tbody tr th {\n",
              "        vertical-align: top;\n",
              "    }\n",
              "\n",
              "    .dataframe thead th {\n",
              "        text-align: right;\n",
              "    }\n",
              "</style>\n",
              "<table border=\"1\" class=\"dataframe\">\n",
              "  <thead>\n",
              "    <tr style=\"text-align: right;\">\n",
              "      <th></th>\n",
              "      <th>winery</th>\n",
              "      <th>province</th>\n",
              "      <th>region_1</th>\n",
              "      <th>region_2</th>\n",
              "      <th>price</th>\n",
              "      <th>designation</th>\n",
              "      <th>variety</th>\n",
              "      <th>taster_name</th>\n",
              "      <th>points</th>\n",
              "      <th>title</th>\n",
              "      <th>description</th>\n",
              "    </tr>\n",
              "  </thead>\n",
              "  <tbody>\n",
              "    <tr>\n",
              "      <th>29940</th>\n",
              "      <td>Acre Twenty-one</td>\n",
              "      <td>Washington</td>\n",
              "      <td>Columbia Valley (WA)</td>\n",
              "      <td>Columbia Valley</td>\n",
              "      <td>15.0</td>\n",
              "      <td>NaN</td>\n",
              "      <td>Cabernet Sauvignon</td>\n",
              "      <td>Sean P. Sullivan</td>\n",
              "      <td>83</td>\n",
              "      <td>Acre Twenty-one 2012 Cabernet Sauvignon (Colum...</td>\n",
              "      <td>This Cabernet doesn't seem to have fully ripen...</td>\n",
              "    </tr>\n",
              "    <tr>\n",
              "      <th>16343</th>\n",
              "      <td>Andrew Will</td>\n",
              "      <td>Washington</td>\n",
              "      <td>Yakima Valley</td>\n",
              "      <td>Columbia Valley</td>\n",
              "      <td>55.0</td>\n",
              "      <td>Two Blondes Vineyard</td>\n",
              "      <td>Bordeaux-style Red Blend</td>\n",
              "      <td>Paul Gregutt</td>\n",
              "      <td>92</td>\n",
              "      <td>Andrew Will 2010 Two Blondes Vineyard Red (Yak...</td>\n",
              "      <td>Sophisticated and complex, this terroir-specif...</td>\n",
              "    </tr>\n",
              "    <tr>\n",
              "      <th>26040</th>\n",
              "      <td>Joseph Swan Vineyards</td>\n",
              "      <td>California</td>\n",
              "      <td>Russian River Valley</td>\n",
              "      <td>Sonoma</td>\n",
              "      <td>45.0</td>\n",
              "      <td>Ritchie Vineyard</td>\n",
              "      <td>Chardonnay</td>\n",
              "      <td>Virginie Boone</td>\n",
              "      <td>93</td>\n",
              "      <td>Joseph Swan Vineyards 2012 Ritchie Vineyard Ch...</td>\n",
              "      <td>Oaky on the nose, with a whiff of caramelized ...</td>\n",
              "    </tr>\n",
              "    <tr>\n",
              "      <th>9481</th>\n",
              "      <td>Tranche</td>\n",
              "      <td>Washington</td>\n",
              "      <td>Walla Walla Valley (WA)</td>\n",
              "      <td>Columbia Valley</td>\n",
              "      <td>40.0</td>\n",
              "      <td>Estate</td>\n",
              "      <td>Cabernet Sauvignon</td>\n",
              "      <td>Paul Gregutt</td>\n",
              "      <td>92</td>\n",
              "      <td>Tranche 2007 Estate Cabernet Sauvignon (Walla ...</td>\n",
              "      <td>The first release for Tranche from Blue Mounta...</td>\n",
              "    </tr>\n",
              "    <tr>\n",
              "      <th>27400</th>\n",
              "      <td>Gramercy</td>\n",
              "      <td>Washington</td>\n",
              "      <td>Columbia Valley (WA)</td>\n",
              "      <td>Columbia Valley</td>\n",
              "      <td>40.0</td>\n",
              "      <td>NaN</td>\n",
              "      <td>Syrah</td>\n",
              "      <td>Sean P. Sullivan</td>\n",
              "      <td>94</td>\n",
              "      <td>Gramercy 2012 Syrah (Columbia Valley (WA))</td>\n",
              "      <td>This wine is a blend of four distinctive sites...</td>\n",
              "    </tr>\n",
              "  </tbody>\n",
              "</table>\n",
              "</div>\n",
              "    <div class=\"colab-df-buttons\">\n",
              "\n",
              "  <div class=\"colab-df-container\">\n",
              "    <button class=\"colab-df-convert\" onclick=\"convertToInteractive('df-bccd0f91-0a66-4bd3-bbb6-e0143cb191c6')\"\n",
              "            title=\"Convert this dataframe to an interactive table.\"\n",
              "            style=\"display:none;\">\n",
              "\n",
              "  <svg xmlns=\"http://www.w3.org/2000/svg\" height=\"24px\" viewBox=\"0 -960 960 960\">\n",
              "    <path d=\"M120-120v-720h720v720H120Zm60-500h600v-160H180v160Zm220 220h160v-160H400v160Zm0 220h160v-160H400v160ZM180-400h160v-160H180v160Zm440 0h160v-160H620v160ZM180-180h160v-160H180v160Zm440 0h160v-160H620v160Z\"/>\n",
              "  </svg>\n",
              "    </button>\n",
              "\n",
              "  <style>\n",
              "    .colab-df-container {\n",
              "      display:flex;\n",
              "      gap: 12px;\n",
              "    }\n",
              "\n",
              "    .colab-df-convert {\n",
              "      background-color: #E8F0FE;\n",
              "      border: none;\n",
              "      border-radius: 50%;\n",
              "      cursor: pointer;\n",
              "      display: none;\n",
              "      fill: #1967D2;\n",
              "      height: 32px;\n",
              "      padding: 0 0 0 0;\n",
              "      width: 32px;\n",
              "    }\n",
              "\n",
              "    .colab-df-convert:hover {\n",
              "      background-color: #E2EBFA;\n",
              "      box-shadow: 0px 1px 2px rgba(60, 64, 67, 0.3), 0px 1px 3px 1px rgba(60, 64, 67, 0.15);\n",
              "      fill: #174EA6;\n",
              "    }\n",
              "\n",
              "    .colab-df-buttons div {\n",
              "      margin-bottom: 4px;\n",
              "    }\n",
              "\n",
              "    [theme=dark] .colab-df-convert {\n",
              "      background-color: #3B4455;\n",
              "      fill: #D2E3FC;\n",
              "    }\n",
              "\n",
              "    [theme=dark] .colab-df-convert:hover {\n",
              "      background-color: #434B5C;\n",
              "      box-shadow: 0px 1px 3px 1px rgba(0, 0, 0, 0.15);\n",
              "      filter: drop-shadow(0px 1px 2px rgba(0, 0, 0, 0.3));\n",
              "      fill: #FFFFFF;\n",
              "    }\n",
              "  </style>\n",
              "\n",
              "    <script>\n",
              "      const buttonEl =\n",
              "        document.querySelector('#df-bccd0f91-0a66-4bd3-bbb6-e0143cb191c6 button.colab-df-convert');\n",
              "      buttonEl.style.display =\n",
              "        google.colab.kernel.accessAllowed ? 'block' : 'none';\n",
              "\n",
              "      async function convertToInteractive(key) {\n",
              "        const element = document.querySelector('#df-bccd0f91-0a66-4bd3-bbb6-e0143cb191c6');\n",
              "        const dataTable =\n",
              "          await google.colab.kernel.invokeFunction('convertToInteractive',\n",
              "                                                    [key], {});\n",
              "        if (!dataTable) return;\n",
              "\n",
              "        const docLinkHtml = 'Like what you see? Visit the ' +\n",
              "          '<a target=\"_blank\" href=https://colab.research.google.com/notebooks/data_table.ipynb>data table notebook</a>'\n",
              "          + ' to learn more about interactive tables.';\n",
              "        element.innerHTML = '';\n",
              "        dataTable['output_type'] = 'display_data';\n",
              "        await google.colab.output.renderOutput(dataTable, element);\n",
              "        const docLink = document.createElement('div');\n",
              "        docLink.innerHTML = docLinkHtml;\n",
              "        element.appendChild(docLink);\n",
              "      }\n",
              "    </script>\n",
              "  </div>\n",
              "\n",
              "\n",
              "<div id=\"df-a4c18fff-8584-429a-81a6-70126a0eb038\">\n",
              "  <button class=\"colab-df-quickchart\" onclick=\"quickchart('df-a4c18fff-8584-429a-81a6-70126a0eb038')\"\n",
              "            title=\"Suggest charts.\"\n",
              "            style=\"display:none;\">\n",
              "\n",
              "<svg xmlns=\"http://www.w3.org/2000/svg\" height=\"24px\"viewBox=\"0 0 24 24\"\n",
              "     width=\"24px\">\n",
              "    <g>\n",
              "        <path d=\"M19 3H5c-1.1 0-2 .9-2 2v14c0 1.1.9 2 2 2h14c1.1 0 2-.9 2-2V5c0-1.1-.9-2-2-2zM9 17H7v-7h2v7zm4 0h-2V7h2v10zm4 0h-2v-4h2v4z\"/>\n",
              "    </g>\n",
              "</svg>\n",
              "  </button>\n",
              "\n",
              "<style>\n",
              "  .colab-df-quickchart {\n",
              "    background-color: #E8F0FE;\n",
              "    border: none;\n",
              "    border-radius: 50%;\n",
              "    cursor: pointer;\n",
              "    display: none;\n",
              "    fill: #1967D2;\n",
              "    height: 32px;\n",
              "    padding: 0 0 0 0;\n",
              "    width: 32px;\n",
              "  }\n",
              "\n",
              "  .colab-df-quickchart:hover {\n",
              "    background-color: #E2EBFA;\n",
              "    box-shadow: 0px 1px 2px rgba(60, 64, 67, 0.3), 0px 1px 3px 1px rgba(60, 64, 67, 0.15);\n",
              "    fill: #174EA6;\n",
              "  }\n",
              "\n",
              "  [theme=dark] .colab-df-quickchart {\n",
              "    background-color: #3B4455;\n",
              "    fill: #D2E3FC;\n",
              "  }\n",
              "\n",
              "  [theme=dark] .colab-df-quickchart:hover {\n",
              "    background-color: #434B5C;\n",
              "    box-shadow: 0px 1px 3px 1px rgba(0, 0, 0, 0.15);\n",
              "    filter: drop-shadow(0px 1px 2px rgba(0, 0, 0, 0.3));\n",
              "    fill: #FFFFFF;\n",
              "  }\n",
              "</style>\n",
              "\n",
              "  <script>\n",
              "    async function quickchart(key) {\n",
              "      const charts = await google.colab.kernel.invokeFunction(\n",
              "          'suggestCharts', [key], {});\n",
              "    }\n",
              "    (() => {\n",
              "      let quickchartButtonEl =\n",
              "        document.querySelector('#df-a4c18fff-8584-429a-81a6-70126a0eb038 button');\n",
              "      quickchartButtonEl.style.display =\n",
              "        google.colab.kernel.accessAllowed ? 'block' : 'none';\n",
              "    })();\n",
              "  </script>\n",
              "</div>\n",
              "    </div>\n",
              "  </div>\n"
            ]
          },
          "metadata": {},
          "execution_count": 191
        }
      ]
    },
    {
      "cell_type": "code",
      "source": [
        "df1['winery'].nunique()"
      ],
      "metadata": {
        "colab": {
          "base_uri": "https://localhost:8080/"
        },
        "id": "V2_hceg_Tr_I",
        "outputId": "d968ea3a-a9f4-4362-a509-bb7c8ea646be"
      },
      "execution_count": null,
      "outputs": [
        {
          "output_type": "execute_result",
          "data": {
            "text/plain": [
              "5375"
            ]
          },
          "metadata": {},
          "execution_count": 40
        }
      ]
    },
    {
      "cell_type": "code",
      "source": [
        "df1 = df1[df1['taster_name'].notna()]\n",
        "df1.reset_index(drop=True, inplace=True)"
      ],
      "metadata": {
        "id": "MoyBTejeUL7g"
      },
      "execution_count": null,
      "outputs": []
    },
    {
      "cell_type": "code",
      "source": [
        "df1.shape"
      ],
      "metadata": {
        "colab": {
          "base_uri": "https://localhost:8080/"
        },
        "id": "KVKlCRb8Wxts",
        "outputId": "8624195a-f610-4e66-cb8f-ba5bca12e507"
      },
      "execution_count": null,
      "outputs": [
        {
          "output_type": "execute_result",
          "data": {
            "text/plain": [
              "(37730, 11)"
            ]
          },
          "metadata": {},
          "execution_count": 42
        }
      ]
    },
    {
      "cell_type": "code",
      "source": [
        "df1['winery'].nunique()"
      ],
      "metadata": {
        "colab": {
          "base_uri": "https://localhost:8080/"
        },
        "id": "PYWjepGVUjGM",
        "outputId": "68ee9861-d7a1-42a2-e007-e345f1b1d81e"
      },
      "execution_count": null,
      "outputs": [
        {
          "output_type": "execute_result",
          "data": {
            "text/plain": [
              "4052"
            ]
          },
          "metadata": {},
          "execution_count": 43
        }
      ]
    },
    {
      "cell_type": "code",
      "source": [
        "df1['winery'].value_counts()"
      ],
      "metadata": {
        "colab": {
          "base_uri": "https://localhost:8080/"
        },
        "id": "jV-9Xdsi6E4O",
        "outputId": "b7c3dd70-c779-4810-ad58-732bac618da2"
      },
      "execution_count": null,
      "outputs": [
        {
          "output_type": "execute_result",
          "data": {
            "text/plain": [
              "Chateau Ste. Michelle    194\n",
              "Columbia Crest           159\n",
              "Testarossa               112\n",
              "Maryhill                 102\n",
              "Chehalem                 101\n",
              "                        ... \n",
              "Isenhower                  1\n",
              "Rickshaw                   1\n",
              "Prime                      1\n",
              "Villa Creek                1\n",
              "Cardinal Rule              1\n",
              "Name: winery, Length: 4045, dtype: int64"
            ]
          },
          "metadata": {},
          "execution_count": 55
        }
      ]
    },
    {
      "cell_type": "code",
      "source": [
        "df1['province'].nunique()"
      ],
      "metadata": {
        "colab": {
          "base_uri": "https://localhost:8080/"
        },
        "id": "xUAxq8-kUtgU",
        "outputId": "c2b831c1-a166-4253-ad4e-54185d59ed47"
      },
      "execution_count": null,
      "outputs": [
        {
          "output_type": "execute_result",
          "data": {
            "text/plain": [
              "26"
            ]
          },
          "metadata": {},
          "execution_count": 44
        }
      ]
    },
    {
      "cell_type": "code",
      "source": [
        "df1['province'].value_counts()"
      ],
      "metadata": {
        "colab": {
          "base_uri": "https://localhost:8080/"
        },
        "id": "CuZRdtPSU3qO",
        "outputId": "749ede1f-5b5d-4a12-9495-7d34b33991a4"
      },
      "execution_count": null,
      "outputs": [
        {
          "output_type": "execute_result",
          "data": {
            "text/plain": [
              "California           20174\n",
              "Washington            8631\n",
              "Oregon                5337\n",
              "New York              2597\n",
              "Virginia               379\n",
              "Idaho                  187\n",
              "Michigan               106\n",
              "Texas                   85\n",
              "America                 79\n",
              "Colorado                46\n",
              "New Mexico              24\n",
              "North Carolina          15\n",
              "Pennsylvania            13\n",
              "Arizona                 11\n",
              "Ohio                     8\n",
              "Washington-Oregon        7\n",
              "Illinois                 6\n",
              "New Jersey               5\n",
              "Missouri                 4\n",
              "Nevada                   3\n",
              "Iowa                     3\n",
              "Vermont                  3\n",
              "Massachusetts            3\n",
              "Connecticut              2\n",
              "Kentucky                 1\n",
              "Hawaii                   1\n",
              "Name: province, dtype: int64"
            ]
          },
          "metadata": {},
          "execution_count": 45
        }
      ]
    },
    {
      "cell_type": "code",
      "source": [
        "df1 = df1[df1['province']!='America']"
      ],
      "metadata": {
        "id": "JxywhGJvVHMK"
      },
      "execution_count": null,
      "outputs": []
    },
    {
      "cell_type": "code",
      "source": [
        "df1.info()"
      ],
      "metadata": {
        "colab": {
          "base_uri": "https://localhost:8080/"
        },
        "id": "nB2O8wr1Xe9H",
        "outputId": "30d9cdfc-781e-4d26-a95a-88e33c6c275b"
      },
      "execution_count": null,
      "outputs": [
        {
          "output_type": "stream",
          "name": "stdout",
          "text": [
            "<class 'pandas.core.frame.DataFrame'>\n",
            "Int64Index: 37651 entries, 0 to 37729\n",
            "Data columns (total 11 columns):\n",
            " #   Column       Non-Null Count  Dtype  \n",
            "---  ------       --------------  -----  \n",
            " 0   winery       37651 non-null  object \n",
            " 1   province     37651 non-null  object \n",
            " 2   region_1     37472 non-null  object \n",
            " 3   region_2     34767 non-null  object \n",
            " 4   price        37432 non-null  float64\n",
            " 5   designation  26158 non-null  object \n",
            " 6   variety      37651 non-null  object \n",
            " 7   taster_name  37651 non-null  object \n",
            " 8   points       37651 non-null  int64  \n",
            " 9   title        37651 non-null  object \n",
            " 10  description  37651 non-null  object \n",
            "dtypes: float64(1), int64(1), object(9)\n",
            "memory usage: 3.4+ MB\n"
          ]
        }
      ]
    },
    {
      "cell_type": "code",
      "source": [
        "df1['taster_name'].nunique()"
      ],
      "metadata": {
        "colab": {
          "base_uri": "https://localhost:8080/"
        },
        "id": "uwCSf9SPX7mR",
        "outputId": "f84b4918-0e83-4428-ebb6-21fc57454bdb"
      },
      "execution_count": null,
      "outputs": [
        {
          "output_type": "execute_result",
          "data": {
            "text/plain": [
              "15"
            ]
          },
          "metadata": {},
          "execution_count": 48
        }
      ]
    },
    {
      "cell_type": "code",
      "source": [
        "df1['taster_name'].value_counts()"
      ],
      "metadata": {
        "colab": {
          "base_uri": "https://localhost:8080/"
        },
        "id": "G1unDc_lYALl",
        "outputId": "ad410ce1-e2cc-41d6-c669-ecea5ccb929a"
      },
      "execution_count": null,
      "outputs": [
        {
          "output_type": "execute_result",
          "data": {
            "text/plain": [
              "Virginie Boone        9532\n",
              "Paul Gregutt          9283\n",
              "Matt Kettmann         6331\n",
              "Sean P. Sullivan      4901\n",
              "Jim Gordon            4173\n",
              "Anna Lee C. Iijima    2433\n",
              "Alexander Peartree     409\n",
              "Susan Kostrzewa        232\n",
              "Carrie Dykes           139\n",
              "Joe Czerwinski         103\n",
              "Michael Schachner       70\n",
              "Fiona Adams             19\n",
              "Lauren Buzzeo           19\n",
              "Christina Pickard        5\n",
              "Roger Voss               2\n",
              "Name: taster_name, dtype: int64"
            ]
          },
          "metadata": {},
          "execution_count": 49
        }
      ]
    },
    {
      "cell_type": "code",
      "source": [
        "df1[df1['taster_name']=='Virginie Boone']['winery'].nunique()"
      ],
      "metadata": {
        "colab": {
          "base_uri": "https://localhost:8080/"
        },
        "id": "gLvWd9Rn1bpc",
        "outputId": "55d4fea8-4719-44aa-e8ba-a10f98f48090"
      },
      "execution_count": null,
      "outputs": [
        {
          "output_type": "execute_result",
          "data": {
            "text/plain": [
              "1559"
            ]
          },
          "metadata": {},
          "execution_count": 50
        }
      ]
    },
    {
      "cell_type": "code",
      "source": [
        "df1[df1['taster_name']=='Virginie Boone']['winery'].value_counts()"
      ],
      "metadata": {
        "colab": {
          "base_uri": "https://localhost:8080/"
        },
        "id": "-c4wawEQ51RK",
        "outputId": "1d72d49f-28a5-43c3-fde6-62c4317473d5"
      },
      "execution_count": null,
      "outputs": [
        {
          "output_type": "execute_result",
          "data": {
            "text/plain": [
              "Williams Selyem          73\n",
              "Lynmar                   70\n",
              "Gary Farrell             64\n",
              "Balletto                 58\n",
              "Carlisle                 53\n",
              "                         ..\n",
              "Billhook                  1\n",
              "50 Harvests               1\n",
              "Silver Buckle             1\n",
              "Housley's Century Oak     1\n",
              "Cardinal Rule             1\n",
              "Name: winery, Length: 1559, dtype: int64"
            ]
          },
          "metadata": {},
          "execution_count": 52
        }
      ]
    },
    {
      "cell_type": "code",
      "source": [
        "df1[df1['taster_name']=='Paul Gregutt']['winery'].nunique()"
      ],
      "metadata": {
        "colab": {
          "base_uri": "https://localhost:8080/"
        },
        "id": "Zex5A4JE1XBq",
        "outputId": "eb141b9f-8689-42d7-a2b5-ed52ddd304df"
      },
      "execution_count": null,
      "outputs": [
        {
          "output_type": "execute_result",
          "data": {
            "text/plain": [
              "978"
            ]
          },
          "metadata": {},
          "execution_count": 175
        }
      ]
    },
    {
      "cell_type": "code",
      "source": [
        "df1[df1['taster_name']=='Paul Gregutt']['winery'].value_counts()"
      ],
      "metadata": {
        "colab": {
          "base_uri": "https://localhost:8080/"
        },
        "id": "LWAT_DCG53Ty",
        "outputId": "44c79c92-7f0c-4a42-81b3-f02bf68924a2"
      },
      "execution_count": null,
      "outputs": [
        {
          "output_type": "execute_result",
          "data": {
            "text/plain": [
              "Chateau Ste. Michelle          104\n",
              "Chehalem                        98\n",
              "Columbia Crest                  88\n",
              "Willamette Valley Vineyards     82\n",
              "Adelsheim                       81\n",
              "                              ... \n",
              "Townshend                        1\n",
              "Russell Creek                    1\n",
              "Isenhower                        1\n",
              "Reynvaan Family Vineyards        1\n",
              "Black Magnolia                   1\n",
              "Name: winery, Length: 978, dtype: int64"
            ]
          },
          "metadata": {},
          "execution_count": 53
        }
      ]
    },
    {
      "cell_type": "code",
      "source": [
        "df1[df1['taster_name']=='Matt Kettmann']['winery'].nunique()"
      ],
      "metadata": {
        "colab": {
          "base_uri": "https://localhost:8080/"
        },
        "id": "srov3hg31dat",
        "outputId": "1e74f650-3fe8-4427-9293-8642680c2d25"
      },
      "execution_count": null,
      "outputs": [
        {
          "output_type": "execute_result",
          "data": {
            "text/plain": [
              "844"
            ]
          },
          "metadata": {},
          "execution_count": 178
        }
      ]
    },
    {
      "cell_type": "code",
      "source": [
        "df1[df1['taster_name']=='Matt Kettmann']['winery'].value_counts()"
      ],
      "metadata": {
        "colab": {
          "base_uri": "https://localhost:8080/"
        },
        "id": "91mh9yOL57wD",
        "outputId": "9f97b8b0-eb16-4332-d894-09cf9a45618f"
      },
      "execution_count": null,
      "outputs": [
        {
          "output_type": "execute_result",
          "data": {
            "text/plain": [
              "Testarossa          110\n",
              "Fess Parker          76\n",
              "Foxen                53\n",
              "Sarah's Vineyard     52\n",
              "J. Lohr              48\n",
              "                   ... \n",
              "Two Arrowheads        1\n",
              "Toad Hollow           1\n",
              "Prim Family           1\n",
              "Hess Select           1\n",
              "SVI                   1\n",
              "Name: winery, Length: 844, dtype: int64"
            ]
          },
          "metadata": {},
          "execution_count": 54
        }
      ]
    },
    {
      "cell_type": "code",
      "source": [
        "df1['points'].min()"
      ],
      "metadata": {
        "colab": {
          "base_uri": "https://localhost:8080/"
        },
        "id": "9WlCOky7Yxd6",
        "outputId": "e89c37d0-79c5-481a-eced-2cabdb0c750f"
      },
      "execution_count": null,
      "outputs": [
        {
          "output_type": "execute_result",
          "data": {
            "text/plain": [
              "80"
            ]
          },
          "metadata": {},
          "execution_count": 186
        }
      ]
    },
    {
      "cell_type": "code",
      "source": [
        "df1['points'].max()"
      ],
      "metadata": {
        "colab": {
          "base_uri": "https://localhost:8080/"
        },
        "id": "Mmd5BEN3Y2Vc",
        "outputId": "33d1be3e-6593-4e63-dfa6-d6bcf02f0598"
      },
      "execution_count": null,
      "outputs": [
        {
          "output_type": "execute_result",
          "data": {
            "text/plain": [
              "100"
            ]
          },
          "metadata": {},
          "execution_count": 187
        }
      ]
    },
    {
      "cell_type": "code",
      "source": [
        "df1.groupby('taster_name')['points'].mean().sort_values(ascending=False)"
      ],
      "metadata": {
        "colab": {
          "base_uri": "https://localhost:8080/"
        },
        "id": "L6TDLcKqYlnt",
        "outputId": "bd576449-5c93-46c2-f705-c4306f85f691"
      },
      "execution_count": null,
      "outputs": [
        {
          "output_type": "execute_result",
          "data": {
            "text/plain": [
              "taster_name\n",
              "Matt Kettmann         90.008845\n",
              "Roger Voss            89.500000\n",
              "Virginie Boone        89.215904\n",
              "Paul Gregutt          89.076053\n",
              "Sean P. Sullivan      88.765150\n",
              "Jim Gordon            88.626647\n",
              "Anna Lee C. Iijima    87.441430\n",
              "Fiona Adams           87.157895\n",
              "Christina Pickard     86.800000\n",
              "Carrie Dykes          86.395683\n",
              "Michael Schachner     86.300000\n",
              "Alexander Peartree    85.848411\n",
              "Lauren Buzzeo         85.526316\n",
              "Joe Czerwinski        85.320388\n",
              "Susan Kostrzewa       84.465517\n",
              "Name: points, dtype: float64"
            ]
          },
          "metadata": {},
          "execution_count": 166
        }
      ]
    },
    {
      "cell_type": "code",
      "source": [
        "dfaux1 = df1.groupby(['winery', 'taster_name'])['title'].count()"
      ],
      "metadata": {
        "id": "Vqi9gYHbZW7m"
      },
      "execution_count": null,
      "outputs": []
    },
    {
      "cell_type": "code",
      "source": [
        "dfaux1.head(50)"
      ],
      "metadata": {
        "colab": {
          "base_uri": "https://localhost:8080/"
        },
        "id": "ybsK9Kfda4py",
        "outputId": "6354eb2b-8440-4175-8f8d-17e7199d8cf7"
      },
      "execution_count": null,
      "outputs": [
        {
          "output_type": "execute_result",
          "data": {
            "text/plain": [
              "winery                    taster_name       \n",
              "100 Percent Wine          Jim Gordon             3\n",
              "1000 Stories              Jim Gordon             2\n",
              "10Span                    Matt Kettmann          1\n",
              "12C Wines                 Virginie Boone         5\n",
              "14 Hands                  Paul Gregutt          12\n",
              "                          Sean P. Sullivan      55\n",
              "1789 Wines                Paul Gregutt           1\n",
              "18401 Cellars             Sean P. Sullivan       5\n",
              "1850                      Jim Gordon             2\n",
              "                          Matt Kettmann          1\n",
              "2 Lads                    Alexander Peartree     5\n",
              "21 Grams                  Sean P. Sullivan       2\n",
              "240 Days                  Anna Lee C. Iijima     3\n",
              "29 & Oak Wines            Virginie Boone         5\n",
              "2Hawk                     Paul Gregutt           7\n",
              "2Plank                    Jim Gordon             3\n",
              "                          Matt Kettmann          3\n",
              "3 Badge Beverage          Virginie Boone         1\n",
              "3 Ball                    Jim Gordon             1\n",
              "3 Horse Ranch Vineyards   Paul Gregutt           4\n",
              "                          Sean P. Sullivan      25\n",
              "3 Steves Winery           Jim Gordon             1\n",
              "                          Virginie Boone         4\n",
              "337 Wine Cellars          Jim Gordon             1\n",
              "3Fools                    Paul Gregutt           3\n",
              "4 Cellars                 Sean P. Sullivan       3\n",
              "401K                      Jim Gordon             2\n",
              "428 Wines                 Paul Gregutt           1\n",
              "50 Harvests               Virginie Boone         1\n",
              "6 North                   Virginie Boone         2\n",
              "6 Under                   Sean P. Sullivan       4\n",
              "60 North                  Jim Gordon             1\n",
              "60 Souls                  Paul Gregutt           1\n",
              "75 Wine Co.               Jim Gordon             1\n",
              "786 Wines                 Jim Gordon             3\n",
              ":Nota Bene                Paul Gregutt          30\n",
              "                          Sean P. Sullivan      33\n",
              "A Blooming Hill Vineyard  Paul Gregutt           9\n",
              "A to Z                    Paul Gregutt          30\n",
              "A.P. Vin                  Virginie Boone         2\n",
              "AVA Grace Vineyards       Jim Gordon             4\n",
              "Aaron                     Matt Kettmann          2\n",
              "Abacela                   Paul Gregutt          65\n",
              "                          Sean P. Sullivan      11\n",
              "Abbey Creek               Paul Gregutt           1\n",
              "Abbeyville                Jim Gordon             1\n",
              "                          Virginie Boone         1\n",
              "Abbot's Passage           Virginie Boone         2\n",
              "Abeja                     Paul Gregutt          20\n",
              "                          Sean P. Sullivan       8\n",
              "Name: title, dtype: int64"
            ]
          },
          "metadata": {},
          "execution_count": 60
        }
      ]
    },
    {
      "cell_type": "code",
      "source": [
        "dfaux2 = df1.groupby(['taster_name', 'winery'])['title'].count()"
      ],
      "metadata": {
        "id": "l-BTnj0r6T0N"
      },
      "execution_count": null,
      "outputs": []
    },
    {
      "cell_type": "code",
      "source": [
        "dfaux2.info()"
      ],
      "metadata": {
        "colab": {
          "base_uri": "https://localhost:8080/"
        },
        "id": "XxVAvR0161AH",
        "outputId": "cda9dfd7-a231-462d-e471-444f1793302a"
      },
      "execution_count": null,
      "outputs": [
        {
          "output_type": "stream",
          "name": "stdout",
          "text": [
            "<class 'pandas.core.series.Series'>\n",
            "MultiIndex: 5257 entries, ('Alexander Peartree', '2 Lads') to ('Virginie Boone', 'un4seen')\n",
            "Series name: title\n",
            "Non-Null Count  Dtype\n",
            "--------------  -----\n",
            "5257 non-null   int64\n",
            "dtypes: int64(1)\n",
            "memory usage: 88.8+ KB\n"
          ]
        }
      ]
    },
    {
      "cell_type": "code",
      "source": [
        "dfaux2.head(50)"
      ],
      "metadata": {
        "colab": {
          "base_uri": "https://localhost:8080/"
        },
        "id": "wtISMNES6jHM",
        "outputId": "795def20-f379-4ea5-c486-fee7bda1e8d3"
      },
      "execution_count": null,
      "outputs": [
        {
          "output_type": "execute_result",
          "data": {
            "text/plain": [
              "taster_name         winery                \n",
              "Alexander Peartree  2 Lads                     5\n",
              "                    Anemoi                     5\n",
              "                    Annefield Vineyards        4\n",
              "                    Arché                      3\n",
              "                    Becker                     5\n",
              "                    Bel Lago                   6\n",
              "                    Bending Branch             4\n",
              "                    Black Star Farms           6\n",
              "                    Blustone                   4\n",
              "                    Bogati                     2\n",
              "                    Bowers Harbor              7\n",
              "                    Brengman Brothers          4\n",
              "                    Brennan                   13\n",
              "                    Brys                       4\n",
              "                    Canyon Wind                5\n",
              "                    Carlson Creek              2\n",
              "                    Casanel                    4\n",
              "                    Catoctin Creek             1\n",
              "                    Chateau Chantal            1\n",
              "                    Chateau Grand Traverse     4\n",
              "                    Chateau Morrisette         2\n",
              "                    Chatham                    4\n",
              "                    City Winery Chicago        1\n",
              "                    Creekside Cellars          4\n",
              "                    CrossKeys                  2\n",
              "                    Delfosse                   1\n",
              "                    Doukénie                   4\n",
              "                    Dry Mill                   2\n",
              "                    DuCard                     4\n",
              "                    Duchman Family             5\n",
              "                    Early Mountain             5\n",
              "                    Fabbioli Cellars           4\n",
              "                    Fall Creek                 5\n",
              "                    Fiesta Winery              2\n",
              "                    First Colony               1\n",
              "                    Flying Leap                3\n",
              "                    Fox Meadow                 2\n",
              "                    Gill's Pier                2\n",
              "                    Good Harbor                2\n",
              "                    Grace Estate               1\n",
              "                    Grande River               2\n",
              "                    Gray Ghost                 1\n",
              "                    Gruet                      1\n",
              "                    Haak                       8\n",
              "                    Hawthorne                  4\n",
              "                    Heritage                   1\n",
              "                    Horton                    11\n",
              "                    Illinois Sparkling Co.     6\n",
              "                    Ingleside                  5\n",
              "                    James Charles              3\n",
              "Name: title, dtype: int64"
            ]
          },
          "metadata": {},
          "execution_count": 61
        }
      ]
    },
    {
      "cell_type": "code",
      "source": [
        "dfaux2.loc['Virginie Boone'].sort_values(ascending=False).head(50)"
      ],
      "metadata": {
        "colab": {
          "base_uri": "https://localhost:8080/"
        },
        "id": "E7N2pz2U6rf1",
        "outputId": "2ee5a2c9-764e-4843-9ca9-2e9a8446439f"
      },
      "execution_count": null,
      "outputs": [
        {
          "output_type": "execute_result",
          "data": {
            "text/plain": [
              "winery\n",
              "Williams Selyem          73\n",
              "Lynmar                   70\n",
              "Gary Farrell             64\n",
              "Balletto                 58\n",
              "Carlisle                 53\n",
              "Iron Horse               50\n",
              "Sojourn                  50\n",
              "V. Sattui                47\n",
              "Rodney Strong            46\n",
              "Buena Vista              45\n",
              "Kunde                    42\n",
              "Duckhorn                 42\n",
              "Dutton-Goldfield         41\n",
              "Marimar Estate           40\n",
              "Terre Rouge              40\n",
              "Robert Biale             40\n",
              "Kokomo                   40\n",
              "Gloria Ferrer            39\n",
              "Quivira                  37\n",
              "Black Stallion           36\n",
              "St. Francis              36\n",
              "Fenestra                 35\n",
              "Martin Ray               35\n",
              "Pride Mountain           35\n",
              "J Vineyards & Winery     34\n",
              "Rock Wall                34\n",
              "Dry Creek Vineyard       34\n",
              "Grgich Hills             33\n",
              "Wellington               33\n",
              "Robert Mondavi           33\n",
              "MacRostie                32\n",
              "Siduri                   32\n",
              "Merry Edwards            32\n",
              "Frank Family             32\n",
              "Saintsbury               32\n",
              "Mumm Napa                31\n",
              "Flora Springs            30\n",
              "Kirkland Signature       30\n",
              "MacPhail                 30\n",
              "Joseph Swan Vineyards    30\n",
              "Patz & Hall              30\n",
              "Acacia                   30\n",
              "Raymond                  30\n",
              "En Garde                 30\n",
              "Ramey                    30\n",
              "Amici                    29\n",
              "Davis Family             29\n",
              "Joseph Phelps            28\n",
              "Hall                     27\n",
              "Kenwood                  27\n",
              "Name: title, dtype: int64"
            ]
          },
          "metadata": {},
          "execution_count": 76
        }
      ]
    },
    {
      "cell_type": "markdown",
      "source": [
        "-------------"
      ],
      "metadata": {
        "id": "uJAIcI1jRjRw"
      }
    },
    {
      "cell_type": "markdown",
      "source": [
        "-----------"
      ],
      "metadata": {
        "id": "sQfy82N4ZU5e"
      }
    },
    {
      "cell_type": "code",
      "source": [
        "df2 = pd.read_csv('/content/drive/MyDrive/winemag-data_first150k.csv')"
      ],
      "metadata": {
        "id": "mmH6ZbwDSMfj"
      },
      "execution_count": null,
      "outputs": []
    },
    {
      "cell_type": "code",
      "source": [
        "df2 = df2[df2['country']=='US']\n",
        "df2.reset_index(drop=True, inplace=True)"
      ],
      "metadata": {
        "id": "PnjBWqVWSO3j"
      },
      "execution_count": null,
      "outputs": []
    },
    {
      "cell_type": "code",
      "source": [
        "df2.info()"
      ],
      "metadata": {
        "colab": {
          "base_uri": "https://localhost:8080/"
        },
        "id": "8NpG3gZSQzPg",
        "outputId": "de1b40f3-b802-461b-ad84-c14025300db8"
      },
      "execution_count": null,
      "outputs": [
        {
          "output_type": "stream",
          "name": "stdout",
          "text": [
            "<class 'pandas.core.frame.DataFrame'>\n",
            "RangeIndex: 62397 entries, 0 to 62396\n",
            "Data columns (total 11 columns):\n",
            " #   Column       Non-Null Count  Dtype  \n",
            "---  ------       --------------  -----  \n",
            " 0   Unnamed: 0   62397 non-null  int64  \n",
            " 1   country      62397 non-null  object \n",
            " 2   description  62397 non-null  object \n",
            " 3   designation  40345 non-null  object \n",
            " 4   points       62397 non-null  int64  \n",
            " 5   price        62139 non-null  float64\n",
            " 6   province     62397 non-null  object \n",
            " 7   region_1     62261 non-null  object \n",
            " 8   region_2     60953 non-null  object \n",
            " 9   variety      62397 non-null  object \n",
            " 10  winery       62397 non-null  object \n",
            "dtypes: float64(1), int64(2), object(8)\n",
            "memory usage: 5.2+ MB\n"
          ]
        }
      ]
    },
    {
      "cell_type": "code",
      "source": [
        "df2.sample(3)"
      ],
      "metadata": {
        "colab": {
          "base_uri": "https://localhost:8080/",
          "height": 212
        },
        "id": "yLHAA87BRKz9",
        "outputId": "3d9e01ec-0372-41ef-80cc-ca52785bccbe"
      },
      "execution_count": null,
      "outputs": [
        {
          "output_type": "execute_result",
          "data": {
            "text/plain": [
              "       Unnamed: 0 country                                        description  \\\n",
              "2662         6344      US  The winery's entry-level bottling, this offers...   \n",
              "28327       69018      US  The flagship of Krug's new Limited Release off...   \n",
              "60285      145962      US  Earthy, meaty and spicy-it's what Napa Caberne...   \n",
              "\n",
              "                     designation  points  price    province  \\\n",
              "2662                         NaN      88   30.0  California   \n",
              "28327  Limited Release IX Clones      93   80.0  California   \n",
              "60285                        NaN      93  100.0  California   \n",
              "\n",
              "                   region_1       region_2             variety        winery  \n",
              "2662   Santa Barbara County  Central Coast          Pinot Noir        Rusack  \n",
              "28327           Napa Valley           Napa  Cabernet Sauvignon  Charles Krug  \n",
              "60285           Napa Valley           Napa  Cabernet Sauvignon    Far Niente  "
            ],
            "text/html": [
              "\n",
              "  <div id=\"df-1ef1841e-f4f4-4e15-bf0b-b8470329ebb7\" class=\"colab-df-container\">\n",
              "    <div>\n",
              "<style scoped>\n",
              "    .dataframe tbody tr th:only-of-type {\n",
              "        vertical-align: middle;\n",
              "    }\n",
              "\n",
              "    .dataframe tbody tr th {\n",
              "        vertical-align: top;\n",
              "    }\n",
              "\n",
              "    .dataframe thead th {\n",
              "        text-align: right;\n",
              "    }\n",
              "</style>\n",
              "<table border=\"1\" class=\"dataframe\">\n",
              "  <thead>\n",
              "    <tr style=\"text-align: right;\">\n",
              "      <th></th>\n",
              "      <th>Unnamed: 0</th>\n",
              "      <th>country</th>\n",
              "      <th>description</th>\n",
              "      <th>designation</th>\n",
              "      <th>points</th>\n",
              "      <th>price</th>\n",
              "      <th>province</th>\n",
              "      <th>region_1</th>\n",
              "      <th>region_2</th>\n",
              "      <th>variety</th>\n",
              "      <th>winery</th>\n",
              "    </tr>\n",
              "  </thead>\n",
              "  <tbody>\n",
              "    <tr>\n",
              "      <th>2662</th>\n",
              "      <td>6344</td>\n",
              "      <td>US</td>\n",
              "      <td>The winery's entry-level bottling, this offers...</td>\n",
              "      <td>NaN</td>\n",
              "      <td>88</td>\n",
              "      <td>30.0</td>\n",
              "      <td>California</td>\n",
              "      <td>Santa Barbara County</td>\n",
              "      <td>Central Coast</td>\n",
              "      <td>Pinot Noir</td>\n",
              "      <td>Rusack</td>\n",
              "    </tr>\n",
              "    <tr>\n",
              "      <th>28327</th>\n",
              "      <td>69018</td>\n",
              "      <td>US</td>\n",
              "      <td>The flagship of Krug's new Limited Release off...</td>\n",
              "      <td>Limited Release IX Clones</td>\n",
              "      <td>93</td>\n",
              "      <td>80.0</td>\n",
              "      <td>California</td>\n",
              "      <td>Napa Valley</td>\n",
              "      <td>Napa</td>\n",
              "      <td>Cabernet Sauvignon</td>\n",
              "      <td>Charles Krug</td>\n",
              "    </tr>\n",
              "    <tr>\n",
              "      <th>60285</th>\n",
              "      <td>145962</td>\n",
              "      <td>US</td>\n",
              "      <td>Earthy, meaty and spicy-it's what Napa Caberne...</td>\n",
              "      <td>NaN</td>\n",
              "      <td>93</td>\n",
              "      <td>100.0</td>\n",
              "      <td>California</td>\n",
              "      <td>Napa Valley</td>\n",
              "      <td>Napa</td>\n",
              "      <td>Cabernet Sauvignon</td>\n",
              "      <td>Far Niente</td>\n",
              "    </tr>\n",
              "  </tbody>\n",
              "</table>\n",
              "</div>\n",
              "    <div class=\"colab-df-buttons\">\n",
              "\n",
              "  <div class=\"colab-df-container\">\n",
              "    <button class=\"colab-df-convert\" onclick=\"convertToInteractive('df-1ef1841e-f4f4-4e15-bf0b-b8470329ebb7')\"\n",
              "            title=\"Convert this dataframe to an interactive table.\"\n",
              "            style=\"display:none;\">\n",
              "\n",
              "  <svg xmlns=\"http://www.w3.org/2000/svg\" height=\"24px\" viewBox=\"0 -960 960 960\">\n",
              "    <path d=\"M120-120v-720h720v720H120Zm60-500h600v-160H180v160Zm220 220h160v-160H400v160Zm0 220h160v-160H400v160ZM180-400h160v-160H180v160Zm440 0h160v-160H620v160ZM180-180h160v-160H180v160Zm440 0h160v-160H620v160Z\"/>\n",
              "  </svg>\n",
              "    </button>\n",
              "\n",
              "  <style>\n",
              "    .colab-df-container {\n",
              "      display:flex;\n",
              "      gap: 12px;\n",
              "    }\n",
              "\n",
              "    .colab-df-convert {\n",
              "      background-color: #E8F0FE;\n",
              "      border: none;\n",
              "      border-radius: 50%;\n",
              "      cursor: pointer;\n",
              "      display: none;\n",
              "      fill: #1967D2;\n",
              "      height: 32px;\n",
              "      padding: 0 0 0 0;\n",
              "      width: 32px;\n",
              "    }\n",
              "\n",
              "    .colab-df-convert:hover {\n",
              "      background-color: #E2EBFA;\n",
              "      box-shadow: 0px 1px 2px rgba(60, 64, 67, 0.3), 0px 1px 3px 1px rgba(60, 64, 67, 0.15);\n",
              "      fill: #174EA6;\n",
              "    }\n",
              "\n",
              "    .colab-df-buttons div {\n",
              "      margin-bottom: 4px;\n",
              "    }\n",
              "\n",
              "    [theme=dark] .colab-df-convert {\n",
              "      background-color: #3B4455;\n",
              "      fill: #D2E3FC;\n",
              "    }\n",
              "\n",
              "    [theme=dark] .colab-df-convert:hover {\n",
              "      background-color: #434B5C;\n",
              "      box-shadow: 0px 1px 3px 1px rgba(0, 0, 0, 0.15);\n",
              "      filter: drop-shadow(0px 1px 2px rgba(0, 0, 0, 0.3));\n",
              "      fill: #FFFFFF;\n",
              "    }\n",
              "  </style>\n",
              "\n",
              "    <script>\n",
              "      const buttonEl =\n",
              "        document.querySelector('#df-1ef1841e-f4f4-4e15-bf0b-b8470329ebb7 button.colab-df-convert');\n",
              "      buttonEl.style.display =\n",
              "        google.colab.kernel.accessAllowed ? 'block' : 'none';\n",
              "\n",
              "      async function convertToInteractive(key) {\n",
              "        const element = document.querySelector('#df-1ef1841e-f4f4-4e15-bf0b-b8470329ebb7');\n",
              "        const dataTable =\n",
              "          await google.colab.kernel.invokeFunction('convertToInteractive',\n",
              "                                                    [key], {});\n",
              "        if (!dataTable) return;\n",
              "\n",
              "        const docLinkHtml = 'Like what you see? Visit the ' +\n",
              "          '<a target=\"_blank\" href=https://colab.research.google.com/notebooks/data_table.ipynb>data table notebook</a>'\n",
              "          + ' to learn more about interactive tables.';\n",
              "        element.innerHTML = '';\n",
              "        dataTable['output_type'] = 'display_data';\n",
              "        await google.colab.output.renderOutput(dataTable, element);\n",
              "        const docLink = document.createElement('div');\n",
              "        docLink.innerHTML = docLinkHtml;\n",
              "        element.appendChild(docLink);\n",
              "      }\n",
              "    </script>\n",
              "  </div>\n",
              "\n",
              "\n",
              "<div id=\"df-55c1c8e0-1a6c-46a6-bfe7-47b177558b0b\">\n",
              "  <button class=\"colab-df-quickchart\" onclick=\"quickchart('df-55c1c8e0-1a6c-46a6-bfe7-47b177558b0b')\"\n",
              "            title=\"Suggest charts.\"\n",
              "            style=\"display:none;\">\n",
              "\n",
              "<svg xmlns=\"http://www.w3.org/2000/svg\" height=\"24px\"viewBox=\"0 0 24 24\"\n",
              "     width=\"24px\">\n",
              "    <g>\n",
              "        <path d=\"M19 3H5c-1.1 0-2 .9-2 2v14c0 1.1.9 2 2 2h14c1.1 0 2-.9 2-2V5c0-1.1-.9-2-2-2zM9 17H7v-7h2v7zm4 0h-2V7h2v10zm4 0h-2v-4h2v4z\"/>\n",
              "    </g>\n",
              "</svg>\n",
              "  </button>\n",
              "\n",
              "<style>\n",
              "  .colab-df-quickchart {\n",
              "    background-color: #E8F0FE;\n",
              "    border: none;\n",
              "    border-radius: 50%;\n",
              "    cursor: pointer;\n",
              "    display: none;\n",
              "    fill: #1967D2;\n",
              "    height: 32px;\n",
              "    padding: 0 0 0 0;\n",
              "    width: 32px;\n",
              "  }\n",
              "\n",
              "  .colab-df-quickchart:hover {\n",
              "    background-color: #E2EBFA;\n",
              "    box-shadow: 0px 1px 2px rgba(60, 64, 67, 0.3), 0px 1px 3px 1px rgba(60, 64, 67, 0.15);\n",
              "    fill: #174EA6;\n",
              "  }\n",
              "\n",
              "  [theme=dark] .colab-df-quickchart {\n",
              "    background-color: #3B4455;\n",
              "    fill: #D2E3FC;\n",
              "  }\n",
              "\n",
              "  [theme=dark] .colab-df-quickchart:hover {\n",
              "    background-color: #434B5C;\n",
              "    box-shadow: 0px 1px 3px 1px rgba(0, 0, 0, 0.15);\n",
              "    filter: drop-shadow(0px 1px 2px rgba(0, 0, 0, 0.3));\n",
              "    fill: #FFFFFF;\n",
              "  }\n",
              "</style>\n",
              "\n",
              "  <script>\n",
              "    async function quickchart(key) {\n",
              "      const charts = await google.colab.kernel.invokeFunction(\n",
              "          'suggestCharts', [key], {});\n",
              "    }\n",
              "    (() => {\n",
              "      let quickchartButtonEl =\n",
              "        document.querySelector('#df-55c1c8e0-1a6c-46a6-bfe7-47b177558b0b button');\n",
              "      quickchartButtonEl.style.display =\n",
              "        google.colab.kernel.accessAllowed ? 'block' : 'none';\n",
              "    })();\n",
              "  </script>\n",
              "</div>\n",
              "    </div>\n",
              "  </div>\n"
            ]
          },
          "metadata": {},
          "execution_count": 133
        }
      ]
    },
    {
      "cell_type": "code",
      "source": [
        "df2['winery'].nunique()"
      ],
      "metadata": {
        "colab": {
          "base_uri": "https://localhost:8080/"
        },
        "id": "ps_NVsZbUFQm",
        "outputId": "368f1c1a-9fbd-4c12-e28a-95af0b17f7eb"
      },
      "execution_count": null,
      "outputs": [
        {
          "output_type": "execute_result",
          "data": {
            "text/plain": [
              "4761"
            ]
          },
          "metadata": {},
          "execution_count": 138
        }
      ]
    }
  ]
}