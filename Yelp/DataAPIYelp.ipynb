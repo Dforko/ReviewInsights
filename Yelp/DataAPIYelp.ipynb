{
  "nbformat": 4,
  "nbformat_minor": 0,
  "metadata": {
    "colab": {
      "provenance": []
    },
    "kernelspec": {
      "name": "python3",
      "display_name": "Python 3"
    },
    "language_info": {
      "name": "python"
    }
  },
  "cells": [
    {
      "cell_type": "code",
      "source": [
        "from google.colab import drive\n",
        "\n",
        "drive.mount('/content/drive')"
      ],
      "metadata": {
        "colab": {
          "base_uri": "https://localhost:8080/"
        },
        "id": "HOLu1EdUL2NN",
        "outputId": "d6924450-e8cb-4902-95f9-a424139633e5"
      },
      "execution_count": null,
      "outputs": [
        {
          "output_type": "stream",
          "name": "stdout",
          "text": [
            "Mounted at /content/drive\n"
          ]
        }
      ]
    },
    {
      "cell_type": "code",
      "execution_count": null,
      "metadata": {
        "id": "0Ji0vlxjPQqE"
      },
      "outputs": [],
      "source": [
        "import pandas as pd\n",
        "\n",
        "pd.set_option('display.max_columns', None) # show alll columns"
      ]
    },
    {
      "cell_type": "markdown",
      "source": [
        "------------"
      ],
      "metadata": {
        "id": "ZcKBUZOPLG-y"
      }
    },
    {
      "cell_type": "markdown",
      "source": [
        "# Yelp API Capitales Estados"
      ],
      "metadata": {
        "id": "WZr5dmhqLIrw"
      }
    },
    {
      "cell_type": "markdown",
      "source": [
        "---------------"
      ],
      "metadata": {
        "id": "ZgdzpSUALHx8"
      }
    },
    {
      "cell_type": "code",
      "source": [
        "df1 = pd.read_csv('/content/drive/MyDrive/DataYelpGoogle/Yelp/API/CapitalesEstados/Albany_graphQl_14.csv')"
      ],
      "metadata": {
        "id": "rG8scV2MPC03"
      },
      "execution_count": null,
      "outputs": []
    },
    {
      "cell_type": "code",
      "source": [
        "df2 = pd.read_csv('/content/drive/MyDrive/DataYelpGoogle/Yelp/API/CapitalesEstados/Annapolis_graphQl_21.csv')"
      ],
      "metadata": {
        "id": "KzCGhu3kPWKF"
      },
      "execution_count": null,
      "outputs": []
    },
    {
      "cell_type": "code",
      "source": [
        "df3 = pd.read_csv('/content/drive/MyDrive/DataYelpGoogle/Yelp/API/CapitalesEstados/Atlanta_graphQl_11.csv')"
      ],
      "metadata": {
        "id": "wZEjQMHKQmMH"
      },
      "execution_count": null,
      "outputs": []
    },
    {
      "cell_type": "code",
      "source": [
        "df4 = pd.read_csv('/content/drive/MyDrive/DataYelpGoogle/Yelp/API/CapitalesEstados/Augusta_graphQl_3.csv')"
      ],
      "metadata": {
        "id": "tuditRo-McpH"
      },
      "execution_count": null,
      "outputs": []
    },
    {
      "cell_type": "code",
      "source": [
        "df5 = pd.read_csv('/content/drive/MyDrive/DataYelpGoogle/Yelp/API/CapitalesEstados/Austin_graphQl_15.csv')"
      ],
      "metadata": {
        "id": "WUNCQp3TMjsn"
      },
      "execution_count": null,
      "outputs": []
    },
    {
      "cell_type": "code",
      "source": [
        "df6 = pd.read_csv('/content/drive/MyDrive/DataYelpGoogle/Yelp/API/CapitalesEstados/BatonRouge_graphQl_1.csv')"
      ],
      "metadata": {
        "id": "bfe9QQN7M81a"
      },
      "execution_count": null,
      "outputs": []
    },
    {
      "cell_type": "code",
      "source": [
        "df7 = pd.read_csv('/content/drive/MyDrive/DataYelpGoogle/Yelp/API/CapitalesEstados/Bismarck_graphQl_1.csv')"
      ],
      "metadata": {
        "id": "5Ztwx92hNEgz"
      },
      "execution_count": null,
      "outputs": []
    },
    {
      "cell_type": "code",
      "source": [
        "df8 = pd.read_csv('/content/drive/MyDrive/DataYelpGoogle/Yelp/API/CapitalesEstados/Boise_graphQl_13.csv')"
      ],
      "metadata": {
        "id": "DgWEgPMpNMcW"
      },
      "execution_count": null,
      "outputs": []
    },
    {
      "cell_type": "code",
      "source": [
        "df9 = pd.read_csv('/content/drive/MyDrive/DataYelpGoogle/Yelp/API/CapitalesEstados/Boston_graphQl_11.csv')"
      ],
      "metadata": {
        "id": "Xgr-_dbqNclx"
      },
      "execution_count": null,
      "outputs": []
    },
    {
      "cell_type": "code",
      "source": [
        "df10 = pd.read_csv('/content/drive/MyDrive/DataYelpGoogle/Yelp/API/CapitalesEstados/CarsonCity_graphQl_5.csv')"
      ],
      "metadata": {
        "id": "gL6g_gs0NpOu"
      },
      "execution_count": null,
      "outputs": []
    },
    {
      "cell_type": "code",
      "source": [
        "df11 = pd.read_csv('/content/drive/MyDrive/DataYelpGoogle/Yelp/API/CapitalesEstados/Charleston_graphQl_1.csv')"
      ],
      "metadata": {
        "id": "aUfwSLTNNyED"
      },
      "execution_count": null,
      "outputs": []
    },
    {
      "cell_type": "code",
      "source": [
        "df12 = pd.read_csv('/content/drive/MyDrive/DataYelpGoogle/Yelp/API/CapitalesEstados/Cheyenne_graphQl_1.csv')"
      ],
      "metadata": {
        "id": "Fq29GJtYN8jw"
      },
      "execution_count": null,
      "outputs": []
    },
    {
      "cell_type": "code",
      "source": [
        "df13 = pd.read_csv('/content/drive/MyDrive/DataYelpGoogle/Yelp/API/CapitalesEstados/Columbia_graphQl_1.csv')"
      ],
      "metadata": {
        "id": "Nd4yq5F5OE_q"
      },
      "execution_count": null,
      "outputs": []
    },
    {
      "cell_type": "code",
      "source": [
        "df14 = pd.read_csv('/content/drive/MyDrive/DataYelpGoogle/Yelp/API/CapitalesEstados/Columbus_graphQl_9.csv')"
      ],
      "metadata": {
        "id": "yRgOxDneOvWG"
      },
      "execution_count": null,
      "outputs": []
    },
    {
      "cell_type": "code",
      "source": [
        "df15 = pd.read_csv('/content/drive/MyDrive/DataYelpGoogle/Yelp/API/CapitalesEstados/Denver_graphQl_19.csv')"
      ],
      "metadata": {
        "id": "Tiz8flW_O0CE"
      },
      "execution_count": null,
      "outputs": []
    },
    {
      "cell_type": "code",
      "source": [
        "df16 = pd.read_csv('/content/drive/MyDrive/DataYelpGoogle/Yelp/API/CapitalesEstados/DesMoines_graphQl_11.csv')"
      ],
      "metadata": {
        "id": "FmMUfo50I0R6"
      },
      "execution_count": null,
      "outputs": []
    },
    {
      "cell_type": "code",
      "source": [
        "df17 = pd.read_csv('/content/drive/MyDrive/DataYelpGoogle/Yelp/API/CapitalesEstados/Dover_graphQl_4.csv')"
      ],
      "metadata": {
        "id": "AL5_iGZWI0R7"
      },
      "execution_count": null,
      "outputs": []
    },
    {
      "cell_type": "code",
      "source": [
        "df18 = pd.read_csv('/content/drive/MyDrive/DataYelpGoogle/Yelp/API/CapitalesEstados/Frankfort_graphQl_9.csv')"
      ],
      "metadata": {
        "id": "ZoljOo25I0R8"
      },
      "execution_count": null,
      "outputs": []
    },
    {
      "cell_type": "code",
      "source": [
        "df19 = pd.read_csv('/content/drive/MyDrive/DataYelpGoogle/Yelp/API/CapitalesEstados/Harrisburg_graphQl_21.csv')"
      ],
      "metadata": {
        "id": "Mci7j-PWI0R8"
      },
      "execution_count": null,
      "outputs": []
    },
    {
      "cell_type": "code",
      "source": [
        "df20 = pd.read_csv('/content/drive/MyDrive/DataYelpGoogle/Yelp/API/CapitalesEstados/Hartford_graphQl_21.csv')"
      ],
      "metadata": {
        "id": "AnCx2oCwI0R8"
      },
      "execution_count": null,
      "outputs": []
    },
    {
      "cell_type": "code",
      "source": [
        "df21 = pd.read_csv('/content/drive/MyDrive/DataYelpGoogle/Yelp/API/CapitalesEstados/Honolulu_graphQl_5.csv')"
      ],
      "metadata": {
        "id": "XwW0ueJcI0R8"
      },
      "execution_count": null,
      "outputs": []
    },
    {
      "cell_type": "code",
      "source": [
        "df22 = pd.read_csv('/content/drive/MyDrive/DataYelpGoogle/Yelp/API/CapitalesEstados/Indianapolis_graphQl_17.csv')"
      ],
      "metadata": {
        "id": "kQB4OA8VI0R8"
      },
      "execution_count": null,
      "outputs": []
    },
    {
      "cell_type": "code",
      "source": [
        "df23 = pd.read_csv('/content/drive/MyDrive/DataYelpGoogle/Yelp/API/CapitalesEstados/Jackson_graphQl_2.csv')"
      ],
      "metadata": {
        "id": "O45n6DULI0R8"
      },
      "execution_count": null,
      "outputs": []
    },
    {
      "cell_type": "code",
      "source": [
        "df24 = pd.read_csv('/content/drive/MyDrive/DataYelpGoogle/Yelp/API/CapitalesEstados/JeffersonCity_graphQl_3.csv')"
      ],
      "metadata": {
        "id": "Yn4fcqFYI0R8"
      },
      "execution_count": null,
      "outputs": []
    },
    {
      "cell_type": "code",
      "source": [
        "df25 = pd.read_csv('/content/drive/MyDrive/DataYelpGoogle/Yelp/API/CapitalesEstados/Lansing_graphQl_5.csv')"
      ],
      "metadata": {
        "id": "7XNJW5HfJA-i"
      },
      "execution_count": null,
      "outputs": []
    },
    {
      "cell_type": "code",
      "source": [
        "# armar un nuevo dataframe A\n",
        "dfA = pd.concat([df1, df2, df3, df4, df5, df6, df7, df8, df9, df10, df11, df12, df13, df14, df15, df16, df17, df18, df19, df20, df21, df22, df23, df24, df25,], axis=0, ignore_index=True)"
      ],
      "metadata": {
        "id": "nsMf51qHPfLI"
      },
      "execution_count": null,
      "outputs": []
    },
    {
      "cell_type": "code",
      "source": [
        "dfA.shape"
      ],
      "metadata": {
        "colab": {
          "base_uri": "https://localhost:8080/"
        },
        "id": "U8K0qnCXP2NK",
        "outputId": "0cf45673-9547-4a58-e098-06f79099eebf"
      },
      "execution_count": null,
      "outputs": [
        {
          "output_type": "execute_result",
          "data": {
            "text/plain": [
              "(224, 10)"
            ]
          },
          "metadata": {},
          "execution_count": 31
        }
      ]
    },
    {
      "cell_type": "code",
      "source": [
        "dfA.head(5)"
      ],
      "metadata": {
        "colab": {
          "base_uri": "https://localhost:8080/",
          "height": 423
        },
        "id": "1C-uXHZSQ-xR",
        "outputId": "74d2e143-3884-4d26-bc44-df645a7e1c84"
      },
      "execution_count": null,
      "outputs": [
        {
          "output_type": "execute_result",
          "data": {
            "text/plain": [
              "                       id                                       name  \\\n",
              "0  qJ1kfVLwdTEQ_oRHmfaZaQ                             Nine Pin Cider   \n",
              "1  nl8KrEl4H9f1Wm1ry-46zA                      Colvin Wine Merchants   \n",
              "2  QsBctI8bZlsCFzsSBQoyyg  The Bull and Bee - Meadery & Tasting Room   \n",
              "3  sPSQqvYmQI4elOdiLbqxmA                             SABBA Vineyard   \n",
              "4  YFhxiIoI-N5T_S8CeMUIvQ            Galway Rock Vineyard and Winery   \n",
              "\n",
              "                                               alias  \\\n",
              "0                              nine-pin-cider-albany   \n",
              "1                       colvin-wine-merchants-albany   \n",
              "2  the-bull-and-bee-meadery-and-tasting-room-alba...   \n",
              "3                       sabba-vineyard-old-chatham-3   \n",
              "4      galway-rock-vineyard-and-winery-ballston-lake   \n",
              "\n",
              "                                          categories  \\\n",
              "0  [{'title': 'Breweries', 'alias': 'breweries'},...   \n",
              "1       [{'title': 'Wineries', 'alias': 'wineries'}]   \n",
              "2  [{'title': 'Wine Tasting Room', 'alias': 'wine...   \n",
              "3  [{'title': 'Wine Tasting Room', 'alias': 'wine...   \n",
              "4  [{'title': 'Wine Tasting Room', 'alias': 'wine...   \n",
              "\n",
              "                                            location  \\\n",
              "0  {'address1': '929 Broadway', 'city': 'Albany',...   \n",
              "1  {'address1': '900D Central Ave', 'city': 'Alba...   \n",
              "2  {'address1': '140 Hamilton St', 'city': 'Alban...   \n",
              "3  {'address1': '383 Pitts Rd', 'city': 'Old Chat...   \n",
              "4  {'address1': '998 Saratoga Rd', 'city': 'Balls...   \n",
              "\n",
              "                                        coordinates price  rating  \\\n",
              "0  {'latitude': 42.661892, 'longitude': -73.743767}    $$     4.5   \n",
              "1   {'latitude': 42.67993, 'longitude': -73.792262}   NaN     4.0   \n",
              "2  {'latitude': 42.647415, 'longitude': -73.757309}   NaN     5.0   \n",
              "3    {'latitude': 42.46964, 'longitude': -73.57555}   NaN     5.0   \n",
              "4     {'latitude': 42.9369, 'longitude': -73.87441}   NaN     4.5   \n",
              "\n",
              "   review_count                                            reviews  \n",
              "0           128  [{'id': '8XceajjIrZxLY4iInVwYZA', 'text': 'Oka...  \n",
              "1             4  [{'id': 'Ulrb-Hp8e5_KqoFehd_xGQ', 'text': 'The...  \n",
              "2             9  [{'id': '1dMR8uxvSeFtktWR6ri6PA', 'text': 'Coo...  \n",
              "3            12  [{'id': 'BHaaWQJRDs2wCYHN170tPg', 'text': \"Sab...  \n",
              "4            20  [{'id': 'pJ0VpT2G5nCFkgKTdF3URg', 'text': 'Gre...  "
            ],
            "text/html": [
              "\n",
              "\n",
              "  <div id=\"df-b5265732-4c7d-40ca-b142-bbe4c845263e\">\n",
              "    <div class=\"colab-df-container\">\n",
              "      <div>\n",
              "<style scoped>\n",
              "    .dataframe tbody tr th:only-of-type {\n",
              "        vertical-align: middle;\n",
              "    }\n",
              "\n",
              "    .dataframe tbody tr th {\n",
              "        vertical-align: top;\n",
              "    }\n",
              "\n",
              "    .dataframe thead th {\n",
              "        text-align: right;\n",
              "    }\n",
              "</style>\n",
              "<table border=\"1\" class=\"dataframe\">\n",
              "  <thead>\n",
              "    <tr style=\"text-align: right;\">\n",
              "      <th></th>\n",
              "      <th>id</th>\n",
              "      <th>name</th>\n",
              "      <th>alias</th>\n",
              "      <th>categories</th>\n",
              "      <th>location</th>\n",
              "      <th>coordinates</th>\n",
              "      <th>price</th>\n",
              "      <th>rating</th>\n",
              "      <th>review_count</th>\n",
              "      <th>reviews</th>\n",
              "    </tr>\n",
              "  </thead>\n",
              "  <tbody>\n",
              "    <tr>\n",
              "      <th>0</th>\n",
              "      <td>qJ1kfVLwdTEQ_oRHmfaZaQ</td>\n",
              "      <td>Nine Pin Cider</td>\n",
              "      <td>nine-pin-cider-albany</td>\n",
              "      <td>[{'title': 'Breweries', 'alias': 'breweries'},...</td>\n",
              "      <td>{'address1': '929 Broadway', 'city': 'Albany',...</td>\n",
              "      <td>{'latitude': 42.661892, 'longitude': -73.743767}</td>\n",
              "      <td>$$</td>\n",
              "      <td>4.5</td>\n",
              "      <td>128</td>\n",
              "      <td>[{'id': '8XceajjIrZxLY4iInVwYZA', 'text': 'Oka...</td>\n",
              "    </tr>\n",
              "    <tr>\n",
              "      <th>1</th>\n",
              "      <td>nl8KrEl4H9f1Wm1ry-46zA</td>\n",
              "      <td>Colvin Wine Merchants</td>\n",
              "      <td>colvin-wine-merchants-albany</td>\n",
              "      <td>[{'title': 'Wineries', 'alias': 'wineries'}]</td>\n",
              "      <td>{'address1': '900D Central Ave', 'city': 'Alba...</td>\n",
              "      <td>{'latitude': 42.67993, 'longitude': -73.792262}</td>\n",
              "      <td>NaN</td>\n",
              "      <td>4.0</td>\n",
              "      <td>4</td>\n",
              "      <td>[{'id': 'Ulrb-Hp8e5_KqoFehd_xGQ', 'text': 'The...</td>\n",
              "    </tr>\n",
              "    <tr>\n",
              "      <th>2</th>\n",
              "      <td>QsBctI8bZlsCFzsSBQoyyg</td>\n",
              "      <td>The Bull and Bee - Meadery &amp; Tasting Room</td>\n",
              "      <td>the-bull-and-bee-meadery-and-tasting-room-alba...</td>\n",
              "      <td>[{'title': 'Wine Tasting Room', 'alias': 'wine...</td>\n",
              "      <td>{'address1': '140 Hamilton St', 'city': 'Alban...</td>\n",
              "      <td>{'latitude': 42.647415, 'longitude': -73.757309}</td>\n",
              "      <td>NaN</td>\n",
              "      <td>5.0</td>\n",
              "      <td>9</td>\n",
              "      <td>[{'id': '1dMR8uxvSeFtktWR6ri6PA', 'text': 'Coo...</td>\n",
              "    </tr>\n",
              "    <tr>\n",
              "      <th>3</th>\n",
              "      <td>sPSQqvYmQI4elOdiLbqxmA</td>\n",
              "      <td>SABBA Vineyard</td>\n",
              "      <td>sabba-vineyard-old-chatham-3</td>\n",
              "      <td>[{'title': 'Wine Tasting Room', 'alias': 'wine...</td>\n",
              "      <td>{'address1': '383 Pitts Rd', 'city': 'Old Chat...</td>\n",
              "      <td>{'latitude': 42.46964, 'longitude': -73.57555}</td>\n",
              "      <td>NaN</td>\n",
              "      <td>5.0</td>\n",
              "      <td>12</td>\n",
              "      <td>[{'id': 'BHaaWQJRDs2wCYHN170tPg', 'text': \"Sab...</td>\n",
              "    </tr>\n",
              "    <tr>\n",
              "      <th>4</th>\n",
              "      <td>YFhxiIoI-N5T_S8CeMUIvQ</td>\n",
              "      <td>Galway Rock Vineyard and Winery</td>\n",
              "      <td>galway-rock-vineyard-and-winery-ballston-lake</td>\n",
              "      <td>[{'title': 'Wine Tasting Room', 'alias': 'wine...</td>\n",
              "      <td>{'address1': '998 Saratoga Rd', 'city': 'Balls...</td>\n",
              "      <td>{'latitude': 42.9369, 'longitude': -73.87441}</td>\n",
              "      <td>NaN</td>\n",
              "      <td>4.5</td>\n",
              "      <td>20</td>\n",
              "      <td>[{'id': 'pJ0VpT2G5nCFkgKTdF3URg', 'text': 'Gre...</td>\n",
              "    </tr>\n",
              "  </tbody>\n",
              "</table>\n",
              "</div>\n",
              "      <button class=\"colab-df-convert\" onclick=\"convertToInteractive('df-b5265732-4c7d-40ca-b142-bbe4c845263e')\"\n",
              "              title=\"Convert this dataframe to an interactive table.\"\n",
              "              style=\"display:none;\">\n",
              "\n",
              "  <svg xmlns=\"http://www.w3.org/2000/svg\" height=\"24px\"viewBox=\"0 0 24 24\"\n",
              "       width=\"24px\">\n",
              "    <path d=\"M0 0h24v24H0V0z\" fill=\"none\"/>\n",
              "    <path d=\"M18.56 5.44l.94 2.06.94-2.06 2.06-.94-2.06-.94-.94-2.06-.94 2.06-2.06.94zm-11 1L8.5 8.5l.94-2.06 2.06-.94-2.06-.94L8.5 2.5l-.94 2.06-2.06.94zm10 10l.94 2.06.94-2.06 2.06-.94-2.06-.94-.94-2.06-.94 2.06-2.06.94z\"/><path d=\"M17.41 7.96l-1.37-1.37c-.4-.4-.92-.59-1.43-.59-.52 0-1.04.2-1.43.59L10.3 9.45l-7.72 7.72c-.78.78-.78 2.05 0 2.83L4 21.41c.39.39.9.59 1.41.59.51 0 1.02-.2 1.41-.59l7.78-7.78 2.81-2.81c.8-.78.8-2.07 0-2.86zM5.41 20L4 18.59l7.72-7.72 1.47 1.35L5.41 20z\"/>\n",
              "  </svg>\n",
              "      </button>\n",
              "\n",
              "\n",
              "\n",
              "    <div id=\"df-94cf67af-e59b-454e-aff4-ef23e9f3dc21\">\n",
              "      <button class=\"colab-df-quickchart\" onclick=\"quickchart('df-94cf67af-e59b-454e-aff4-ef23e9f3dc21')\"\n",
              "              title=\"Suggest charts.\"\n",
              "              style=\"display:none;\">\n",
              "\n",
              "<svg xmlns=\"http://www.w3.org/2000/svg\" height=\"24px\"viewBox=\"0 0 24 24\"\n",
              "     width=\"24px\">\n",
              "    <g>\n",
              "        <path d=\"M19 3H5c-1.1 0-2 .9-2 2v14c0 1.1.9 2 2 2h14c1.1 0 2-.9 2-2V5c0-1.1-.9-2-2-2zM9 17H7v-7h2v7zm4 0h-2V7h2v10zm4 0h-2v-4h2v4z\"/>\n",
              "    </g>\n",
              "</svg>\n",
              "      </button>\n",
              "    </div>\n",
              "\n",
              "<style>\n",
              "  .colab-df-quickchart {\n",
              "    background-color: #E8F0FE;\n",
              "    border: none;\n",
              "    border-radius: 50%;\n",
              "    cursor: pointer;\n",
              "    display: none;\n",
              "    fill: #1967D2;\n",
              "    height: 32px;\n",
              "    padding: 0 0 0 0;\n",
              "    width: 32px;\n",
              "  }\n",
              "\n",
              "  .colab-df-quickchart:hover {\n",
              "    background-color: #E2EBFA;\n",
              "    box-shadow: 0px 1px 2px rgba(60, 64, 67, 0.3), 0px 1px 3px 1px rgba(60, 64, 67, 0.15);\n",
              "    fill: #174EA6;\n",
              "  }\n",
              "\n",
              "  [theme=dark] .colab-df-quickchart {\n",
              "    background-color: #3B4455;\n",
              "    fill: #D2E3FC;\n",
              "  }\n",
              "\n",
              "  [theme=dark] .colab-df-quickchart:hover {\n",
              "    background-color: #434B5C;\n",
              "    box-shadow: 0px 1px 3px 1px rgba(0, 0, 0, 0.15);\n",
              "    filter: drop-shadow(0px 1px 2px rgba(0, 0, 0, 0.3));\n",
              "    fill: #FFFFFF;\n",
              "  }\n",
              "</style>\n",
              "\n",
              "    <script>\n",
              "      async function quickchart(key) {\n",
              "        const containerElement = document.querySelector('#' + key);\n",
              "        const charts = await google.colab.kernel.invokeFunction(\n",
              "            'suggestCharts', [key], {});\n",
              "      }\n",
              "    </script>\n",
              "\n",
              "\n",
              "      <script>\n",
              "\n",
              "function displayQuickchartButton(domScope) {\n",
              "  let quickchartButtonEl =\n",
              "    domScope.querySelector('#df-94cf67af-e59b-454e-aff4-ef23e9f3dc21 button.colab-df-quickchart');\n",
              "  quickchartButtonEl.style.display =\n",
              "    google.colab.kernel.accessAllowed ? 'block' : 'none';\n",
              "}\n",
              "\n",
              "        displayQuickchartButton(document);\n",
              "      </script>\n",
              "      <style>\n",
              "    .colab-df-container {\n",
              "      display:flex;\n",
              "      flex-wrap:wrap;\n",
              "      gap: 12px;\n",
              "    }\n",
              "\n",
              "    .colab-df-convert {\n",
              "      background-color: #E8F0FE;\n",
              "      border: none;\n",
              "      border-radius: 50%;\n",
              "      cursor: pointer;\n",
              "      display: none;\n",
              "      fill: #1967D2;\n",
              "      height: 32px;\n",
              "      padding: 0 0 0 0;\n",
              "      width: 32px;\n",
              "    }\n",
              "\n",
              "    .colab-df-convert:hover {\n",
              "      background-color: #E2EBFA;\n",
              "      box-shadow: 0px 1px 2px rgba(60, 64, 67, 0.3), 0px 1px 3px 1px rgba(60, 64, 67, 0.15);\n",
              "      fill: #174EA6;\n",
              "    }\n",
              "\n",
              "    [theme=dark] .colab-df-convert {\n",
              "      background-color: #3B4455;\n",
              "      fill: #D2E3FC;\n",
              "    }\n",
              "\n",
              "    [theme=dark] .colab-df-convert:hover {\n",
              "      background-color: #434B5C;\n",
              "      box-shadow: 0px 1px 3px 1px rgba(0, 0, 0, 0.15);\n",
              "      filter: drop-shadow(0px 1px 2px rgba(0, 0, 0, 0.3));\n",
              "      fill: #FFFFFF;\n",
              "    }\n",
              "  </style>\n",
              "\n",
              "      <script>\n",
              "        const buttonEl =\n",
              "          document.querySelector('#df-b5265732-4c7d-40ca-b142-bbe4c845263e button.colab-df-convert');\n",
              "        buttonEl.style.display =\n",
              "          google.colab.kernel.accessAllowed ? 'block' : 'none';\n",
              "\n",
              "        async function convertToInteractive(key) {\n",
              "          const element = document.querySelector('#df-b5265732-4c7d-40ca-b142-bbe4c845263e');\n",
              "          const dataTable =\n",
              "            await google.colab.kernel.invokeFunction('convertToInteractive',\n",
              "                                                     [key], {});\n",
              "          if (!dataTable) return;\n",
              "\n",
              "          const docLinkHtml = 'Like what you see? Visit the ' +\n",
              "            '<a target=\"_blank\" href=https://colab.research.google.com/notebooks/data_table.ipynb>data table notebook</a>'\n",
              "            + ' to learn more about interactive tables.';\n",
              "          element.innerHTML = '';\n",
              "          dataTable['output_type'] = 'display_data';\n",
              "          await google.colab.output.renderOutput(dataTable, element);\n",
              "          const docLink = document.createElement('div');\n",
              "          docLink.innerHTML = docLinkHtml;\n",
              "          element.appendChild(docLink);\n",
              "        }\n",
              "      </script>\n",
              "    </div>\n",
              "  </div>\n"
            ]
          },
          "metadata": {},
          "execution_count": 33
        }
      ]
    },
    {
      "cell_type": "code",
      "source": [
        "dfA.info()"
      ],
      "metadata": {
        "colab": {
          "base_uri": "https://localhost:8080/"
        },
        "id": "ODvZMzKCQuPM",
        "outputId": "961435ee-59ed-4d7b-90a3-2757b9f07eb9"
      },
      "execution_count": null,
      "outputs": [
        {
          "output_type": "stream",
          "name": "stdout",
          "text": [
            "<class 'pandas.core.frame.DataFrame'>\n",
            "RangeIndex: 224 entries, 0 to 223\n",
            "Data columns (total 10 columns):\n",
            " #   Column        Non-Null Count  Dtype  \n",
            "---  ------        --------------  -----  \n",
            " 0   id            224 non-null    object \n",
            " 1   name          224 non-null    object \n",
            " 2   alias         224 non-null    object \n",
            " 3   categories    224 non-null    object \n",
            " 4   location      224 non-null    object \n",
            " 5   coordinates   223 non-null    object \n",
            " 6   price         135 non-null    object \n",
            " 7   rating        224 non-null    float64\n",
            " 8   review_count  224 non-null    int64  \n",
            " 9   reviews       224 non-null    object \n",
            "dtypes: float64(1), int64(1), object(8)\n",
            "memory usage: 17.6+ KB\n"
          ]
        }
      ]
    },
    {
      "cell_type": "code",
      "source": [
        "df26 = pd.read_csv('/content/drive/MyDrive/DataYelpGoogle/Yelp/API/CapitalesEstados/Lincoln_graphQl_9.csv')"
      ],
      "metadata": {
        "id": "dtuU-bzDJiDa"
      },
      "execution_count": null,
      "outputs": []
    },
    {
      "cell_type": "code",
      "source": [
        "df27 = pd.read_csv('/content/drive/MyDrive/DataYelpGoogle/Yelp/API/CapitalesEstados/LittleRock_graphQl_2.csv')"
      ],
      "metadata": {
        "id": "CBoUYr8JJiog"
      },
      "execution_count": null,
      "outputs": []
    },
    {
      "cell_type": "code",
      "source": [
        "df28 = pd.read_csv('/content/drive/MyDrive/DataYelpGoogle/Yelp/API/CapitalesEstados/Madison_graphQl_12.csv')"
      ],
      "metadata": {
        "id": "GNJSe3cNJioi"
      },
      "execution_count": null,
      "outputs": []
    },
    {
      "cell_type": "code",
      "source": [
        "df29 = pd.read_csv('/content/drive/MyDrive/DataYelpGoogle/Yelp/API/CapitalesEstados/Montpelier_graphQl_5.csv')"
      ],
      "metadata": {
        "id": "ygSYf-TtJioi"
      },
      "execution_count": null,
      "outputs": []
    },
    {
      "cell_type": "code",
      "source": [
        "df30 = pd.read_csv('/content/drive/MyDrive/DataYelpGoogle/Yelp/API/CapitalesEstados/Nashville_graphQl_9.csv')"
      ],
      "metadata": {
        "id": "_AMRUPeDJioj"
      },
      "execution_count": null,
      "outputs": []
    },
    {
      "cell_type": "code",
      "source": [
        "df31 = pd.read_csv('/content/drive/MyDrive/DataYelpGoogle/Yelp/API/CapitalesEstados/OklahomaCity_graphQl_10.csv')"
      ],
      "metadata": {
        "id": "EisWkT6_Jioj"
      },
      "execution_count": null,
      "outputs": []
    },
    {
      "cell_type": "code",
      "source": [
        "df32 = pd.read_csv('/content/drive/MyDrive/DataYelpGoogle/Yelp/API/CapitalesEstados/Olympia_graphQl_11.csv')"
      ],
      "metadata": {
        "id": "hVw4rtNJJioj"
      },
      "execution_count": null,
      "outputs": []
    },
    {
      "cell_type": "code",
      "source": [
        "df33 = pd.read_csv('/content/drive/MyDrive/DataYelpGoogle/Yelp/API/CapitalesEstados/Phoenix_graphQl_25.csv')"
      ],
      "metadata": {
        "id": "XsK1PcxiJiok"
      },
      "execution_count": null,
      "outputs": []
    },
    {
      "cell_type": "code",
      "source": [
        "df34 = pd.read_csv('/content/drive/MyDrive/DataYelpGoogle/Yelp/API/CapitalesEstados/Providence_graphQl_15.csv')"
      ],
      "metadata": {
        "id": "yoQAwxIPJiok"
      },
      "execution_count": null,
      "outputs": []
    },
    {
      "cell_type": "code",
      "source": [
        "df35 = pd.read_csv('/content/drive/MyDrive/DataYelpGoogle/Yelp/API/CapitalesEstados/Raleigh_graphQl_12.csv')"
      ],
      "metadata": {
        "id": "1GOYIUJAJiok"
      },
      "execution_count": null,
      "outputs": []
    },
    {
      "cell_type": "code",
      "source": [
        "df36 = pd.read_csv('/content/drive/MyDrive/DataYelpGoogle/Yelp/API/CapitalesEstados/Richmond_graphQl_7.csv')"
      ],
      "metadata": {
        "id": "9JLECNJtJwZ1"
      },
      "execution_count": null,
      "outputs": []
    },
    {
      "cell_type": "code",
      "source": [
        "df37 = pd.read_csv('/content/drive/MyDrive/DataYelpGoogle/Yelp/API/CapitalesEstados/Sacramento_graphQl_17.csv')"
      ],
      "metadata": {
        "id": "we9tS0rwJwZ2"
      },
      "execution_count": null,
      "outputs": []
    },
    {
      "cell_type": "code",
      "source": [
        "df38 = pd.read_csv('/content/drive/MyDrive/DataYelpGoogle/Yelp/API/CapitalesEstados/SaintPaul_graphQl_12.csv')"
      ],
      "metadata": {
        "id": "mnkDqpjJJwZ3"
      },
      "execution_count": null,
      "outputs": []
    },
    {
      "cell_type": "code",
      "source": [
        "df39 = pd.read_csv('/content/drive/MyDrive/DataYelpGoogle/Yelp/API/CapitalesEstados/Salem_graphQl_15.csv')"
      ],
      "metadata": {
        "id": "W1UdER52JwZ3"
      },
      "execution_count": null,
      "outputs": []
    },
    {
      "cell_type": "code",
      "source": [
        "df40 = pd.read_csv('/content/drive/MyDrive/DataYelpGoogle/Yelp/API/CapitalesEstados/SaltLakeCity_graphQl_4.csv')"
      ],
      "metadata": {
        "id": "fY_-_i-5JwZ4"
      },
      "execution_count": null,
      "outputs": []
    },
    {
      "cell_type": "code",
      "source": [
        "df41 = pd.read_csv('/content/drive/MyDrive/DataYelpGoogle/Yelp/API/CapitalesEstados/SantaFe_graphQl_6.csv')"
      ],
      "metadata": {
        "id": "VO5s-ZmcJwZ4"
      },
      "execution_count": null,
      "outputs": []
    },
    {
      "cell_type": "code",
      "source": [
        "df42 = pd.read_csv('/content/drive/MyDrive/DataYelpGoogle/Yelp/API/CapitalesEstados/Springfield_graphQl_5.csv')"
      ],
      "metadata": {
        "id": "l4ffo53lJwZ4"
      },
      "execution_count": null,
      "outputs": []
    },
    {
      "cell_type": "code",
      "source": [
        "df43 = pd.read_csv('/content/drive/MyDrive/DataYelpGoogle/Yelp/API/CapitalesEstados/Topeka_graphQl_4.csv')"
      ],
      "metadata": {
        "id": "6R256qygJwZ5"
      },
      "execution_count": null,
      "outputs": []
    },
    {
      "cell_type": "code",
      "source": [
        "df44 = pd.read_csv('/content/drive/MyDrive/DataYelpGoogle/Yelp/API/CapitalesEstados/Trenton_graphQl_33.csv')"
      ],
      "metadata": {
        "id": "SfCbJj3wJwZ5"
      },
      "execution_count": null,
      "outputs": []
    },
    {
      "cell_type": "code",
      "source": [
        "df45 = pd.read_csv('/content/drive/MyDrive/DataYelpGoogle/Yelp/API/CapitalesEstados/Concord_graphQl_15.csv')"
      ],
      "metadata": {
        "id": "5KvDwug8JwZ5"
      },
      "execution_count": null,
      "outputs": []
    },
    {
      "cell_type": "code",
      "source": [
        "# armar un nuevo dataframe B\n",
        "dfB = pd.concat([df26, df27, df28, df29, df30, df31, df32, df33, df34, df35, df36, df37, df38, df39, df40, df41, df42, df43, df44, df45], axis=0, ignore_index=True)"
      ],
      "metadata": {
        "id": "EaeeIF9JJiok"
      },
      "execution_count": null,
      "outputs": []
    },
    {
      "cell_type": "code",
      "source": [
        "dfB.shape"
      ],
      "metadata": {
        "colab": {
          "base_uri": "https://localhost:8080/"
        },
        "id": "FPMgRBWIiHc4",
        "outputId": "32f6b907-dad8-4be7-9ca1-065b39abb689"
      },
      "execution_count": null,
      "outputs": [
        {
          "output_type": "execute_result",
          "data": {
            "text/plain": [
              "(228, 10)"
            ]
          },
          "metadata": {},
          "execution_count": 67
        }
      ]
    },
    {
      "cell_type": "code",
      "source": [
        "# armar un nuevo dataframe df\n",
        "df = pd.concat([dfA, dfB], axis=0, ignore_index=True)"
      ],
      "metadata": {
        "id": "r9C-EzpMKK8Q"
      },
      "execution_count": null,
      "outputs": []
    },
    {
      "cell_type": "code",
      "source": [
        "df.shape"
      ],
      "metadata": {
        "colab": {
          "base_uri": "https://localhost:8080/"
        },
        "id": "D2dYLrXuiYzv",
        "outputId": "40e000d1-1799-43bd-aadd-e624202f3915"
      },
      "execution_count": null,
      "outputs": [
        {
          "output_type": "execute_result",
          "data": {
            "text/plain": [
              "(452, 10)"
            ]
          },
          "metadata": {},
          "execution_count": 69
        }
      ]
    },
    {
      "cell_type": "code",
      "source": [
        "df.info()"
      ],
      "metadata": {
        "colab": {
          "base_uri": "https://localhost:8080/"
        },
        "id": "4MjGdlBdiaz_",
        "outputId": "d837eeda-bf29-4634-9c7d-1fef17aebfd7"
      },
      "execution_count": null,
      "outputs": [
        {
          "output_type": "stream",
          "name": "stdout",
          "text": [
            "<class 'pandas.core.frame.DataFrame'>\n",
            "RangeIndex: 452 entries, 0 to 451\n",
            "Data columns (total 10 columns):\n",
            " #   Column        Non-Null Count  Dtype  \n",
            "---  ------        --------------  -----  \n",
            " 0   id            452 non-null    object \n",
            " 1   name          452 non-null    object \n",
            " 2   alias         452 non-null    object \n",
            " 3   categories    452 non-null    object \n",
            " 4   location      452 non-null    object \n",
            " 5   coordinates   451 non-null    object \n",
            " 6   price         275 non-null    object \n",
            " 7   rating        452 non-null    float64\n",
            " 8   review_count  452 non-null    int64  \n",
            " 9   reviews       452 non-null    object \n",
            "dtypes: float64(1), int64(1), object(8)\n",
            "memory usage: 35.4+ KB\n"
          ]
        }
      ]
    },
    {
      "cell_type": "code",
      "source": [
        "df.sample(5)"
      ],
      "metadata": {
        "colab": {
          "base_uri": "https://localhost:8080/",
          "height": 423
        },
        "id": "JbE9MRUijoK2",
        "outputId": "a3a0b8eb-d4e7-4c02-a706-ad1f555c1673"
      },
      "execution_count": null,
      "outputs": [
        {
          "output_type": "execute_result",
          "data": {
            "text/plain": [
              "                         id                          name  \\\n",
              "409  -nXZLIhPQcYYJiLI3weqGQ     Hopewell Valley Vineyards   \n",
              "427  x-rj_toIlbfwnwfv138P4A               Angelico Winery   \n",
              "196  ZrcEBZsXyodGXVXu7N5Q4Q  Ambrosia Wine Storage Hawaii   \n",
              "214  PuIMxrqbGgtXxrzpLCUfVQ   Old Canton Rd Wine & Liquor   \n",
              "61   4zPHBCxp_ywrzVbAqiS4UA            Benny’s Wine Tours   \n",
              "\n",
              "                                       alias  \\\n",
              "409     hopewell-valley-vineyards-pennington   \n",
              "427             angelico-winery-lambertville   \n",
              "196    ambrosia-wine-storage-hawaii-honolulu   \n",
              "214  old-canton-rd-wine-and-liquor-ridgeland   \n",
              "61                  benny-s-wine-tours-llano   \n",
              "\n",
              "                                            categories  \\\n",
              "409       [{'title': 'Wineries', 'alias': 'wineries'}]   \n",
              "427  [{'title': 'Wine Tasting Room', 'alias': 'wine...   \n",
              "196       [{'title': 'Wineries', 'alias': 'wineries'}]   \n",
              "214  [{'title': 'Beer, Wine & Spirits', 'alias': 'b...   \n",
              "61   [{'title': 'Airport Shuttles', 'alias': 'airpo...   \n",
              "\n",
              "                                              location  \\\n",
              "409  {'address1': '46 Yard Rd', 'city': 'Pennington...   \n",
              "427  {'address1': '20 Hamp Rd', 'city': 'Lambertvil...   \n",
              "196  {'address1': '1457 Kalanikai Pl', 'city': 'Hon...   \n",
              "214  {'address1': '6562 Old Canton Rd', 'city': 'Ri...   \n",
              "61   {'address1': None, 'city': 'Llano', 'state': '...   \n",
              "\n",
              "                                           coordinates price  rating  \\\n",
              "409     {'latitude': 40.33789, 'longitude': -74.81006}    $$     4.0   \n",
              "427  {'latitude': 40.4033351, 'longitude': -74.9392...   NaN     4.5   \n",
              "196    {'latitude': 21.28211, 'longitude': -157.77173}   NaN     5.0   \n",
              "214  {'latitude': 32.4013976, 'longitude': -90.1084...    $$     5.0   \n",
              "61   {'latitude': 30.69029630388098, 'longitude': -...   NaN     5.0   \n",
              "\n",
              "     review_count                                            reviews  \n",
              "409           151  [{'id': 'ZY8zD0jz8S5rHXMxgD5QsA', 'text': 'Had...  \n",
              "427             3  [{'id': '_6rTjwD8aIfMNZnUZntPKA', 'text': 'Ser...  \n",
              "196             1  [{'id': 'bnqA78IT8q_ajNLxVcYkQw', 'text': 'We ...  \n",
              "214             1  [{'id': 'YHrmOO4IqJOnfKlxBpanEQ', 'text': 'Thi...  \n",
              "61              3  [{'id': 'xpCdmYXptzqV-x-IMu6M5Q', 'text': \"The...  "
            ],
            "text/html": [
              "\n",
              "\n",
              "  <div id=\"df-ddeb3ecb-a324-4a5f-9f1c-9708ccbb65d1\">\n",
              "    <div class=\"colab-df-container\">\n",
              "      <div>\n",
              "<style scoped>\n",
              "    .dataframe tbody tr th:only-of-type {\n",
              "        vertical-align: middle;\n",
              "    }\n",
              "\n",
              "    .dataframe tbody tr th {\n",
              "        vertical-align: top;\n",
              "    }\n",
              "\n",
              "    .dataframe thead th {\n",
              "        text-align: right;\n",
              "    }\n",
              "</style>\n",
              "<table border=\"1\" class=\"dataframe\">\n",
              "  <thead>\n",
              "    <tr style=\"text-align: right;\">\n",
              "      <th></th>\n",
              "      <th>id</th>\n",
              "      <th>name</th>\n",
              "      <th>alias</th>\n",
              "      <th>categories</th>\n",
              "      <th>location</th>\n",
              "      <th>coordinates</th>\n",
              "      <th>price</th>\n",
              "      <th>rating</th>\n",
              "      <th>review_count</th>\n",
              "      <th>reviews</th>\n",
              "    </tr>\n",
              "  </thead>\n",
              "  <tbody>\n",
              "    <tr>\n",
              "      <th>409</th>\n",
              "      <td>-nXZLIhPQcYYJiLI3weqGQ</td>\n",
              "      <td>Hopewell Valley Vineyards</td>\n",
              "      <td>hopewell-valley-vineyards-pennington</td>\n",
              "      <td>[{'title': 'Wineries', 'alias': 'wineries'}]</td>\n",
              "      <td>{'address1': '46 Yard Rd', 'city': 'Pennington...</td>\n",
              "      <td>{'latitude': 40.33789, 'longitude': -74.81006}</td>\n",
              "      <td>$$</td>\n",
              "      <td>4.0</td>\n",
              "      <td>151</td>\n",
              "      <td>[{'id': 'ZY8zD0jz8S5rHXMxgD5QsA', 'text': 'Had...</td>\n",
              "    </tr>\n",
              "    <tr>\n",
              "      <th>427</th>\n",
              "      <td>x-rj_toIlbfwnwfv138P4A</td>\n",
              "      <td>Angelico Winery</td>\n",
              "      <td>angelico-winery-lambertville</td>\n",
              "      <td>[{'title': 'Wine Tasting Room', 'alias': 'wine...</td>\n",
              "      <td>{'address1': '20 Hamp Rd', 'city': 'Lambertvil...</td>\n",
              "      <td>{'latitude': 40.4033351, 'longitude': -74.9392...</td>\n",
              "      <td>NaN</td>\n",
              "      <td>4.5</td>\n",
              "      <td>3</td>\n",
              "      <td>[{'id': '_6rTjwD8aIfMNZnUZntPKA', 'text': 'Ser...</td>\n",
              "    </tr>\n",
              "    <tr>\n",
              "      <th>196</th>\n",
              "      <td>ZrcEBZsXyodGXVXu7N5Q4Q</td>\n",
              "      <td>Ambrosia Wine Storage Hawaii</td>\n",
              "      <td>ambrosia-wine-storage-hawaii-honolulu</td>\n",
              "      <td>[{'title': 'Wineries', 'alias': 'wineries'}]</td>\n",
              "      <td>{'address1': '1457 Kalanikai Pl', 'city': 'Hon...</td>\n",
              "      <td>{'latitude': 21.28211, 'longitude': -157.77173}</td>\n",
              "      <td>NaN</td>\n",
              "      <td>5.0</td>\n",
              "      <td>1</td>\n",
              "      <td>[{'id': 'bnqA78IT8q_ajNLxVcYkQw', 'text': 'We ...</td>\n",
              "    </tr>\n",
              "    <tr>\n",
              "      <th>214</th>\n",
              "      <td>PuIMxrqbGgtXxrzpLCUfVQ</td>\n",
              "      <td>Old Canton Rd Wine &amp; Liquor</td>\n",
              "      <td>old-canton-rd-wine-and-liquor-ridgeland</td>\n",
              "      <td>[{'title': 'Beer, Wine &amp; Spirits', 'alias': 'b...</td>\n",
              "      <td>{'address1': '6562 Old Canton Rd', 'city': 'Ri...</td>\n",
              "      <td>{'latitude': 32.4013976, 'longitude': -90.1084...</td>\n",
              "      <td>$$</td>\n",
              "      <td>5.0</td>\n",
              "      <td>1</td>\n",
              "      <td>[{'id': 'YHrmOO4IqJOnfKlxBpanEQ', 'text': 'Thi...</td>\n",
              "    </tr>\n",
              "    <tr>\n",
              "      <th>61</th>\n",
              "      <td>4zPHBCxp_ywrzVbAqiS4UA</td>\n",
              "      <td>Benny’s Wine Tours</td>\n",
              "      <td>benny-s-wine-tours-llano</td>\n",
              "      <td>[{'title': 'Airport Shuttles', 'alias': 'airpo...</td>\n",
              "      <td>{'address1': None, 'city': 'Llano', 'state': '...</td>\n",
              "      <td>{'latitude': 30.69029630388098, 'longitude': -...</td>\n",
              "      <td>NaN</td>\n",
              "      <td>5.0</td>\n",
              "      <td>3</td>\n",
              "      <td>[{'id': 'xpCdmYXptzqV-x-IMu6M5Q', 'text': \"The...</td>\n",
              "    </tr>\n",
              "  </tbody>\n",
              "</table>\n",
              "</div>\n",
              "      <button class=\"colab-df-convert\" onclick=\"convertToInteractive('df-ddeb3ecb-a324-4a5f-9f1c-9708ccbb65d1')\"\n",
              "              title=\"Convert this dataframe to an interactive table.\"\n",
              "              style=\"display:none;\">\n",
              "\n",
              "  <svg xmlns=\"http://www.w3.org/2000/svg\" height=\"24px\"viewBox=\"0 0 24 24\"\n",
              "       width=\"24px\">\n",
              "    <path d=\"M0 0h24v24H0V0z\" fill=\"none\"/>\n",
              "    <path d=\"M18.56 5.44l.94 2.06.94-2.06 2.06-.94-2.06-.94-.94-2.06-.94 2.06-2.06.94zm-11 1L8.5 8.5l.94-2.06 2.06-.94-2.06-.94L8.5 2.5l-.94 2.06-2.06.94zm10 10l.94 2.06.94-2.06 2.06-.94-2.06-.94-.94-2.06-.94 2.06-2.06.94z\"/><path d=\"M17.41 7.96l-1.37-1.37c-.4-.4-.92-.59-1.43-.59-.52 0-1.04.2-1.43.59L10.3 9.45l-7.72 7.72c-.78.78-.78 2.05 0 2.83L4 21.41c.39.39.9.59 1.41.59.51 0 1.02-.2 1.41-.59l7.78-7.78 2.81-2.81c.8-.78.8-2.07 0-2.86zM5.41 20L4 18.59l7.72-7.72 1.47 1.35L5.41 20z\"/>\n",
              "  </svg>\n",
              "      </button>\n",
              "\n",
              "\n",
              "\n",
              "    <div id=\"df-29cec686-d96b-4258-a2b7-d52d4901c233\">\n",
              "      <button class=\"colab-df-quickchart\" onclick=\"quickchart('df-29cec686-d96b-4258-a2b7-d52d4901c233')\"\n",
              "              title=\"Suggest charts.\"\n",
              "              style=\"display:none;\">\n",
              "\n",
              "<svg xmlns=\"http://www.w3.org/2000/svg\" height=\"24px\"viewBox=\"0 0 24 24\"\n",
              "     width=\"24px\">\n",
              "    <g>\n",
              "        <path d=\"M19 3H5c-1.1 0-2 .9-2 2v14c0 1.1.9 2 2 2h14c1.1 0 2-.9 2-2V5c0-1.1-.9-2-2-2zM9 17H7v-7h2v7zm4 0h-2V7h2v10zm4 0h-2v-4h2v4z\"/>\n",
              "    </g>\n",
              "</svg>\n",
              "      </button>\n",
              "    </div>\n",
              "\n",
              "<style>\n",
              "  .colab-df-quickchart {\n",
              "    background-color: #E8F0FE;\n",
              "    border: none;\n",
              "    border-radius: 50%;\n",
              "    cursor: pointer;\n",
              "    display: none;\n",
              "    fill: #1967D2;\n",
              "    height: 32px;\n",
              "    padding: 0 0 0 0;\n",
              "    width: 32px;\n",
              "  }\n",
              "\n",
              "  .colab-df-quickchart:hover {\n",
              "    background-color: #E2EBFA;\n",
              "    box-shadow: 0px 1px 2px rgba(60, 64, 67, 0.3), 0px 1px 3px 1px rgba(60, 64, 67, 0.15);\n",
              "    fill: #174EA6;\n",
              "  }\n",
              "\n",
              "  [theme=dark] .colab-df-quickchart {\n",
              "    background-color: #3B4455;\n",
              "    fill: #D2E3FC;\n",
              "  }\n",
              "\n",
              "  [theme=dark] .colab-df-quickchart:hover {\n",
              "    background-color: #434B5C;\n",
              "    box-shadow: 0px 1px 3px 1px rgba(0, 0, 0, 0.15);\n",
              "    filter: drop-shadow(0px 1px 2px rgba(0, 0, 0, 0.3));\n",
              "    fill: #FFFFFF;\n",
              "  }\n",
              "</style>\n",
              "\n",
              "    <script>\n",
              "      async function quickchart(key) {\n",
              "        const containerElement = document.querySelector('#' + key);\n",
              "        const charts = await google.colab.kernel.invokeFunction(\n",
              "            'suggestCharts', [key], {});\n",
              "      }\n",
              "    </script>\n",
              "\n",
              "\n",
              "      <script>\n",
              "\n",
              "function displayQuickchartButton(domScope) {\n",
              "  let quickchartButtonEl =\n",
              "    domScope.querySelector('#df-29cec686-d96b-4258-a2b7-d52d4901c233 button.colab-df-quickchart');\n",
              "  quickchartButtonEl.style.display =\n",
              "    google.colab.kernel.accessAllowed ? 'block' : 'none';\n",
              "}\n",
              "\n",
              "        displayQuickchartButton(document);\n",
              "      </script>\n",
              "      <style>\n",
              "    .colab-df-container {\n",
              "      display:flex;\n",
              "      flex-wrap:wrap;\n",
              "      gap: 12px;\n",
              "    }\n",
              "\n",
              "    .colab-df-convert {\n",
              "      background-color: #E8F0FE;\n",
              "      border: none;\n",
              "      border-radius: 50%;\n",
              "      cursor: pointer;\n",
              "      display: none;\n",
              "      fill: #1967D2;\n",
              "      height: 32px;\n",
              "      padding: 0 0 0 0;\n",
              "      width: 32px;\n",
              "    }\n",
              "\n",
              "    .colab-df-convert:hover {\n",
              "      background-color: #E2EBFA;\n",
              "      box-shadow: 0px 1px 2px rgba(60, 64, 67, 0.3), 0px 1px 3px 1px rgba(60, 64, 67, 0.15);\n",
              "      fill: #174EA6;\n",
              "    }\n",
              "\n",
              "    [theme=dark] .colab-df-convert {\n",
              "      background-color: #3B4455;\n",
              "      fill: #D2E3FC;\n",
              "    }\n",
              "\n",
              "    [theme=dark] .colab-df-convert:hover {\n",
              "      background-color: #434B5C;\n",
              "      box-shadow: 0px 1px 3px 1px rgba(0, 0, 0, 0.15);\n",
              "      filter: drop-shadow(0px 1px 2px rgba(0, 0, 0, 0.3));\n",
              "      fill: #FFFFFF;\n",
              "    }\n",
              "  </style>\n",
              "\n",
              "      <script>\n",
              "        const buttonEl =\n",
              "          document.querySelector('#df-ddeb3ecb-a324-4a5f-9f1c-9708ccbb65d1 button.colab-df-convert');\n",
              "        buttonEl.style.display =\n",
              "          google.colab.kernel.accessAllowed ? 'block' : 'none';\n",
              "\n",
              "        async function convertToInteractive(key) {\n",
              "          const element = document.querySelector('#df-ddeb3ecb-a324-4a5f-9f1c-9708ccbb65d1');\n",
              "          const dataTable =\n",
              "            await google.colab.kernel.invokeFunction('convertToInteractive',\n",
              "                                                     [key], {});\n",
              "          if (!dataTable) return;\n",
              "\n",
              "          const docLinkHtml = 'Like what you see? Visit the ' +\n",
              "            '<a target=\"_blank\" href=https://colab.research.google.com/notebooks/data_table.ipynb>data table notebook</a>'\n",
              "            + ' to learn more about interactive tables.';\n",
              "          element.innerHTML = '';\n",
              "          dataTable['output_type'] = 'display_data';\n",
              "          await google.colab.output.renderOutput(dataTable, element);\n",
              "          const docLink = document.createElement('div');\n",
              "          docLink.innerHTML = docLinkHtml;\n",
              "          element.appendChild(docLink);\n",
              "        }\n",
              "      </script>\n",
              "    </div>\n",
              "  </div>\n"
            ]
          },
          "metadata": {},
          "execution_count": 73
        }
      ]
    },
    {
      "cell_type": "code",
      "source": [
        "df['reviews'][0]"
      ],
      "metadata": {
        "colab": {
          "base_uri": "https://localhost:8080/",
          "height": 104
        },
        "id": "n0IQUvlUkeFT",
        "outputId": "91c341a0-eafe-4e21-cd4a-0022cd8a04d7"
      },
      "execution_count": null,
      "outputs": [
        {
          "output_type": "execute_result",
          "data": {
            "text/plain": [
              "'[{\\'id\\': \\'8XceajjIrZxLY4iInVwYZA\\', \\'text\\': \\'Okay OBSESSED that they have the option for a cider flight. My absolute favorite part but in strong competition with how delicious their food was! We had...\\', \\'rating\\': 5, \\'user\\': {\\'id\\': \\'ZVfGfOXYINJCPPy_2sa84A\\', \\'name\\': \\'Natasha M.\\'}}, {\\'id\\': \\'QVqBdabfJu3rtu-bSKrokQ\\', \\'text\\': \"Great spot. Went over this weekend for the first time since I was in the area. There was a private event outside so didn\\'t get to experience the outdoor...\", \\'rating\\': 5, \\'user\\': {\\'id\\': \\'TkF0AEun4ccvALZqX_R-7A\\', \\'name\\': \\'Nick K.\\'}}, {\\'id\\': \\'GAs683P_hsfm-H_c-k3vZQ\\', \\'text\\': \\'Ordered a goat cheese and pesto pizza and a Buffalo mac and cheese empanada. Had a standard and a blueberry hard cider. Everything was very good. Nice...\\', \\'rating\\': 5, \\'user\\': {\\'id\\': \\'SsSsaM8URKx0VAhXDBfXhA\\', \\'name\\': \\'David G.\\'}}]'"
            ],
            "application/vnd.google.colaboratory.intrinsic+json": {
              "type": "string"
            }
          },
          "metadata": {},
          "execution_count": 130
        }
      ]
    },
    {
      "cell_type": "code",
      "source": [
        "df.rename({'id': 'business_id'}, axis=1, inplace=True)"
      ],
      "metadata": {
        "id": "z1zSaxRGPkkf"
      },
      "execution_count": null,
      "outputs": []
    },
    {
      "cell_type": "code",
      "source": [
        "# crear dataframe Yelp Business Capitales\n",
        "df.to_parquet('Yelp_Business_Capitales.parquet', index=False)"
      ],
      "metadata": {
        "id": "ITlllYjniePY"
      },
      "execution_count": null,
      "outputs": []
    },
    {
      "cell_type": "markdown",
      "source": [
        "-----------"
      ],
      "metadata": {
        "id": "xS_Tr_Q8j8Yn"
      }
    },
    {
      "cell_type": "markdown",
      "source": [
        "# Yelp API Otras Ciudades"
      ],
      "metadata": {
        "id": "f9-kN7ptLV8k"
      }
    },
    {
      "cell_type": "markdown",
      "source": [
        "-----------------"
      ],
      "metadata": {
        "id": "DrVdtrEtj89N"
      }
    },
    {
      "cell_type": "code",
      "source": [
        "df1 = pd.read_csv('/content/drive/MyDrive/DataYelpGoogle/Yelp/API/OtrasCiudades/Carpinteria_graphQl_5.csv')"
      ],
      "metadata": {
        "id": "Ev5HiVe_LgKs"
      },
      "execution_count": null,
      "outputs": []
    },
    {
      "cell_type": "code",
      "source": [
        "df2 = pd.read_csv('/content/drive/MyDrive/DataYelpGoogle/Yelp/API/OtrasCiudades/ChaddsFord_graphQl_9.csv')"
      ],
      "metadata": {
        "id": "C7ux77AMMnaH"
      },
      "execution_count": null,
      "outputs": []
    },
    {
      "cell_type": "code",
      "source": [
        "df3 = pd.read_csv('/content/drive/MyDrive/DataYelpGoogle/Yelp/API/OtrasCiudades/ClearWater_graphQl_6.csv')"
      ],
      "metadata": {
        "id": "Es7iJH0CMn36"
      },
      "execution_count": null,
      "outputs": []
    },
    {
      "cell_type": "code",
      "source": [
        "df4 = pd.read_csv('/content/drive/MyDrive/DataYelpGoogle/Yelp/API/OtrasCiudades/Eugene_graphQl_22.csv')"
      ],
      "metadata": {
        "id": "OacaC8d2MoYz"
      },
      "execution_count": null,
      "outputs": []
    },
    {
      "cell_type": "code",
      "source": [
        "df5 = pd.read_csv('/content/drive/MyDrive/DataYelpGoogle/Yelp/API/OtrasCiudades/GardenCity_graphQl_37.csv')"
      ],
      "metadata": {
        "id": "4E1WO7inMo1x"
      },
      "execution_count": null,
      "outputs": []
    },
    {
      "cell_type": "code",
      "source": [
        "df6 = pd.read_csv('/content/drive/MyDrive/DataYelpGoogle/Yelp/API/OtrasCiudades/Geyserville_graphQl_196.csv')"
      ],
      "metadata": {
        "id": "bq-_1X7VMr83"
      },
      "execution_count": null,
      "outputs": []
    },
    {
      "cell_type": "code",
      "source": [
        "df7 = pd.read_csv('/content/drive/MyDrive/DataYelpGoogle/Yelp/API/OtrasCiudades/Goleta_graphQl_7.csv')"
      ],
      "metadata": {
        "id": "oyrYo9-mMvJj"
      },
      "execution_count": null,
      "outputs": []
    },
    {
      "cell_type": "code",
      "source": [
        "df8 = pd.read_csv('/content/drive/MyDrive/DataYelpGoogle/Yelp/API/OtrasCiudades/Hammonton_graphQl_8.csv')"
      ],
      "metadata": {
        "id": "i08PcsFSMyre"
      },
      "execution_count": null,
      "outputs": []
    },
    {
      "cell_type": "code",
      "source": [
        "df9= pd.read_csv('/content/drive/MyDrive/DataYelpGoogle/Yelp/API/OtrasCiudades/KennettSquare_graphQl_9.csv')"
      ],
      "metadata": {
        "id": "2CvXMA0HMyre"
      },
      "execution_count": null,
      "outputs": []
    },
    {
      "cell_type": "code",
      "source": [
        "df10 = pd.read_csv('/content/drive/MyDrive/DataYelpGoogle/Yelp/API/OtrasCiudades/LosAngeles_graphQl_19.csv')"
      ],
      "metadata": {
        "id": "gYuuWH6ZMyrf"
      },
      "execution_count": null,
      "outputs": []
    },
    {
      "cell_type": "code",
      "source": [
        "df11 = pd.read_csv('/content/drive/MyDrive/DataYelpGoogle/Yelp/API/OtrasCiudades/Napa_graphQl_258.csv')"
      ],
      "metadata": {
        "id": "49kvpBUrMyrf"
      },
      "execution_count": null,
      "outputs": []
    },
    {
      "cell_type": "code",
      "source": [
        "df12 = pd.read_csv('/content/drive/MyDrive/DataYelpGoogle/Yelp/API/OtrasCiudades/NewHope_graphQl_13.csv')"
      ],
      "metadata": {
        "id": "TmELvAAaMyrf"
      },
      "execution_count": null,
      "outputs": []
    },
    {
      "cell_type": "code",
      "source": [
        "df13 = pd.read_csv('/content/drive/MyDrive/DataYelpGoogle/Yelp/API/OtrasCiudades/NewOrleans_graphQl_3.csv')"
      ],
      "metadata": {
        "id": "AqZpy1JQMyrf"
      },
      "execution_count": null,
      "outputs": []
    },
    {
      "cell_type": "code",
      "source": [
        "df14 = pd.read_csv('/content/drive/MyDrive/DataYelpGoogle/Yelp/API/OtrasCiudades/NewYork_graphQl_28.csv')"
      ],
      "metadata": {
        "id": "2PGIVxt-Myrg"
      },
      "execution_count": null,
      "outputs": []
    },
    {
      "cell_type": "code",
      "source": [
        "df15 = pd.read_csv('/content/drive/MyDrive/DataYelpGoogle/Yelp/API/OtrasCiudades/PalmHarbor_graphQl_6.csv')"
      ],
      "metadata": {
        "id": "LTdTfbmCMyDG"
      },
      "execution_count": null,
      "outputs": []
    },
    {
      "cell_type": "code",
      "source": [
        "df16 = pd.read_csv('/content/drive/MyDrive/DataYelpGoogle/Yelp/API/OtrasCiudades/PasoRobles_graphQl_155.csv')"
      ],
      "metadata": {
        "id": "Tg7mFEjnMyDH"
      },
      "execution_count": null,
      "outputs": []
    },
    {
      "cell_type": "code",
      "source": [
        "df17 = pd.read_csv('/content/drive/MyDrive/DataYelpGoogle/Yelp/API/OtrasCiudades/Philadelphia_graphQl_4.csv')"
      ],
      "metadata": {
        "id": "VZHcZnIKMyDH"
      },
      "execution_count": null,
      "outputs": []
    },
    {
      "cell_type": "code",
      "source": [
        "df18 = pd.read_csv('/content/drive/MyDrive/DataYelpGoogle/Yelp/API/OtrasCiudades/Phoenixville_graphQl_5.csv')"
      ],
      "metadata": {
        "id": "oc9sG2HLMyDI"
      },
      "execution_count": null,
      "outputs": []
    },
    {
      "cell_type": "code",
      "source": [
        "df19 = pd.read_csv('/content/drive/MyDrive/DataYelpGoogle/Yelp/API/OtrasCiudades/Portland_graphQl_56.csv')"
      ],
      "metadata": {
        "id": "1kQ5aVxfMyDI"
      },
      "execution_count": null,
      "outputs": []
    },
    {
      "cell_type": "code",
      "source": [
        "df20 = pd.read_csv('/content/drive/MyDrive/DataYelpGoogle/Yelp/API/OtrasCiudades/Reno_graphQl_6.csv')"
      ],
      "metadata": {
        "id": "7EISnNyOMyDI"
      },
      "execution_count": null,
      "outputs": []
    },
    {
      "cell_type": "code",
      "source": [
        "df21 = pd.read_csv('/content/drive/MyDrive/DataYelpGoogle/Yelp/API/OtrasCiudades/SaintLouis_graphQl_16.csv')"
      ],
      "metadata": {
        "id": "kA16c7tSMyDI"
      },
      "execution_count": null,
      "outputs": []
    },
    {
      "cell_type": "code",
      "source": [
        "df22 = pd.read_csv('/content/drive/MyDrive/DataYelpGoogle/Yelp/API/OtrasCiudades/SaintPetersburg_graphQl_7.csv')"
      ],
      "metadata": {
        "id": "iGMGoHJmM0t2"
      },
      "execution_count": null,
      "outputs": []
    },
    {
      "cell_type": "code",
      "source": [
        "df23 = pd.read_csv('/content/drive/MyDrive/DataYelpGoogle/Yelp/API/OtrasCiudades/San Diego_graphQl_39.csv')"
      ],
      "metadata": {
        "id": "E78Q0W3KM0t3"
      },
      "execution_count": null,
      "outputs": []
    },
    {
      "cell_type": "code",
      "source": [
        "df24 = pd.read_csv('/content/drive/MyDrive/DataYelpGoogle/Yelp/API/OtrasCiudades/SanFrancisco_graphQl_51.csv')"
      ],
      "metadata": {
        "id": "f0emctf3M0t4"
      },
      "execution_count": null,
      "outputs": []
    },
    {
      "cell_type": "code",
      "source": [
        "df25 = pd.read_csv('/content/drive/MyDrive/DataYelpGoogle/Yelp/API/OtrasCiudades/SanJose_graphQl_19.csv')"
      ],
      "metadata": {
        "id": "YU8Utu67M0t4"
      },
      "execution_count": null,
      "outputs": []
    },
    {
      "cell_type": "code",
      "source": [
        "df26 = pd.read_csv('/content/drive/MyDrive/DataYelpGoogle/Yelp/API/OtrasCiudades/SanatBarbara_graphQl_43.csv')"
      ],
      "metadata": {
        "id": "-EUlJVlgM0t4"
      },
      "execution_count": null,
      "outputs": []
    },
    {
      "cell_type": "code",
      "source": [
        "df27 = pd.read_csv('/content/drive/MyDrive/DataYelpGoogle/Yelp/API/OtrasCiudades/SantaRosa_graphQl_103.csv')"
      ],
      "metadata": {
        "id": "K2kqYhTVM0t5"
      },
      "execution_count": null,
      "outputs": []
    },
    {
      "cell_type": "code",
      "source": [
        "df28 = pd.read_csv('/content/drive/MyDrive/DataYelpGoogle/Yelp/API/OtrasCiudades/Seattle_graphQl_50.csv')"
      ],
      "metadata": {
        "id": "ciIDqPfxM0t6"
      },
      "execution_count": null,
      "outputs": []
    },
    {
      "cell_type": "code",
      "source": [
        "df29 = pd.read_csv('/content/drive/MyDrive/DataYelpGoogle/Yelp/API/OtrasCiudades/SpringHill_graphQl_7.csv')"
      ],
      "metadata": {
        "id": "2xryL4EhNM-A"
      },
      "execution_count": null,
      "outputs": []
    },
    {
      "cell_type": "code",
      "source": [
        "df30 = pd.read_csv('/content/drive/MyDrive/DataYelpGoogle/Yelp/API/OtrasCiudades/Swedesboro_graphQl_6.csv')"
      ],
      "metadata": {
        "id": "PnpiDUyeNOZD"
      },
      "execution_count": null,
      "outputs": []
    },
    {
      "cell_type": "code",
      "source": [
        "df31 = pd.read_csv('/content/drive/MyDrive/DataYelpGoogle/Yelp/API/OtrasCiudades/Tampa_graphQl_21.csv')"
      ],
      "metadata": {
        "id": "eODvMPx_NOLX"
      },
      "execution_count": null,
      "outputs": []
    },
    {
      "cell_type": "code",
      "source": [
        "df32 = pd.read_csv('/content/drive/MyDrive/DataYelpGoogle/Yelp/API/OtrasCiudades/Tucson_graphQl_6.csv')"
      ],
      "metadata": {
        "id": "doFHrQ2ANN9l"
      },
      "execution_count": null,
      "outputs": []
    },
    {
      "cell_type": "code",
      "source": [
        "df33 = pd.read_csv('/content/drive/MyDrive/DataYelpGoogle/Yelp/API/OtrasCiudades/Zionsville_graphQl_16.csv')"
      ],
      "metadata": {
        "id": "wOCMdq7ZNNeD"
      },
      "execution_count": null,
      "outputs": []
    },
    {
      "cell_type": "code",
      "source": [
        "# armar un nuevo dataframe A\n",
        "df = pd.concat([df1, df2, df3, df4, df5, df6, df7, df8, df9, df10, df11, df12, df13, df14, df15, df16, df17, df18, df19, df20, df21, df22, df23, df24, df25, df26, df27, df28, df29, df30, df31, df32, df33], axis=0, ignore_index=True)"
      ],
      "metadata": {
        "id": "B-1nTTwDOvUq"
      },
      "execution_count": null,
      "outputs": []
    },
    {
      "cell_type": "code",
      "source": [
        "df.rename({'id': 'business_id'}, axis=1, inplace=True)"
      ],
      "metadata": {
        "id": "w-_H6pxQPuAY"
      },
      "execution_count": null,
      "outputs": []
    },
    {
      "cell_type": "code",
      "source": [
        "df.info()"
      ],
      "metadata": {
        "colab": {
          "base_uri": "https://localhost:8080/"
        },
        "id": "2yauMPvjO-NH",
        "outputId": "06a1fda4-3e0f-4dca-dfc0-68d5f4a834a2"
      },
      "execution_count": null,
      "outputs": [
        {
          "output_type": "stream",
          "name": "stdout",
          "text": [
            "<class 'pandas.core.frame.DataFrame'>\n",
            "RangeIndex: 1277 entries, 0 to 1276\n",
            "Data columns (total 10 columns):\n",
            " #   Column        Non-Null Count  Dtype  \n",
            "---  ------        --------------  -----  \n",
            " 0   business_id   1277 non-null   object \n",
            " 1   name          1277 non-null   object \n",
            " 2   alias         1277 non-null   object \n",
            " 3   categories    1277 non-null   object \n",
            " 4   location      1277 non-null   object \n",
            " 5   coordinates   1277 non-null   object \n",
            " 6   price         829 non-null    object \n",
            " 7   rating        1277 non-null   float64\n",
            " 8   review_count  1277 non-null   int64  \n",
            " 9   reviews       1277 non-null   object \n",
            "dtypes: float64(1), int64(1), object(8)\n",
            "memory usage: 99.9+ KB\n"
          ]
        }
      ]
    },
    {
      "cell_type": "code",
      "source": [
        "df.head()"
      ],
      "metadata": {
        "colab": {
          "base_uri": "https://localhost:8080/",
          "height": 449
        },
        "id": "YRQPufzlPAL3",
        "outputId": "c2c1bae9-7179-43b2-b2c6-dc3a8516c091"
      },
      "execution_count": null,
      "outputs": [
        {
          "output_type": "execute_result",
          "data": {
            "text/plain": [
              "              business_id                                 name  \\\n",
              "0  J3fd-eAmp4ttRTJbweTuGA  Rincon Mountain Winery Tasting Room   \n",
              "1  NDwoKO79_T49UEKVDlHd3A               Sustainable Wine Tours   \n",
              "2  -lTb_iuYDXHbOkgsVA1L8g                    Sunburst Wine Bar   \n",
              "3  cJXlIGy9SURm12lqHHnf-g                    Summerland Winery   \n",
              "4  XTDt0E0BumV8zCs13ngXIQ      Kessler-Haak Vineyard And Wines   \n",
              "\n",
              "                                               alias  \\\n",
              "0  rincon-mountain-winery-tasting-room-carpinteria-7   \n",
              "1               sustainable-wine-tours-santa-barbara   \n",
              "2                      sunburst-wine-bar-carpinteria   \n",
              "3                       summerland-winery-summerland   \n",
              "4           kessler-haak-vineyard-and-wines-lompoc-3   \n",
              "\n",
              "                                          categories  \\\n",
              "0  [{'title': 'Wine Tasting Room', 'alias': 'wine...   \n",
              "1  [{'title': 'Wine Tours', 'alias': 'winetours'}...   \n",
              "2  [{'title': 'Wine Tasting Room', 'alias': 'wine...   \n",
              "3  [{'title': 'Wine Tasting Room', 'alias': 'wine...   \n",
              "4  [{'title': 'Wine Tasting Room', 'alias': 'wine...   \n",
              "\n",
              "                                            location  \\\n",
              "0  {'address1': '4187 Carpinteria Ave', 'city': '...   \n",
              "1  {'address1': '27 West Anapamu St', 'city': 'Sa...   \n",
              "2  {'address1': '5080 Carpinteria Ave', 'city': '...   \n",
              "3  {'address1': '2330 Lillie Ave', 'city': 'Summe...   \n",
              "4  {'address1': '1700 Gypsy Canyon Dr', 'city': '...   \n",
              "\n",
              "                                         coordinates price  rating  \\\n",
              "0  {'latitude': 34.404023, 'longitude': -119.534743}   NaN     5.0   \n",
              "1  {'latitude': 34.4224525, 'longitude': -119.705...    $$     5.0   \n",
              "2    {'latitude': 34.39834, 'longitude': -119.51722}   NaN     4.5   \n",
              "3  {'latitude': 34.4216284, 'longitude': -119.599...    $$     4.0   \n",
              "4   {'latitude': 34.666449, 'longitude': -120.35469}   NaN     5.0   \n",
              "\n",
              "   review_count                                            reviews  \n",
              "0            29  [{'id': 'ApA8MU4aeLwNLvMWYZbS0Q', 'text': 'Rin...  \n",
              "1           462  [{'id': 'FiOl9fePwtp0IJ4J6mCdyw', 'text': \"10 ...  \n",
              "2            12  [{'id': 'R2r9RSD5tBCKPcwl2o2InA', 'text': 'Bes...  \n",
              "3           160  [{'id': 'YXsuQvay3w7zVPbSWYc4uQ', 'text': 'The...  \n",
              "4             4  [{'id': '_6fjpKF585L5xpuiZWfS8Q', 'text': 'Att...  "
            ],
            "text/html": [
              "\n",
              "  <div id=\"df-5e2f5ca5-b203-454d-90c9-8da7e897ebe2\" class=\"colab-df-container\">\n",
              "    <div>\n",
              "<style scoped>\n",
              "    .dataframe tbody tr th:only-of-type {\n",
              "        vertical-align: middle;\n",
              "    }\n",
              "\n",
              "    .dataframe tbody tr th {\n",
              "        vertical-align: top;\n",
              "    }\n",
              "\n",
              "    .dataframe thead th {\n",
              "        text-align: right;\n",
              "    }\n",
              "</style>\n",
              "<table border=\"1\" class=\"dataframe\">\n",
              "  <thead>\n",
              "    <tr style=\"text-align: right;\">\n",
              "      <th></th>\n",
              "      <th>business_id</th>\n",
              "      <th>name</th>\n",
              "      <th>alias</th>\n",
              "      <th>categories</th>\n",
              "      <th>location</th>\n",
              "      <th>coordinates</th>\n",
              "      <th>price</th>\n",
              "      <th>rating</th>\n",
              "      <th>review_count</th>\n",
              "      <th>reviews</th>\n",
              "    </tr>\n",
              "  </thead>\n",
              "  <tbody>\n",
              "    <tr>\n",
              "      <th>0</th>\n",
              "      <td>J3fd-eAmp4ttRTJbweTuGA</td>\n",
              "      <td>Rincon Mountain Winery Tasting Room</td>\n",
              "      <td>rincon-mountain-winery-tasting-room-carpinteria-7</td>\n",
              "      <td>[{'title': 'Wine Tasting Room', 'alias': 'wine...</td>\n",
              "      <td>{'address1': '4187 Carpinteria Ave', 'city': '...</td>\n",
              "      <td>{'latitude': 34.404023, 'longitude': -119.534743}</td>\n",
              "      <td>NaN</td>\n",
              "      <td>5.0</td>\n",
              "      <td>29</td>\n",
              "      <td>[{'id': 'ApA8MU4aeLwNLvMWYZbS0Q', 'text': 'Rin...</td>\n",
              "    </tr>\n",
              "    <tr>\n",
              "      <th>1</th>\n",
              "      <td>NDwoKO79_T49UEKVDlHd3A</td>\n",
              "      <td>Sustainable Wine Tours</td>\n",
              "      <td>sustainable-wine-tours-santa-barbara</td>\n",
              "      <td>[{'title': 'Wine Tours', 'alias': 'winetours'}...</td>\n",
              "      <td>{'address1': '27 West Anapamu St', 'city': 'Sa...</td>\n",
              "      <td>{'latitude': 34.4224525, 'longitude': -119.705...</td>\n",
              "      <td>$$</td>\n",
              "      <td>5.0</td>\n",
              "      <td>462</td>\n",
              "      <td>[{'id': 'FiOl9fePwtp0IJ4J6mCdyw', 'text': \"10 ...</td>\n",
              "    </tr>\n",
              "    <tr>\n",
              "      <th>2</th>\n",
              "      <td>-lTb_iuYDXHbOkgsVA1L8g</td>\n",
              "      <td>Sunburst Wine Bar</td>\n",
              "      <td>sunburst-wine-bar-carpinteria</td>\n",
              "      <td>[{'title': 'Wine Tasting Room', 'alias': 'wine...</td>\n",
              "      <td>{'address1': '5080 Carpinteria Ave', 'city': '...</td>\n",
              "      <td>{'latitude': 34.39834, 'longitude': -119.51722}</td>\n",
              "      <td>NaN</td>\n",
              "      <td>4.5</td>\n",
              "      <td>12</td>\n",
              "      <td>[{'id': 'R2r9RSD5tBCKPcwl2o2InA', 'text': 'Bes...</td>\n",
              "    </tr>\n",
              "    <tr>\n",
              "      <th>3</th>\n",
              "      <td>cJXlIGy9SURm12lqHHnf-g</td>\n",
              "      <td>Summerland Winery</td>\n",
              "      <td>summerland-winery-summerland</td>\n",
              "      <td>[{'title': 'Wine Tasting Room', 'alias': 'wine...</td>\n",
              "      <td>{'address1': '2330 Lillie Ave', 'city': 'Summe...</td>\n",
              "      <td>{'latitude': 34.4216284, 'longitude': -119.599...</td>\n",
              "      <td>$$</td>\n",
              "      <td>4.0</td>\n",
              "      <td>160</td>\n",
              "      <td>[{'id': 'YXsuQvay3w7zVPbSWYc4uQ', 'text': 'The...</td>\n",
              "    </tr>\n",
              "    <tr>\n",
              "      <th>4</th>\n",
              "      <td>XTDt0E0BumV8zCs13ngXIQ</td>\n",
              "      <td>Kessler-Haak Vineyard And Wines</td>\n",
              "      <td>kessler-haak-vineyard-and-wines-lompoc-3</td>\n",
              "      <td>[{'title': 'Wine Tasting Room', 'alias': 'wine...</td>\n",
              "      <td>{'address1': '1700 Gypsy Canyon Dr', 'city': '...</td>\n",
              "      <td>{'latitude': 34.666449, 'longitude': -120.35469}</td>\n",
              "      <td>NaN</td>\n",
              "      <td>5.0</td>\n",
              "      <td>4</td>\n",
              "      <td>[{'id': '_6fjpKF585L5xpuiZWfS8Q', 'text': 'Att...</td>\n",
              "    </tr>\n",
              "  </tbody>\n",
              "</table>\n",
              "</div>\n",
              "    <div class=\"colab-df-buttons\">\n",
              "\n",
              "  <div class=\"colab-df-container\">\n",
              "    <button class=\"colab-df-convert\" onclick=\"convertToInteractive('df-5e2f5ca5-b203-454d-90c9-8da7e897ebe2')\"\n",
              "            title=\"Convert this dataframe to an interactive table.\"\n",
              "            style=\"display:none;\">\n",
              "\n",
              "  <svg xmlns=\"http://www.w3.org/2000/svg\" height=\"24px\" viewBox=\"0 -960 960 960\">\n",
              "    <path d=\"M120-120v-720h720v720H120Zm60-500h600v-160H180v160Zm220 220h160v-160H400v160Zm0 220h160v-160H400v160ZM180-400h160v-160H180v160Zm440 0h160v-160H620v160ZM180-180h160v-160H180v160Zm440 0h160v-160H620v160Z\"/>\n",
              "  </svg>\n",
              "    </button>\n",
              "\n",
              "  <style>\n",
              "    .colab-df-container {\n",
              "      display:flex;\n",
              "      gap: 12px;\n",
              "    }\n",
              "\n",
              "    .colab-df-convert {\n",
              "      background-color: #E8F0FE;\n",
              "      border: none;\n",
              "      border-radius: 50%;\n",
              "      cursor: pointer;\n",
              "      display: none;\n",
              "      fill: #1967D2;\n",
              "      height: 32px;\n",
              "      padding: 0 0 0 0;\n",
              "      width: 32px;\n",
              "    }\n",
              "\n",
              "    .colab-df-convert:hover {\n",
              "      background-color: #E2EBFA;\n",
              "      box-shadow: 0px 1px 2px rgba(60, 64, 67, 0.3), 0px 1px 3px 1px rgba(60, 64, 67, 0.15);\n",
              "      fill: #174EA6;\n",
              "    }\n",
              "\n",
              "    .colab-df-buttons div {\n",
              "      margin-bottom: 4px;\n",
              "    }\n",
              "\n",
              "    [theme=dark] .colab-df-convert {\n",
              "      background-color: #3B4455;\n",
              "      fill: #D2E3FC;\n",
              "    }\n",
              "\n",
              "    [theme=dark] .colab-df-convert:hover {\n",
              "      background-color: #434B5C;\n",
              "      box-shadow: 0px 1px 3px 1px rgba(0, 0, 0, 0.15);\n",
              "      filter: drop-shadow(0px 1px 2px rgba(0, 0, 0, 0.3));\n",
              "      fill: #FFFFFF;\n",
              "    }\n",
              "  </style>\n",
              "\n",
              "    <script>\n",
              "      const buttonEl =\n",
              "        document.querySelector('#df-5e2f5ca5-b203-454d-90c9-8da7e897ebe2 button.colab-df-convert');\n",
              "      buttonEl.style.display =\n",
              "        google.colab.kernel.accessAllowed ? 'block' : 'none';\n",
              "\n",
              "      async function convertToInteractive(key) {\n",
              "        const element = document.querySelector('#df-5e2f5ca5-b203-454d-90c9-8da7e897ebe2');\n",
              "        const dataTable =\n",
              "          await google.colab.kernel.invokeFunction('convertToInteractive',\n",
              "                                                    [key], {});\n",
              "        if (!dataTable) return;\n",
              "\n",
              "        const docLinkHtml = 'Like what you see? Visit the ' +\n",
              "          '<a target=\"_blank\" href=https://colab.research.google.com/notebooks/data_table.ipynb>data table notebook</a>'\n",
              "          + ' to learn more about interactive tables.';\n",
              "        element.innerHTML = '';\n",
              "        dataTable['output_type'] = 'display_data';\n",
              "        await google.colab.output.renderOutput(dataTable, element);\n",
              "        const docLink = document.createElement('div');\n",
              "        docLink.innerHTML = docLinkHtml;\n",
              "        element.appendChild(docLink);\n",
              "      }\n",
              "    </script>\n",
              "  </div>\n",
              "\n",
              "\n",
              "<div id=\"df-8e01a45e-966c-46db-9a15-792cc9a348ec\">\n",
              "  <button class=\"colab-df-quickchart\" onclick=\"quickchart('df-8e01a45e-966c-46db-9a15-792cc9a348ec')\"\n",
              "            title=\"Suggest charts.\"\n",
              "            style=\"display:none;\">\n",
              "\n",
              "<svg xmlns=\"http://www.w3.org/2000/svg\" height=\"24px\"viewBox=\"0 0 24 24\"\n",
              "     width=\"24px\">\n",
              "    <g>\n",
              "        <path d=\"M19 3H5c-1.1 0-2 .9-2 2v14c0 1.1.9 2 2 2h14c1.1 0 2-.9 2-2V5c0-1.1-.9-2-2-2zM9 17H7v-7h2v7zm4 0h-2V7h2v10zm4 0h-2v-4h2v4z\"/>\n",
              "    </g>\n",
              "</svg>\n",
              "  </button>\n",
              "\n",
              "<style>\n",
              "  .colab-df-quickchart {\n",
              "    background-color: #E8F0FE;\n",
              "    border: none;\n",
              "    border-radius: 50%;\n",
              "    cursor: pointer;\n",
              "    display: none;\n",
              "    fill: #1967D2;\n",
              "    height: 32px;\n",
              "    padding: 0 0 0 0;\n",
              "    width: 32px;\n",
              "  }\n",
              "\n",
              "  .colab-df-quickchart:hover {\n",
              "    background-color: #E2EBFA;\n",
              "    box-shadow: 0px 1px 2px rgba(60, 64, 67, 0.3), 0px 1px 3px 1px rgba(60, 64, 67, 0.15);\n",
              "    fill: #174EA6;\n",
              "  }\n",
              "\n",
              "  [theme=dark] .colab-df-quickchart {\n",
              "    background-color: #3B4455;\n",
              "    fill: #D2E3FC;\n",
              "  }\n",
              "\n",
              "  [theme=dark] .colab-df-quickchart:hover {\n",
              "    background-color: #434B5C;\n",
              "    box-shadow: 0px 1px 3px 1px rgba(0, 0, 0, 0.15);\n",
              "    filter: drop-shadow(0px 1px 2px rgba(0, 0, 0, 0.3));\n",
              "    fill: #FFFFFF;\n",
              "  }\n",
              "</style>\n",
              "\n",
              "  <script>\n",
              "    async function quickchart(key) {\n",
              "      const charts = await google.colab.kernel.invokeFunction(\n",
              "          'suggestCharts', [key], {});\n",
              "    }\n",
              "    (() => {\n",
              "      let quickchartButtonEl =\n",
              "        document.querySelector('#df-8e01a45e-966c-46db-9a15-792cc9a348ec button');\n",
              "      quickchartButtonEl.style.display =\n",
              "        google.colab.kernel.accessAllowed ? 'block' : 'none';\n",
              "    })();\n",
              "  </script>\n",
              "</div>\n",
              "    </div>\n",
              "  </div>\n"
            ]
          },
          "metadata": {},
          "execution_count": 43
        }
      ]
    },
    {
      "cell_type": "code",
      "source": [
        "# crear dataframe Yelp Business Capitales\n",
        "df.to_parquet('Yelp_Business_Otras_Ciudades.parquet', index=False)"
      ],
      "metadata": {
        "id": "gaeaP7WkQLQy"
      },
      "execution_count": null,
      "outputs": []
    },
    {
      "cell_type": "markdown",
      "source": [
        "---------------"
      ],
      "metadata": {
        "id": "u9nURtDzLeCE"
      }
    },
    {
      "cell_type": "markdown",
      "source": [
        "# Yelp API Business"
      ],
      "metadata": {
        "id": "c8jmMb_QR5h8"
      }
    },
    {
      "cell_type": "markdown",
      "source": [
        "-----------------------"
      ],
      "metadata": {
        "id": "vZcVP-5lLe6g"
      }
    },
    {
      "cell_type": "code",
      "source": [
        "df1 = pd.read_parquet('/content/drive/MyDrive/DataYelpGoogle/Yelp/Yelp_Business_Capitales.parquet')"
      ],
      "metadata": {
        "id": "Dzl6kiGQSBoG"
      },
      "execution_count": null,
      "outputs": []
    },
    {
      "cell_type": "code",
      "source": [
        "df1.shape"
      ],
      "metadata": {
        "colab": {
          "base_uri": "https://localhost:8080/"
        },
        "id": "CL0SwnpzSKxX",
        "outputId": "f5bd8fdf-07f9-41ea-9e48-db5851cd0cb9"
      },
      "execution_count": null,
      "outputs": [
        {
          "output_type": "execute_result",
          "data": {
            "text/plain": [
              "(452, 10)"
            ]
          },
          "metadata": {},
          "execution_count": 58
        }
      ]
    },
    {
      "cell_type": "code",
      "source": [
        "df2 = pd.read_parquet('/content/drive/MyDrive/DataYelpGoogle/Yelp/Yelp_Business_Otras_Ciudades.parquet')"
      ],
      "metadata": {
        "id": "pzehlJ7qSEt8"
      },
      "execution_count": null,
      "outputs": []
    },
    {
      "cell_type": "code",
      "source": [
        "df2.shape"
      ],
      "metadata": {
        "colab": {
          "base_uri": "https://localhost:8080/"
        },
        "id": "VzD47fssSM-q",
        "outputId": "8d1540e6-0e3c-4e1e-b539-a4c4f5431dd5"
      },
      "execution_count": null,
      "outputs": [
        {
          "output_type": "execute_result",
          "data": {
            "text/plain": [
              "(1277, 10)"
            ]
          },
          "metadata": {},
          "execution_count": 59
        }
      ]
    },
    {
      "cell_type": "code",
      "source": [
        "# armar un nuevo dataframe df\n",
        "df = pd.concat([df1, df2], axis=0, ignore_index=True)"
      ],
      "metadata": {
        "id": "2KT8EuI-SV4L"
      },
      "execution_count": null,
      "outputs": []
    },
    {
      "cell_type": "code",
      "source": [
        "df.info()"
      ],
      "metadata": {
        "colab": {
          "base_uri": "https://localhost:8080/"
        },
        "id": "S7G3mR6wScSd",
        "outputId": "6c3ca80b-603b-4af2-8c1c-85890472fae5"
      },
      "execution_count": null,
      "outputs": [
        {
          "output_type": "stream",
          "name": "stdout",
          "text": [
            "<class 'pandas.core.frame.DataFrame'>\n",
            "RangeIndex: 1729 entries, 0 to 1728\n",
            "Data columns (total 10 columns):\n",
            " #   Column        Non-Null Count  Dtype  \n",
            "---  ------        --------------  -----  \n",
            " 0   business_id   1729 non-null   object \n",
            " 1   name          1729 non-null   object \n",
            " 2   alias         1729 non-null   object \n",
            " 3   categories    1729 non-null   object \n",
            " 4   location      1729 non-null   object \n",
            " 5   coordinates   1728 non-null   object \n",
            " 6   price         1104 non-null   object \n",
            " 7   rating        1729 non-null   float64\n",
            " 8   review_count  1729 non-null   int64  \n",
            " 9   reviews       1729 non-null   object \n",
            "dtypes: float64(1), int64(1), object(8)\n",
            "memory usage: 135.2+ KB\n"
          ]
        }
      ]
    },
    {
      "cell_type": "code",
      "source": [
        "df.sample(5)"
      ],
      "metadata": {
        "colab": {
          "base_uri": "https://localhost:8080/",
          "height": 379
        },
        "id": "i3nbGGRxSlH2",
        "outputId": "a62b1314-8f26-479c-a3e3-7dbcc24d91ae"
      },
      "execution_count": null,
      "outputs": [
        {
          "output_type": "execute_result",
          "data": {
            "text/plain": [
              "                 business_id                          name  \\\n",
              "530   w3LzGSPzpeDlVE9FHgirWA   Old Library Wines & Liquors   \n",
              "1142  5TW27aF9FZa-gmayB1bzXg  JUSTIN Downtown Tasting Room   \n",
              "1388  9YDsJ5OL1hkx_vqwlJhi_Q                Charlie & Echo   \n",
              "991   O4PdhLBgX7mkVvLYYyuvlA             Y. Rousseau Wines   \n",
              "382   X-n2_k9zSJPJSJssDSntgw      The Bramble Tasting Room   \n",
              "\n",
              "                                           alias  \\\n",
              "530   old-library-wines-and-liquors-great-neck-2   \n",
              "1142    justin-downtown-tasting-room-paso-robles   \n",
              "1388                charlie-and-echo-san-diego-2   \n",
              "991                        y-rousseau-wines-napa   \n",
              "382               the-bramble-tasting-room-amity   \n",
              "\n",
              "                                             categories  \\\n",
              "530   [{'title': 'Wineries', 'alias': 'wineries'}, {...   \n",
              "1142  [{'title': 'Wine Tasting Room', 'alias': 'wine...   \n",
              "1388  [{'title': 'Wine Tasting Room', 'alias': 'wine...   \n",
              "991   [{'title': 'Wine Tasting Room', 'alias': 'wine...   \n",
              "382   [{'title': 'Wine Tasting Room', 'alias': 'wine...   \n",
              "\n",
              "                                               location  \\\n",
              "530   {'address1': '40 Great Neck Rd', 'city': 'Grea...   \n",
              "1142  {'address1': '811 12th St', 'city': 'Paso Robl...   \n",
              "1388  {'address1': '8680 Miralani Dr', 'city': 'San ...   \n",
              "991   {'address1': '902 Enterprise Way', 'city': 'Na...   \n",
              "382   {'address1': '100 5th St', 'city': 'Amity', 's...   \n",
              "\n",
              "                                            coordinates price  rating  \\\n",
              "530   {'latitude': 40.7856878221024, 'longitude': -7...    $$     2.0   \n",
              "1142  {'latitude': 35.627041, 'longitude': -120.6897...  None     4.0   \n",
              "1388    {'latitude': 32.89655, 'longitude': -117.13743}    $$     4.5   \n",
              "991   {'latitude': 38.258487701416, 'longitude': -12...  None     5.0   \n",
              "382   {'latitude': 45.1156213134527, 'longitude': -1...  None     5.0   \n",
              "\n",
              "      review_count                                            reviews  \n",
              "530              1  [{'id': 'Fo2jbgCticQZcQZGXR_ONg', 'text': 'Thi...  \n",
              "1142           139  [{'id': 'FLjYpIe16TxsZJT2G74OWQ', 'text': 'You...  \n",
              "1388            23  [{'id': 'BOFotXiIt4Im2pDoyioUiQ', 'text': 'Gre...  \n",
              "991              2  [{'id': '5TTJkWLWevArWuLPE_2f2Q', 'text': 'Wha...  \n",
              "382             12  [{'id': 'RD_xnQMlL-23a8u6HW491w', 'text': 'Lov...  "
            ],
            "text/html": [
              "\n",
              "  <div id=\"df-5a86a5e4-8a77-492c-86a5-9145cf65f756\" class=\"colab-df-container\">\n",
              "    <div>\n",
              "<style scoped>\n",
              "    .dataframe tbody tr th:only-of-type {\n",
              "        vertical-align: middle;\n",
              "    }\n",
              "\n",
              "    .dataframe tbody tr th {\n",
              "        vertical-align: top;\n",
              "    }\n",
              "\n",
              "    .dataframe thead th {\n",
              "        text-align: right;\n",
              "    }\n",
              "</style>\n",
              "<table border=\"1\" class=\"dataframe\">\n",
              "  <thead>\n",
              "    <tr style=\"text-align: right;\">\n",
              "      <th></th>\n",
              "      <th>business_id</th>\n",
              "      <th>name</th>\n",
              "      <th>alias</th>\n",
              "      <th>categories</th>\n",
              "      <th>location</th>\n",
              "      <th>coordinates</th>\n",
              "      <th>price</th>\n",
              "      <th>rating</th>\n",
              "      <th>review_count</th>\n",
              "      <th>reviews</th>\n",
              "    </tr>\n",
              "  </thead>\n",
              "  <tbody>\n",
              "    <tr>\n",
              "      <th>530</th>\n",
              "      <td>w3LzGSPzpeDlVE9FHgirWA</td>\n",
              "      <td>Old Library Wines &amp; Liquors</td>\n",
              "      <td>old-library-wines-and-liquors-great-neck-2</td>\n",
              "      <td>[{'title': 'Wineries', 'alias': 'wineries'}, {...</td>\n",
              "      <td>{'address1': '40 Great Neck Rd', 'city': 'Grea...</td>\n",
              "      <td>{'latitude': 40.7856878221024, 'longitude': -7...</td>\n",
              "      <td>$$</td>\n",
              "      <td>2.0</td>\n",
              "      <td>1</td>\n",
              "      <td>[{'id': 'Fo2jbgCticQZcQZGXR_ONg', 'text': 'Thi...</td>\n",
              "    </tr>\n",
              "    <tr>\n",
              "      <th>1142</th>\n",
              "      <td>5TW27aF9FZa-gmayB1bzXg</td>\n",
              "      <td>JUSTIN Downtown Tasting Room</td>\n",
              "      <td>justin-downtown-tasting-room-paso-robles</td>\n",
              "      <td>[{'title': 'Wine Tasting Room', 'alias': 'wine...</td>\n",
              "      <td>{'address1': '811 12th St', 'city': 'Paso Robl...</td>\n",
              "      <td>{'latitude': 35.627041, 'longitude': -120.6897...</td>\n",
              "      <td>None</td>\n",
              "      <td>4.0</td>\n",
              "      <td>139</td>\n",
              "      <td>[{'id': 'FLjYpIe16TxsZJT2G74OWQ', 'text': 'You...</td>\n",
              "    </tr>\n",
              "    <tr>\n",
              "      <th>1388</th>\n",
              "      <td>9YDsJ5OL1hkx_vqwlJhi_Q</td>\n",
              "      <td>Charlie &amp; Echo</td>\n",
              "      <td>charlie-and-echo-san-diego-2</td>\n",
              "      <td>[{'title': 'Wine Tasting Room', 'alias': 'wine...</td>\n",
              "      <td>{'address1': '8680 Miralani Dr', 'city': 'San ...</td>\n",
              "      <td>{'latitude': 32.89655, 'longitude': -117.13743}</td>\n",
              "      <td>$$</td>\n",
              "      <td>4.5</td>\n",
              "      <td>23</td>\n",
              "      <td>[{'id': 'BOFotXiIt4Im2pDoyioUiQ', 'text': 'Gre...</td>\n",
              "    </tr>\n",
              "    <tr>\n",
              "      <th>991</th>\n",
              "      <td>O4PdhLBgX7mkVvLYYyuvlA</td>\n",
              "      <td>Y. Rousseau Wines</td>\n",
              "      <td>y-rousseau-wines-napa</td>\n",
              "      <td>[{'title': 'Wine Tasting Room', 'alias': 'wine...</td>\n",
              "      <td>{'address1': '902 Enterprise Way', 'city': 'Na...</td>\n",
              "      <td>{'latitude': 38.258487701416, 'longitude': -12...</td>\n",
              "      <td>None</td>\n",
              "      <td>5.0</td>\n",
              "      <td>2</td>\n",
              "      <td>[{'id': '5TTJkWLWevArWuLPE_2f2Q', 'text': 'Wha...</td>\n",
              "    </tr>\n",
              "    <tr>\n",
              "      <th>382</th>\n",
              "      <td>X-n2_k9zSJPJSJssDSntgw</td>\n",
              "      <td>The Bramble Tasting Room</td>\n",
              "      <td>the-bramble-tasting-room-amity</td>\n",
              "      <td>[{'title': 'Wine Tasting Room', 'alias': 'wine...</td>\n",
              "      <td>{'address1': '100 5th St', 'city': 'Amity', 's...</td>\n",
              "      <td>{'latitude': 45.1156213134527, 'longitude': -1...</td>\n",
              "      <td>None</td>\n",
              "      <td>5.0</td>\n",
              "      <td>12</td>\n",
              "      <td>[{'id': 'RD_xnQMlL-23a8u6HW491w', 'text': 'Lov...</td>\n",
              "    </tr>\n",
              "  </tbody>\n",
              "</table>\n",
              "</div>\n",
              "    <div class=\"colab-df-buttons\">\n",
              "\n",
              "  <div class=\"colab-df-container\">\n",
              "    <button class=\"colab-df-convert\" onclick=\"convertToInteractive('df-5a86a5e4-8a77-492c-86a5-9145cf65f756')\"\n",
              "            title=\"Convert this dataframe to an interactive table.\"\n",
              "            style=\"display:none;\">\n",
              "\n",
              "  <svg xmlns=\"http://www.w3.org/2000/svg\" height=\"24px\" viewBox=\"0 -960 960 960\">\n",
              "    <path d=\"M120-120v-720h720v720H120Zm60-500h600v-160H180v160Zm220 220h160v-160H400v160Zm0 220h160v-160H400v160ZM180-400h160v-160H180v160Zm440 0h160v-160H620v160ZM180-180h160v-160H180v160Zm440 0h160v-160H620v160Z\"/>\n",
              "  </svg>\n",
              "    </button>\n",
              "\n",
              "  <style>\n",
              "    .colab-df-container {\n",
              "      display:flex;\n",
              "      gap: 12px;\n",
              "    }\n",
              "\n",
              "    .colab-df-convert {\n",
              "      background-color: #E8F0FE;\n",
              "      border: none;\n",
              "      border-radius: 50%;\n",
              "      cursor: pointer;\n",
              "      display: none;\n",
              "      fill: #1967D2;\n",
              "      height: 32px;\n",
              "      padding: 0 0 0 0;\n",
              "      width: 32px;\n",
              "    }\n",
              "\n",
              "    .colab-df-convert:hover {\n",
              "      background-color: #E2EBFA;\n",
              "      box-shadow: 0px 1px 2px rgba(60, 64, 67, 0.3), 0px 1px 3px 1px rgba(60, 64, 67, 0.15);\n",
              "      fill: #174EA6;\n",
              "    }\n",
              "\n",
              "    .colab-df-buttons div {\n",
              "      margin-bottom: 4px;\n",
              "    }\n",
              "\n",
              "    [theme=dark] .colab-df-convert {\n",
              "      background-color: #3B4455;\n",
              "      fill: #D2E3FC;\n",
              "    }\n",
              "\n",
              "    [theme=dark] .colab-df-convert:hover {\n",
              "      background-color: #434B5C;\n",
              "      box-shadow: 0px 1px 3px 1px rgba(0, 0, 0, 0.15);\n",
              "      filter: drop-shadow(0px 1px 2px rgba(0, 0, 0, 0.3));\n",
              "      fill: #FFFFFF;\n",
              "    }\n",
              "  </style>\n",
              "\n",
              "    <script>\n",
              "      const buttonEl =\n",
              "        document.querySelector('#df-5a86a5e4-8a77-492c-86a5-9145cf65f756 button.colab-df-convert');\n",
              "      buttonEl.style.display =\n",
              "        google.colab.kernel.accessAllowed ? 'block' : 'none';\n",
              "\n",
              "      async function convertToInteractive(key) {\n",
              "        const element = document.querySelector('#df-5a86a5e4-8a77-492c-86a5-9145cf65f756');\n",
              "        const dataTable =\n",
              "          await google.colab.kernel.invokeFunction('convertToInteractive',\n",
              "                                                    [key], {});\n",
              "        if (!dataTable) return;\n",
              "\n",
              "        const docLinkHtml = 'Like what you see? Visit the ' +\n",
              "          '<a target=\"_blank\" href=https://colab.research.google.com/notebooks/data_table.ipynb>data table notebook</a>'\n",
              "          + ' to learn more about interactive tables.';\n",
              "        element.innerHTML = '';\n",
              "        dataTable['output_type'] = 'display_data';\n",
              "        await google.colab.output.renderOutput(dataTable, element);\n",
              "        const docLink = document.createElement('div');\n",
              "        docLink.innerHTML = docLinkHtml;\n",
              "        element.appendChild(docLink);\n",
              "      }\n",
              "    </script>\n",
              "  </div>\n",
              "\n",
              "\n",
              "<div id=\"df-6bf7a6d9-6b50-495b-bd81-466221d95b6c\">\n",
              "  <button class=\"colab-df-quickchart\" onclick=\"quickchart('df-6bf7a6d9-6b50-495b-bd81-466221d95b6c')\"\n",
              "            title=\"Suggest charts.\"\n",
              "            style=\"display:none;\">\n",
              "\n",
              "<svg xmlns=\"http://www.w3.org/2000/svg\" height=\"24px\"viewBox=\"0 0 24 24\"\n",
              "     width=\"24px\">\n",
              "    <g>\n",
              "        <path d=\"M19 3H5c-1.1 0-2 .9-2 2v14c0 1.1.9 2 2 2h14c1.1 0 2-.9 2-2V5c0-1.1-.9-2-2-2zM9 17H7v-7h2v7zm4 0h-2V7h2v10zm4 0h-2v-4h2v4z\"/>\n",
              "    </g>\n",
              "</svg>\n",
              "  </button>\n",
              "\n",
              "<style>\n",
              "  .colab-df-quickchart {\n",
              "    background-color: #E8F0FE;\n",
              "    border: none;\n",
              "    border-radius: 50%;\n",
              "    cursor: pointer;\n",
              "    display: none;\n",
              "    fill: #1967D2;\n",
              "    height: 32px;\n",
              "    padding: 0 0 0 0;\n",
              "    width: 32px;\n",
              "  }\n",
              "\n",
              "  .colab-df-quickchart:hover {\n",
              "    background-color: #E2EBFA;\n",
              "    box-shadow: 0px 1px 2px rgba(60, 64, 67, 0.3), 0px 1px 3px 1px rgba(60, 64, 67, 0.15);\n",
              "    fill: #174EA6;\n",
              "  }\n",
              "\n",
              "  [theme=dark] .colab-df-quickchart {\n",
              "    background-color: #3B4455;\n",
              "    fill: #D2E3FC;\n",
              "  }\n",
              "\n",
              "  [theme=dark] .colab-df-quickchart:hover {\n",
              "    background-color: #434B5C;\n",
              "    box-shadow: 0px 1px 3px 1px rgba(0, 0, 0, 0.15);\n",
              "    filter: drop-shadow(0px 1px 2px rgba(0, 0, 0, 0.3));\n",
              "    fill: #FFFFFF;\n",
              "  }\n",
              "</style>\n",
              "\n",
              "  <script>\n",
              "    async function quickchart(key) {\n",
              "      const charts = await google.colab.kernel.invokeFunction(\n",
              "          'suggestCharts', [key], {});\n",
              "    }\n",
              "    (() => {\n",
              "      let quickchartButtonEl =\n",
              "        document.querySelector('#df-6bf7a6d9-6b50-495b-bd81-466221d95b6c button');\n",
              "      quickchartButtonEl.style.display =\n",
              "        google.colab.kernel.accessAllowed ? 'block' : 'none';\n",
              "    })();\n",
              "  </script>\n",
              "</div>\n",
              "    </div>\n",
              "  </div>\n"
            ]
          },
          "metadata": {},
          "execution_count": 62
        }
      ]
    },
    {
      "cell_type": "code",
      "source": [
        "# eliminar duplicados\n",
        "df.drop_duplicates(inplace=True)\n",
        "df.reset_index(drop=True, inplace=True)"
      ],
      "metadata": {
        "id": "w457zJi3SwNy"
      },
      "execution_count": null,
      "outputs": []
    },
    {
      "cell_type": "code",
      "source": [
        "df.info()"
      ],
      "metadata": {
        "colab": {
          "base_uri": "https://localhost:8080/"
        },
        "id": "fAXGZvDzTsb8",
        "outputId": "7f67c97b-e9db-459c-a654-7500d1b9c3df"
      },
      "execution_count": null,
      "outputs": [
        {
          "output_type": "stream",
          "name": "stdout",
          "text": [
            "<class 'pandas.core.frame.DataFrame'>\n",
            "RangeIndex: 1594 entries, 0 to 1593\n",
            "Data columns (total 10 columns):\n",
            " #   Column        Non-Null Count  Dtype  \n",
            "---  ------        --------------  -----  \n",
            " 0   business_id   1594 non-null   object \n",
            " 1   name          1594 non-null   object \n",
            " 2   alias         1594 non-null   object \n",
            " 3   categories    1594 non-null   object \n",
            " 4   location      1594 non-null   object \n",
            " 5   coordinates   1593 non-null   object \n",
            " 6   price         1019 non-null   object \n",
            " 7   rating        1594 non-null   float64\n",
            " 8   review_count  1594 non-null   int64  \n",
            " 9   reviews       1594 non-null   object \n",
            "dtypes: float64(1), int64(1), object(8)\n",
            "memory usage: 124.7+ KB\n"
          ]
        }
      ]
    },
    {
      "cell_type": "code",
      "source": [
        "# crear dataframe API Business\n",
        "df.to_parquet('API_Business.parquet', index=False)"
      ],
      "metadata": {
        "id": "ZPdbedJ7SpeD"
      },
      "execution_count": null,
      "outputs": []
    },
    {
      "cell_type": "markdown",
      "source": [
        "----------------"
      ],
      "metadata": {
        "id": "IINqLwYwSBDA"
      }
    }
  ]
}